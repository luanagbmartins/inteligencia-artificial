{
 "cells": [
  {
   "cell_type": "markdown",
   "metadata": {
    "colab_type": "text",
    "id": "mLKPZajBKe3L"
   },
   "source": [
    "**Instituto de Informática - UFG**\n",
    "\n",
    "Disciplina: Inteligência Artificial\n",
    "\n",
    "Prof. Cedric Luiz de Carvalho\n",
    "\n",
    "\n",
    "Grupo número (   )\n",
    "\n",
    "---\n",
    "\n",
    "\n",
    "Aluna(o): \n",
    "\n",
    "---\n",
    "\n",
    "Aluna(o): \n",
    "\n",
    "---\n",
    "\n",
    "Aluna(o): \n",
    "\n",
    "---"
   ]
  },
  {
   "cell_type": "markdown",
   "metadata": {
    "colab_type": "text",
    "id": "o_bZhd8FMiSa"
   },
   "source": [
    "#Especificação do problema : Processamento de Linguagem Natural\n",
    "\n"
   ]
  },
  {
   "cell_type": "markdown",
   "metadata": {
    "colab_type": "text",
    "id": "YTE0x5IrTiwN"
   },
   "source": [
    "Utilizando as técnicas estudadas, desenvolver uma ferramenta que permita a comparação de pequenos textos. Devem ser definidas métricas de comparação que classifique os textos segundo critérios de similaridade.\n",
    "\n",
    "A ferramenta deverá ser aplicada aos Estudos Dirigidos desenvolvidos ao longo do curso. Para cada estudo, construir uma matriz que mostre a similaridade entre os documentos. Depois, definir um documento de referência e traçar um gráfico de similaridade dos demais em relação a ele.\n",
    "\n",
    "\n",
    "**Observação**: O trabalho deve ser feito em grupo, mas a avaliação será feita individualmente. Para isso, o grupo deverá fazer um planejamento/cronograma de trabalho e a contribuição de cada membro deverá ser devidamente identificado.\n"
   ]
  },
  {
   "cell_type": "code",
   "execution_count": 2,
   "metadata": {},
   "outputs": [],
   "source": [
    "docs = [ \"Feita a comparação com igual período do ano passado, registaram-se menos 29 acidentes e menos dois mortos.\",\n",
    "       \"Em comparação com o ano anterior, registaram-se menos 29 acidentes e menos duas vítimas mortais.\",\n",
    "       \"Presidente da República fez uma série de avisos ao novo primeiro-ministro na tomada de posse do XXI Governo Constitucional.\",\n",
    "       \"Foi naquele local que António Costa tomou posse do XXI Governo Constitucional.\"]\n",
    "\n",
    "from collections import defaultdict\n",
    "\n",
    "texts = [ x.lower().split() for x in docs ]\n",
    "\n",
    "from gensim import corpora\n",
    "dictionary = corpora.Dictionary(texts)\n",
    "corpus = [dictionary.doc2bow(text) for text in texts]\n",
    "\n",
    "from gensim import models\n",
    "tfidf = models.TfidfModel(corpus)\n",
    "\n",
    "from gensim import similarities\n",
    "index = similarities.SparseMatrixSimilarity(tfidf[corpus], num_features=12)\n"
   ]
  },
  {
   "cell_type": "code",
   "execution_count": null,
   "metadata": {},
   "outputs": [],
   "source": [
    "index[tfidf[vec]]"
   ]
  },
  {
   "cell_type": "code",
   "execution_count": null,
   "metadata": {},
   "outputs": [],
   "source": []
  }
 ],
 "metadata": {
  "colab": {
   "name": "AP_06_Aluno01_Aluno02_Aluno03.ipynb",
   "provenance": [],
   "version": "0.3.2"
  },
  "kernelspec": {
   "display_name": "Python 3",
   "language": "python",
   "name": "python3"
  },
  "language_info": {
   "codemirror_mode": {
    "name": "ipython",
    "version": 3
   },
   "file_extension": ".py",
   "mimetype": "text/x-python",
   "name": "python",
   "nbconvert_exporter": "python",
   "pygments_lexer": "ipython3",
   "version": "3.6.8"
  }
 },
 "nbformat": 4,
 "nbformat_minor": 1
}

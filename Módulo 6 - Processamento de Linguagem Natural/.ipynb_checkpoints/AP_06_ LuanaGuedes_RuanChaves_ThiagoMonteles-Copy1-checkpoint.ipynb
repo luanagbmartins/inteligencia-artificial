{
 "cells": [
  {
   "cell_type": "markdown",
   "metadata": {},
   "source": [
    "# **Instituto de Informática - UFG**\n",
    "\n",
    "Disciplina: Inteligência Artificial\n",
    "\n",
    "Prof. Cedric Luiz de Carvalho\n",
    "\n",
    "Grupo ( A )\n",
    "\n",
    "---\n",
    "\n",
    "\n",
    "Aluna(o): Luana Guedes Barros Martins\n",
    "\n",
    "---\n",
    "\n",
    "Aluna(o): Ruan Chaves Rodrigues\n",
    "\n",
    "---\n",
    "\n",
    "Aluna(o): Thiago Monteles de Souza\n",
    "\n",
    "---"
   ]
  },
  {
   "cell_type": "markdown",
   "metadata": {},
   "source": [
    "# Atividade Prática 06 - Processamento de Linguagem Natural\n",
    "\n",
    "Particionamento das atividades:\n",
    "- Luana Guedes Barros Martins: Desenvolvedor\n",
    "- Ruan Chaves Rodrigues: Analista de dados\n",
    "- Thiago Monteles de Souza: Gerente do Projeto"
   ]
  },
  {
   "cell_type": "markdown",
   "metadata": {},
   "source": [
    "## Preparação do Ambiente Virtual"
   ]
  },
  {
   "cell_type": "code",
   "execution_count": 1,
   "metadata": {},
   "outputs": [
    {
     "name": "stdout",
     "output_type": "stream",
     "text": [
      "Requirement already satisfied: spacy in /home/luana/miniconda3/envs/IA/lib/python3.7/site-packages (2.1.8)\n",
      "Requirement already satisfied: thinc<7.1.0,>=7.0.8 in /home/luana/miniconda3/envs/IA/lib/python3.7/site-packages (from spacy) (7.0.8)\n",
      "Requirement already satisfied: blis<0.3.0,>=0.2.2 in /home/luana/miniconda3/envs/IA/lib/python3.7/site-packages (from spacy) (0.2.4)\n",
      "Requirement already satisfied: plac<1.0.0,>=0.9.6 in /home/luana/miniconda3/envs/IA/lib/python3.7/site-packages (from spacy) (0.9.6)\n",
      "Requirement already satisfied: murmurhash<1.1.0,>=0.28.0 in /home/luana/miniconda3/envs/IA/lib/python3.7/site-packages (from spacy) (1.0.2)\n",
      "Requirement already satisfied: wasabi<1.1.0,>=0.2.0 in /home/luana/miniconda3/envs/IA/lib/python3.7/site-packages (from spacy) (0.2.2)\n",
      "Requirement already satisfied: requests<3.0.0,>=2.13.0 in /home/luana/miniconda3/envs/IA/lib/python3.7/site-packages (from spacy) (2.22.0)\n",
      "Requirement already satisfied: numpy>=1.15.0 in /home/luana/miniconda3/envs/IA/lib/python3.7/site-packages (from spacy) (1.16.4)\n",
      "Requirement already satisfied: cymem<2.1.0,>=2.0.2 in /home/luana/miniconda3/envs/IA/lib/python3.7/site-packages (from spacy) (2.0.2)\n",
      "Requirement already satisfied: preshed<2.1.0,>=2.0.1 in /home/luana/miniconda3/envs/IA/lib/python3.7/site-packages (from spacy) (2.0.1)\n",
      "Requirement already satisfied: srsly<1.1.0,>=0.0.6 in /home/luana/miniconda3/envs/IA/lib/python3.7/site-packages (from spacy) (0.0.7)\n",
      "Requirement already satisfied: tqdm<5.0.0,>=4.10.0 in /home/luana/miniconda3/envs/IA/lib/python3.7/site-packages (from thinc<7.1.0,>=7.0.8->spacy) (4.33.0)\n",
      "Requirement already satisfied: idna<2.9,>=2.5 in /home/luana/miniconda3/envs/IA/lib/python3.7/site-packages (from requests<3.0.0,>=2.13.0->spacy) (2.8)\n",
      "Requirement already satisfied: certifi>=2017.4.17 in /home/luana/miniconda3/envs/IA/lib/python3.7/site-packages (from requests<3.0.0,>=2.13.0->spacy) (2019.6.16)\n",
      "Requirement already satisfied: chardet<3.1.0,>=3.0.2 in /home/luana/miniconda3/envs/IA/lib/python3.7/site-packages (from requests<3.0.0,>=2.13.0->spacy) (3.0.4)\n",
      "Requirement already satisfied: urllib3!=1.25.0,!=1.25.1,<1.26,>=1.21.1 in /home/luana/miniconda3/envs/IA/lib/python3.7/site-packages (from requests<3.0.0,>=2.13.0->spacy) (1.25.3)\n"
     ]
    }
   ],
   "source": [
    "!pip install spacy"
   ]
  },
  {
   "cell_type": "code",
   "execution_count": 2,
   "metadata": {},
   "outputs": [
    {
     "name": "stdout",
     "output_type": "stream",
     "text": [
      "Requirement already satisfied: pt_core_news_sm==2.1.0 from https://github.com/explosion/spacy-models/releases/download/pt_core_news_sm-2.1.0/pt_core_news_sm-2.1.0.tar.gz#egg=pt_core_news_sm==2.1.0 in /home/luana/miniconda3/envs/IA/lib/python3.7/site-packages (2.1.0)\n",
      "\u001b[38;5;2m✔ Download and installation successful\u001b[0m\n",
      "You can now load the model via spacy.load('pt_core_news_sm')\n"
     ]
    }
   ],
   "source": [
    "!python -m spacy download pt_core_news_sm"
   ]
  },
  {
   "cell_type": "code",
   "execution_count": 3,
   "metadata": {},
   "outputs": [
    {
     "name": "stdout",
     "output_type": "stream",
     "text": [
      "Requirement already satisfied: gensim in /home/luana/miniconda3/envs/IA/lib/python3.7/site-packages (3.8.0)\n",
      "Requirement already satisfied: six>=1.5.0 in /home/luana/miniconda3/envs/IA/lib/python3.7/site-packages (from gensim) (1.12.0)\n",
      "Requirement already satisfied: smart-open>=1.7.0 in /home/luana/miniconda3/envs/IA/lib/python3.7/site-packages (from gensim) (1.8.4)\n",
      "Requirement already satisfied: scipy>=0.18.1 in /home/luana/miniconda3/envs/IA/lib/python3.7/site-packages (from gensim) (1.3.0)\n",
      "Requirement already satisfied: numpy>=1.11.3 in /home/luana/miniconda3/envs/IA/lib/python3.7/site-packages (from gensim) (1.16.4)\n",
      "Requirement already satisfied: boto>=2.32 in /home/luana/miniconda3/envs/IA/lib/python3.7/site-packages (from smart-open>=1.7.0->gensim) (2.49.0)\n",
      "Requirement already satisfied: requests in /home/luana/miniconda3/envs/IA/lib/python3.7/site-packages (from smart-open>=1.7.0->gensim) (2.22.0)\n",
      "Requirement already satisfied: boto3 in /home/luana/miniconda3/envs/IA/lib/python3.7/site-packages (from smart-open>=1.7.0->gensim) (1.9.207)\n",
      "Requirement already satisfied: urllib3!=1.25.0,!=1.25.1,<1.26,>=1.21.1 in /home/luana/miniconda3/envs/IA/lib/python3.7/site-packages (from requests->smart-open>=1.7.0->gensim) (1.25.3)\n",
      "Requirement already satisfied: idna<2.9,>=2.5 in /home/luana/miniconda3/envs/IA/lib/python3.7/site-packages (from requests->smart-open>=1.7.0->gensim) (2.8)\n",
      "Requirement already satisfied: certifi>=2017.4.17 in /home/luana/miniconda3/envs/IA/lib/python3.7/site-packages (from requests->smart-open>=1.7.0->gensim) (2019.6.16)\n",
      "Requirement already satisfied: chardet<3.1.0,>=3.0.2 in /home/luana/miniconda3/envs/IA/lib/python3.7/site-packages (from requests->smart-open>=1.7.0->gensim) (3.0.4)\n",
      "Requirement already satisfied: s3transfer<0.3.0,>=0.2.0 in /home/luana/miniconda3/envs/IA/lib/python3.7/site-packages (from boto3->smart-open>=1.7.0->gensim) (0.2.1)\n",
      "Requirement already satisfied: botocore<1.13.0,>=1.12.207 in /home/luana/miniconda3/envs/IA/lib/python3.7/site-packages (from boto3->smart-open>=1.7.0->gensim) (1.12.207)\n",
      "Requirement already satisfied: jmespath<1.0.0,>=0.7.1 in /home/luana/miniconda3/envs/IA/lib/python3.7/site-packages (from boto3->smart-open>=1.7.0->gensim) (0.9.4)\n",
      "Requirement already satisfied: python-dateutil<3.0.0,>=2.1; python_version >= \"2.7\" in /home/luana/miniconda3/envs/IA/lib/python3.7/site-packages (from botocore<1.13.0,>=1.12.207->boto3->smart-open>=1.7.0->gensim) (2.8.0)\n",
      "Requirement already satisfied: docutils<0.15,>=0.10 in /home/luana/miniconda3/envs/IA/lib/python3.7/site-packages (from botocore<1.13.0,>=1.12.207->boto3->smart-open>=1.7.0->gensim) (0.14)\n"
     ]
    }
   ],
   "source": [
    "!pip install gensim"
   ]
  },
  {
   "cell_type": "code",
   "execution_count": 4,
   "metadata": {
    "scrolled": true
   },
   "outputs": [
    {
     "name": "stdout",
     "output_type": "stream",
     "text": [
      "Requirement already satisfied: nltk in /home/luana/miniconda3/envs/IA/lib/python3.7/site-packages (3.4.4)\n",
      "Requirement already satisfied: six in /home/luana/miniconda3/envs/IA/lib/python3.7/site-packages (from nltk) (1.12.0)\n"
     ]
    }
   ],
   "source": [
    "!pip install nltk"
   ]
  },
  {
   "cell_type": "code",
   "execution_count": 5,
   "metadata": {},
   "outputs": [],
   "source": [
    "# Imports\n",
    "\n",
    "from collections import defaultdict\n",
    "import numpy as np\n",
    "from collections import Counter\n",
    "\n",
    "import pandas as pd\n",
    "\n",
    "import nltk\n",
    "import spacy \n",
    "from gensim import corpora, models, similarities\n",
    "from gensim.utils import simple_preprocess\n",
    "\n",
    "%matplotlib inline\n",
    "import matplotlib.pyplot as plt\n",
    "plt.rcParams[\"figure.figsize\"] = (20,10)\n",
    "import seaborn as sns"
   ]
  },
  {
   "cell_type": "markdown",
   "metadata": {},
   "source": [
    "## Descrição do Problema\n",
    "\n",
    "Utilizando técnicas de Processamento de Linguagem Natural (PLN), será desenvolvido uma ferramenta que permita a comparação de pequenos textos. Devem ser definidas métricas de comparação que classifique os textos segundo critérios de similaridade.\n",
    "\n",
    "A ferramenta deverá ser aplicada aos Estudos Dirigidos desenvolvidos ao longo do curso de Inteligência Artificial 2019-3. Para cada estudo, deve-se construir uma matriz que mostre a similaridade entre os documentos. Depois, definir um documento de referência e traçar um gráfico de similaridade dos demais em relação a ele."
   ]
  },
  {
   "cell_type": "markdown",
   "metadata": {},
   "source": [
    "## Tratamento dos Dados\n",
    "\n",
    "Dado os arquivos disponibilizados no formato CSV(Comma Separated Values), iremos construir um *corpus*, um conjunto de documentos que servirá como base para análise."
   ]
  },
  {
   "cell_type": "code",
   "execution_count": 6,
   "metadata": {},
   "outputs": [
    {
     "data": {
      "text/plain": [
       "'\\n# Carregar os datasets \"Dados - ED05.csv\", \"Dados - ED08.csv\" e \\n# \"Dados - ED09.csv\"para o ambiente virtual.\\n\\nfrom google.colab import files\\nuploaded = files.upload()\\n'"
      ]
     },
     "execution_count": 6,
     "metadata": {},
     "output_type": "execute_result"
    }
   ],
   "source": [
    "\"\"\"\n",
    "# Carregar os datasets \"Dados - ED05.csv\", \"Dados - ED08.csv\" e \n",
    "# \"Dados - ED09.csv\"para o ambiente virtual.\n",
    "\n",
    "from google.colab import files\n",
    "uploaded = files.upload()\n",
    "\"\"\""
   ]
  },
  {
   "cell_type": "markdown",
   "metadata": {},
   "source": [
    "Para extrair as principais características, uma série de prepações nos dados crus devem ser realizadas:\n",
    "\n",
    "- Geração de tokens: consiste na quebra das sentenças em partes menores para facilitar a análise. Cada token irá corresponder a uma palavra do texto de análise. Para esse processo será utilizado a biblioteca [SpaCy](https://spacy.io/), que é uma biblioteca de PLN que possui algumas funcionalidades básicas como a geração de tokens.\n",
    "- StopWords: *Stop words* são palavras muito comuns em um idioma, como: o, de, uma. Sua remoção ajuda a melhorar a entrada para o modelo. Para isso iremos carregar uma lista de stop words utilizando o pacote Python [NLTK](https://www.nltk.org/).\n",
    "- Lematização: Para resolver o problema de análise de diversos tempos verbais diferentes, analisaremos não o verbo no tempo verbal que ele foi escrito, mas ele em sua raiz. O método do Spacy que realiza esse procedimento é o método .lemma_.\n"
   ]
  },
  {
   "cell_type": "code",
   "execution_count": 7,
   "metadata": {},
   "outputs": [
    {
     "name": "stderr",
     "output_type": "stream",
     "text": [
      "[nltk_data] Downloading package stopwords to /home/luana/nltk_data...\n",
      "[nltk_data]   Package stopwords is already up-to-date!\n"
     ]
    },
    {
     "data": {
      "text/plain": [
       "True"
      ]
     },
     "execution_count": 7,
     "metadata": {},
     "output_type": "execute_result"
    }
   ],
   "source": [
    "nltk.download('stopwords')"
   ]
  },
  {
   "cell_type": "code",
   "execution_count": 8,
   "metadata": {},
   "outputs": [],
   "source": [
    "def preprocess(dataframe):\n",
    "    \n",
    "    # Carrega lista de stop words em português.\n",
    "    stopwords = nltk.corpus.stopwords.words('portuguese')\n",
    "    \n",
    "    # Carrega um modelo de PLN em português do spacy.\n",
    "    nlp = spacy.load(\"pt_core_news_sm\")\n",
    "    \n",
    "    # Carrega o arquivo csv\n",
    "    docs = pd.read_csv(source, sep=\";\").fillna('o').astype(str).values.flatten().tolist()\n",
    "    \n",
    "    # Cria-se uma lista do tipo (aluno-resposta) do documento.\n",
    "    ids = pd.read_csv(source, sep=\";\").fillna('o').values\n",
    "    ids = [ [(idx2, idx) for idx,v in enumerate(v2) ] for idx2,v2 in enumerate(ids) ]\n",
    "    ids = [x for y in ids for x in y ]\n",
    "    \n",
    "    # Retira do documento todas as stopwords e pontuações.\n",
    "    docs = [nlp(x) for x in docs]\n",
    "    docs = [ [ y for y in x if y.is_punct == False and y.text.lower() not in stopwords] for x in docs ]\n",
    "    \n",
    "    # Processo de lematização. \n",
    "    tokens = [ [ y.lemma_ for y in x ] for x in docs ]\n",
    "    \n",
    "    # Quantidade de cada token no documento.\n",
    "    counter = dict(Counter([ x for y in tokens for x in y ]))\n",
    "    \n",
    "    # Retira os tokens com baixo número de ocorrência.\n",
    "    low_freq = [x for x in counter.keys() if counter[x] == 1]\n",
    "    tokens = [ [ x for x in y if x not in low_freq ] for y in tokens ]\n",
    "    \n",
    "    #\n",
    "    token_docs = [ ' '.join(x) for x in tokens ]\n",
    "    \n",
    "    # Encapsula o mapeamento entre palavras normalizadas e seus ids.\n",
    "    mydict = corpora.Dictionary([simple_preprocess(line) for line in token_docs])\n",
    "    \n",
    "    # Converte o documento para o formato bag-of-words(1)\n",
    "    # lista de tuplas do tipo (token_id, token_count)\n",
    "    corpus = [mydict.doc2bow(simple_preprocess(line)) for line in token_docs]\n",
    "    \n",
    "    return {\n",
    "        \"nlp\": docs,\n",
    "        \"corpus\" : corpus,\n",
    "        \"dict\": mydict,\n",
    "        \"tokens\": tokens,\n",
    "        \"ids\" : ids\n",
    "    }"
   ]
  },
  {
   "cell_type": "markdown",
   "metadata": {},
   "source": [
    "$^1$: Documentos no gensim são representados por vetores sparsos chamados de *bag-of-words vectors*."
   ]
  },
  {
   "cell_type": "markdown",
   "metadata": {},
   "source": [
    "## Definição do Modelo\n",
    "\n",
    "Para construir a matriz de similaridade entre os documentos deste trabalho, iremos calcular o valor **TF-IDF** (abreviação do inglês *Term Frenquency - Inverse Document Frequency*, que significa frequência do termo–inverso da frequência nos documentos). \n",
    "\n",
    "O TF_IDF é uma medida estatística que indica a importância de uma palavra de um documento em relação a uma coleção de documentos ou em um *corpus*. \n",
    "\n",
    "Para calcular o valor TF_IDF multiplica-se a frequência de um termo (TF) pela frequência inversa do documento (IDF). \n",
    "- O termo TF mede a frequência de ocorrência de um termo em um documento. Como cada documento é diferente em tamanho, é possível que um termo apareça muito mais vezes em documentos longos do que em documentos mais curtos. Assim, o termo freqüência é freqüentemente dividido pelo tamanho do documento (também conhecido como número total de termos no documento) como forma de normalização.\n",
    "- O termo IDF mede a importância de um termo. Enquanto computa TF, todos os termos são considerados igualmente importantes. No entanto, certos termos, como \"é\", \"de\" e \"aquilo\", podem aparecer muitas vezes, mas têm pouca importância. \n",
    "\n",
    "Assim, temos que:\n",
    "\n",
    "$$tfidf(i, j, D) = tf(i, j) \\cdot idf(i, D)$$\n",
    "\n",
    "ou\n",
    "\n",
    "$$tfidf_{i, j} = frequência_{i, j} * log_2\\frac{D}{frequênciaDocumento_i}$$\n",
    "\n",
    "Sendo que:\n",
    "- $i$ = termo\n",
    "- $j$ = documento\n",
    "- $D$ = Número total de documentos\n",
    "\n",
    "\n",
    "O TF_IDF é calculado com a API [gensim](https://radimrehurek.com/gensim/index.html), utilizando o [models.TfidfModel](https://radimrehurek.com/gensim/models/tfidfmodel.html), onde seus principais métodos são:\n",
    "- Construtor: calcula que calcula contagens de documentos inversas para todos os termos do corpus de treinamento.\n",
    "- Método [ ]: transforma uma simples representação de contagem no espaço TfIdf.\n",
    "\n",
    "\n",
    "Como parâmetro obrigatório, *models.TfidfModel* recebe um *corpus*.\n",
    "\n",
    "\n",
    "Após calcular o valor TF_IDF será então gerado a matriz de similaridade utilizando-se do [similarities.SparseMatrixSimilarity](https://radimrehurek.com/gensim/similarities/docsim.html#gensim.similarities.docsim.SparseMatrixSimilarity), que dado uma lista de documentos no formato *bag-of-words vector*$^1$ calcula a semelhança de cosseno em um corpo de documentos armazenando a matriz de índice na memória."
   ]
  },
  {
   "cell_type": "code",
   "execution_count": 9,
   "metadata": {},
   "outputs": [],
   "source": [
    "def tfidf(preprocess_dict):\n",
    "    \n",
    "    # Pega o corpus do conjunto de dados já processados\n",
    "    corpus = preprocess_dict['corpus']\n",
    "    \n",
    "    # Frequência do documento: quantos documentos possuem tais tokens\n",
    "    mydict = preprocess_dict['dict']\n",
    "    nf = len(mydict.dfs)\n",
    "    \n",
    "    # Transformação entre co-ocorrência de documento-palavra\n",
    "    tfidf = models.TfidfModel(corpus)\n",
    "    \n",
    "    # Matriz de similaridade \n",
    "    index = similarities.SparseMatrixSimilarity(tfidf[corpus], num_features=nf)\n",
    "    \n",
    "    return {\n",
    "        \"model\" : tfidf,\n",
    "        \"index\" : index\n",
    "    }"
   ]
  },
  {
   "cell_type": "markdown",
   "metadata": {},
   "source": [
    "## Resultados\n",
    "\n",
    "Abaixo iremos, para cada documento .csv, comparar o grau de similaridade entre as respostas de cada aluno. Assim conseguiremos traçar quais alunos tiveram respostas parecidas (plágio) com outros alunos.\n",
    "\n",
    "Para a visualização dos resultados, será utilizado um gráfico de heatmap, onde cada linha e cada colunha representa um aluno, e cada célula do gráfico representa o grau de similaridade entre as respostas de um par de aluno. Após a visualização gráfica, será msotrado quais foram as respostas que obtiveram o maior grau de similaridade do documento analisado."
   ]
  },
  {
   "cell_type": "code",
   "execution_count": 10,
   "metadata": {},
   "outputs": [],
   "source": [
    "def get_dataplot(preprocess_dict, model_dict):\n",
    "    corpus = preprocess_dict['corpus']\n",
    "    tfidf = model_dict['model']\n",
    "    index = model_dict['index']\n",
    "    dataplot = []\n",
    "    for item in corpus:\n",
    "        dataplot.append(index[tfidf[item]])\n",
    "    return pd.DataFrame(dataplot)\n",
    "\n",
    "def get_dict(preprocess_dict=None, dataplot=None, threshold=None):\n",
    "    ids = preprocess_dict['ids']\n",
    "    df = dataplot\n",
    "    tmp = df.applymap(lambda x: 'nan' if x < threshold else x)\n",
    "    arr = tmp.values.tolist()\n",
    "    matches = []\n",
    "    \n",
    "    for idx, item in enumerate(arr):\n",
    "        for idx2, item2 in enumerate(item):\n",
    "            if idx != idx2 and arr[idx][idx2] != 'nan':\n",
    "                matches.append([idx, idx2])\n",
    "    pairs = [ [ ids[x][0] for x in y ] for y in matches ]\n",
    "    \n",
    "    dict_pairs = dict(Counter([ tuple(x) for x in pairs ])).items()\n",
    "    \n",
    "    max_val = max([ x[0][0] for x in dict_pairs ])\n",
    "    dataplot = []\n",
    "    for i in range(max_val):\n",
    "        row = []\n",
    "        for j in range(max_val):\n",
    "            if i != j:\n",
    "                for item in dict_pairs:\n",
    "                    if i == item[0][0] and j == item[0][1]:\n",
    "                        row.append(item[1])\n",
    "                        break\n",
    "                else:\n",
    "                    row.append(0)\n",
    "        dataplot.append(row)\n",
    "    return dataplot"
   ]
  },
  {
   "cell_type": "code",
   "execution_count": 11,
   "metadata": {},
   "outputs": [],
   "source": [
    "plt.rcParams[\"figure.figsize\"] = (20,10)"
   ]
  },
  {
   "cell_type": "markdown",
   "metadata": {},
   "source": [
    "### Primeiro Documento"
   ]
  },
  {
   "cell_type": "code",
   "execution_count": 12,
   "metadata": {},
   "outputs": [],
   "source": [
    "source = \"Dados - ED05.csv\"\n",
    "data_dict = preprocess(source)\n",
    "model_dict = tfidf(data_dict)"
   ]
  },
  {
   "cell_type": "code",
   "execution_count": 13,
   "metadata": {},
   "outputs": [
    {
     "data": {
      "text/plain": [
       "<matplotlib.axes._subplots.AxesSubplot at 0x7f6dbb7f3908>"
      ]
     },
     "execution_count": 13,
     "metadata": {},
     "output_type": "execute_result"
    },
    {
     "data": {
      "image/png": "[encoded data removed]",
      "text/plain": [
       "<Figure size 1440x720 with 2 Axes>"
      ]
     },
     "metadata": {
      "needs_background": "light"
     },
     "output_type": "display_data"
    }
   ],
   "source": [
    "dataplot = get_dict(preprocess_dict=data_dict, \n",
    "                    dataplot=get_dataplot(data_dict, model_dict), \n",
    "                    threshold=0.9)\n",
    "\n",
    "mask = np.zeros_like(dataplot, dtype=np.bool)\n",
    "mask[np.triu_indices_from(mask)] = True\n",
    "\n",
    "sns.heatmap(data=pd.DataFrame(dataplot), mask=mask, cmap='Blues', annot=True)"
   ]
  },
  {
   "cell_type": "code",
   "execution_count": 14,
   "metadata": {
    "scrolled": true
   },
   "outputs": [
    {
     "data": {
      "text/html": [
       "<div>\n",
       "<style scoped>\n",
       "    .dataframe tbody tr th:only-of-type {\n",
       "        vertical-align: middle;\n",
       "    }\n",
       "\n",
       "    .dataframe tbody tr th {\n",
       "        vertical-align: top;\n",
       "    }\n",
       "\n",
       "    .dataframe thead th {\n",
       "        text-align: right;\n",
       "    }\n",
       "</style>\n",
       "<table border=\"1\" class=\"dataframe\">\n",
       "  <thead>\n",
       "    <tr style=\"text-align: right;\">\n",
       "      <th></th>\n",
       "      <th>9</th>\n",
       "      <th>4</th>\n",
       "    </tr>\n",
       "  </thead>\n",
       "  <tbody>\n",
       "    <tr>\n",
       "      <th>Resposta 2</th>\n",
       "      <td>O conceito de unidade lógica com limiar surgiu a partir de um modelo matemático de um neurônio artificial em que os neurônios executam funções lógicas simples e cada um pode executar uma função diferente. Tais neurônios artificiais são conhecidos como as unidades lógicas com limiar.</td>\n",
       "      <td>O conceito de unidade lógica com limiar surgiu a partir de um modelo matemático de um neurônio artificial em que os neurônios executam funções lógicas simples e cada um pode executar uma função diferente. Tais neurônios artificiais são conhecidos como as unidades lógicas com limiar.</td>\n",
       "    </tr>\n",
       "    <tr>\n",
       "      <th>Resposta 18</th>\n",
       "      <td>Entrada: Um conjunto de n objetos de treinamento \\n\\nSaída: Rede percepton com valores dos pesos ajustados \\n\\nInicializar pesos da rede com valores baixos \\n\\nrepita para cada objeto Xi do conjunto de treinamento faça \\n\\nCalcular valor de saída produzida pelo neurônio, f(Xi) \\n\\nCalcular erro = Yi - f(Xi) \\n\\nse erro &gt; 0 então \\n\\nAjustar pesos do neurônio \\n\\nfim \\n\\nfim \\n\\naté erro = 0</td>\n",
       "      <td>Entrada: Um conjunto de n objetos de treinamento\\n\\nSaída: Rede percepton com valores dos pesos ajustados\\n\\nInicializar pesos da rede com valores baixos\\n\\nrepita\\n\\n     para cada objeto Xi do conjunto de treinamento faça\\n\\n          Calcular valor de saída produzida pelo neurônio, f(Xi)\\n\\n          Calcular erro = Yi - f(Xi)\\n\\n          se erro &gt; 0 então\\n\\n               Ajustar pesos do neurônio\\n\\n          fim\\n\\n     fim\\n\\naté erro = 0</td>\n",
       "    </tr>\n",
       "    <tr>\n",
       "      <th>Resposta 25</th>\n",
       "      <td>Redes multicamadas utilizam nas camadas intermediárias funções de ativação não lineares, como a função sigmoidal. Pode ser facilmente mostrado utilizando conceitos de operações com matrizes, que uma rede multicamadas com funções de ativação lineares nos neurônios das camadas intermediárias é equivalente a uma rede de uma só camada.</td>\n",
       "      <td>Redes multicamadas utilizam nas camadas intermediárias funções de ativação não lineares, como a função sigmoidal. Pode ser facilmente mostrado utilizando conceitos de operações com matrizes, que uma rede multicamadas com funções de ativação lineares nos neurônios das camadas intermediárias é equivalente a uma rede de uma só camada.</td>\n",
       "    </tr>\n",
       "    <tr>\n",
       "      <th>Resposta 5</th>\n",
       "      <td>Apesar de os neurônios biológicos possuírem um tempo de execução normalmente da ordem de 10^(-3) segundos, o cérebro é capaz de realizar diversas tarefas (como reconhecimento de padrões, percepção e controle motor) várias vezes mais rapidamente que o mais rápido computador digital existente na atualidade.</td>\n",
       "      <td>Apesar de os neurônios biológicos possuírem um tempo de execução normalmente da ordem de 10^(-3) segundos, o cérebro é capaz de realizar diversas tarefas (como reconhecimento de padrões, percepção e controle motor) várias vezes mais rapidamente que o mais rápido computador digital existente na atualidade.</td>\n",
       "    </tr>\n",
       "    <tr>\n",
       "      <th>Resposta 11</th>\n",
       "      <td>Em uma RNA, os neurônios podem estar dispostos em uma ou mais camadas. Uma rede com mais de uma camada de neurônios recebe o nome de rede multicamadas. A camada de neurônios que gera os valores de saída é chamada de camada de saída. As demais camadas são denominadas camadas intermediárias, escondidas ou ocultas. Em uma rede multicamadas, as conexões entre os neurônios podem apresentar diferentes padrões de conexão. De acordo com esses padrões, a rede pode ser classificada em: \\n\\n● Completamente conectada: quando os neurônios da rede estão conectados a todos os neurônios da camada anterior e/ou seguinte. \\n\\n● Parcialmente conectada: quando os neurônios estão conectados a apenas alguns dos neurônios da camada anterior e/ou seguinte. \\n\\n● Localmente conectada: são redes parcialmente conectadas, em que os neurônios conectados a um neurônio se encontram em uma região bem definida.</td>\n",
       "      <td>Em uma RNA, os neurônios podem estar dispostos em uma ou mais camadas. Uma rede com mais de uma camada de neurônios recebe o nome de rede multicamadas. A camada de neurônios que gera os valores de saída é chamada de camada de saída. As demais camadas são denominadas camadas intermediárias, escondidas ou ocultas. Em uma rede multicamadas, as conexões entre os neurônios podem apresentar diferentes padrões de conexão. De acordo com esses padrões, a rede pode ser classificada em:\\n\\n● Completamente conectada: quando os neurônios da rede estão conectados a todos os neurônios da camada anterior e/ou seguinte.\\n\\n● Parcialmente conectada: quando os neurônios estão conectados a apenas alguns dos neurônios da camada anterior e/ou seguinte.\\n\\n● Localmente conectada: são redes parcialmente conectadas, em que os neurônios conectados a um neurônio se encontram em uma região bem definida.</td>\n",
       "    </tr>\n",
       "  </tbody>\n",
       "</table>\n",
       "</div>"
      ],
      "text/plain": [
       "                                                                                                                                                                                                                                                                                                                                                                                                                                                                                                                                                                                                                                                                                                                                                                                                                                                                                                                                       9  \\\n",
       "Resposta 2   O conceito de unidade lógica com limiar surgiu a partir de um modelo matemático de um neurônio artificial em que os neurônios executam funções lógicas simples e cada um pode executar uma função diferente. Tais neurônios artificiais são conhecidos como as unidades lógicas com limiar.                                                                                                                                                                                                                                                                                                                                                                                                                                                                                                                                                                                                                                   \n",
       "Resposta 18  Entrada: Um conjunto de n objetos de treinamento \\n\\nSaída: Rede percepton com valores dos pesos ajustados \\n\\nInicializar pesos da rede com valores baixos \\n\\nrepita para cada objeto Xi do conjunto de treinamento faça \\n\\nCalcular valor de saída produzida pelo neurônio, f(Xi) \\n\\nCalcular erro = Yi - f(Xi) \\n\\nse erro > 0 então \\n\\nAjustar pesos do neurônio \\n\\nfim \\n\\nfim \\n\\naté erro = 0                                                                                                                                                                                                                                                                                                                                                                                                                                                                                                                     \n",
       "Resposta 25  Redes multicamadas utilizam nas camadas intermediárias funções de ativação não lineares, como a função sigmoidal. Pode ser facilmente mostrado utilizando conceitos de operações com matrizes, que uma rede multicamadas com funções de ativação lineares nos neurônios das camadas intermediárias é equivalente a uma rede de uma só camada.                                                                                                                                                                                                                                                                                                                                                                                                                                                                                                                                                                                 \n",
       "Resposta 5   Apesar de os neurônios biológicos possuírem um tempo de execução normalmente da ordem de 10^(-3) segundos, o cérebro é capaz de realizar diversas tarefas (como reconhecimento de padrões, percepção e controle motor) várias vezes mais rapidamente que o mais rápido computador digital existente na atualidade.                                                                                                                                                                                                                                                                                                                                                                                                                                                                                                                                                                                                            \n",
       "Resposta 11  Em uma RNA, os neurônios podem estar dispostos em uma ou mais camadas. Uma rede com mais de uma camada de neurônios recebe o nome de rede multicamadas. A camada de neurônios que gera os valores de saída é chamada de camada de saída. As demais camadas são denominadas camadas intermediárias, escondidas ou ocultas. Em uma rede multicamadas, as conexões entre os neurônios podem apresentar diferentes padrões de conexão. De acordo com esses padrões, a rede pode ser classificada em: \\n\\n● Completamente conectada: quando os neurônios da rede estão conectados a todos os neurônios da camada anterior e/ou seguinte. \\n\\n● Parcialmente conectada: quando os neurônios estão conectados a apenas alguns dos neurônios da camada anterior e/ou seguinte. \\n\\n● Localmente conectada: são redes parcialmente conectadas, em que os neurônios conectados a um neurônio se encontram em uma região bem definida.   \n",
       "\n",
       "                                                                                                                                                                                                                                                                                                                                                                                                                                                                                                                                                                                                                                                                                                                                                                                                                                                                                                                                    4  \n",
       "Resposta 2   O conceito de unidade lógica com limiar surgiu a partir de um modelo matemático de um neurônio artificial em que os neurônios executam funções lógicas simples e cada um pode executar uma função diferente. Tais neurônios artificiais são conhecidos como as unidades lógicas com limiar.                                                                                                                                                                                                                                                                                                                                                                                                                                                                                                                                                                                                                               \n",
       "Resposta 18  Entrada: Um conjunto de n objetos de treinamento\\n\\nSaída: Rede percepton com valores dos pesos ajustados\\n\\nInicializar pesos da rede com valores baixos\\n\\nrepita\\n\\n     para cada objeto Xi do conjunto de treinamento faça\\n\\n          Calcular valor de saída produzida pelo neurônio, f(Xi)\\n\\n          Calcular erro = Yi - f(Xi)\\n\\n          se erro > 0 então\\n\\n               Ajustar pesos do neurônio\\n\\n          fim\\n\\n     fim\\n\\naté erro = 0                                                                                                                                                                                                                                                                                                                                                                                                                                                       \n",
       "Resposta 25  Redes multicamadas utilizam nas camadas intermediárias funções de ativação não lineares, como a função sigmoidal. Pode ser facilmente mostrado utilizando conceitos de operações com matrizes, que uma rede multicamadas com funções de ativação lineares nos neurônios das camadas intermediárias é equivalente a uma rede de uma só camada.                                                                                                                                                                                                                                                                                                                                                                                                                                                                                                                                                                             \n",
       "Resposta 5   Apesar de os neurônios biológicos possuírem um tempo de execução normalmente da ordem de 10^(-3) segundos, o cérebro é capaz de realizar diversas tarefas (como reconhecimento de padrões, percepção e controle motor) várias vezes mais rapidamente que o mais rápido computador digital existente na atualidade.                                                                                                                                                                                                                                                                                                                                                                                                                                                                                                                                                                                                        \n",
       "Resposta 11  Em uma RNA, os neurônios podem estar dispostos em uma ou mais camadas. Uma rede com mais de uma camada de neurônios recebe o nome de rede multicamadas. A camada de neurônios que gera os valores de saída é chamada de camada de saída. As demais camadas são denominadas camadas intermediárias, escondidas ou ocultas. Em uma rede multicamadas, as conexões entre os neurônios podem apresentar diferentes padrões de conexão. De acordo com esses padrões, a rede pode ser classificada em:\\n\\n● Completamente conectada: quando os neurônios da rede estão conectados a todos os neurônios da camada anterior e/ou seguinte.\\n\\n● Parcialmente conectada: quando os neurônios estão conectados a apenas alguns dos neurônios da camada anterior e/ou seguinte.\\n\\n● Localmente conectada: são redes parcialmente conectadas, em que os neurônios conectados a um neurônio se encontram em uma região bem definida.  "
      ]
     },
     "execution_count": 14,
     "metadata": {},
     "output_type": "execute_result"
    }
   ],
   "source": [
    "pd.set_option('display.max_colwidth', -1)\n",
    "pd.read_csv(source, sep=\";\").iloc[[9,4]].transpose().sample(5)"
   ]
  },
  {
   "cell_type": "markdown",
   "metadata": {},
   "source": [
    "### Segundo Documento"
   ]
  },
  {
   "cell_type": "code",
   "execution_count": 15,
   "metadata": {},
   "outputs": [],
   "source": [
    "source = \"Dados - ED08.csv\"\n",
    "data_dict = preprocess(source)\n",
    "model_dict = tfidf(data_dict)"
   ]
  },
  {
   "cell_type": "code",
   "execution_count": 16,
   "metadata": {},
   "outputs": [
    {
     "data": {
      "text/plain": [
       "<matplotlib.axes._subplots.AxesSubplot at 0x7f6dbe2f3c88>"
      ]
     },
     "execution_count": 16,
     "metadata": {},
     "output_type": "execute_result"
    },
    {
     "data": {
      "image/png": "[encoded data removed]",
      "text/plain": [
       "<Figure size 1440x720 with 2 Axes>"
      ]
     },
     "metadata": {
      "needs_background": "light"
     },
     "output_type": "display_data"
    }
   ],
   "source": [
    "dataplot = get_dict(preprocess_dict=data_dict, \n",
    "                    dataplot=get_dataplot(data_dict, model_dict), \n",
    "                    threshold=0.9)\n",
    "\n",
    "mask = np.zeros_like(dataplot, dtype=np.bool)\n",
    "mask[np.triu_indices_from(mask)] = True\n",
    "\n",
    "sns.heatmap(data=pd.DataFrame(dataplot), mask=mask, cmap='Blues', annot=True)"
   ]
  },
  {
   "cell_type": "code",
   "execution_count": 17,
   "metadata": {},
   "outputs": [
    {
     "data": {
      "text/html": [
       "<div>\n",
       "<style scoped>\n",
       "    .dataframe tbody tr th:only-of-type {\n",
       "        vertical-align: middle;\n",
       "    }\n",
       "\n",
       "    .dataframe tbody tr th {\n",
       "        vertical-align: top;\n",
       "    }\n",
       "\n",
       "    .dataframe thead th {\n",
       "        text-align: right;\n",
       "    }\n",
       "</style>\n",
       "<table border=\"1\" class=\"dataframe\">\n",
       "  <thead>\n",
       "    <tr style=\"text-align: right;\">\n",
       "      <th></th>\n",
       "      <th>3</th>\n",
       "      <th>1</th>\n",
       "    </tr>\n",
       "  </thead>\n",
       "  <tbody>\n",
       "    <tr>\n",
       "      <th>Resposta 3</th>\n",
       "      <td>Genes: Gene é cada bit de uma cadeia de bits.\\n\\nCromossomos: em algoritmos genéticos os cromossomos é uma cadeia de bits\\n\\nPopulação: População é um conjunto de cromossomos que compõem uma geração.\\n\\nGenótipo: Informação Genética, responsável pelo fenótipo.\\n\\nFenótipo: É a forma física da criatura ( combinação de cromossomos)\\n\\nFitness: É uma função de avaliação.</td>\n",
       "      <td>A POPULAÇÃO CONSISTE DE UM CONJUNTO DE CROMOSSOMOS, CADA QUAL, COMO VIMOS, É COMPOSTO DE GENES. UM CROMOSSOMO É GERALMENTE USADO PARA REPRESENTAR UM “INDIVÍDUO” COMPLETO DENTRO DA POPULAÇÃO - EM OUTRAS PALAVRAS, UMA REPRESENTAÇÃO COMPLETA DE UMA SOLUÇÃO OU UMA CLASSIFICAÇÃO. TAMBÉM É POSSÍVEL COMBINAR CROMOSSOMOS JUNTOS PARA FORMAR CRIATURAS, O QUE REFLETE MAIS DE PERTO A GENÉTICA REAL, PORQUE CADA INDIVÍDUO NO MUNDO REAL TEM UM NÚMERO DE CROMOSSOMOS.</td>\n",
       "    </tr>\n",
       "    <tr>\n",
       "      <th>Resposta 9</th>\n",
       "      <td>Algoritmos Genéticos parte de uma população indivíduos gerados aleatoriamente (configurações iniciais de um problema), realiza-se a avaliação de cada um (em relação a função objetiva), seleciona os mais aptos e promove os manipuladores ou operadores genéticos como cruzamento e mutação, originando novas gerações de indivíduos. Cada indivíduo na população representa uma possível solução para um dado problema, o que o AG faz é buscar aquela solução que seja muito boa ou a melhor do problema analisado através da criação de população de indivíduos cada vez mais aptos levando à otimização da função objetiva.\\n\\n\\t*\\n\\nEscolha da População: a inicialização da população é feita da forma mais simples possível, fazendo-se uma escolha aleatória independente para cada indivíduo da população inicial ou por processo heurístico, isto é, simplesmente escolher n indivíduos dentro do espaço de busca.\\n\\n\\t*\\n\\nAvaliação: a função de avaliação, ou função objetiva, é utilizada para determinar a qualidade de um indivíduo como solução do problema, ou seja, é uma forma de mensurar quão aptos estão os indivíduos da população. A função de avaliação deve refletir os objetivos a serem alcançados na resolução de um problema e é derivada diretamente das condições impostas pelo problema.\\n\\n\\t*\\n\\nSeleção: a seleção dos indivíduos da população deve simular o mecanismo de seleção natural, sobrevivência dos mais fortes , em que os pais mais aptos geram mais filhos. O algoritmo permite, também, que alguns indivíduos menos aptos gerem filhos, garantindo a diversidade entre os indivíduos melhores e os piores. Se apenas os melhores indivíduos se reproduzirem a população tenderá a ser cada vez mais semelhante, não ocorrendo à evolução.\\n\\n\\t*\\n\\nElitismo: visa preservar os melhores cromossomos de uma geração para outra sem alterações, garantindo sempre melhor solução encontrada em qualquer uma das gerações será mantida até o final do processo. Geralmente usa-se nos Algoritmos Genéticos uma taxa de elitismo de 30% do total de indivíduos gerados. \\n\\n\\t*\\n\\nCruzamento: o cruzamento ou crossover é em processo de recombinação de partes das seqüências de caracteres entre pares de cromossomos, com o objetivo de gerar nova descendência.\\n\\t*\\n\\n\\t*\\n\\nMutação: este operador é responsável pela introdução e manutenção da diversidade genética na população. O operador de mutação inverte os valores de bits, ou seja, muda o valor de dado bit de 1 para 0 ou de 0 para 1, com o objetivo de tentar regenerar algum indivíduo que possa ter sido eliminado de forma inesperada. Para que uma determinada população não sofra muitas alterações, esta operação é processada para um pequeno percentual PM de seus elementos, em torno de 1% de todos os genes.</td>\n",
       "      <td>ALGORITMOS GENÉTICOS PARTE DE UMA POPULAÇÃO INDIVÍDUOS GERADOS ALEATORIAMENTE , REALIZA-SE A AVALIAÇÃO DE CADA UM (EM RELAÇÃO A FUNÇÃO OBJETIVA), SELECIONA OS MAIS APTOS E PROMOVE OS MANIPULADORES OU OPERADORES GENÉTICOS COMO CRUZAMENTO E MUTAÇÃO, ORIGINANDO NOVAS GERAÇÕES DE INDIVÍDUOS. CADA INDIVÍDUO NA POPULAÇÃO REPRESENTA UMA POSSÍVEL SOLUÇÃO PARA UM DADO PROBLEMA, O QUE O AG FAZ É BUSCAR AQUELA SOLUÇÃO QUE SEJA MUITO BOA OU A MELHOR DO PROBLEMA ANALISADO ATRAVÉS DA CRIAÇÃO DE POPULAÇÃO DE INDIVÍDUOS CADA VEZ MAIS APTOS LEVANDO À OTIMIZAÇÃO DA FUNÇÃO OBJETIVA.\\n\\nEscolha da População: a inicialização da população é feita da forma mais simples possível, fazendo-se uma escolha aleatória independente para cada indivíduo da população inicial ou por processo heurístico, isto é, simplesmente escolher n indivíduos dentro do espaço de busca.\\n\\nAvaliação: a função de avaliação, ou função objetiva, é utilizada para determinar a qualidade de um indivíduo como solução do problema, ou seja, é uma forma de mensurar quão aptos estão os indivíduos da população. A função de avaliação deve refletir os objetivos a serem alcançados na resolução de um problema e é derivada diretamente das condições impostas pelo problema.\\n\\nSeleção: a seleção dos indivíduos da população deve simular o mecanismo de seleção natural, sobrevivência dos mais fortes , em que os pais mais aptos geram mais filhos. O algoritmo permite, também, que alguns indivíduos menos aptos gerem filhos, garantindo a diversidade entre os indivíduos melhores e os piores. Se apenas os melhores indivíduos se reproduzirem a população tenderá a ser cada vez mais semelhante, não ocorrendo à evolução.\\n\\nElitismo: visa preservar os melhores cromossomos de uma geração para outra sem alterações, garantindo sempre melhor solução encontrada em qualquer uma das gerações será mantida até o final do processo. Geralmente usa-se nos Algoritmos Genéticos uma taxa de elitismo de 30% do total de indivíduos gerados. \\n\\nCruzamento: o cruzamento ou crossover é em processo de recombinação de partes das seqüências de caracteres entre pares de cromossomos, com o objetivo de gerar nova descendência.Mutação: este operador é responsável pela introdução e manutenção da diversidade genética na população. O operador de mutação inverte os valores de bits, ou seja, muda o valor de dado bit de 1 para 0 ou de 0 para 1, com o objetivo de tentar regenerar algum indivíduo que possa ter sido eliminado de forma inesperada. Para que uma determinada população não sofra muitas alterações, esta operação é processada para um pequeno percentual PM de seus elementos, em torno de 1% de todos os genes.</td>\n",
       "    </tr>\n",
       "    <tr>\n",
       "      <th>Resposta 11</th>\n",
       "      <td>TANTO A MUTAÇÃO COMO O CROSSOVER PODEM DESTRUIR A PRESENÇA DE UM ESQUEMA. EM OUTRAS PALAVRAS, MUTAÇÃO E CROSSOVER SÃO CAPAZES DE REDUZIR O NÚMERO DE OCORRÊNCIAS DE UM ESQUEMA PARTICULAR EM UMA POPULAÇÃO DE CROMOSSOMOS. ELES TAMBÉM SÃO CAPAZES DE AUMENTAR O NÚMERO DE OCORRÊNCIAS DE UM DADO ESQUEMA.</td>\n",
       "      <td>TANTO A MUTAÇÃO COMO O CROSSOVER PODEM DESTRUIR A PRESENÇA DE UM ESQUEMA. EM OUTRAS PALAVRAS, MUTAÇÃO E CROSSOVER SÃO CAPAZES DE REDUZIR O NÚMERO DE OCORRÊNCIAS DE UM ESQUEMA PARTICULAR EM UMA POPULAÇÃO DE CROMOSSOMOS. ELES TAMBÉM SÃO CAPAZES DE AUMENTAR O NÚMERO DE OCORRÊNCIAS DE UM DADO ESQUEMA.</td>\n",
       "    </tr>\n",
       "    <tr>\n",
       "      <th>Resposta 10</th>\n",
       "      <td>Um esquema é uma cadeia de bits que representa um possível cromossomo, usando * para representar “qualquer valor”. Por exemplo, o seguinte esquema:\\n\\n* 11\\n\\ncorresponde aos seguintes dois cromossomos:\\n\\n111\\n\\n011</td>\n",
       "      <td>Um esquema é uma cadeia de bits que representa um possível cromossomo, usando * para representar “qualquer valor”. Por exemplo, o seguinte esquema:\\n\\n* 11 *\\n\\ncorresponde aos seguintes quatro cromossomas:\\n\\n0110\\n\\n0111\\n\\n1110\\n\\n1111</td>\n",
       "    </tr>\n",
       "    <tr>\n",
       "      <th>Resposta 4</th>\n",
       "      <td>O processo para executar um algoritmo genético é o seguinte:\\n\\n1. Gerar uma população aleatória de cromossomos (esta é a primeira geração).\\n\\n2. Se os critérios de terminação estiverem satisfeitos, pare. Caso contrário, continue na etapa 3.\\n\\n3. Determine a adequação de cada cromossomo.\\n\\n4. Aplique crossover e mutação aos cromossomos selecionados da geração atual para gerar uma nova população de cromossomos - a próxima geração.5. Volte ao passo 2</td>\n",
       "      <td>O processo para executar um algoritmo genético é o seguinte:\\n\\n1. Gerar uma população aleatória de cromossomos (esta é a primeira geração).\\n\\n2. Se os critérios de terminação estiverem satisfeitos, pare. Caso contrário, continue na etapa 3.\\n\\n3. Determine a adequação de cada cromossomo.\\n\\n4. Aplique crossover e mutação aos cromossomos selecionados da geração atual para gerar uma nova população de cromossomos - a próxima geração.\\n\\n5. Volte ao passo 2.\\n\\nO tamanho da população deve ser determinado com antecedência. Normalmente, o tamanho da população permanece constante de uma geração para a próxima. Em algumas situações, pode ser útil ter uma população que mude de tamanho.\\n\\nO tamanho de cada cromossomo deve permanecer o mesmo para o cruzamento a ser aplicado. É possível executar algoritmos genéticos com tamanhos de cromossomos variáveis, mas isso é incomum.\\n\\nTipicamente, os cromossomos mais aptos são selecionados em cada geração para se acasalarem, e cada par de cromossomos é permitido produzir dois descendentes. O conjunto resultante de cromossomas descendentes substitui a geração anterior.\\n\\nTambém é possível permitir que pais particularmente aptos produzam relativamente mais descendentes e permitam que certos membros de uma geração sobrevivam à próxima geração. Para a maior parte deste capítulo, vamos supor que cada par de pais produz dois descendentes e que esses descendentes substituam os pais.</td>\n",
       "    </tr>\n",
       "  </tbody>\n",
       "</table>\n",
       "</div>"
      ],
      "text/plain": [
       "                                                                                                                                                                                                                                                                                                                                                                                                                                                                                                                                                                                                                                                                                                                                                                                                                                                                                                                                                                                                                                                                                                                                                                                                                                                                                                                                                                                                                                                                                                                                                                                                                                                                                                                                                                                                                                                                                                                                                                                                                                                                                                                                                                                                                                                                                                                                                                                                                                                                                                                                                                                                                                                                                                                                                                                                                                                              3  \\\n",
       "Resposta 3   Genes: Gene é cada bit de uma cadeia de bits.\\n\\nCromossomos: em algoritmos genéticos os cromossomos é uma cadeia de bits\\n\\nPopulação: População é um conjunto de cromossomos que compõem uma geração.\\n\\nGenótipo: Informação Genética, responsável pelo fenótipo.\\n\\nFenótipo: É a forma física da criatura ( combinação de cromossomos)\\n\\nFitness: É uma função de avaliação.                                                                                                                                                                                                                                                                                                                                                                                                                                                                                                                                                                                                                                                                                                                                                                                                                                                                                                                                                                                                                                                                                                                                                                                                                                                                                                                                                                                                                                                                                                                                                                                                                                                                                                                                                                                                                                                                                                                                                                                                                                                                                                                                                                                                                                                                                                                                                                                                                                                                   \n",
       "Resposta 9   Algoritmos Genéticos parte de uma população indivíduos gerados aleatoriamente (configurações iniciais de um problema), realiza-se a avaliação de cada um (em relação a função objetiva), seleciona os mais aptos e promove os manipuladores ou operadores genéticos como cruzamento e mutação, originando novas gerações de indivíduos. Cada indivíduo na população representa uma possível solução para um dado problema, o que o AG faz é buscar aquela solução que seja muito boa ou a melhor do problema analisado através da criação de população de indivíduos cada vez mais aptos levando à otimização da função objetiva.\\n\\n\\t*\\n\\nEscolha da População: a inicialização da população é feita da forma mais simples possível, fazendo-se uma escolha aleatória independente para cada indivíduo da população inicial ou por processo heurístico, isto é, simplesmente escolher n indivíduos dentro do espaço de busca.\\n\\n\\t*\\n\\nAvaliação: a função de avaliação, ou função objetiva, é utilizada para determinar a qualidade de um indivíduo como solução do problema, ou seja, é uma forma de mensurar quão aptos estão os indivíduos da população. A função de avaliação deve refletir os objetivos a serem alcançados na resolução de um problema e é derivada diretamente das condições impostas pelo problema.\\n\\n\\t*\\n\\nSeleção: a seleção dos indivíduos da população deve simular o mecanismo de seleção natural, sobrevivência dos mais fortes , em que os pais mais aptos geram mais filhos. O algoritmo permite, também, que alguns indivíduos menos aptos gerem filhos, garantindo a diversidade entre os indivíduos melhores e os piores. Se apenas os melhores indivíduos se reproduzirem a população tenderá a ser cada vez mais semelhante, não ocorrendo à evolução.\\n\\n\\t*\\n\\nElitismo: visa preservar os melhores cromossomos de uma geração para outra sem alterações, garantindo sempre melhor solução encontrada em qualquer uma das gerações será mantida até o final do processo. Geralmente usa-se nos Algoritmos Genéticos uma taxa de elitismo de 30% do total de indivíduos gerados. \\n\\n\\t*\\n\\nCruzamento: o cruzamento ou crossover é em processo de recombinação de partes das seqüências de caracteres entre pares de cromossomos, com o objetivo de gerar nova descendência.\\n\\t*\\n\\n\\t*\\n\\nMutação: este operador é responsável pela introdução e manutenção da diversidade genética na população. O operador de mutação inverte os valores de bits, ou seja, muda o valor de dado bit de 1 para 0 ou de 0 para 1, com o objetivo de tentar regenerar algum indivíduo que possa ter sido eliminado de forma inesperada. Para que uma determinada população não sofra muitas alterações, esta operação é processada para um pequeno percentual PM de seus elementos, em torno de 1% de todos os genes.   \n",
       "Resposta 11  TANTO A MUTAÇÃO COMO O CROSSOVER PODEM DESTRUIR A PRESENÇA DE UM ESQUEMA. EM OUTRAS PALAVRAS, MUTAÇÃO E CROSSOVER SÃO CAPAZES DE REDUZIR O NÚMERO DE OCORRÊNCIAS DE UM ESQUEMA PARTICULAR EM UMA POPULAÇÃO DE CROMOSSOMOS. ELES TAMBÉM SÃO CAPAZES DE AUMENTAR O NÚMERO DE OCORRÊNCIAS DE UM DADO ESQUEMA.                                                                                                                                                                                                                                                                                                                                                                                                                                                                                                                                                                                                                                                                                                                                                                                                                                                                                                                                                                                                                                                                                                                                                                                                                                                                                                                                                                                                                                                                                                                                                                                                                                                                                                                                                                                                                                                                                                                                                                                                                                                                                                                                                                                                                                                                                                                                                                                                                                                                                                                                           \n",
       "Resposta 10  Um esquema é uma cadeia de bits que representa um possível cromossomo, usando * para representar “qualquer valor”. Por exemplo, o seguinte esquema:\\n\\n* 11\\n\\ncorresponde aos seguintes dois cromossomos:\\n\\n111\\n\\n011                                                                                                                                                                                                                                                                                                                                                                                                                                                                                                                                                                                                                                                                                                                                                                                                                                                                                                                                                                                                                                                                                                                                                                                                                                                                                                                                                                                                                                                                                                                                                                                                                                                                                                                                                                                                                                                                                                                                                                                                                                                                                                                                                                                                                                                                                                                                                                                                                                                                                                                                                                                                                             \n",
       "Resposta 4   O processo para executar um algoritmo genético é o seguinte:\\n\\n1. Gerar uma população aleatória de cromossomos (esta é a primeira geração).\\n\\n2. Se os critérios de terminação estiverem satisfeitos, pare. Caso contrário, continue na etapa 3.\\n\\n3. Determine a adequação de cada cromossomo.\\n\\n4. Aplique crossover e mutação aos cromossomos selecionados da geração atual para gerar uma nova população de cromossomos - a próxima geração.5. Volte ao passo 2                                                                                                                                                                                                                                                                                                                                                                                                                                                                                                                                                                                                                                                                                                                                                                                                                                                                                                                                                                                                                                                                                                                                                                                                                                                                                                                                                                                                                                                                                                                                                                                                                                                                                                                                                                                                                                                                                                                                                                                                                                                                                                                                                                                                                                                                                                                                                                              \n",
       "\n",
       "                                                                                                                                                                                                                                                                                                                                                                                                                                                                                                                                                                                                                                                                                                                                                                                                                                                                                                                                                                                                                                                                                                                                                                                                                                                                                                                                                                                                                                                                                                                                                                                                                                                                                                                                                                                                                                                                                                                                                                                                                                                                                                                                                                                                                                                                                                                                                                                                                                                                                                                                                                                                                                                                                                                                                                    1  \n",
       "Resposta 3   A POPULAÇÃO CONSISTE DE UM CONJUNTO DE CROMOSSOMOS, CADA QUAL, COMO VIMOS, É COMPOSTO DE GENES. UM CROMOSSOMO É GERALMENTE USADO PARA REPRESENTAR UM “INDIVÍDUO” COMPLETO DENTRO DA POPULAÇÃO - EM OUTRAS PALAVRAS, UMA REPRESENTAÇÃO COMPLETA DE UMA SOLUÇÃO OU UMA CLASSIFICAÇÃO. TAMBÉM É POSSÍVEL COMBINAR CROMOSSOMOS JUNTOS PARA FORMAR CRIATURAS, O QUE REFLETE MAIS DE PERTO A GENÉTICA REAL, PORQUE CADA INDIVÍDUO NO MUNDO REAL TEM UM NÚMERO DE CROMOSSOMOS.                                                                                                                                                                                                                                                                                                                                                                                                                                                                                                                                                                                                                                                                                                                                                                                                                                                                                                                                                                                                                                                                                                                                                                                                                                                                                                                                                                                                                                                                                                                                                                                                                                                                                                                                                                                                                                                                                                                                                                                                                                                                                                                                                                                                                                                                                   \n",
       "Resposta 9   ALGORITMOS GENÉTICOS PARTE DE UMA POPULAÇÃO INDIVÍDUOS GERADOS ALEATORIAMENTE , REALIZA-SE A AVALIAÇÃO DE CADA UM (EM RELAÇÃO A FUNÇÃO OBJETIVA), SELECIONA OS MAIS APTOS E PROMOVE OS MANIPULADORES OU OPERADORES GENÉTICOS COMO CRUZAMENTO E MUTAÇÃO, ORIGINANDO NOVAS GERAÇÕES DE INDIVÍDUOS. CADA INDIVÍDUO NA POPULAÇÃO REPRESENTA UMA POSSÍVEL SOLUÇÃO PARA UM DADO PROBLEMA, O QUE O AG FAZ É BUSCAR AQUELA SOLUÇÃO QUE SEJA MUITO BOA OU A MELHOR DO PROBLEMA ANALISADO ATRAVÉS DA CRIAÇÃO DE POPULAÇÃO DE INDIVÍDUOS CADA VEZ MAIS APTOS LEVANDO À OTIMIZAÇÃO DA FUNÇÃO OBJETIVA.\\n\\nEscolha da População: a inicialização da população é feita da forma mais simples possível, fazendo-se uma escolha aleatória independente para cada indivíduo da população inicial ou por processo heurístico, isto é, simplesmente escolher n indivíduos dentro do espaço de busca.\\n\\nAvaliação: a função de avaliação, ou função objetiva, é utilizada para determinar a qualidade de um indivíduo como solução do problema, ou seja, é uma forma de mensurar quão aptos estão os indivíduos da população. A função de avaliação deve refletir os objetivos a serem alcançados na resolução de um problema e é derivada diretamente das condições impostas pelo problema.\\n\\nSeleção: a seleção dos indivíduos da população deve simular o mecanismo de seleção natural, sobrevivência dos mais fortes , em que os pais mais aptos geram mais filhos. O algoritmo permite, também, que alguns indivíduos menos aptos gerem filhos, garantindo a diversidade entre os indivíduos melhores e os piores. Se apenas os melhores indivíduos se reproduzirem a população tenderá a ser cada vez mais semelhante, não ocorrendo à evolução.\\n\\nElitismo: visa preservar os melhores cromossomos de uma geração para outra sem alterações, garantindo sempre melhor solução encontrada em qualquer uma das gerações será mantida até o final do processo. Geralmente usa-se nos Algoritmos Genéticos uma taxa de elitismo de 30% do total de indivíduos gerados. \\n\\nCruzamento: o cruzamento ou crossover é em processo de recombinação de partes das seqüências de caracteres entre pares de cromossomos, com o objetivo de gerar nova descendência.Mutação: este operador é responsável pela introdução e manutenção da diversidade genética na população. O operador de mutação inverte os valores de bits, ou seja, muda o valor de dado bit de 1 para 0 ou de 0 para 1, com o objetivo de tentar regenerar algum indivíduo que possa ter sido eliminado de forma inesperada. Para que uma determinada população não sofra muitas alterações, esta operação é processada para um pequeno percentual PM de seus elementos, em torno de 1% de todos os genes.  \n",
       "Resposta 11  TANTO A MUTAÇÃO COMO O CROSSOVER PODEM DESTRUIR A PRESENÇA DE UM ESQUEMA. EM OUTRAS PALAVRAS, MUTAÇÃO E CROSSOVER SÃO CAPAZES DE REDUZIR O NÚMERO DE OCORRÊNCIAS DE UM ESQUEMA PARTICULAR EM UMA POPULAÇÃO DE CROMOSSOMOS. ELES TAMBÉM SÃO CAPAZES DE AUMENTAR O NÚMERO DE OCORRÊNCIAS DE UM DADO ESQUEMA.                                                                                                                                                                                                                                                                                                                                                                                                                                                                                                                                                                                                                                                                                                                                                                                                                                                                                                                                                                                                                                                                                                                                                                                                                                                                                                                                                                                                                                                                                                                                                                                                                                                                                                                                                                                                                                                                                                                                                                                                                                                                                                                                                                                                                                                                                                                                                                                                                                                \n",
       "Resposta 10  Um esquema é uma cadeia de bits que representa um possível cromossomo, usando * para representar “qualquer valor”. Por exemplo, o seguinte esquema:\\n\\n* 11 *\\n\\ncorresponde aos seguintes quatro cromossomas:\\n\\n0110\\n\\n0111\\n\\n1110\\n\\n1111                                                                                                                                                                                                                                                                                                                                                                                                                                                                                                                                                                                                                                                                                                                                                                                                                                                                                                                                                                                                                                                                                                                                                                                                                                                                                                                                                                                                                                                                                                                                                                                                                                                                                                                                                                                                                                                                                                                                                                                                                                                                                                                                                                                                                                                                                                                                                                                                                                                                                                            \n",
       "Resposta 4   O processo para executar um algoritmo genético é o seguinte:\\n\\n1. Gerar uma população aleatória de cromossomos (esta é a primeira geração).\\n\\n2. Se os critérios de terminação estiverem satisfeitos, pare. Caso contrário, continue na etapa 3.\\n\\n3. Determine a adequação de cada cromossomo.\\n\\n4. Aplique crossover e mutação aos cromossomos selecionados da geração atual para gerar uma nova população de cromossomos - a próxima geração.\\n\\n5. Volte ao passo 2.\\n\\nO tamanho da população deve ser determinado com antecedência. Normalmente, o tamanho da população permanece constante de uma geração para a próxima. Em algumas situações, pode ser útil ter uma população que mude de tamanho.\\n\\nO tamanho de cada cromossomo deve permanecer o mesmo para o cruzamento a ser aplicado. É possível executar algoritmos genéticos com tamanhos de cromossomos variáveis, mas isso é incomum.\\n\\nTipicamente, os cromossomos mais aptos são selecionados em cada geração para se acasalarem, e cada par de cromossomos é permitido produzir dois descendentes. O conjunto resultante de cromossomas descendentes substitui a geração anterior.\\n\\nTambém é possível permitir que pais particularmente aptos produzam relativamente mais descendentes e permitam que certos membros de uma geração sobrevivam à próxima geração. Para a maior parte deste capítulo, vamos supor que cada par de pais produz dois descendentes e que esses descendentes substituam os pais.                                                                                                                                                                                                                                                                                                                                                                                                                                                                                                                                                                                                                                                                                                                                                                                                                                                                                                                                                                                                                                                                                                                                                                                                                                                                 "
      ]
     },
     "execution_count": 17,
     "metadata": {},
     "output_type": "execute_result"
    }
   ],
   "source": [
    "pd.set_option('display.max_colwidth', -1)\n",
    "pd.read_csv(source, sep=\";\").iloc[[3,1]].transpose().sample(5)"
   ]
  },
  {
   "cell_type": "markdown",
   "metadata": {},
   "source": [
    "### Terceiro Documento"
   ]
  },
  {
   "cell_type": "code",
   "execution_count": 18,
   "metadata": {},
   "outputs": [],
   "source": [
    "source = \"Dados- ED09.csv\"\n",
    "data_dict = preprocess(source)\n",
    "model_dict = tfidf(data_dict)"
   ]
  },
  {
   "cell_type": "code",
   "execution_count": 19,
   "metadata": {},
   "outputs": [
    {
     "data": {
      "text/plain": [
       "<matplotlib.axes._subplots.AxesSubplot at 0x7f6dbb1d1320>"
      ]
     },
     "execution_count": 19,
     "metadata": {},
     "output_type": "execute_result"
    },
    {
     "data": {
      "image/png": "[encoded data removed]",
      "text/plain": [
       "<Figure size 1440x720 with 2 Axes>"
      ]
     },
     "metadata": {
      "needs_background": "light"
     },
     "output_type": "display_data"
    }
   ],
   "source": [
    "dataplot = get_dict(preprocess_dict=data_dict, \n",
    "                    dataplot=get_dataplot(data_dict, model_dict), \n",
    "                    threshold=0.9)\n",
    "\n",
    "mask = np.zeros_like(dataplot, dtype=np.bool)\n",
    "mask[np.triu_indices_from(mask)] = True\n",
    "\n",
    "sns.heatmap(data=pd.DataFrame(dataplot), mask=mask, cmap='Blues', annot=True)"
   ]
  },
  {
   "cell_type": "code",
   "execution_count": 20,
   "metadata": {
    "scrolled": true
   },
   "outputs": [
    {
     "data": {
      "text/html": [
       "<div>\n",
       "<style scoped>\n",
       "    .dataframe tbody tr th:only-of-type {\n",
       "        vertical-align: middle;\n",
       "    }\n",
       "\n",
       "    .dataframe tbody tr th {\n",
       "        vertical-align: top;\n",
       "    }\n",
       "\n",
       "    .dataframe thead th {\n",
       "        text-align: right;\n",
       "    }\n",
       "</style>\n",
       "<table border=\"1\" class=\"dataframe\">\n",
       "  <thead>\n",
       "    <tr style=\"text-align: right;\">\n",
       "      <th></th>\n",
       "      <th>9</th>\n",
       "      <th>5</th>\n",
       "    </tr>\n",
       "  </thead>\n",
       "  <tbody>\n",
       "    <tr>\n",
       "      <th>Resposta 28</th>\n",
       "      <td>A ambiguidade semântica ocorre quando uma sentença tem mais de um significado possível - geralmente como resultado de uma ambigüidade sintática.</td>\n",
       "      <td>A ambiguidade semântica ocorre quando uma sentença tem mais de um significado possível - geralmente como resultado de uma ambigüidade sintática.</td>\n",
       "    </tr>\n",
       "    <tr>\n",
       "      <th>Resposta 2</th>\n",
       "      <td>Línguas como chinês, finlandês e navajo não têm quase nada em comum com o inglês (embora, é claro, o finlandês use o mesmo alfabeto). Assim, um sistema que pode trabalhar com uma linguagem humana não pode necessariamente lidar com qualquer outra linguagem humana.</td>\n",
       "      <td>Línguas como chinês, finlandês e navajo não têm quase nada em comum com o inglês (embora, é claro, o finlandês use o mesmo alfabeto). Assim, um sistema que pode trabalhar com uma linguagem humana não pode necessariamente lidar com qualquer outra linguagem humana.</td>\n",
       "    </tr>\n",
       "    <tr>\n",
       "      <th>Resposta 41</th>\n",
       "      <td>Em geral, para a maioria das técnicas de recuperação de informação, a precisão e a rechamada estão em oposição umas às outras, o que significa que quando a precisão do sistema aumenta, isso acontece às custas do recall e vice-versa. Isso é intuitivo: a única maneira de obter 100% de recordação na maioria das situações do mundo real é ficar muito relaxado sobre quais documentos são classificados. Em outras palavras, uma grande quantidade de documentos deve ser classificada como relevante para garantir que todos os documentos relevantes sejam encontrados. Inevitavelmente, isso significará que alguns documentos irrelevantes serão encontrados também.</td>\n",
       "      <td>Em geral, para a maioria das técnicas de recuperação de informação, a precisão e a rechamada estão em oposição umas às outras, o que significa que quando a precisão do sistema aumenta, isso acontece às custas do recall e vice-versa. Isso é intuitivo: a única maneira de obter 100% de recordação na maioria das situações do mundo real é ficar muito relaxado sobre quais documentos são classificados. Em outras palavras, uma grande quantidade de documentos deve ser classificada como relevante para garantir que todos os documentos relevantes sejam encontrados. Inevitavelmente, isso significará que alguns documentos irrelevantes serão encontrados também.</td>\n",
       "    </tr>\n",
       "    <tr>\n",
       "      <th>Resposta 4</th>\n",
       "      <td>A fonologia é o estudo dos sons que compõem as palavras e é usado para identificar palavras de sons.</td>\n",
       "      <td>A fonologia é o estudo dos sons que compõem as palavras e é usado para identificar palavras de sons.</td>\n",
       "    </tr>\n",
       "    <tr>\n",
       "      <th>Resposta 9</th>\n",
       "      <td>Os sistemas de processamento de linguagem natural devem aplicar algum tipo de conhecimento do mundo. Na maioria dos sistemas do mundo real, esse conhecimento mundial é limitado a um domínio específico (por exemplo, um sistema pode ter conhecimento detalhado sobre o Blocks World e ser capaz de responder a perguntas sobre esse mundo). O objetivo final do processamento da linguagem natural seria ter um sistema com conhecimento mundial suficiente para envolver um humano na discussão sobre qualquer assunto. Este objetivo ainda está muito longe.</td>\n",
       "      <td>Os sistemas de processamento de linguagem natural devem aplicar algum tipo de conhecimento do mundo. Na maioria dos sistemas do mundo real, esse conhecimento mundial é limitado a um domínio específico (por exemplo, um sistema pode ter conhecimento detalhado sobre o Blocks World e ser capaz de responder a perguntas sobre esse mundo). O objetivo final do processamento da linguagem natural seria ter um sistema com conhecimento mundial suficiente para envolver um humano na discussão sobre qualquer assunto. Este objetivo ainda está muito longe.</td>\n",
       "    </tr>\n",
       "  </tbody>\n",
       "</table>\n",
       "</div>"
      ],
      "text/plain": [
       "                                                                                                                                                                                                                                                                                                                                                                                                                                                                                                                                                                                                                                                                                          9  \\\n",
       "Resposta 28  A ambiguidade semântica ocorre quando uma sentença tem mais de um significado possível - geralmente como resultado de uma ambigüidade sintática.                                                                                                                                                                                                                                                                                                                                                                                                                                                                                                                                 \n",
       "Resposta 2   Línguas como chinês, finlandês e navajo não têm quase nada em comum com o inglês (embora, é claro, o finlandês use o mesmo alfabeto). Assim, um sistema que pode trabalhar com uma linguagem humana não pode necessariamente lidar com qualquer outra linguagem humana.                                                                                                                                                                                                                                                                                                                                                                                                          \n",
       "Resposta 41  Em geral, para a maioria das técnicas de recuperação de informação, a precisão e a rechamada estão em oposição umas às outras, o que significa que quando a precisão do sistema aumenta, isso acontece às custas do recall e vice-versa. Isso é intuitivo: a única maneira de obter 100% de recordação na maioria das situações do mundo real é ficar muito relaxado sobre quais documentos são classificados. Em outras palavras, uma grande quantidade de documentos deve ser classificada como relevante para garantir que todos os documentos relevantes sejam encontrados. Inevitavelmente, isso significará que alguns documentos irrelevantes serão encontrados também.   \n",
       "Resposta 4   A fonologia é o estudo dos sons que compõem as palavras e é usado para identificar palavras de sons.                                                                                                                                                                                                                                                                                                                                                                                                                                                                                                                                                                             \n",
       "Resposta 9   Os sistemas de processamento de linguagem natural devem aplicar algum tipo de conhecimento do mundo. Na maioria dos sistemas do mundo real, esse conhecimento mundial é limitado a um domínio específico (por exemplo, um sistema pode ter conhecimento detalhado sobre o Blocks World e ser capaz de responder a perguntas sobre esse mundo). O objetivo final do processamento da linguagem natural seria ter um sistema com conhecimento mundial suficiente para envolver um humano na discussão sobre qualquer assunto. Este objetivo ainda está muito longe.                                                                                                                \n",
       "\n",
       "                                                                                                                                                                                                                                                                                                                                                                                                                                                                                                                                                                                                                                                                                          5  \n",
       "Resposta 28  A ambiguidade semântica ocorre quando uma sentença tem mais de um significado possível - geralmente como resultado de uma ambigüidade sintática.                                                                                                                                                                                                                                                                                                                                                                                                                                                                                                                                \n",
       "Resposta 2   Línguas como chinês, finlandês e navajo não têm quase nada em comum com o inglês (embora, é claro, o finlandês use o mesmo alfabeto). Assim, um sistema que pode trabalhar com uma linguagem humana não pode necessariamente lidar com qualquer outra linguagem humana.                                                                                                                                                                                                                                                                                                                                                                                                         \n",
       "Resposta 41  Em geral, para a maioria das técnicas de recuperação de informação, a precisão e a rechamada estão em oposição umas às outras, o que significa que quando a precisão do sistema aumenta, isso acontece às custas do recall e vice-versa. Isso é intuitivo: a única maneira de obter 100% de recordação na maioria das situações do mundo real é ficar muito relaxado sobre quais documentos são classificados. Em outras palavras, uma grande quantidade de documentos deve ser classificada como relevante para garantir que todos os documentos relevantes sejam encontrados. Inevitavelmente, isso significará que alguns documentos irrelevantes serão encontrados também.  \n",
       "Resposta 4   A fonologia é o estudo dos sons que compõem as palavras e é usado para identificar palavras de sons.                                                                                                                                                                                                                                                                                                                                                                                                                                                                                                                                                                            \n",
       "Resposta 9   Os sistemas de processamento de linguagem natural devem aplicar algum tipo de conhecimento do mundo. Na maioria dos sistemas do mundo real, esse conhecimento mundial é limitado a um domínio específico (por exemplo, um sistema pode ter conhecimento detalhado sobre o Blocks World e ser capaz de responder a perguntas sobre esse mundo). O objetivo final do processamento da linguagem natural seria ter um sistema com conhecimento mundial suficiente para envolver um humano na discussão sobre qualquer assunto. Este objetivo ainda está muito longe.                                                                                                               "
      ]
     },
     "execution_count": 20,
     "metadata": {},
     "output_type": "execute_result"
    }
   ],
   "source": [
    "pd.set_option('display.max_colwidth', -1)\n",
    "pd.read_csv(source, sep=\";\").iloc[[9,5]].transpose().sample(5)"
   ]
  },
  {
   "cell_type": "markdown",
   "metadata": {},
   "source": [
    "## "
   ]
  },
  {
   "cell_type": "code",
   "execution_count": 22,
   "metadata": {},
   "outputs": [],
   "source": [
    "source = \"Dados- ED09.csv\"\n",
    "pd.DataFrame(pd.read_csv(source, sep=\";\").iloc[:, 0]).to_csv('sample.csv', sep=';')\n",
    "source = 'sample.csv'\n",
    "\n",
    "data_dict = preprocess(source)\n",
    "model_dict = tfidf(data_dict)"
   ]
  },
  {
   "cell_type": "code",
   "execution_count": 23,
   "metadata": {},
   "outputs": [
    {
     "data": {
      "text/plain": [
       "<matplotlib.axes._subplots.AxesSubplot at 0x7f6dbb23b208>"
      ]
     },
     "execution_count": 23,
     "metadata": {},
     "output_type": "execute_result"
    },
    {
     "data": {
      "image/png": "[encoded data removed]",
      "text/plain": [
       "<Figure size 1440x720 with 2 Axes>"
      ]
     },
     "metadata": {
      "needs_background": "light"
     },
     "output_type": "display_data"
    }
   ],
   "source": [
    "dataplot = get_dict(preprocess_dict=data_dict, \n",
    "                    dataplot=get_dataplot(data_dict, model_dict), \n",
    "                    threshold=0.5)\n",
    "\n",
    "mask = np.zeros_like(dataplot, dtype=np.bool)\n",
    "mask[np.triu_indices_from(mask)] = True\n",
    "\n",
    "sns.heatmap(data=pd.DataFrame(dataplot), mask=mask, cmap='Blues', annot=True)"
   ]
  },
  {
   "cell_type": "code",
   "execution_count": 24,
   "metadata": {},
   "outputs": [
    {
     "data": {
      "text/html": [
       "<div>\n",
       "<style scoped>\n",
       "    .dataframe tbody tr th:only-of-type {\n",
       "        vertical-align: middle;\n",
       "    }\n",
       "\n",
       "    .dataframe tbody tr th {\n",
       "        vertical-align: top;\n",
       "    }\n",
       "\n",
       "    .dataframe thead th {\n",
       "        text-align: right;\n",
       "    }\n",
       "</style>\n",
       "<table border=\"1\" class=\"dataframe\">\n",
       "  <thead>\n",
       "    <tr style=\"text-align: right;\">\n",
       "      <th></th>\n",
       "      <th>Unnamed: 0</th>\n",
       "      <th>Resposta 1</th>\n",
       "    </tr>\n",
       "  </thead>\n",
       "  <tbody>\n",
       "    <tr>\n",
       "      <th>0</th>\n",
       "      <td>0</td>\n",
       "      <td>NaN</td>\n",
       "    </tr>\n",
       "    <tr>\n",
       "      <th>1</th>\n",
       "      <td>1</td>\n",
       "      <td>AS LÍNGUAS NATURAIS SÃO AS LÍNGUAS USADAS PELOS HUMANOS PARA COMUNICAÇÃO (ENTRE OUTRAS FUNÇÕES). ELES SÃO DISTINTAMENTE DIFERENTES DAS LINGUAGENS FORMAIS, COMO C ++, JAVA E PROLOG. UMA DAS PRINCIPAIS DIFERENÇAS, É QUE AS LÍNGUAS NATURAIS SÃO AMBÍGUAS, O QUE SIGNIFICA QUE UMA DETERMINADA SENTENÇA PODE TER MAIS DE UM SIGNIFICADO POSSÍVEL E, EM ALGUNS CASOS, O SIGNIFICADO CORRETO PODE SER MUITO DIFÍCIL DE DETERMINAR. AS LINGUAGENS FORMAIS SÃO QUASE SEMPRE PROJETADAS PARA GARANTIR QUE A AMBIGÜIDADE NÃO POSSA OCORRER. PORTANTO, UM DETERMINADO PROGRAMA ESCRITO EM C ++ PODE TER APENAS UMA INTERPRETAÇÃO. ISTO É CLARAMENTE DESEJÁVEL PORQUE, CASO CONTRÁRIO, O COMPUTADOR TERIA QUE TOMAR UMA DECISÃO ARBITRÁRIA SOBRE QUAL INTERPRETAÇÃO TRABALHAR.</td>\n",
       "    </tr>\n",
       "    <tr>\n",
       "      <th>2</th>\n",
       "      <td>2</td>\n",
       "      <td>As linguagens naturais são as linguagens utilizadas pelos seres humanos para comunicação, a principal diferença das linguagens naturais e linguagens formais é a ambiguidade. As linguagens naturais são ambíguas de forma que uma sentença pode ter mais de um significado possível e nas linguagens formais temos que as mesmas são projetadas para evitar ao máximo a ambiguidade.</td>\n",
       "    </tr>\n",
       "    <tr>\n",
       "      <th>3</th>\n",
       "      <td>3</td>\n",
       "      <td>AS LÍNGUAS NATURAIS SÃO AS LÍNGUAS USADAS PELOS HUMANOS PARA COMUNICAÇÃO (ENTRE OUTRAS FUNÇÕES). ELES SÃO DISTINTAMENTE DIFERENTES DAS LINGUAGENS FORMAIS, COMO C ++, JAVA E PROLOG. UMA DAS PRINCIPAIS DIFERENÇAS, É QUE AS LÍNGUAS NATURAIS SÃO AMBÍGUAS, O QUE SIGNIFICA QUE UMA DETERMINADA SENTENÇA PODE TER MAIS DE UM SIGNIFICADO POSSÍVEL E, EM ALGUNS CASOS, O SIGNIFICADO CORRETO PODE SER MUITO DIFÍCIL DE DETERMINAR. AS LINGUAGENS FORMAIS SÃO QUASE SEMPRE PROJETADAS PARA GARANTIR QUE A AMBIGUIDADE NÃO POSSA OCORRER. PORTANTO, UM DETERMINADO PROGRAMA ESCRITO EM C ++ PODE TER APENAS UMA INTERPRETAÇÃO. ISTO É CLARAMENTE DESEJÁVEL PORQUE, CASO CONTRÁRIO, O COMPUTADOR TERIA QUE TOMAR UMA DECISÃO ARBITRÁRIA SOBRE QUAL INTERPRETAÇÃO TRABALHAR.</td>\n",
       "    </tr>\n",
       "    <tr>\n",
       "      <th>4</th>\n",
       "      <td>4</td>\n",
       "      <td>Linguagens naturais são os idiomas padrões utilizados pelos seres humanos para\\n\\ncomunicação. Elas se diferenciam das linguagens formais (linguagens de programação)\\n\\nprimeiramente pois são ambíguas, i.e., uma frase pode ter diversos significados\\n\\npossíveis, enquanto as linguagens formais não podem conter ambiguidade.</td>\n",
       "    </tr>\n",
       "    <tr>\n",
       "      <th>5</th>\n",
       "      <td>5</td>\n",
       "      <td>As línguas naturais são as línguas usadas pelos humanos para comunicação (entre outras funções). Eles são distintamente diferentes das linguagens formais, como C ++, Java e PROLOG. Uma das principais diferenças, é que as línguas naturais são ambíguas, o que significa que uma determinada sentença pode ter mais de um significado possível e, em alguns casos, o significado correto pode ser muito difícil de determinar. As linguagens formais são quase sempre projetadas para garantir que a ambigüidade não possa ocorrer. Portanto, um determinado programa escrito em C ++ pode ter apenas uma interpretação. Isto é claramente desejável porque, caso contrário, o computador teria que tomar uma decisão arbitrária sobre qual interpretação trabalhar.</td>\n",
       "    </tr>\n",
       "    <tr>\n",
       "      <th>6</th>\n",
       "      <td>6</td>\n",
       "      <td>Linguagens Naturais são as linguagens utilizada por nós humanos para nos comunicarmos. Sua principal diferença com as Linguagens Formais é que a linguagem natural é ambígua, o que significa que uma dada sentença pode ter mais de um significado possível, e em alguns casos o significado correto pode ser muito difícil de determinar. As linguagens formais são quase sempre projetadas para garantir que essa ambiguidade não ocorra, assim o computador não precisa tomar uma decisão arbitrária sobre qual interpretação trabalhar.</td>\n",
       "    </tr>\n",
       "    <tr>\n",
       "      <th>7</th>\n",
       "      <td>7</td>\n",
       "      <td>As línguas naturais são as línguas usadas pelos humanos para comunicação. Uma das principais diferenças, é que as línguas naturais são ambíguas, o que significa que uma determinada sentença pode ter mais de um significado possível e, em alguns casos, o significado correto pode ser muito difícil de determinar. As linguagens formais são quase sempre projetadas para garantir que a ambiguidade não possa ocorrer.</td>\n",
       "    </tr>\n",
       "    <tr>\n",
       "      <th>8</th>\n",
       "      <td>8</td>\n",
       "      <td>NaN</td>\n",
       "    </tr>\n",
       "    <tr>\n",
       "      <th>9</th>\n",
       "      <td>9</td>\n",
       "      <td>As línguas naturais são as línguas usadas pelos humanos para comunicação (entre outras funções). Eles são distintamente diferentes das linguagens formais, como C ++, Java e PROLOG. Uma das principais diferenças, é que as línguas naturais são ambíguas, o que significa que uma determinada sentença pode ter mais de um significado possível e, em alguns casos, o significado correto pode ser muito difícil de determinar. As linguagens formais são quase sempre projetadas para garantir que a ambigüidade não possa ocorrer. Portanto, um determinado programa escrito em C ++ pode ter apenas uma interpretação. Isto é claramente desejável porque, caso contrário, o computador teria que tomar uma decisão arbitrária sobre qual interpretação trabalhar.</td>\n",
       "    </tr>\n",
       "    <tr>\n",
       "      <th>10</th>\n",
       "      <td>10</td>\n",
       "      <td>São as linguagens usadas para comunicação entre seres humanos. A diferença é que suas regras mudam naturalmente com o tempo, e suas sentenças possuem ambiguidade.</td>\n",
       "    </tr>\n",
       "    <tr>\n",
       "      <th>11</th>\n",
       "      <td>11</td>\n",
       "      <td>São linguagens usadas por humanos para comunicação, elas se diferenciam das formais como c, java etc.</td>\n",
       "    </tr>\n",
       "  </tbody>\n",
       "</table>\n",
       "</div>"
      ],
      "text/plain": [
       "    Unnamed: 0  \\\n",
       "0   0            \n",
       "1   1            \n",
       "2   2            \n",
       "3   3            \n",
       "4   4            \n",
       "5   5            \n",
       "6   6            \n",
       "7   7            \n",
       "8   8            \n",
       "9   9            \n",
       "10  10           \n",
       "11  11           \n",
       "\n",
       "                                                                                                                                                                                                                                                                                                                                                                                                                                                                                                                                                                                                                                                                                                                                                                 Resposta 1  \n",
       "0   NaN                                                                                                                                                                                                                                                                                                                                                                                                                                                                                                                                                                                                                                                                                                                                                                      \n",
       "1   AS LÍNGUAS NATURAIS SÃO AS LÍNGUAS USADAS PELOS HUMANOS PARA COMUNICAÇÃO (ENTRE OUTRAS FUNÇÕES). ELES SÃO DISTINTAMENTE DIFERENTES DAS LINGUAGENS FORMAIS, COMO C ++, JAVA E PROLOG. UMA DAS PRINCIPAIS DIFERENÇAS, É QUE AS LÍNGUAS NATURAIS SÃO AMBÍGUAS, O QUE SIGNIFICA QUE UMA DETERMINADA SENTENÇA PODE TER MAIS DE UM SIGNIFICADO POSSÍVEL E, EM ALGUNS CASOS, O SIGNIFICADO CORRETO PODE SER MUITO DIFÍCIL DE DETERMINAR. AS LINGUAGENS FORMAIS SÃO QUASE SEMPRE PROJETADAS PARA GARANTIR QUE A AMBIGÜIDADE NÃO POSSA OCORRER. PORTANTO, UM DETERMINADO PROGRAMA ESCRITO EM C ++ PODE TER APENAS UMA INTERPRETAÇÃO. ISTO É CLARAMENTE DESEJÁVEL PORQUE, CASO CONTRÁRIO, O COMPUTADOR TERIA QUE TOMAR UMA DECISÃO ARBITRÁRIA SOBRE QUAL INTERPRETAÇÃO TRABALHAR.  \n",
       "2   As linguagens naturais são as linguagens utilizadas pelos seres humanos para comunicação, a principal diferença das linguagens naturais e linguagens formais é a ambiguidade. As linguagens naturais são ambíguas de forma que uma sentença pode ter mais de um significado possível e nas linguagens formais temos que as mesmas são projetadas para evitar ao máximo a ambiguidade.                                                                                                                                                                                                                                                                                                                                                                                    \n",
       "3   AS LÍNGUAS NATURAIS SÃO AS LÍNGUAS USADAS PELOS HUMANOS PARA COMUNICAÇÃO (ENTRE OUTRAS FUNÇÕES). ELES SÃO DISTINTAMENTE DIFERENTES DAS LINGUAGENS FORMAIS, COMO C ++, JAVA E PROLOG. UMA DAS PRINCIPAIS DIFERENÇAS, É QUE AS LÍNGUAS NATURAIS SÃO AMBÍGUAS, O QUE SIGNIFICA QUE UMA DETERMINADA SENTENÇA PODE TER MAIS DE UM SIGNIFICADO POSSÍVEL E, EM ALGUNS CASOS, O SIGNIFICADO CORRETO PODE SER MUITO DIFÍCIL DE DETERMINAR. AS LINGUAGENS FORMAIS SÃO QUASE SEMPRE PROJETADAS PARA GARANTIR QUE A AMBIGUIDADE NÃO POSSA OCORRER. PORTANTO, UM DETERMINADO PROGRAMA ESCRITO EM C ++ PODE TER APENAS UMA INTERPRETAÇÃO. ISTO É CLARAMENTE DESEJÁVEL PORQUE, CASO CONTRÁRIO, O COMPUTADOR TERIA QUE TOMAR UMA DECISÃO ARBITRÁRIA SOBRE QUAL INTERPRETAÇÃO TRABALHAR.  \n",
       "4   Linguagens naturais são os idiomas padrões utilizados pelos seres humanos para\\n\\ncomunicação. Elas se diferenciam das linguagens formais (linguagens de programação)\\n\\nprimeiramente pois são ambíguas, i.e., uma frase pode ter diversos significados\\n\\npossíveis, enquanto as linguagens formais não podem conter ambiguidade.                                                                                                                                                                                                                                                                                                                                                                                                                                      \n",
       "5   As línguas naturais são as línguas usadas pelos humanos para comunicação (entre outras funções). Eles são distintamente diferentes das linguagens formais, como C ++, Java e PROLOG. Uma das principais diferenças, é que as línguas naturais são ambíguas, o que significa que uma determinada sentença pode ter mais de um significado possível e, em alguns casos, o significado correto pode ser muito difícil de determinar. As linguagens formais são quase sempre projetadas para garantir que a ambigüidade não possa ocorrer. Portanto, um determinado programa escrito em C ++ pode ter apenas uma interpretação. Isto é claramente desejável porque, caso contrário, o computador teria que tomar uma decisão arbitrária sobre qual interpretação trabalhar.  \n",
       "6   Linguagens Naturais são as linguagens utilizada por nós humanos para nos comunicarmos. Sua principal diferença com as Linguagens Formais é que a linguagem natural é ambígua, o que significa que uma dada sentença pode ter mais de um significado possível, e em alguns casos o significado correto pode ser muito difícil de determinar. As linguagens formais são quase sempre projetadas para garantir que essa ambiguidade não ocorra, assim o computador não precisa tomar uma decisão arbitrária sobre qual interpretação trabalhar.                                                                                                                                                                                                                             \n",
       "7   As línguas naturais são as línguas usadas pelos humanos para comunicação. Uma das principais diferenças, é que as línguas naturais são ambíguas, o que significa que uma determinada sentença pode ter mais de um significado possível e, em alguns casos, o significado correto pode ser muito difícil de determinar. As linguagens formais são quase sempre projetadas para garantir que a ambiguidade não possa ocorrer.                                                                                                                                                                                                                                                                                                                                              \n",
       "8   NaN                                                                                                                                                                                                                                                                                                                                                                                                                                                                                                                                                                                                                                                                                                                                                                      \n",
       "9   As línguas naturais são as línguas usadas pelos humanos para comunicação (entre outras funções). Eles são distintamente diferentes das linguagens formais, como C ++, Java e PROLOG. Uma das principais diferenças, é que as línguas naturais são ambíguas, o que significa que uma determinada sentença pode ter mais de um significado possível e, em alguns casos, o significado correto pode ser muito difícil de determinar. As linguagens formais são quase sempre projetadas para garantir que a ambigüidade não possa ocorrer. Portanto, um determinado programa escrito em C ++ pode ter apenas uma interpretação. Isto é claramente desejável porque, caso contrário, o computador teria que tomar uma decisão arbitrária sobre qual interpretação trabalhar.  \n",
       "10  São as linguagens usadas para comunicação entre seres humanos. A diferença é que suas regras mudam naturalmente com o tempo, e suas sentenças possuem ambiguidade.                                                                                                                                                                                                                                                                                                                                                                                                                                                                                                                                                                                                       \n",
       "11  São linguagens usadas por humanos para comunicação, elas se diferenciam das formais como c, java etc.                                                                                                                                                                                                                                                                                                                                                                                                                                                                                                                                                                                                                                                                    "
      ]
     },
     "execution_count": 24,
     "metadata": {},
     "output_type": "execute_result"
    }
   ],
   "source": [
    "pd.read_csv(source, sep=';')"
   ]
  },
  {
   "cell_type": "code",
   "execution_count": null,
   "metadata": {},
   "outputs": [],
   "source": []
  }
 ],
 "metadata": {
  "kernelspec": {
   "display_name": "Python 3",
   "language": "python",
   "name": "python3"
  },
  "language_info": {
   "codemirror_mode": {
    "name": "ipython",
    "version": 3
   },
   "file_extension": ".py",
   "mimetype": "text/x-python",
   "name": "python",
   "nbconvert_exporter": "python",
   "pygments_lexer": "ipython3",
   "version": "3.7.3"
  }
 },
 "nbformat": 4,
 "nbformat_minor": 2
}

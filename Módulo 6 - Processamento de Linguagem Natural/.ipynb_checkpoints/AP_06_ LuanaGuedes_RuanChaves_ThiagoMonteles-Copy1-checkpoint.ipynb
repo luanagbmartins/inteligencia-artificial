{
 "cells": [
  {
   "cell_type": "markdown",
   "metadata": {},
   "source": [
    "# **Instituto de Informática - UFG**\n",
    "\n",
    "Disciplina: Inteligência Artificial\n",
    "\n",
    "Prof. Cedric Luiz de Carvalho\n",
    "\n",
    "Grupo ( A )\n",
    "\n",
    "---\n",
    "\n",
    "\n",
    "Aluna(o): Luana Guedes Barros Martins\n",
    "\n",
    "---\n",
    "\n",
    "Aluna(o): Ruan Chaves Rodrigues\n",
    "\n",
    "---\n",
    "\n",
    "Aluna(o): Thiago Monteles de Souza\n",
    "\n",
    "---"
   ]
  },
  {
   "cell_type": "markdown",
   "metadata": {},
   "source": [
    "# Atividade Prática 06 - Processamento de Linguagem Natural\n",
    "\n",
    "Particionamento das atividades:\n",
    "- Luana Guedes Barros Martins: Desenvolvedor\n",
    "- Ruan Chaves Rodrigues: Analista de dados\n",
    "- Thiago Monteles de Souza: Gerente do Projeto"
   ]
  },
  {
   "cell_type": "markdown",
   "metadata": {},
   "source": [
    "## Preparação do Ambiente Virtual"
   ]
  },
  {
   "cell_type": "code",
   "execution_count": 1,
   "metadata": {},
   "outputs": [
    {
     "name": "stdout",
     "output_type": "stream",
     "text": [
      "Requirement already satisfied: spacy in /home/luana/miniconda3/envs/IA/lib/python3.7/site-packages (2.1.8)\n",
      "Requirement already satisfied: requests<3.0.0,>=2.13.0 in /home/luana/miniconda3/envs/IA/lib/python3.7/site-packages (from spacy) (2.22.0)\n",
      "Requirement already satisfied: srsly<1.1.0,>=0.0.6 in /home/luana/miniconda3/envs/IA/lib/python3.7/site-packages (from spacy) (0.0.7)\n",
      "Requirement already satisfied: wasabi<1.1.0,>=0.2.0 in /home/luana/miniconda3/envs/IA/lib/python3.7/site-packages (from spacy) (0.2.2)\n",
      "Requirement already satisfied: preshed<2.1.0,>=2.0.1 in /home/luana/miniconda3/envs/IA/lib/python3.7/site-packages (from spacy) (2.0.1)\n",
      "Requirement already satisfied: plac<1.0.0,>=0.9.6 in /home/luana/miniconda3/envs/IA/lib/python3.7/site-packages (from spacy) (0.9.6)\n",
      "Requirement already satisfied: thinc<7.1.0,>=7.0.8 in /home/luana/miniconda3/envs/IA/lib/python3.7/site-packages (from spacy) (7.0.8)\n",
      "Requirement already satisfied: numpy>=1.15.0 in /home/luana/miniconda3/envs/IA/lib/python3.7/site-packages (from spacy) (1.16.4)\n",
      "Requirement already satisfied: murmurhash<1.1.0,>=0.28.0 in /home/luana/miniconda3/envs/IA/lib/python3.7/site-packages (from spacy) (1.0.2)\n",
      "Requirement already satisfied: cymem<2.1.0,>=2.0.2 in /home/luana/miniconda3/envs/IA/lib/python3.7/site-packages (from spacy) (2.0.2)\n",
      "Requirement already satisfied: blis<0.3.0,>=0.2.2 in /home/luana/miniconda3/envs/IA/lib/python3.7/site-packages (from spacy) (0.2.4)\n",
      "Requirement already satisfied: urllib3!=1.25.0,!=1.25.1,<1.26,>=1.21.1 in /home/luana/miniconda3/envs/IA/lib/python3.7/site-packages (from requests<3.0.0,>=2.13.0->spacy) (1.25.3)\n",
      "Requirement already satisfied: chardet<3.1.0,>=3.0.2 in /home/luana/miniconda3/envs/IA/lib/python3.7/site-packages (from requests<3.0.0,>=2.13.0->spacy) (3.0.4)\n",
      "Requirement already satisfied: certifi>=2017.4.17 in /home/luana/miniconda3/envs/IA/lib/python3.7/site-packages (from requests<3.0.0,>=2.13.0->spacy) (2019.6.16)\n",
      "Requirement already satisfied: idna<2.9,>=2.5 in /home/luana/miniconda3/envs/IA/lib/python3.7/site-packages (from requests<3.0.0,>=2.13.0->spacy) (2.8)\n",
      "Requirement already satisfied: tqdm<5.0.0,>=4.10.0 in /home/luana/miniconda3/envs/IA/lib/python3.7/site-packages (from thinc<7.1.0,>=7.0.8->spacy) (4.33.0)\n"
     ]
    }
   ],
   "source": [
    "!pip install spacy"
   ]
  },
  {
   "cell_type": "code",
   "execution_count": 2,
   "metadata": {},
   "outputs": [
    {
     "name": "stdout",
     "output_type": "stream",
     "text": [
      "Requirement already satisfied: pt_core_news_sm==2.1.0 from https://github.com/explosion/spacy-models/releases/download/pt_core_news_sm-2.1.0/pt_core_news_sm-2.1.0.tar.gz#egg=pt_core_news_sm==2.1.0 in /home/luana/miniconda3/envs/IA/lib/python3.7/site-packages (2.1.0)\n",
      "\u001b[38;5;2m✔ Download and installation successful\u001b[0m\n",
      "You can now load the model via spacy.load('pt_core_news_sm')\n"
     ]
    }
   ],
   "source": [
    "!python -m spacy download pt_core_news_sm"
   ]
  },
  {
   "cell_type": "code",
   "execution_count": 3,
   "metadata": {},
   "outputs": [
    {
     "name": "stdout",
     "output_type": "stream",
     "text": [
      "Requirement already satisfied: gensim in /home/luana/miniconda3/envs/IA/lib/python3.7/site-packages (3.8.0)\n",
      "Requirement already satisfied: smart-open>=1.7.0 in /home/luana/miniconda3/envs/IA/lib/python3.7/site-packages (from gensim) (1.8.4)\n",
      "Requirement already satisfied: six>=1.5.0 in /home/luana/miniconda3/envs/IA/lib/python3.7/site-packages (from gensim) (1.12.0)\n",
      "Requirement already satisfied: scipy>=0.18.1 in /home/luana/miniconda3/envs/IA/lib/python3.7/site-packages (from gensim) (1.3.0)\n",
      "Requirement already satisfied: numpy>=1.11.3 in /home/luana/miniconda3/envs/IA/lib/python3.7/site-packages (from gensim) (1.16.4)\n",
      "Requirement already satisfied: boto3 in /home/luana/miniconda3/envs/IA/lib/python3.7/site-packages (from smart-open>=1.7.0->gensim) (1.9.207)\n",
      "Requirement already satisfied: boto>=2.32 in /home/luana/miniconda3/envs/IA/lib/python3.7/site-packages (from smart-open>=1.7.0->gensim) (2.49.0)\n",
      "Requirement already satisfied: requests in /home/luana/miniconda3/envs/IA/lib/python3.7/site-packages (from smart-open>=1.7.0->gensim) (2.22.0)\n",
      "Requirement already satisfied: botocore<1.13.0,>=1.12.207 in /home/luana/miniconda3/envs/IA/lib/python3.7/site-packages (from boto3->smart-open>=1.7.0->gensim) (1.12.207)\n",
      "Requirement already satisfied: jmespath<1.0.0,>=0.7.1 in /home/luana/miniconda3/envs/IA/lib/python3.7/site-packages (from boto3->smart-open>=1.7.0->gensim) (0.9.4)\n",
      "Requirement already satisfied: s3transfer<0.3.0,>=0.2.0 in /home/luana/miniconda3/envs/IA/lib/python3.7/site-packages (from boto3->smart-open>=1.7.0->gensim) (0.2.1)\n",
      "Requirement already satisfied: urllib3!=1.25.0,!=1.25.1,<1.26,>=1.21.1 in /home/luana/miniconda3/envs/IA/lib/python3.7/site-packages (from requests->smart-open>=1.7.0->gensim) (1.25.3)\n",
      "Requirement already satisfied: idna<2.9,>=2.5 in /home/luana/miniconda3/envs/IA/lib/python3.7/site-packages (from requests->smart-open>=1.7.0->gensim) (2.8)\n",
      "Requirement already satisfied: chardet<3.1.0,>=3.0.2 in /home/luana/miniconda3/envs/IA/lib/python3.7/site-packages (from requests->smart-open>=1.7.0->gensim) (3.0.4)\n",
      "Requirement already satisfied: certifi>=2017.4.17 in /home/luana/miniconda3/envs/IA/lib/python3.7/site-packages (from requests->smart-open>=1.7.0->gensim) (2019.6.16)\n",
      "Requirement already satisfied: python-dateutil<3.0.0,>=2.1; python_version >= \"2.7\" in /home/luana/miniconda3/envs/IA/lib/python3.7/site-packages (from botocore<1.13.0,>=1.12.207->boto3->smart-open>=1.7.0->gensim) (2.8.0)\n",
      "Requirement already satisfied: docutils<0.15,>=0.10 in /home/luana/miniconda3/envs/IA/lib/python3.7/site-packages (from botocore<1.13.0,>=1.12.207->boto3->smart-open>=1.7.0->gensim) (0.14)\n"
     ]
    }
   ],
   "source": [
    "!pip install gensim"
   ]
  },
  {
   "cell_type": "code",
   "execution_count": 4,
   "metadata": {
    "scrolled": true
   },
   "outputs": [
    {
     "name": "stdout",
     "output_type": "stream",
     "text": [
      "Requirement already satisfied: nltk in /home/luana/miniconda3/envs/IA/lib/python3.7/site-packages (3.4.4)\n",
      "Requirement already satisfied: six in /home/luana/miniconda3/envs/IA/lib/python3.7/site-packages (from nltk) (1.12.0)\n"
     ]
    }
   ],
   "source": [
    "!pip install nltk"
   ]
  },
  {
   "cell_type": "code",
   "execution_count": 5,
   "metadata": {},
   "outputs": [],
   "source": [
    "# Imports\n",
    "\n",
    "from collections import defaultdict\n",
    "import numpy as np\n",
    "from collections import Counter\n",
    "\n",
    "import pandas as pd\n",
    "\n",
    "import nltk\n",
    "import spacy \n",
    "from gensim import corpora, models, similarities\n",
    "from gensim.utils import simple_preprocess\n",
    "\n",
    "%matplotlib inline\n",
    "import matplotlib.pyplot as plt\n",
    "plt.rcParams[\"figure.figsize\"] = (20,10)\n",
    "import seaborn as sns"
   ]
  },
  {
   "cell_type": "markdown",
   "metadata": {},
   "source": [
    "## Descrição do Problema\n",
    "\n",
    "Utilizando técnicas de Processamento de Linguagem Natural (PLN), será desenvolvido uma ferramenta que permita a comparação de pequenos textos. Devem ser definidas métricas de comparação que classifique os textos segundo critérios de similaridade.\n",
    "\n",
    "A ferramenta deverá ser aplicada aos Estudos Dirigidos desenvolvidos ao longo do curso de Inteligência Artificial 2019-3. Para cada estudo, deve-se construir uma matriz que mostre a similaridade entre os documentos. Depois, definir um documento de referência e traçar um gráfico de similaridade dos demais em relação a ele."
   ]
  },
  {
   "cell_type": "markdown",
   "metadata": {},
   "source": [
    "## Tratamento dos Dados\n",
    "\n",
    "Dado os arquivos disponibilizados no formato CSV(Comma Separated Values), iremos construir um *corpus*, um conjunto de documentos que servirá como base para análise."
   ]
  },
  {
   "cell_type": "code",
   "execution_count": 6,
   "metadata": {},
   "outputs": [
    {
     "data": {
      "text/plain": [
       "'\\n# Carregar os datasets \"Dados - ED05.csv\", \"Dados - ED08.csv\" e \\n# \"Dados - ED09.csv\"para o ambiente virtual.\\n\\nfrom google.colab import files\\nuploaded = files.upload()\\n'"
      ]
     },
     "execution_count": 6,
     "metadata": {},
     "output_type": "execute_result"
    }
   ],
   "source": [
    "\"\"\"\n",
    "# Carregar os datasets \"Dados - ED05.csv\", \"Dados - ED08.csv\" e \n",
    "# \"Dados - ED09.csv\"para o ambiente virtual.\n",
    "\n",
    "from google.colab import files\n",
    "uploaded = files.upload()\n",
    "\"\"\""
   ]
  },
  {
   "cell_type": "markdown",
   "metadata": {},
   "source": [
    "Para extrair as principais características, uma série de prepações nos dados crus devem ser realizadas:\n",
    "\n",
    "- Geração de tokens: consiste na quebra das sentenças em partes menores para facilitar a análise. Cada token irá corresponder a uma palavra do texto de análise. Para esse processo será utilizado a biblioteca [SpaCy](https://spacy.io/), que é uma biblioteca de PLN que possui algumas funcionalidades básicas como a geração de tokens.\n",
    "- StopWords: *Stop words* são palavras muito comuns em um idioma, como: o, de, uma. Sua remoção ajuda a melhorar a entrada para o modelo. Para isso iremos carregar uma lista de stop words utilizando o pacote Python [NLTK](https://www.nltk.org/).\n",
    "- Lematização: Para resolver o problema de análise de diversos tempos verbais diferentes, analisaremos não o verbo no tempo verbal que ele foi escrito, mas ele em sua raiz. O método do Spacy que realiza esse procedimento é o método .lemma_.\n"
   ]
  },
  {
   "cell_type": "code",
   "execution_count": 7,
   "metadata": {},
   "outputs": [
    {
     "name": "stderr",
     "output_type": "stream",
     "text": [
      "[nltk_data] Downloading package stopwords to /home/luana/nltk_data...\n",
      "[nltk_data]   Package stopwords is already up-to-date!\n"
     ]
    },
    {
     "data": {
      "text/plain": [
       "True"
      ]
     },
     "execution_count": 7,
     "metadata": {},
     "output_type": "execute_result"
    }
   ],
   "source": [
    "nltk.download('stopwords')"
   ]
  },
  {
   "cell_type": "code",
   "execution_count": 8,
   "metadata": {},
   "outputs": [],
   "source": [
    "def preprocess(dataframe):\n",
    "    \n",
    "    # Carrega lista de stop words em português.\n",
    "    stopwords = nltk.corpus.stopwords.words('portuguese')\n",
    "    \n",
    "    # Carrega um modelo de PLN em português do spacy.\n",
    "    nlp = spacy.load(\"pt_core_news_sm\")\n",
    "    \n",
    "    # Carrega o arquivo csv\n",
    "    docs = pd.read_csv(source, sep=\";\").fillna('o').astype(str).values.flatten().tolist()\n",
    "    \n",
    "    # Cria-se uma lista do tipo (aluno-resposta) do documento.\n",
    "    ids = pd.read_csv(source, sep=\";\").fillna('o').values\n",
    "    ids = [ [(idx2, idx) for idx,v in enumerate(v2) ] for idx2,v2 in enumerate(ids) ]\n",
    "    ids = [x for y in ids for x in y ]\n",
    "    \n",
    "    # Retira do documento todas as stopwords e pontuações.\n",
    "    docs = [nlp(x) for x in docs]\n",
    "    docs = [ [ y for y in x if y.is_punct == False and y.text.lower() not in stopwords] for x in docs ]\n",
    "    \n",
    "    # Processo de lematização. \n",
    "    tokens = [ [ y.lemma_ for y in x ] for x in docs ]\n",
    "    \n",
    "    # Quantidade de cada token no documento.\n",
    "    counter = dict(Counter([ x for y in tokens for x in y ]))\n",
    "    \n",
    "    # Retira os tokens com baixo número de ocorrência.\n",
    "    low_freq = [x for x in counter.keys() if counter[x] == 1]\n",
    "    tokens = [ [ x for x in y if x not in low_freq ] for y in tokens ]\n",
    "    \n",
    "    #\n",
    "    token_docs = [ ' '.join(x) for x in tokens ]\n",
    "    \n",
    "    # Encapsula o mapeamento entre palavras normalizadas e seus ids.\n",
    "    mydict = corpora.Dictionary([simple_preprocess(line) for line in token_docs])\n",
    "    \n",
    "    # Converte o documento para o formato bag-of-words(1)\n",
    "    # lista de tuplas do tipo (token_id, token_count)\n",
    "    corpus = [mydict.doc2bow(simple_preprocess(line)) for line in token_docs]\n",
    "    \n",
    "    return {\n",
    "        \"nlp\": docs,\n",
    "        \"corpus\" : corpus,\n",
    "        \"dict\": mydict,\n",
    "        \"tokens\": tokens,\n",
    "        \"ids\" : ids\n",
    "    }"
   ]
  },
  {
   "cell_type": "markdown",
   "metadata": {},
   "source": [
    "$^1$: Documentos no gensim são representados por vetores sparsos chamados de *bag-of-words vectors*."
   ]
  },
  {
   "cell_type": "markdown",
   "metadata": {},
   "source": [
    "## Definição do Modelo\n",
    "\n",
    "Para construir a matriz de similaridade entre os documentos deste trabalho, iremos calcular o valor **TF-IDF** (abreviação do inglês *Term Frenquency - Inverse Document Frequency*, que significa frequência do termo–inverso da frequência nos documentos). \n",
    "\n",
    "O TF_IDF é uma medida estatística que indica a importância de uma palavra de um documento em relação a uma coleção de documentos ou em um *corpus*. \n",
    "\n",
    "Para calcular o valor TF_IDF multiplica-se a frequência de um termo (TF) pela frequência inversa do documento (IDF). \n",
    "- O termo TF mede a frequência de ocorrência de um termo em um documento. Como cada documento é diferente em tamanho, é possível que um termo apareça muito mais vezes em documentos longos do que em documentos mais curtos. Assim, o termo freqüência é freqüentemente dividido pelo tamanho do documento (também conhecido como número total de termos no documento) como forma de normalização.\n",
    "- O termo IDF mede a importância de um termo. Enquanto computa TF, todos os termos são considerados igualmente importantes. No entanto, certos termos, como \"é\", \"de\" e \"aquilo\", podem aparecer muitas vezes, mas têm pouca importância. \n",
    "\n",
    "Assim, temos que:\n",
    "\n",
    "$$tfidf(i, j, D) = tf(i, j) \\cdot idf(i, D)$$\n",
    "\n",
    "ou\n",
    "\n",
    "$$tfidf_{i, j} = frequência_{i, j} * log_2\\frac{D}{frequênciaDocumento_i}$$\n",
    "\n",
    "Sendo que:\n",
    "- $i$ = termo\n",
    "- $j$ = documento\n",
    "- $D$ = Número total de documentos\n",
    "\n",
    "\n",
    "O TF_IDF é calculado com a API [gensim](https://radimrehurek.com/gensim/index.html), utilizando o [models.TfidfModel](https://radimrehurek.com/gensim/models/tfidfmodel.html), onde seus principais métodos são:\n",
    "- Construtor: calcula que calcula contagens de documentos inversas para todos os termos do corpus de treinamento.\n",
    "- Método [ ]: transforma uma simples representação de contagem no espaço TfIdf.\n",
    "\n",
    "\n",
    "Como parâmetro obrigatório, *models.TfidfModel* recebe um *corpus*.\n",
    "\n",
    "\n",
    "Após calcular o valor TF_IDF será então gerado a matriz de similaridade utilizando-se do [similarities.SparseMatrixSimilarity](https://radimrehurek.com/gensim/similarities/docsim.html#gensim.similarities.docsim.SparseMatrixSimilarity), que dado uma lista de documentos no formato *bag-of-words vector*$^1$ calcula a semelhança de cosseno em um corpo de documentos armazenando a matriz de índice na memória."
   ]
  },
  {
   "cell_type": "code",
   "execution_count": 9,
   "metadata": {},
   "outputs": [],
   "source": [
    "def tfidf(preprocess_dict):\n",
    "    \n",
    "    # Pega o corpus do conjunto de dados já processados\n",
    "    corpus = preprocess_dict['corpus']\n",
    "    \n",
    "    # Frequência do documento: quantos documentos possuem tais tokens\n",
    "    mydict = preprocess_dict['dict']\n",
    "    nf = len(mydict.dfs)\n",
    "    \n",
    "    # Transformação entre co-ocorrência de documento-palavra\n",
    "    tfidf = models.TfidfModel(corpus)\n",
    "    \n",
    "    # Matriz de similaridade \n",
    "    index = similarities.SparseMatrixSimilarity(tfidf[corpus], num_features=nf)\n",
    "    \n",
    "    return {\n",
    "        \"model\" : tfidf,\n",
    "        \"index\" : index\n",
    "    }"
   ]
  },
  {
   "cell_type": "markdown",
   "metadata": {},
   "source": [
    "## Resultados\n",
    "\n",
    "Abaixo iremos, para cada documento .csv, comparar o grau de similaridade entre as respostas de cada aluno. Assim conseguiremos traçar quais alunos tiveram respostas parecidas (plágio) com outros alunos.\n",
    "\n",
    "Para a visualização dos resultados, será utilizado um gráfico de heatmap, onde cada linha e cada colunha representa um aluno, e cada célula do gráfico representa o grau de similaridade entre as respostas de um par de aluno. Após a visualização gráfica, será msotrado quais foram as respostas que obtiveram o maior grau de similaridade do documento analisado."
   ]
  },
  {
   "cell_type": "code",
   "execution_count": 10,
   "metadata": {},
   "outputs": [],
   "source": [
    "def get_dataplot(preprocess_dict, model_dict):\n",
    "    corpus = preprocess_dict['corpus']\n",
    "    tfidf = model_dict['model']\n",
    "    index = model_dict['index']\n",
    "    dataplot = []\n",
    "    for item in corpus:\n",
    "        dataplot.append(index[tfidf[item]])\n",
    "    return pd.DataFrame(dataplot)\n",
    "\n",
    "def get_dict(preprocess_dict=None, dataplot=None, threshold=None):\n",
    "    ids = preprocess_dict['ids']\n",
    "    df = dataplot\n",
    "    tmp = df.applymap(lambda x: 'nan' if x < threshold else x)\n",
    "    arr = tmp.values.tolist()\n",
    "    matches = []\n",
    "    \n",
    "    for idx, item in enumerate(arr):\n",
    "        for idx2, item2 in enumerate(item):\n",
    "            if idx != idx2 and arr[idx][idx2] != 'nan':\n",
    "                matches.append([idx, idx2])\n",
    "    pairs = [ [ ids[x][0] for x in y ] for y in matches ]\n",
    "    \n",
    "    dict_pairs = dict(Counter([ tuple(x) for x in pairs ])).items()\n",
    "    \n",
    "    max_val = max([ x[0][0] for x in dict_pairs ])\n",
    "    dataplot = []\n",
    "    for i in range(max_val):\n",
    "        row = []\n",
    "        for j in range(max_val):\n",
    "            if i != j:\n",
    "                for item in dict_pairs:\n",
    "                    if i == item[0][0] and j == item[0][1]:\n",
    "                        row.append(item[1])\n",
    "                        break\n",
    "                else:\n",
    "                    row.append(0)\n",
    "        dataplot.append(row)\n",
    "    return dataplot"
   ]
  },
  {
   "cell_type": "code",
   "execution_count": 11,
   "metadata": {},
   "outputs": [],
   "source": [
    "plt.rcParams[\"figure.figsize\"] = (20,10)"
   ]
  },
  {
   "cell_type": "markdown",
   "metadata": {},
   "source": [
    "### Primeiro Documento"
   ]
  },
  {
   "cell_type": "code",
   "execution_count": 12,
   "metadata": {},
   "outputs": [],
   "source": [
    "source = \"Dados - ED05.csv\"\n",
    "data_dict = preprocess(source)\n",
    "model_dict = tfidf(data_dict)"
   ]
  },
  {
   "cell_type": "code",
   "execution_count": 13,
   "metadata": {},
   "outputs": [
    {
     "data": {
      "text/plain": [
       "<matplotlib.axes._subplots.AxesSubplot at 0x7fe8675a4e10>"
      ]
     },
     "execution_count": 13,
     "metadata": {},
     "output_type": "execute_result"
    },
    {
     "data": {
      "image/png": "[encoded data removed]",
      "text/plain": [
       "<Figure size 1440x720 with 2 Axes>"
      ]
     },
     "metadata": {
      "needs_background": "light"
     },
     "output_type": "display_data"
    }
   ],
   "source": [
    "dataplot = get_dict(preprocess_dict=data_dict, \n",
    "                    dataplot=get_dataplot(data_dict, model_dict), \n",
    "                    threshold=0.9)\n",
    "\n",
    "mask = np.zeros_like(dataplot, dtype=np.bool)\n",
    "mask[np.triu_indices_from(mask)] = True\n",
    "\n",
    "sns.heatmap(data=pd.DataFrame(dataplot), mask=mask, cmap='Blues', annot=True)"
   ]
  },
  {
   "cell_type": "code",
   "execution_count": 14,
   "metadata": {
    "scrolled": true
   },
   "outputs": [
    {
     "data": {
      "text/html": [
       "<div>\n",
       "<style scoped>\n",
       "    .dataframe tbody tr th:only-of-type {\n",
       "        vertical-align: middle;\n",
       "    }\n",
       "\n",
       "    .dataframe tbody tr th {\n",
       "        vertical-align: top;\n",
       "    }\n",
       "\n",
       "    .dataframe thead th {\n",
       "        text-align: right;\n",
       "    }\n",
       "</style>\n",
       "<table border=\"1\" class=\"dataframe\">\n",
       "  <thead>\n",
       "    <tr style=\"text-align: right;\">\n",
       "      <th></th>\n",
       "      <th>9</th>\n",
       "      <th>4</th>\n",
       "    </tr>\n",
       "  </thead>\n",
       "  <tbody>\n",
       "    <tr>\n",
       "      <th>Resposta 22</th>\n",
       "      <td>A principal limitação das redes de uma camada, como as redes perceptron e adaline, é que elas conseguem classificar apenas objetos que são linearmente separáveis.</td>\n",
       "      <td>A principal limitação das redes de uma camada, como as redes perceptron e adaline, é que elas conseguem classificar apenas objetos que são linearmente separáveis.</td>\n",
       "    </tr>\n",
       "    <tr>\n",
       "      <th>Resposta 21</th>\n",
       "      <td>As redes adeline são comumente aplicadas em problemas supervisionados de regressão. Em problemas de classificação, as saídas dos neurônios devem, ser discretizadas. As redes perceptron, por outro lado, foram propostas para a solução de problemas de classificação.</td>\n",
       "      <td>As redes adeline são comumente aplicadas em problemas supervisionados de regressão. Em problemas de classificação, as saídas dos neurônios devem, ser discretizadas. As redes perceptron, por outro lado, foram propostas para a solução de problemas de classificação.</td>\n",
       "    </tr>\n",
       "    <tr>\n",
       "      <th>Resposta 4</th>\n",
       "      <td>O contato entre a terminação de um axônio e o dendrito de outro neurônio é denominado sinapse. As sinapses são as unidades que medeiam as interações entre os neurônios e podem ser excitatórias ou inibitórias.</td>\n",
       "      <td>O contato entre a terminação de um axônio e o dendrito de outro neurônio é denominado sinapse. As sinapses são as unidades que medeiam as interações entre os neurônios e podem ser excitatórias ou inibitórias.</td>\n",
       "    </tr>\n",
       "    <tr>\n",
       "      <th>Resposta 31</th>\n",
       "      <td>O algoritmo back-propagation é baseado na regra delta utilizada na rede adaline, e também é conhecido como regra delta generalizada. Ele é constituído da iteração de duas fases, uma forward e outra backward. Na fase forward, cada objeto de entrada é apresentado À rede Já na fase backward o valor do erro de cada neurônio da camada de saída é utilizado para ajustar seus pesos de entrada. O ajuste prossegue da camada de saída até a primeira camada intermediária</td>\n",
       "      <td>O algoritmo back-propagation é baseado na regra delta utilizada na rede adaline, e também é conhecido como regra delta generalizada. Ele é constituído da iteração de duas fases, uma forward e outra backward. Na fase forward, cada objeto de entrada é apresentado À rede Já na fase backward o valor do erro de cada neurônio da camada de saída é utilizado para ajustar seus pesos de entrada. O ajuste prossegue da camada de saída até a primeira camada intermediária.</td>\n",
       "    </tr>\n",
       "    <tr>\n",
       "      <th>Resposta 12</th>\n",
       "      <td>Além do grau de conectividade, as RNAs podem apresentar ou não conexões de retroalimentação, ou feedback. As conexões de retroalimentação permitem que um neurônio receba em seus terminais de entrada e saída de um neurônio da mesma camada ou de uma camada posterior. O neurônio pode inclusive receber sua própria saída em um de seus terminais de entrada. As redes que contém este tipo de conexão são denominadas redes com retropropagação, conhecidas como redes recorrentes.</td>\n",
       "      <td>Além do grau de conectividade, as RNAs podem apresentar ou não conexões de retroalimentação, ou feedback. As conexões de retroalimentação permitem que um neurônio receba em seus terminais de entrada e saída de um neurônio da mesma camada ou de uma camada posterior. O neurônio pode inclusive receber sua própria saída em um de seus terminais de entrada. As redes que contém este tipo de conexão são denominadas redes com retropropagação, conhecidas como redes recorrentes.</td>\n",
       "    </tr>\n",
       "  </tbody>\n",
       "</table>\n",
       "</div>"
      ],
      "text/plain": [
       "                                                                                                                                                                                                                                                                                                                                                                                                                                                                                                    9  \\\n",
       "Resposta 22  A principal limitação das redes de uma camada, como as redes perceptron e adaline, é que elas conseguem classificar apenas objetos que são linearmente separáveis.                                                                                                                                                                                                                                                                                                                         \n",
       "Resposta 21  As redes adeline são comumente aplicadas em problemas supervisionados de regressão. Em problemas de classificação, as saídas dos neurônios devem, ser discretizadas. As redes perceptron, por outro lado, foram propostas para a solução de problemas de classificação.                                                                                                                                                                                                                    \n",
       "Resposta 4   O contato entre a terminação de um axônio e o dendrito de outro neurônio é denominado sinapse. As sinapses são as unidades que medeiam as interações entre os neurônios e podem ser excitatórias ou inibitórias.                                                                                                                                                                                                                                                                           \n",
       "Resposta 31  O algoritmo back-propagation é baseado na regra delta utilizada na rede adaline, e também é conhecido como regra delta generalizada. Ele é constituído da iteração de duas fases, uma forward e outra backward. Na fase forward, cada objeto de entrada é apresentado À rede Já na fase backward o valor do erro de cada neurônio da camada de saída é utilizado para ajustar seus pesos de entrada. O ajuste prossegue da camada de saída até a primeira camada intermediária             \n",
       "Resposta 12  Além do grau de conectividade, as RNAs podem apresentar ou não conexões de retroalimentação, ou feedback. As conexões de retroalimentação permitem que um neurônio receba em seus terminais de entrada e saída de um neurônio da mesma camada ou de uma camada posterior. O neurônio pode inclusive receber sua própria saída em um de seus terminais de entrada. As redes que contém este tipo de conexão são denominadas redes com retropropagação, conhecidas como redes recorrentes.   \n",
       "\n",
       "                                                                                                                                                                                                                                                                                                                                                                                                                                                                                                    4  \n",
       "Resposta 22  A principal limitação das redes de uma camada, como as redes perceptron e adaline, é que elas conseguem classificar apenas objetos que são linearmente separáveis.                                                                                                                                                                                                                                                                                                                        \n",
       "Resposta 21  As redes adeline são comumente aplicadas em problemas supervisionados de regressão. Em problemas de classificação, as saídas dos neurônios devem, ser discretizadas. As redes perceptron, por outro lado, foram propostas para a solução de problemas de classificação.                                                                                                                                                                                                                   \n",
       "Resposta 4   O contato entre a terminação de um axônio e o dendrito de outro neurônio é denominado sinapse. As sinapses são as unidades que medeiam as interações entre os neurônios e podem ser excitatórias ou inibitórias.                                                                                                                                                                                                                                                                          \n",
       "Resposta 31  O algoritmo back-propagation é baseado na regra delta utilizada na rede adaline, e também é conhecido como regra delta generalizada. Ele é constituído da iteração de duas fases, uma forward e outra backward. Na fase forward, cada objeto de entrada é apresentado À rede Já na fase backward o valor do erro de cada neurônio da camada de saída é utilizado para ajustar seus pesos de entrada. O ajuste prossegue da camada de saída até a primeira camada intermediária.           \n",
       "Resposta 12  Além do grau de conectividade, as RNAs podem apresentar ou não conexões de retroalimentação, ou feedback. As conexões de retroalimentação permitem que um neurônio receba em seus terminais de entrada e saída de um neurônio da mesma camada ou de uma camada posterior. O neurônio pode inclusive receber sua própria saída em um de seus terminais de entrada. As redes que contém este tipo de conexão são denominadas redes com retropropagação, conhecidas como redes recorrentes.  "
      ]
     },
     "execution_count": 14,
     "metadata": {},
     "output_type": "execute_result"
    }
   ],
   "source": [
    "pd.set_option('display.max_colwidth', -1)\n",
    "pd.read_csv(source, sep=\";\").iloc[[9,4]].transpose().sample(5)"
   ]
  },
  {
   "cell_type": "markdown",
   "metadata": {},
   "source": [
    "### Segundo Documento"
   ]
  },
  {
   "cell_type": "code",
   "execution_count": 15,
   "metadata": {},
   "outputs": [],
   "source": [
    "source = \"Dados - ED08.csv\"\n",
    "data_dict = preprocess(source)\n",
    "model_dict = tfidf(data_dict)"
   ]
  },
  {
   "cell_type": "code",
   "execution_count": 16,
   "metadata": {},
   "outputs": [
    {
     "data": {
      "text/plain": [
       "<matplotlib.axes._subplots.AxesSubplot at 0x7fe8631c3208>"
      ]
     },
     "execution_count": 16,
     "metadata": {},
     "output_type": "execute_result"
    },
    {
     "data": {
      "image/png": "[encoded data removed]",
      "text/plain": [
       "<Figure size 1440x720 with 2 Axes>"
      ]
     },
     "metadata": {
      "needs_background": "light"
     },
     "output_type": "display_data"
    }
   ],
   "source": [
    "dataplot = get_dict(preprocess_dict=data_dict, \n",
    "                    dataplot=get_dataplot(data_dict, model_dict), \n",
    "                    threshold=0.9)\n",
    "\n",
    "mask = np.zeros_like(dataplot, dtype=np.bool)\n",
    "mask[np.triu_indices_from(mask)] = True\n",
    "\n",
    "sns.heatmap(data=pd.DataFrame(dataplot), mask=mask, cmap='Blues', annot=True)"
   ]
  },
  {
   "cell_type": "code",
   "execution_count": 17,
   "metadata": {},
   "outputs": [
    {
     "data": {
      "text/html": [
       "<div>\n",
       "<style scoped>\n",
       "    .dataframe tbody tr th:only-of-type {\n",
       "        vertical-align: middle;\n",
       "    }\n",
       "\n",
       "    .dataframe tbody tr th {\n",
       "        vertical-align: top;\n",
       "    }\n",
       "\n",
       "    .dataframe thead th {\n",
       "        text-align: right;\n",
       "    }\n",
       "</style>\n",
       "<table border=\"1\" class=\"dataframe\">\n",
       "  <thead>\n",
       "    <tr style=\"text-align: right;\">\n",
       "      <th></th>\n",
       "      <th>3</th>\n",
       "      <th>1</th>\n",
       "    </tr>\n",
       "  </thead>\n",
       "  <tbody>\n",
       "    <tr>\n",
       "      <th>Resposta 14</th>\n",
       "      <td>OS ALGORITMOS GENÉTICOS FUNCIONAM BEM QUANDO UM PEQUENO GRUPO DE GENES QUE ESTÃO PRÓXIMOS REPRESENTAM UMA CARACTERÍSTICA QUE CONTRIBUI PARA A ADEQUAÇÃO DE UM CROMOSSOMO. PORTANTO, A REPRESENTAÇÃO ESCOLHIDA PARA ALGORITMOS GENÉTICOS É MUITO IMPORTANTE. A SELEÇÃO ALEATÓRIA DE BITS PARA REPRESENTAR RECURSOS ESPECÍFICOS DE UMA SOLUÇÃO NÃO É SUFICIENTE. OS BITS DEVEM SER ESCOLHIDOS DE FORMA A SE AGRUPAREM NATURALMENTE EM BLOCOS DE CONSTRUÇÃO, QUE OS ALGORITMOS GENÉTICOS SÃO PROJETADOS PARA MANIPULAR.</td>\n",
       "      <td>OS ALGORITMOS GENÉTICOS FUNCIONAM BEM QUANDO UM PEQUENO GRUPO DE GENES QUE ESTÃO PRÓXIMOS REPRESENTAM UMA CARACTERÍSTICA QUE CONTRIBUI PARA A ADEQUAÇÃO DE UM CROMOSSOMO. PORTANTO, A REPRESENTAÇÃO ESCOLHIDA PARA ALGORITMOS GENÉTICOS É MUITO IMPORTANTE. A SELEÇÃO ALEATÓRIA DE BITS PARA REPRESENTAR RECURSOS ESPECÍFICOS DE UMA SOLUÇÃO NÃO É SUFICIENTE. OS BITS DEVEM SER ESCOLHIDOS DE FORMA A SE AGRUPAREM NATURALMENTE EM BLOCOS DE CONSTRUÇÃO, QUE OS ALGORITMOS GENÉTICOS SÃO PROJETADOS PARA MANIPULAR.</td>\n",
       "    </tr>\n",
       "    <tr>\n",
       "      <th>Resposta 11</th>\n",
       "      <td>TANTO A MUTAÇÃO COMO O CROSSOVER PODEM DESTRUIR A PRESENÇA DE UM ESQUEMA. EM OUTRAS PALAVRAS, MUTAÇÃO E CROSSOVER SÃO CAPAZES DE REDUZIR O NÚMERO DE OCORRÊNCIAS DE UM ESQUEMA PARTICULAR EM UMA POPULAÇÃO DE CROMOSSOMOS. ELES TAMBÉM SÃO CAPAZES DE AUMENTAR O NÚMERO DE OCORRÊNCIAS DE UM DADO ESQUEMA.</td>\n",
       "      <td>TANTO A MUTAÇÃO COMO O CROSSOVER PODEM DESTRUIR A PRESENÇA DE UM ESQUEMA. EM OUTRAS PALAVRAS, MUTAÇÃO E CROSSOVER SÃO CAPAZES DE REDUZIR O NÚMERO DE OCORRÊNCIAS DE UM ESQUEMA PARTICULAR EM UMA POPULAÇÃO DE CROMOSSOMOS. ELES TAMBÉM SÃO CAPAZES DE AUMENTAR O NÚMERO DE OCORRÊNCIAS DE UM DADO ESQUEMA.</td>\n",
       "    </tr>\n",
       "    <tr>\n",
       "      <th>Resposta 5</th>\n",
       "      <td>O crossover é o cruzamento entre cromossomos de uma mesma geração. O operador de crossover é aplicado a dois cromossomos com o mesmo comprimento da seguinte forma:\\n\\n1. Selecione um ponto de cruzamento aleatório.\\n\\n2. Quebre cada cromossomo em duas partes, dividindo-o no ponto de cruzamento.3. Recombine os cromossomos quebrados combinando o início de um com o final do outro, e vice-versa, para produzir dois novos cromossomos.</td>\n",
       "      <td>O crossover é o cruzamento entre cromossomos de uma mesma geração. O operador de crossover é aplicado a dois cromossomos com o mesmo comprimento da seguinte forma:\\n\\n1. Selecione um ponto de cruzamento aleatório.\\n\\n2. Quebre cada cromossomo em duas partes, dividindo-o no ponto de cruzamento.\\n\\n3. Recombine os cromossomos quebrados combinando a frente de um com as costas do outro, e vice-versa, para produzir dois novos\\n\\ncromossomos.</td>\n",
       "    </tr>\n",
       "    <tr>\n",
       "      <th>Resposta 6</th>\n",
       "      <td>O crossover de um ponto define apenas um ponto de divisão no cromossomo, podendo no sexto ou sétimo gene, depois pegar a parte maior e cruza com outro cromossomo que fez este mesmo processo. \\n\\nNo cruzamento de dois pontos, dois pontos são escolhidos que dividem os cromossomos em duas seções, com as seções externas consideradas unidas para transformar o cromossomo em um anel. \\n\\nOutra forma de cruzamento é crossover uniforme. Aqui, uma probabilidade, p, é usada para determinar se um dado bit do pai 1 será usado, ou do pai 2. Em outras palavras, um filho pode receber quaisquer bits aleatórios de cada um de seus pais.</td>\n",
       "      <td>O crossover de um ponto define apenas um ponto de divisão no cromossomo, podendo no sexto ou sétimo gene, depois pegar a parte maior e cruza com outro cromossomo que fez este mesmo processo. \\n\\nNo cruzamento de dois pontos, dois pontos são escolhidos que dividem os cromossomos em duas seções, com as seções externas consideradas unidas para transformar o cromossomo em um anel. \\n\\nOutra forma de cruzamento é crossover uniforme. Aqui, uma probabilidade, p, é usada para determinar se um dado bit do pai 1 será usado, ou do pai 2. Em outras palavras, um filho pode receber quaisquer bits aleatórios de cada um de seus pais.</td>\n",
       "    </tr>\n",
       "    <tr>\n",
       "      <th>Resposta 10</th>\n",
       "      <td>Um esquema é uma cadeia de bits que representa um possível cromossomo, usando * para representar “qualquer valor”. Por exemplo, o seguinte esquema:\\n\\n* 11\\n\\ncorresponde aos seguintes dois cromossomos:\\n\\n111\\n\\n011</td>\n",
       "      <td>Um esquema é uma cadeia de bits que representa um possível cromossomo, usando * para representar “qualquer valor”. Por exemplo, o seguinte esquema:\\n\\n* 11 *\\n\\ncorresponde aos seguintes quatro cromossomas:\\n\\n0110\\n\\n0111\\n\\n1110\\n\\n1111</td>\n",
       "    </tr>\n",
       "  </tbody>\n",
       "</table>\n",
       "</div>"
      ],
      "text/plain": [
       "                                                                                                                                                                                                                                                                                                                                                                                                                                                                                                                                                                                                                                                             3  \\\n",
       "Resposta 14  OS ALGORITMOS GENÉTICOS FUNCIONAM BEM QUANDO UM PEQUENO GRUPO DE GENES QUE ESTÃO PRÓXIMOS REPRESENTAM UMA CARACTERÍSTICA QUE CONTRIBUI PARA A ADEQUAÇÃO DE UM CROMOSSOMO. PORTANTO, A REPRESENTAÇÃO ESCOLHIDA PARA ALGORITMOS GENÉTICOS É MUITO IMPORTANTE. A SELEÇÃO ALEATÓRIA DE BITS PARA REPRESENTAR RECURSOS ESPECÍFICOS DE UMA SOLUÇÃO NÃO É SUFICIENTE. OS BITS DEVEM SER ESCOLHIDOS DE FORMA A SE AGRUPAREM NATURALMENTE EM BLOCOS DE CONSTRUÇÃO, QUE OS ALGORITMOS GENÉTICOS SÃO PROJETADOS PARA MANIPULAR.                                                                                                                                \n",
       "Resposta 11  TANTO A MUTAÇÃO COMO O CROSSOVER PODEM DESTRUIR A PRESENÇA DE UM ESQUEMA. EM OUTRAS PALAVRAS, MUTAÇÃO E CROSSOVER SÃO CAPAZES DE REDUZIR O NÚMERO DE OCORRÊNCIAS DE UM ESQUEMA PARTICULAR EM UMA POPULAÇÃO DE CROMOSSOMOS. ELES TAMBÉM SÃO CAPAZES DE AUMENTAR O NÚMERO DE OCORRÊNCIAS DE UM DADO ESQUEMA.                                                                                                                                                                                                                                                                                                                                          \n",
       "Resposta 5   O crossover é o cruzamento entre cromossomos de uma mesma geração. O operador de crossover é aplicado a dois cromossomos com o mesmo comprimento da seguinte forma:\\n\\n1. Selecione um ponto de cruzamento aleatório.\\n\\n2. Quebre cada cromossomo em duas partes, dividindo-o no ponto de cruzamento.3. Recombine os cromossomos quebrados combinando o início de um com o final do outro, e vice-versa, para produzir dois novos cromossomos.                                                                                                                                                                                                     \n",
       "Resposta 6   O crossover de um ponto define apenas um ponto de divisão no cromossomo, podendo no sexto ou sétimo gene, depois pegar a parte maior e cruza com outro cromossomo que fez este mesmo processo. \\n\\nNo cruzamento de dois pontos, dois pontos são escolhidos que dividem os cromossomos em duas seções, com as seções externas consideradas unidas para transformar o cromossomo em um anel. \\n\\nOutra forma de cruzamento é crossover uniforme. Aqui, uma probabilidade, p, é usada para determinar se um dado bit do pai 1 será usado, ou do pai 2. Em outras palavras, um filho pode receber quaisquer bits aleatórios de cada um de seus pais.   \n",
       "Resposta 10  Um esquema é uma cadeia de bits que representa um possível cromossomo, usando * para representar “qualquer valor”. Por exemplo, o seguinte esquema:\\n\\n* 11\\n\\ncorresponde aos seguintes dois cromossomos:\\n\\n111\\n\\n011                                                                                                                                                                                                                                                                                                                                                                                                                            \n",
       "\n",
       "                                                                                                                                                                                                                                                                                                                                                                                                                                                                                                                                                                                                                                                             1  \n",
       "Resposta 14  OS ALGORITMOS GENÉTICOS FUNCIONAM BEM QUANDO UM PEQUENO GRUPO DE GENES QUE ESTÃO PRÓXIMOS REPRESENTAM UMA CARACTERÍSTICA QUE CONTRIBUI PARA A ADEQUAÇÃO DE UM CROMOSSOMO. PORTANTO, A REPRESENTAÇÃO ESCOLHIDA PARA ALGORITMOS GENÉTICOS É MUITO IMPORTANTE. A SELEÇÃO ALEATÓRIA DE BITS PARA REPRESENTAR RECURSOS ESPECÍFICOS DE UMA SOLUÇÃO NÃO É SUFICIENTE. OS BITS DEVEM SER ESCOLHIDOS DE FORMA A SE AGRUPAREM NATURALMENTE EM BLOCOS DE CONSTRUÇÃO, QUE OS ALGORITMOS GENÉTICOS SÃO PROJETADOS PARA MANIPULAR.                                                                                                                               \n",
       "Resposta 11  TANTO A MUTAÇÃO COMO O CROSSOVER PODEM DESTRUIR A PRESENÇA DE UM ESQUEMA. EM OUTRAS PALAVRAS, MUTAÇÃO E CROSSOVER SÃO CAPAZES DE REDUZIR O NÚMERO DE OCORRÊNCIAS DE UM ESQUEMA PARTICULAR EM UMA POPULAÇÃO DE CROMOSSOMOS. ELES TAMBÉM SÃO CAPAZES DE AUMENTAR O NÚMERO DE OCORRÊNCIAS DE UM DADO ESQUEMA.                                                                                                                                                                                                                                                                                                                                         \n",
       "Resposta 5   O crossover é o cruzamento entre cromossomos de uma mesma geração. O operador de crossover é aplicado a dois cromossomos com o mesmo comprimento da seguinte forma:\\n\\n1. Selecione um ponto de cruzamento aleatório.\\n\\n2. Quebre cada cromossomo em duas partes, dividindo-o no ponto de cruzamento.\\n\\n3. Recombine os cromossomos quebrados combinando a frente de um com as costas do outro, e vice-versa, para produzir dois novos\\n\\ncromossomos.                                                                                                                                                                                           \n",
       "Resposta 6   O crossover de um ponto define apenas um ponto de divisão no cromossomo, podendo no sexto ou sétimo gene, depois pegar a parte maior e cruza com outro cromossomo que fez este mesmo processo. \\n\\nNo cruzamento de dois pontos, dois pontos são escolhidos que dividem os cromossomos em duas seções, com as seções externas consideradas unidas para transformar o cromossomo em um anel. \\n\\nOutra forma de cruzamento é crossover uniforme. Aqui, uma probabilidade, p, é usada para determinar se um dado bit do pai 1 será usado, ou do pai 2. Em outras palavras, um filho pode receber quaisquer bits aleatórios de cada um de seus pais.  \n",
       "Resposta 10  Um esquema é uma cadeia de bits que representa um possível cromossomo, usando * para representar “qualquer valor”. Por exemplo, o seguinte esquema:\\n\\n* 11 *\\n\\ncorresponde aos seguintes quatro cromossomas:\\n\\n0110\\n\\n0111\\n\\n1110\\n\\n1111                                                                                                                                                                                                                                                                                                                                                                                                     "
      ]
     },
     "execution_count": 17,
     "metadata": {},
     "output_type": "execute_result"
    }
   ],
   "source": [
    "pd.set_option('display.max_colwidth', -1)\n",
    "pd.read_csv(source, sep=\";\").iloc[[3,1]].transpose().sample(5)"
   ]
  },
  {
   "cell_type": "markdown",
   "metadata": {},
   "source": [
    "### Terceiro Documento"
   ]
  },
  {
   "cell_type": "code",
   "execution_count": 18,
   "metadata": {},
   "outputs": [],
   "source": [
    "source = \"Dados- ED09.csv\"\n",
    "data_dict = preprocess(source)\n",
    "model_dict = tfidf(data_dict)"
   ]
  },
  {
   "cell_type": "code",
   "execution_count": 19,
   "metadata": {},
   "outputs": [
    {
     "data": {
      "text/plain": [
       "<matplotlib.axes._subplots.AxesSubplot at 0x7fe863035860>"
      ]
     },
     "execution_count": 19,
     "metadata": {},
     "output_type": "execute_result"
    },
    {
     "data": {
      "image/png": "[encoded data removed]",
      "text/plain": [
       "<Figure size 1440x720 with 2 Axes>"
      ]
     },
     "metadata": {
      "needs_background": "light"
     },
     "output_type": "display_data"
    }
   ],
   "source": [
    "dataplot = get_dict(preprocess_dict=data_dict, \n",
    "                    dataplot=get_dataplot(data_dict, model_dict), \n",
    "                    threshold=0.9)\n",
    "\n",
    "mask = np.zeros_like(dataplot, dtype=np.bool)\n",
    "mask[np.triu_indices_from(mask)] = True\n",
    "\n",
    "sns.heatmap(data=pd.DataFrame(dataplot), mask=mask, cmap='Blues', annot=True)"
   ]
  },
  {
   "cell_type": "code",
   "execution_count": 20,
   "metadata": {},
   "outputs": [
    {
     "data": {
      "text/html": [
       "<div>\n",
       "<style scoped>\n",
       "    .dataframe tbody tr th:only-of-type {\n",
       "        vertical-align: middle;\n",
       "    }\n",
       "\n",
       "    .dataframe tbody tr th {\n",
       "        vertical-align: top;\n",
       "    }\n",
       "\n",
       "    .dataframe thead th {\n",
       "        text-align: right;\n",
       "    }\n",
       "</style>\n",
       "<table border=\"1\" class=\"dataframe\">\n",
       "  <thead>\n",
       "    <tr style=\"text-align: right;\">\n",
       "      <th></th>\n",
       "      <th>9</th>\n",
       "      <th>5</th>\n",
       "    </tr>\n",
       "  </thead>\n",
       "  <tbody>\n",
       "    <tr>\n",
       "      <th>Resposta 32</th>\n",
       "      <td>Os sistemas de tradução automática foram desenvolvidos, mas atualmente os melhores resultados que podem alcançar são inadequados para a maioria dos usos. Uma maneira pela qual eles podem ser usados é em combinação com um tradutor humano. A máquina é capaz de fornecer uma tradução aproximada, e o ser humano então arruma o texto resultante, assegurando que as ambiguidades tenham sido tratadas corretamente e que o texto traduzido pareça natural, além de gramaticalmente correto.</td>\n",
       "      <td>O processo pelo qual um sistema de processamento de linguagem natural determina qual significado é pretendido por um enunciado ambíguo é conhecido como desambiguação. A desambiguação pode ser feita de várias maneiras. Uma das formas mais eficazes de superar muitas formas de ambiguidade é usar probabilidade. Isso pode ser feito usando probabilidades anteriores ou probabilidades condicionais. A probabilidade anterior pode ser usada para dizer ao sistema que a palavra bat quase sempre significa uma peça de equipamento esportivo. Probabilidade condicional diria que quando a palavra bat é usada por um fã de esportes, é provável que este seja o caso, mas que quando é falado por um naturalista é mais provável que seja um mamífero alado.</td>\n",
       "    </tr>\n",
       "    <tr>\n",
       "      <th>Resposta 19</th>\n",
       "      <td>As árvores de análise podem ser construídas de baixo para cima ou de cima para baixo. Construir uma árvore de análise de cima para baixo envolve começar de uma sentença e determinar quais das possíveis reescritas para Sentença podem ser aplicadas à sentença que está sendo usada. analisado.</td>\n",
       "      <td>As árvores de análise podem ser construídas de baixo para cima ou de cima para baixo. Construir uma árvore de análise de cima para baixo envolve começar de uma sentença e determinar quais das possíveis reescritas para Sentença podem ser aplicadas à sentença que está sendo usada. analisado.</td>\n",
       "    </tr>\n",
       "    <tr>\n",
       "      <th>Resposta 22</th>\n",
       "      <td>Uma rede de transição aumentada, ou ATN, é uma versão estendida de uma rede de transição. Os ATNs têm a capacidade de aplicar testes a arcos, por exemplo, para garantir o acordo com o número. Assim, um ATN para sentença seria como mostrado na Figura 20.2, mas o arco do nó S2 para S3 seria condicional no número do verbo que é o mesmo que o número para o substantivo. Assim, se a frase substantiva fosse três cães e a frase verbal fosse azul, a ATN não seria capaz de seguir o arco do nó S2 para S3 porque o número da frase nominal (plural) não corresponde ao número do verbo frase (singular). Em idiomas como o francês, verifica o sexo também seria necessário.</td>\n",
       "      <td>Uma rede de transição aumentada, ou ATN, é uma versão estendida de uma rede de transição. Os ATNs têm a capacidade de aplicar testes a arcos, por exemplo, para garantir o acordo com o número. Assim, um ATN para sentença seria como mostrado na Figura 20.2, mas o arco do nó S2 para S3 seria condicional no número do verbo que é o mesmo que o número para o substantivo. Assim, se a frase substantiva fosse três cães e a frase verbal fosse azul, a ATN não seria capaz de seguir o arco do nó S2 para S3 porque o número da frase nominal (plural) não corresponde ao número do verbo frase (singular). Em idiomas como o francês, verifica o sexo também seria necessário.</td>\n",
       "    </tr>\n",
       "    <tr>\n",
       "      <th>Resposta 33</th>\n",
       "      <td>O algoritmo de conhecimento é um método comumente usado para identificação de linguagem que usa n-gramas. Um n-grama é simplesmente uma coleção de n letras, mas existem estatísticas detalhadas que indicam a probabilidade de um determinado conjunto de letras ocorrer em qualquer idioma. Assim, por exemplo, o trigrama, e, o, ent e form provavelmente indicam que um documento está em inglês. Quando o algoritmo de conhecimento é apresentado com texto suficiente (geralmente algumas centenas a mil palavras é suficiente), ele é capaz de identificar a linguagem com um grau surpreendentemente alto de precisão.</td>\n",
       "      <td>Os sistemas de tradução automática foram desenvolvidos, mas atualmente os melhores resultados que podem alcançar são inadequados para a maioria dos usos. Uma maneira pela qual eles podem ser usados ​​é em combinação com um tradutor humano. A máquina é capaz de fornecer uma tradução aproximada, e o ser humano então arruma o texto resultante, assegurando que as ambiguidades tenham sido tratadas corretamente e que o texto traduzido pareça natural, além de gramaticalmente correto.</td>\n",
       "    </tr>\n",
       "    <tr>\n",
       "      <th>Resposta 30</th>\n",
       "      <td>Uma ambigüidade local ocorre quando uma parte de uma sentença é ambígua; no entanto, quando toda a sentença é examinada, a ambiguidade é resolvida. Por exemplo, na frase Há rios mais longos que o Tâmisa, a frase rios mais longos é ambígua até lermos o resto da sentença, do que o Tâmisa.</td>\n",
       "      <td>A ambiguidade referencial ocorre quando usamos expressões anafóricas ou pronomes para nos referirmos a objetos que já foram discutidos. Uma anáfora ocorre quando uma palavra ou frase é usada para se referir a algo sem nomeá-lo.</td>\n",
       "    </tr>\n",
       "  </tbody>\n",
       "</table>\n",
       "</div>"
      ],
      "text/plain": [
       "                                                                                                                                                                                                                                                                                                                                                                                                                                                                                                                                                                                                                                                                                                 9  \\\n",
       "Resposta 32  Os sistemas de tradução automática foram desenvolvidos, mas atualmente os melhores resultados que podem alcançar são inadequados para a maioria dos usos. Uma maneira pela qual eles podem ser usados é em combinação com um tradutor humano. A máquina é capaz de fornecer uma tradução aproximada, e o ser humano então arruma o texto resultante, assegurando que as ambiguidades tenham sido tratadas corretamente e que o texto traduzido pareça natural, além de gramaticalmente correto.                                                                                                                                                                                         \n",
       "Resposta 19  As árvores de análise podem ser construídas de baixo para cima ou de cima para baixo. Construir uma árvore de análise de cima para baixo envolve começar de uma sentença e determinar quais das possíveis reescritas para Sentença podem ser aplicadas à sentença que está sendo usada. analisado.                                                                                                                                                                                                                                                                                                                                                                                      \n",
       "Resposta 22  Uma rede de transição aumentada, ou ATN, é uma versão estendida de uma rede de transição. Os ATNs têm a capacidade de aplicar testes a arcos, por exemplo, para garantir o acordo com o número. Assim, um ATN para sentença seria como mostrado na Figura 20.2, mas o arco do nó S2 para S3 seria condicional no número do verbo que é o mesmo que o número para o substantivo. Assim, se a frase substantiva fosse três cães e a frase verbal fosse azul, a ATN não seria capaz de seguir o arco do nó S2 para S3 porque o número da frase nominal (plural) não corresponde ao número do verbo frase (singular). Em idiomas como o francês, verifica o sexo também seria necessário.   \n",
       "Resposta 33  O algoritmo de conhecimento é um método comumente usado para identificação de linguagem que usa n-gramas. Um n-grama é simplesmente uma coleção de n letras, mas existem estatísticas detalhadas que indicam a probabilidade de um determinado conjunto de letras ocorrer em qualquer idioma. Assim, por exemplo, o trigrama, e, o, ent e form provavelmente indicam que um documento está em inglês. Quando o algoritmo de conhecimento é apresentado com texto suficiente (geralmente algumas centenas a mil palavras é suficiente), ele é capaz de identificar a linguagem com um grau surpreendentemente alto de precisão.                                                          \n",
       "Resposta 30  Uma ambigüidade local ocorre quando uma parte de uma sentença é ambígua; no entanto, quando toda a sentença é examinada, a ambiguidade é resolvida. Por exemplo, na frase Há rios mais longos que o Tâmisa, a frase rios mais longos é ambígua até lermos o resto da sentença, do que o Tâmisa.                                                                                                                                                                                                                                                                                                                                                                                         \n",
       "\n",
       "                                                                                                                                                                                                                                                                                                                                                                                                                                                                                                                                                                                                                                                                                                                                                                               5  \n",
       "Resposta 32  O processo pelo qual um sistema de processamento de linguagem natural determina qual significado é pretendido por um enunciado ambíguo é conhecido como desambiguação. A desambiguação pode ser feita de várias maneiras. Uma das formas mais eficazes de superar muitas formas de ambiguidade é usar probabilidade. Isso pode ser feito usando probabilidades anteriores ou probabilidades condicionais. A probabilidade anterior pode ser usada para dizer ao sistema que a palavra bat quase sempre significa uma peça de equipamento esportivo. Probabilidade condicional diria que quando a palavra bat é usada por um fã de esportes, é provável que este seja o caso, mas que quando é falado por um naturalista é mais provável que seja um mamífero alado.  \n",
       "Resposta 19  As árvores de análise podem ser construídas de baixo para cima ou de cima para baixo. Construir uma árvore de análise de cima para baixo envolve começar de uma sentença e determinar quais das possíveis reescritas para Sentença podem ser aplicadas à sentença que está sendo usada. analisado.                                                                                                                                                                                                                                                                                                                                                                                                                                                                   \n",
       "Resposta 22  Uma rede de transição aumentada, ou ATN, é uma versão estendida de uma rede de transição. Os ATNs têm a capacidade de aplicar testes a arcos, por exemplo, para garantir o acordo com o número. Assim, um ATN para sentença seria como mostrado na Figura 20.2, mas o arco do nó S2 para S3 seria condicional no número do verbo que é o mesmo que o número para o substantivo. Assim, se a frase substantiva fosse três cães e a frase verbal fosse azul, a ATN não seria capaz de seguir o arco do nó S2 para S3 porque o número da frase nominal (plural) não corresponde ao número do verbo frase (singular). Em idiomas como o francês, verifica o sexo também seria necessário.                                                                                \n",
       "Resposta 33  Os sistemas de tradução automática foram desenvolvidos, mas atualmente os melhores resultados que podem alcançar são inadequados para a maioria dos usos. Uma maneira pela qual eles podem ser usados ​​é em combinação com um tradutor humano. A máquina é capaz de fornecer uma tradução aproximada, e o ser humano então arruma o texto resultante, assegurando que as ambiguidades tenham sido tratadas corretamente e que o texto traduzido pareça natural, além de gramaticalmente correto.                                                                                                                                                                                                                                                                    \n",
       "Resposta 30  A ambiguidade referencial ocorre quando usamos expressões anafóricas ou pronomes para nos referirmos a objetos que já foram discutidos. Uma anáfora ocorre quando uma palavra ou frase é usada para se referir a algo sem nomeá-lo.                                                                                                                                                                                                                                                                                                                                                                                                                                                                                                                                  "
      ]
     },
     "execution_count": 20,
     "metadata": {},
     "output_type": "execute_result"
    }
   ],
   "source": [
    "pd.set_option('display.max_colwidth', -1)\n",
    "pd.read_csv(source, sep=\";\").iloc[[9,5]].transpose().sample(5)"
   ]
  },
  {
   "cell_type": "code",
   "execution_count": null,
   "metadata": {},
   "outputs": [],
   "source": []
  }
 ],
 "metadata": {
  "kernelspec": {
   "display_name": "Python 3",
   "language": "python",
   "name": "python3"
  },
  "language_info": {
   "codemirror_mode": {
    "name": "ipython",
    "version": 3
   },
   "file_extension": ".py",
   "mimetype": "text/x-python",
   "name": "python",
   "nbconvert_exporter": "python",
   "pygments_lexer": "ipython3",
   "version": "3.7.3"
  }
 },
 "nbformat": 4,
 "nbformat_minor": 2
}

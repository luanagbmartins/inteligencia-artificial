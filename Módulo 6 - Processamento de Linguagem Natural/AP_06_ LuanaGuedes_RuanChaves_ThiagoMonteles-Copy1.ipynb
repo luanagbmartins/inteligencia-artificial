{
 "cells": [
  {
   "cell_type": "markdown",
   "metadata": {},
   "source": [
    "# **Instituto de Informática - UFG**\n",
    "\n",
    "Disciplina: Inteligência Artificial\n",
    "\n",
    "Prof. Cedric Luiz de Carvalho\n",
    "\n",
    "Grupo ( A )\n",
    "\n",
    "---\n",
    "\n",
    "\n",
    "Aluna(o): Luana Guedes Barros Martins\n",
    "\n",
    "---\n",
    "\n",
    "Aluna(o): Ruan Chaves Rodrigues\n",
    "\n",
    "---\n",
    "\n",
    "Aluna(o): Thiago Monteles de Souza\n",
    "\n",
    "---"
   ]
  },
  {
   "cell_type": "markdown",
   "metadata": {},
   "source": [
    "# Atividade Prática 06 - Processamento de Linguagem Natural\n",
    "\n",
    "Particionamento das atividades:\n",
    "- Luana Guedes Barros Martins: Desenvolvedor\n",
    "- Ruan Chaves Rodrigues: Analista de dados\n",
    "- Thiago Monteles de Souza: Gerente do Projeto"
   ]
  },
  {
   "cell_type": "markdown",
   "metadata": {},
   "source": [
    "## Preparação do Ambiente Virtual"
   ]
  },
  {
   "cell_type": "code",
   "execution_count": 1,
   "metadata": {},
   "outputs": [
    {
     "name": "stdout",
     "output_type": "stream",
     "text": [
      "Requirement already satisfied: pt_core_news_sm==2.1.0 from https://github.com/explosion/spacy-models/releases/download/pt_core_news_sm-2.1.0/pt_core_news_sm-2.1.0.tar.gz#egg=pt_core_news_sm==2.1.0 in /home/luana/miniconda3/envs/IA/lib/python3.7/site-packages (2.1.0)\n",
      "\u001b[38;5;2m✔ Download and installation successful\u001b[0m\n",
      "You can now load the model via spacy.load('pt_core_news_sm')\n"
     ]
    }
   ],
   "source": [
    "!python -m spacy download pt_core_news_sm"
   ]
  },
  {
   "cell_type": "code",
   "execution_count": 2,
   "metadata": {
    "scrolled": true
   },
   "outputs": [
    {
     "name": "stdout",
     "output_type": "stream",
     "text": [
      "Requirement already satisfied: nltk in /home/luana/miniconda3/envs/IA/lib/python3.7/site-packages (3.4.4)\n",
      "Requirement already satisfied: six in /home/luana/miniconda3/envs/IA/lib/python3.7/site-packages (from nltk) (1.12.0)\n"
     ]
    }
   ],
   "source": [
    "!pip install nltk"
   ]
  },
  {
   "cell_type": "code",
   "execution_count": 12,
   "metadata": {},
   "outputs": [
    {
     "name": "stdout",
     "output_type": "stream",
     "text": [
      "Requirement already satisfied: gensim in /home/luana/miniconda3/envs/IA/lib/python3.7/site-packages (3.8.0)\n",
      "Requirement already satisfied: six>=1.5.0 in /home/luana/miniconda3/envs/IA/lib/python3.7/site-packages (from gensim) (1.12.0)\n",
      "Requirement already satisfied: scipy>=0.18.1 in /home/luana/miniconda3/envs/IA/lib/python3.7/site-packages (from gensim) (1.3.0)\n",
      "Requirement already satisfied: numpy>=1.11.3 in /home/luana/miniconda3/envs/IA/lib/python3.7/site-packages (from gensim) (1.16.4)\n",
      "Requirement already satisfied: smart-open>=1.7.0 in /home/luana/miniconda3/envs/IA/lib/python3.7/site-packages (from gensim) (1.8.4)\n",
      "Requirement already satisfied: boto3 in /home/luana/miniconda3/envs/IA/lib/python3.7/site-packages (from smart-open>=1.7.0->gensim) (1.9.207)\n",
      "Requirement already satisfied: requests in /home/luana/miniconda3/envs/IA/lib/python3.7/site-packages (from smart-open>=1.7.0->gensim) (2.22.0)\n",
      "Requirement already satisfied: boto>=2.32 in /home/luana/miniconda3/envs/IA/lib/python3.7/site-packages (from smart-open>=1.7.0->gensim) (2.49.0)\n",
      "Requirement already satisfied: botocore<1.13.0,>=1.12.207 in /home/luana/miniconda3/envs/IA/lib/python3.7/site-packages (from boto3->smart-open>=1.7.0->gensim) (1.12.207)\n",
      "Requirement already satisfied: jmespath<1.0.0,>=0.7.1 in /home/luana/miniconda3/envs/IA/lib/python3.7/site-packages (from boto3->smart-open>=1.7.0->gensim) (0.9.4)\n",
      "Requirement already satisfied: s3transfer<0.3.0,>=0.2.0 in /home/luana/miniconda3/envs/IA/lib/python3.7/site-packages (from boto3->smart-open>=1.7.0->gensim) (0.2.1)\n",
      "Requirement already satisfied: certifi>=2017.4.17 in /home/luana/miniconda3/envs/IA/lib/python3.7/site-packages (from requests->smart-open>=1.7.0->gensim) (2019.6.16)\n",
      "Requirement already satisfied: chardet<3.1.0,>=3.0.2 in /home/luana/miniconda3/envs/IA/lib/python3.7/site-packages (from requests->smart-open>=1.7.0->gensim) (3.0.4)\n",
      "Requirement already satisfied: idna<2.9,>=2.5 in /home/luana/miniconda3/envs/IA/lib/python3.7/site-packages (from requests->smart-open>=1.7.0->gensim) (2.8)\n",
      "Requirement already satisfied: urllib3!=1.25.0,!=1.25.1,<1.26,>=1.21.1 in /home/luana/miniconda3/envs/IA/lib/python3.7/site-packages (from requests->smart-open>=1.7.0->gensim) (1.25.3)\n",
      "Requirement already satisfied: python-dateutil<3.0.0,>=2.1; python_version >= \"2.7\" in /home/luana/miniconda3/envs/IA/lib/python3.7/site-packages (from botocore<1.13.0,>=1.12.207->boto3->smart-open>=1.7.0->gensim) (2.8.0)\n",
      "Requirement already satisfied: docutils<0.15,>=0.10 in /home/luana/miniconda3/envs/IA/lib/python3.7/site-packages (from botocore<1.13.0,>=1.12.207->boto3->smart-open>=1.7.0->gensim) (0.14)\n"
     ]
    }
   ],
   "source": [
    "!pip install gensim"
   ]
  },
  {
   "cell_type": "code",
   "execution_count": 14,
   "metadata": {},
   "outputs": [],
   "source": [
    "# Imports\n",
    "\n",
    "from collections import defaultdict\n",
    "import numpy as np\n",
    "from collections import Counter\n",
    "\n",
    "import pandas as pd\n",
    "\n",
    "import nltk\n",
    "import spacy \n",
    "from gensim import corpora, models, similarities\n",
    "from gensim.utils import simple_preprocess\n",
    "\n",
    "%matplotlib inline\n",
    "import matplotlib.pyplot as plt\n",
    "plt.rcParams[\"figure.figsize\"] = (20,10)\n",
    "import seaborn as sns"
   ]
  },
  {
   "cell_type": "markdown",
   "metadata": {},
   "source": [
    "## Descrição do Problema\n",
    "\n",
    "Utilizando as técnicas estudadas, será desenvolvido uma ferramenta que permita a comparação de pequenos textos. Devem ser definidas métricas de comparação que classifique os textos segundo critérios de similaridade.\n",
    "\n",
    "A ferramenta deverá ser aplicada aos Estudos Dirigidos desenvolvidos ao longo do curso de Inteligência Artificial 2019-3. Para cada estudo, deve-se construir uma matriz que mostre a similaridade entre os documentos. Depois, definir um documento de referência e traçar um gráfico de similaridade dos demais em relação a ele."
   ]
  },
  {
   "cell_type": "markdown",
   "metadata": {},
   "source": [
    "## Tratamento dos Dados\n",
    "\n",
    "*Breve descrição do que foi feito*"
   ]
  },
  {
   "cell_type": "code",
   "execution_count": 15,
   "metadata": {},
   "outputs": [
    {
     "data": {
      "text/plain": [
       "'\\n# Carregar o dataset \"baseDeDados.csv\" para o ambiente virtual\\n\\nfrom google.colab import files\\nuploaded = files.upload()\\n'"
      ]
     },
     "execution_count": 15,
     "metadata": {},
     "output_type": "execute_result"
    }
   ],
   "source": [
    "\"\"\"\n",
    "# Carregar o dataset \"baseDeDados.csv\" para o ambiente virtual\n",
    "\n",
    "from google.colab import files\n",
    "uploaded = files.upload()\n",
    "\"\"\""
   ]
  },
  {
   "cell_type": "code",
   "execution_count": 16,
   "metadata": {},
   "outputs": [
    {
     "data": {
      "text/html": [
       "<div>\n",
       "<style scoped>\n",
       "    .dataframe tbody tr th:only-of-type {\n",
       "        vertical-align: middle;\n",
       "    }\n",
       "\n",
       "    .dataframe tbody tr th {\n",
       "        vertical-align: top;\n",
       "    }\n",
       "\n",
       "    .dataframe thead th {\n",
       "        text-align: right;\n",
       "    }\n",
       "</style>\n",
       "<table border=\"1\" class=\"dataframe\">\n",
       "  <thead>\n",
       "    <tr style=\"text-align: right;\">\n",
       "      <th></th>\n",
       "      <th>Resposta 1</th>\n",
       "      <th>Resposta 2</th>\n",
       "      <th>Resposta 3</th>\n",
       "      <th>Resposta 4</th>\n",
       "      <th>Resposta 5</th>\n",
       "      <th>Resposta 6</th>\n",
       "      <th>Resposta 7</th>\n",
       "      <th>Resposta 8</th>\n",
       "      <th>Resposta 9</th>\n",
       "      <th>Resposta 10</th>\n",
       "      <th>...</th>\n",
       "      <th>Resposta 32</th>\n",
       "      <th>Resposta 33</th>\n",
       "      <th>Resposta 34</th>\n",
       "      <th>Resposta 35</th>\n",
       "      <th>Resposta 36</th>\n",
       "      <th>Resposta 37</th>\n",
       "      <th>Resposta 38</th>\n",
       "      <th>Resposta 39</th>\n",
       "      <th>Resposta 40</th>\n",
       "      <th>Resposta 41</th>\n",
       "    </tr>\n",
       "  </thead>\n",
       "  <tbody>\n",
       "    <tr>\n",
       "      <th>0</th>\n",
       "      <td>O desenvolvimento de redes neurais artificiais...</td>\n",
       "      <td>SÃO UM MODELO MATEMÁTICO DE NEURÔNIO ARTIFICIA...</td>\n",
       "      <td>OS PRINCIPAIS COMPONENTES SÃO: DENDRITOS, CORP...</td>\n",
       "      <td>São as conexões que interligam as camadas de n...</td>\n",
       "      <td>As redes de neurônios biológicas trabalham de ...</td>\n",
       "      <td>São sistemas computacionais distribuídos compo...</td>\n",
       "      <td>A arquitetura de uma rede neural artificial es...</td>\n",
       "      <td>O aprendizado diz respeito às regras utilizada...</td>\n",
       "      <td>O funcionamento é o seguinte: \\n\\n 1 - Cada te...</td>\n",
       "      <td>As funções de ativação  permite a saída de um ...</td>\n",
       "      <td>...</td>\n",
       "      <td>Pois os valores de erro são conhecidos apenas ...</td>\n",
       "      <td>1º Valores aleatórios de pesos são inicializad...</td>\n",
       "      <td>Utilizando o conceito de momentum, que quanti...</td>\n",
       "      <td>Utilizado o conceito de momentum, que quantifi...</td>\n",
       "      <td>Para reduzir a ocorrência de overfitting. O co...</td>\n",
       "      <td>Quando as taxas de erro de validação de uma re...</td>\n",
       "      <td>A lentidão que a mesma leva para convergir com...</td>\n",
       "      <td>Os seguintes fatores:\\n\\n\\t*\\n\\nNúmero de exe...</td>\n",
       "      <td>Por força bruta. Cada tipo de arquitetura é te...</td>\n",
       "      <td>Empírica: Por busca cega, arquiteturas são tes...</td>\n",
       "    </tr>\n",
       "    <tr>\n",
       "      <th>1</th>\n",
       "      <td>O fundamento natural das redes neurais artific...</td>\n",
       "      <td>Os neurônios artificiais são conhecidos como u...</td>\n",
       "      <td>Os principais componente de um neurônio são: d...</td>\n",
       "      <td>As sinapses são as unidades que medeiam as int...</td>\n",
       "      <td>Os neurônios biológicos possuem um tempo de ex...</td>\n",
       "      <td>As redes neurais artificiais são baseadas em m...</td>\n",
       "      <td>A arquitetura de uma RNA está relacionada ao t...</td>\n",
       "      <td>O aprendizado de uma RNA diz respeito as regra...</td>\n",
       "      <td>O neurônio é a unidade de processamento fundam...</td>\n",
       "      <td>As funções de ativação servem para definir a s...</td>\n",
       "      <td>...</td>\n",
       "      <td>Como os valores dos erros são conhecidos apena...</td>\n",
       "      <td>-</td>\n",
       "      <td>O valor da taxa de aprendizado n tem uma forte...</td>\n",
       "      <td>Uma possível medida para amenizar esse problem...</td>\n",
       "      <td>Para reduzir a ocorrência de overfitting a par...</td>\n",
       "      <td>Plotando um grafico com as taxas de erros dos ...</td>\n",
       "      <td>Uma crítica feita ao algoritmo back-propagatio...</td>\n",
       "      <td>O número de neurônios de uma camada intermediá...</td>\n",
       "      <td>É preciso levar em consideração qual função de...</td>\n",
       "      <td>• Empírica: consiste na realização de uma busc...</td>\n",
       "    </tr>\n",
       "    <tr>\n",
       "      <th>2</th>\n",
       "      <td>As redes neurais artificiais (RNAs) tomou como...</td>\n",
       "      <td>É O MODELO MATEMÁTICA DE NEURÔNIO ARTIFICIAL P...</td>\n",
       "      <td>A unidade fundamental do sistema nervoso é o n...</td>\n",
       "      <td>O CONTATO ENTRE A TERMINAÇÃO DE UM AXÔNIO E O ...</td>\n",
       "      <td>APESAR DE OS NEURÔNIOS BIOLÓGICOS POSSUÍREM UM...</td>\n",
       "      <td>AS RNAS SÃO SISTEMAS COMPUTACIONAIS DISTRIBUÍD...</td>\n",
       "      <td>A ARQUITETURA ESTÁ RELACIONADA AO TIPO E NÚMER...</td>\n",
       "      <td>O APRENDIZADO DIZ RESPEITO ÀS REGRAS UTILIZADA...</td>\n",
       "      <td>CADA TERMINAL DE ENTRADA DO NEURÔNIO, SIMULAND...</td>\n",
       "      <td>AS FUNÇÕES DE ATIVAÇÃO SERVEM PARA DEFINIR A S...</td>\n",
       "      <td>...</td>\n",
       "      <td>POR QUE APENAS OS VALORES DOS ERROS DA CAMADA ...</td>\n",
       "      <td>A REDE É INICIALIZADO COM VALORES ALEATÓRIOS P...</td>\n",
       "      <td>O VALOR DA TAXA DE APRENDIZADO TEM UMA FORTE I...</td>\n",
       "      <td>O MOMENTUM É UMA MEDIDA QUE QUANTIFICA A IMPOR...</td>\n",
       "      <td>SE SEPARA OS DADOS EM CONJUNTO DE TREINO E DE ...</td>\n",
       "      <td>EM UM DADO MOMENTO, SE A TAXA DE ERRO DE VALID...</td>\n",
       "      <td>UMA CRÍTICA FEITA É A SUA LENTIDÃO NA CONVERGÊ...</td>\n",
       "      <td>Os fatores que determina o número de neurônios...</td>\n",
       "      <td>Empírica: consiste na realização de uma busca ...</td>\n",
       "      <td>Empírica: consiste na realização de uma busca ...</td>\n",
       "    </tr>\n",
       "    <tr>\n",
       "      <th>3</th>\n",
       "      <td>O FUNDAMENTO NATURAL DAS REDES NEURAIS ARTIFIC...</td>\n",
       "      <td>OS NEURÔNIOS ARTIFICIAIS SÃO CONHECIDOS COMO U...</td>\n",
       "      <td>OS PRINCIPAIS COMPONENTE DE UM NEURÔNIO SÃO: D...</td>\n",
       "      <td>AS SINAPSES SÃO AS UNIDADES QUE MEDEIAM AS INT...</td>\n",
       "      <td>OS NEURÔNIOS BIOLÓGICOS POSSUEM UM TEMPO DE EX...</td>\n",
       "      <td>AS REDES NEURAIS ARTIFICIAIS SÃO BASEADAS EM M...</td>\n",
       "      <td>A ARQUITETURA DE UMA RNA ESTÁ RELACIONADA AO T...</td>\n",
       "      <td>O APRENDIZADO DE UMA RNA DIZ RESPEITO ÀS REGRA...</td>\n",
       "      <td>O neurônio é a unidade de processamento fundam...</td>\n",
       "      <td>AS FUNÇÕES DE ATIVAÇÃO SERVEM PARA DEFINIR A S...</td>\n",
       "      <td>...</td>\n",
       "      <td>COMO OS VALORES DOS ERROS SÃO CONHECIDOS APENA...</td>\n",
       "      <td>RECEBE COMO ENTRADA UM CONJUNTO N DE OBJETOS D...</td>\n",
       "      <td>O VALOR DA TAXA DE APRENDIZADO N TEM UMA FORTE...</td>\n",
       "      <td>UMA POSSÍVEL MEDIDA PARA AMENIZAR ESSE PROBLEM...</td>\n",
       "      <td>PARA REDUZIR A OCORRÊNCIA DE OVERFITTING A PAR...</td>\n",
       "      <td>PLOTANDO UM GRÁFICO COM AS TAXAS DE ERROS DOS ...</td>\n",
       "      <td>UMA CRÍTICA FEITA AO ALGORITMO BACK-PROPAGATIO...</td>\n",
       "      <td>O número de neurônios de uma camada intermediá...</td>\n",
       "      <td>É PRECISO LEVAR EM CONSIDERAÇÃO QUAL FUNÇÃO DE...</td>\n",
       "      <td>• Empírica: consiste na realização de uma busc...</td>\n",
       "    </tr>\n",
       "    <tr>\n",
       "      <th>4</th>\n",
       "      <td>O desenvolvimento das redes neurais artificiai...</td>\n",
       "      <td>O conceito de unidade lógica com limiar surgiu...</td>\n",
       "      <td>O principal bloco de construção do cérebro é o...</td>\n",
       "      <td>O contato entre a terminação de um axônio e o ...</td>\n",
       "      <td>Apesar de os neurônios biológicos possuírem um...</td>\n",
       "      <td>As Redes Neurais Artificiais (RNAs) são sistem...</td>\n",
       "      <td>A arquitetura de uma rede neural artificial es...</td>\n",
       "      <td>O aprendizado de uma rede neural artificial di...</td>\n",
       "      <td>O neurônio é a unidade de processamento fundam...</td>\n",
       "      <td>A saída de um neurônio é definida por meio da ...</td>\n",
       "      <td>...</td>\n",
       "      <td>Como os valores dos erros são conhecidos apena...</td>\n",
       "      <td>Entrada: Um conjunto de n objetos de treinamen...</td>\n",
       "      <td>O valor da taxa de aprendizado n tem uma forte...</td>\n",
       "      <td>Momentum é a quantificação do grau de importân...</td>\n",
       "      <td>Para reduzir a ocorrência de overfitting, part...</td>\n",
       "      <td>Se as taxas de erro para os dados de treinamen...</td>\n",
       "      <td>A principal crítica que tem sido feita ao algo...</td>\n",
       "      <td>O número de neurônios em uma camada intermediá...</td>\n",
       "      <td>A escolha da arquitetura mais promissora para ...</td>\n",
       "      <td>● Empírica​: consiste na realização de uma bus...</td>\n",
       "    </tr>\n",
       "  </tbody>\n",
       "</table>\n",
       "<p>5 rows × 41 columns</p>\n",
       "</div>"
      ],
      "text/plain": [
       "                                          Resposta 1  \\\n",
       "0  O desenvolvimento de redes neurais artificiais...   \n",
       "1  O fundamento natural das redes neurais artific...   \n",
       "2  As redes neurais artificiais (RNAs) tomou como...   \n",
       "3  O FUNDAMENTO NATURAL DAS REDES NEURAIS ARTIFIC...   \n",
       "4  O desenvolvimento das redes neurais artificiai...   \n",
       "\n",
       "                                          Resposta 2  \\\n",
       "0  SÃO UM MODELO MATEMÁTICO DE NEURÔNIO ARTIFICIA...   \n",
       "1  Os neurônios artificiais são conhecidos como u...   \n",
       "2  É O MODELO MATEMÁTICA DE NEURÔNIO ARTIFICIAL P...   \n",
       "3  OS NEURÔNIOS ARTIFICIAIS SÃO CONHECIDOS COMO U...   \n",
       "4  O conceito de unidade lógica com limiar surgiu...   \n",
       "\n",
       "                                          Resposta 3  \\\n",
       "0  OS PRINCIPAIS COMPONENTES SÃO: DENDRITOS, CORP...   \n",
       "1  Os principais componente de um neurônio são: d...   \n",
       "2  A unidade fundamental do sistema nervoso é o n...   \n",
       "3  OS PRINCIPAIS COMPONENTE DE UM NEURÔNIO SÃO: D...   \n",
       "4  O principal bloco de construção do cérebro é o...   \n",
       "\n",
       "                                          Resposta 4  \\\n",
       "0  São as conexões que interligam as camadas de n...   \n",
       "1  As sinapses são as unidades que medeiam as int...   \n",
       "2  O CONTATO ENTRE A TERMINAÇÃO DE UM AXÔNIO E O ...   \n",
       "3  AS SINAPSES SÃO AS UNIDADES QUE MEDEIAM AS INT...   \n",
       "4  O contato entre a terminação de um axônio e o ...   \n",
       "\n",
       "                                          Resposta 5  \\\n",
       "0  As redes de neurônios biológicas trabalham de ...   \n",
       "1  Os neurônios biológicos possuem um tempo de ex...   \n",
       "2  APESAR DE OS NEURÔNIOS BIOLÓGICOS POSSUÍREM UM...   \n",
       "3  OS NEURÔNIOS BIOLÓGICOS POSSUEM UM TEMPO DE EX...   \n",
       "4  Apesar de os neurônios biológicos possuírem um...   \n",
       "\n",
       "                                          Resposta 6  \\\n",
       "0  São sistemas computacionais distribuídos compo...   \n",
       "1  As redes neurais artificiais são baseadas em m...   \n",
       "2  AS RNAS SÃO SISTEMAS COMPUTACIONAIS DISTRIBUÍD...   \n",
       "3  AS REDES NEURAIS ARTIFICIAIS SÃO BASEADAS EM M...   \n",
       "4  As Redes Neurais Artificiais (RNAs) são sistem...   \n",
       "\n",
       "                                          Resposta 7  \\\n",
       "0  A arquitetura de uma rede neural artificial es...   \n",
       "1  A arquitetura de uma RNA está relacionada ao t...   \n",
       "2  A ARQUITETURA ESTÁ RELACIONADA AO TIPO E NÚMER...   \n",
       "3  A ARQUITETURA DE UMA RNA ESTÁ RELACIONADA AO T...   \n",
       "4  A arquitetura de uma rede neural artificial es...   \n",
       "\n",
       "                                          Resposta 8  \\\n",
       "0  O aprendizado diz respeito às regras utilizada...   \n",
       "1  O aprendizado de uma RNA diz respeito as regra...   \n",
       "2  O APRENDIZADO DIZ RESPEITO ÀS REGRAS UTILIZADA...   \n",
       "3  O APRENDIZADO DE UMA RNA DIZ RESPEITO ÀS REGRA...   \n",
       "4  O aprendizado de uma rede neural artificial di...   \n",
       "\n",
       "                                          Resposta 9  \\\n",
       "0  O funcionamento é o seguinte: \\n\\n 1 - Cada te...   \n",
       "1  O neurônio é a unidade de processamento fundam...   \n",
       "2  CADA TERMINAL DE ENTRADA DO NEURÔNIO, SIMULAND...   \n",
       "3  O neurônio é a unidade de processamento fundam...   \n",
       "4  O neurônio é a unidade de processamento fundam...   \n",
       "\n",
       "                                         Resposta 10  ...  \\\n",
       "0  As funções de ativação  permite a saída de um ...  ...   \n",
       "1  As funções de ativação servem para definir a s...  ...   \n",
       "2  AS FUNÇÕES DE ATIVAÇÃO SERVEM PARA DEFINIR A S...  ...   \n",
       "3  AS FUNÇÕES DE ATIVAÇÃO SERVEM PARA DEFINIR A S...  ...   \n",
       "4  A saída de um neurônio é definida por meio da ...  ...   \n",
       "\n",
       "                                         Resposta 32  \\\n",
       "0  Pois os valores de erro são conhecidos apenas ...   \n",
       "1  Como os valores dos erros são conhecidos apena...   \n",
       "2  POR QUE APENAS OS VALORES DOS ERROS DA CAMADA ...   \n",
       "3  COMO OS VALORES DOS ERROS SÃO CONHECIDOS APENA...   \n",
       "4  Como os valores dos erros são conhecidos apena...   \n",
       "\n",
       "                                         Resposta 33  \\\n",
       "0  1º Valores aleatórios de pesos são inicializad...   \n",
       "1                                                  -   \n",
       "2  A REDE É INICIALIZADO COM VALORES ALEATÓRIOS P...   \n",
       "3  RECEBE COMO ENTRADA UM CONJUNTO N DE OBJETOS D...   \n",
       "4  Entrada: Um conjunto de n objetos de treinamen...   \n",
       "\n",
       "                                         Resposta 34  \\\n",
       "0   Utilizando o conceito de momentum, que quanti...   \n",
       "1  O valor da taxa de aprendizado n tem uma forte...   \n",
       "2  O VALOR DA TAXA DE APRENDIZADO TEM UMA FORTE I...   \n",
       "3  O VALOR DA TAXA DE APRENDIZADO N TEM UMA FORTE...   \n",
       "4  O valor da taxa de aprendizado n tem uma forte...   \n",
       "\n",
       "                                         Resposta 35  \\\n",
       "0  Utilizado o conceito de momentum, que quantifi...   \n",
       "1  Uma possível medida para amenizar esse problem...   \n",
       "2  O MOMENTUM É UMA MEDIDA QUE QUANTIFICA A IMPOR...   \n",
       "3  UMA POSSÍVEL MEDIDA PARA AMENIZAR ESSE PROBLEM...   \n",
       "4  Momentum é a quantificação do grau de importân...   \n",
       "\n",
       "                                         Resposta 36  \\\n",
       "0  Para reduzir a ocorrência de overfitting. O co...   \n",
       "1  Para reduzir a ocorrência de overfitting a par...   \n",
       "2  SE SEPARA OS DADOS EM CONJUNTO DE TREINO E DE ...   \n",
       "3  PARA REDUZIR A OCORRÊNCIA DE OVERFITTING A PAR...   \n",
       "4  Para reduzir a ocorrência de overfitting, part...   \n",
       "\n",
       "                                         Resposta 37  \\\n",
       "0  Quando as taxas de erro de validação de uma re...   \n",
       "1  Plotando um grafico com as taxas de erros dos ...   \n",
       "2  EM UM DADO MOMENTO, SE A TAXA DE ERRO DE VALID...   \n",
       "3  PLOTANDO UM GRÁFICO COM AS TAXAS DE ERROS DOS ...   \n",
       "4  Se as taxas de erro para os dados de treinamen...   \n",
       "\n",
       "                                         Resposta 38  \\\n",
       "0  A lentidão que a mesma leva para convergir com...   \n",
       "1  Uma crítica feita ao algoritmo back-propagatio...   \n",
       "2  UMA CRÍTICA FEITA É A SUA LENTIDÃO NA CONVERGÊ...   \n",
       "3  UMA CRÍTICA FEITA AO ALGORITMO BACK-PROPAGATIO...   \n",
       "4  A principal crítica que tem sido feita ao algo...   \n",
       "\n",
       "                                         Resposta 39  \\\n",
       "0   Os seguintes fatores:\\n\\n\\t*\\n\\nNúmero de exe...   \n",
       "1  O número de neurônios de uma camada intermediá...   \n",
       "2  Os fatores que determina o número de neurônios...   \n",
       "3  O número de neurônios de uma camada intermediá...   \n",
       "4  O número de neurônios em uma camada intermediá...   \n",
       "\n",
       "                                         Resposta 40  \\\n",
       "0  Por força bruta. Cada tipo de arquitetura é te...   \n",
       "1  É preciso levar em consideração qual função de...   \n",
       "2  Empírica: consiste na realização de uma busca ...   \n",
       "3  É PRECISO LEVAR EM CONSIDERAÇÃO QUAL FUNÇÃO DE...   \n",
       "4  A escolha da arquitetura mais promissora para ...   \n",
       "\n",
       "                                         Resposta 41  \n",
       "0  Empírica: Por busca cega, arquiteturas são tes...  \n",
       "1  • Empírica: consiste na realização de uma busc...  \n",
       "2  Empírica: consiste na realização de uma busca ...  \n",
       "3  • Empírica: consiste na realização de uma busc...  \n",
       "4  ● Empírica​: consiste na realização de uma bus...  \n",
       "\n",
       "[5 rows x 41 columns]"
      ]
     },
     "execution_count": 16,
     "metadata": {},
     "output_type": "execute_result"
    }
   ],
   "source": [
    "docs = pd.read_csv(\"Dados - ED05.csv\", sep=\";\")\n",
    "docs.head()"
   ]
  },
  {
   "cell_type": "code",
   "execution_count": 17,
   "metadata": {},
   "outputs": [],
   "source": [
    "docs = docs.values.flatten().tolist()"
   ]
  },
  {
   "cell_type": "code",
   "execution_count": 18,
   "metadata": {},
   "outputs": [],
   "source": [
    "ids = pd.read_csv(\"Dados - ED05.csv\", sep=\";\").values"
   ]
  },
  {
   "cell_type": "code",
   "execution_count": 19,
   "metadata": {},
   "outputs": [
    {
     "name": "stderr",
     "output_type": "stream",
     "text": [
      "[nltk_data] Downloading package stopwords to /home/luana/nltk_data...\n",
      "[nltk_data]   Package stopwords is already up-to-date!\n"
     ]
    },
    {
     "data": {
      "text/plain": [
       "True"
      ]
     },
     "execution_count": 19,
     "metadata": {},
     "output_type": "execute_result"
    }
   ],
   "source": [
    "nltk.download('stopwords')"
   ]
  },
  {
   "cell_type": "code",
   "execution_count": 20,
   "metadata": {
    "scrolled": true
   },
   "outputs": [],
   "source": [
    "stopwords = nltk.corpus.stopwords.words('portuguese')\n",
    "nlp = spacy.load(\"pt_core_news_sm\")"
   ]
  },
  {
   "cell_type": "code",
   "execution_count": 21,
   "metadata": {},
   "outputs": [],
   "source": [
    "ids = [ [(idx2, idx) for idx,v in enumerate(v2) ] for idx2,v2 in enumerate(ids) ]\n",
    "ids = [x for y in ids for x in y ]"
   ]
  },
  {
   "cell_type": "code",
   "execution_count": 22,
   "metadata": {},
   "outputs": [
    {
     "ename": "TypeError",
     "evalue": "object of type 'float' has no len()",
     "output_type": "error",
     "traceback": [
      "\u001b[0;31m---------------------------------------------------------------------------\u001b[0m",
      "\u001b[0;31mTypeError\u001b[0m                                 Traceback (most recent call last)",
      "\u001b[0;32m<ipython-input-22-fe692a4a394d>\u001b[0m in \u001b[0;36m<module>\u001b[0;34m\u001b[0m\n\u001b[0;32m----> 1\u001b[0;31m \u001b[0mdocs\u001b[0m \u001b[0;34m=\u001b[0m \u001b[0;34m[\u001b[0m\u001b[0mnlp\u001b[0m\u001b[0;34m(\u001b[0m\u001b[0mx\u001b[0m\u001b[0;34m)\u001b[0m \u001b[0;32mfor\u001b[0m \u001b[0mx\u001b[0m \u001b[0;32min\u001b[0m \u001b[0mdocs\u001b[0m\u001b[0;34m]\u001b[0m\u001b[0;34m\u001b[0m\u001b[0;34m\u001b[0m\u001b[0m\n\u001b[0m\u001b[1;32m      2\u001b[0m \u001b[0mdocs\u001b[0m \u001b[0;34m=\u001b[0m \u001b[0;34m[\u001b[0m \u001b[0;34m[\u001b[0m \u001b[0my\u001b[0m \u001b[0;32mfor\u001b[0m \u001b[0my\u001b[0m \u001b[0;32min\u001b[0m \u001b[0mx\u001b[0m \u001b[0;32mif\u001b[0m \u001b[0my\u001b[0m\u001b[0;34m.\u001b[0m\u001b[0mis_punct\u001b[0m \u001b[0;34m==\u001b[0m \u001b[0;32mFalse\u001b[0m \u001b[0;32mand\u001b[0m \u001b[0my\u001b[0m\u001b[0;34m.\u001b[0m\u001b[0mtext\u001b[0m\u001b[0;34m.\u001b[0m\u001b[0mlower\u001b[0m\u001b[0;34m(\u001b[0m\u001b[0;34m)\u001b[0m \u001b[0;32mnot\u001b[0m \u001b[0;32min\u001b[0m \u001b[0mstopwords\u001b[0m\u001b[0;34m]\u001b[0m \u001b[0;32mfor\u001b[0m \u001b[0mx\u001b[0m \u001b[0;32min\u001b[0m \u001b[0mdocs\u001b[0m \u001b[0;34m]\u001b[0m\u001b[0;34m\u001b[0m\u001b[0;34m\u001b[0m\u001b[0m\n",
      "\u001b[0;32m<ipython-input-22-fe692a4a394d>\u001b[0m in \u001b[0;36m<listcomp>\u001b[0;34m(.0)\u001b[0m\n\u001b[0;32m----> 1\u001b[0;31m \u001b[0mdocs\u001b[0m \u001b[0;34m=\u001b[0m \u001b[0;34m[\u001b[0m\u001b[0mnlp\u001b[0m\u001b[0;34m(\u001b[0m\u001b[0mx\u001b[0m\u001b[0;34m)\u001b[0m \u001b[0;32mfor\u001b[0m \u001b[0mx\u001b[0m \u001b[0;32min\u001b[0m \u001b[0mdocs\u001b[0m\u001b[0;34m]\u001b[0m\u001b[0;34m\u001b[0m\u001b[0;34m\u001b[0m\u001b[0m\n\u001b[0m\u001b[1;32m      2\u001b[0m \u001b[0mdocs\u001b[0m \u001b[0;34m=\u001b[0m \u001b[0;34m[\u001b[0m \u001b[0;34m[\u001b[0m \u001b[0my\u001b[0m \u001b[0;32mfor\u001b[0m \u001b[0my\u001b[0m \u001b[0;32min\u001b[0m \u001b[0mx\u001b[0m \u001b[0;32mif\u001b[0m \u001b[0my\u001b[0m\u001b[0;34m.\u001b[0m\u001b[0mis_punct\u001b[0m \u001b[0;34m==\u001b[0m \u001b[0;32mFalse\u001b[0m \u001b[0;32mand\u001b[0m \u001b[0my\u001b[0m\u001b[0;34m.\u001b[0m\u001b[0mtext\u001b[0m\u001b[0;34m.\u001b[0m\u001b[0mlower\u001b[0m\u001b[0;34m(\u001b[0m\u001b[0;34m)\u001b[0m \u001b[0;32mnot\u001b[0m \u001b[0;32min\u001b[0m \u001b[0mstopwords\u001b[0m\u001b[0;34m]\u001b[0m \u001b[0;32mfor\u001b[0m \u001b[0mx\u001b[0m \u001b[0;32min\u001b[0m \u001b[0mdocs\u001b[0m \u001b[0;34m]\u001b[0m\u001b[0;34m\u001b[0m\u001b[0;34m\u001b[0m\u001b[0m\n",
      "\u001b[0;32m~/miniconda3/envs/IA/lib/python3.7/site-packages/spacy/language.py\u001b[0m in \u001b[0;36m__call__\u001b[0;34m(self, text, disable, component_cfg)\u001b[0m\n\u001b[1;32m    388\u001b[0m         \u001b[0mDOCS\u001b[0m\u001b[0;34m:\u001b[0m \u001b[0mhttps\u001b[0m\u001b[0;34m:\u001b[0m\u001b[0;34m//\u001b[0m\u001b[0mspacy\u001b[0m\u001b[0;34m.\u001b[0m\u001b[0mio\u001b[0m\u001b[0;34m/\u001b[0m\u001b[0mapi\u001b[0m\u001b[0;34m/\u001b[0m\u001b[0mlanguage\u001b[0m\u001b[0;31m#call\u001b[0m\u001b[0;34m\u001b[0m\u001b[0;34m\u001b[0m\u001b[0m\n\u001b[1;32m    389\u001b[0m         \"\"\"\n\u001b[0;32m--> 390\u001b[0;31m         \u001b[0;32mif\u001b[0m \u001b[0mlen\u001b[0m\u001b[0;34m(\u001b[0m\u001b[0mtext\u001b[0m\u001b[0;34m)\u001b[0m \u001b[0;34m>\u001b[0m \u001b[0mself\u001b[0m\u001b[0;34m.\u001b[0m\u001b[0mmax_length\u001b[0m\u001b[0;34m:\u001b[0m\u001b[0;34m\u001b[0m\u001b[0;34m\u001b[0m\u001b[0m\n\u001b[0m\u001b[1;32m    391\u001b[0m             raise ValueError(\n\u001b[1;32m    392\u001b[0m                 \u001b[0mErrors\u001b[0m\u001b[0;34m.\u001b[0m\u001b[0mE088\u001b[0m\u001b[0;34m.\u001b[0m\u001b[0mformat\u001b[0m\u001b[0;34m(\u001b[0m\u001b[0mlength\u001b[0m\u001b[0;34m=\u001b[0m\u001b[0mlen\u001b[0m\u001b[0;34m(\u001b[0m\u001b[0mtext\u001b[0m\u001b[0;34m)\u001b[0m\u001b[0;34m,\u001b[0m \u001b[0mmax_length\u001b[0m\u001b[0;34m=\u001b[0m\u001b[0mself\u001b[0m\u001b[0;34m.\u001b[0m\u001b[0mmax_length\u001b[0m\u001b[0;34m)\u001b[0m\u001b[0;34m\u001b[0m\u001b[0;34m\u001b[0m\u001b[0m\n",
      "\u001b[0;31mTypeError\u001b[0m: object of type 'float' has no len()"
     ]
    }
   ],
   "source": [
    "docs = [nlp(x) for x in docs]\n",
    "docs = [ [ y for y in x if y.is_punct == False and y.text.lower() not in stopwords] for x in docs ]"
   ]
  },
  {
   "cell_type": "code",
   "execution_count": null,
   "metadata": {},
   "outputs": [],
   "source": [
    "tokens = [ [ y.lemma_ for y in x ] for x in docs ]"
   ]
  },
  {
   "cell_type": "code",
   "execution_count": null,
   "metadata": {},
   "outputs": [],
   "source": [
    "counter = dict(Counter([ x for y in tokens for x in y ]))\n",
    "low_freq = [x for x in counter.keys() if counter[x] == 1]\n",
    "tokens = [ x for x in tokens if x not in low_freq ]"
   ]
  },
  {
   "cell_type": "code",
   "execution_count": null,
   "metadata": {},
   "outputs": [],
   "source": [
    "token_docs = [ ' '.join(x) for x in tokens ]\n",
    "mydict = corpora.Dictionary([simple_preprocess(line) for line in token_docs])\n",
    "nf = len(mydict.dfs)"
   ]
  },
  {
   "cell_type": "code",
   "execution_count": null,
   "metadata": {},
   "outputs": [],
   "source": [
    "corpus = [mydict.doc2bow(simple_preprocess(line)) for line in token_docs]"
   ]
  },
  {
   "cell_type": "code",
   "execution_count": null,
   "metadata": {},
   "outputs": [],
   "source": [
    "for doc in corpus:\n",
    "    print([[mydict[id], freq] for id, freq in doc])"
   ]
  },
  {
   "cell_type": "markdown",
   "metadata": {},
   "source": [
    "## Definição do Modelo"
   ]
  },
  {
   "cell_type": "code",
   "execution_count": null,
   "metadata": {},
   "outputs": [],
   "source": [
    "tfidf = models.TfidfModel(corpus)"
   ]
  },
  {
   "cell_type": "code",
   "execution_count": null,
   "metadata": {},
   "outputs": [],
   "source": [
    "for doc in tfidf[corpus]:\n",
    "    print([[mydict[id], np.around(freq, decimals=2)] for id, freq in doc])"
   ]
  },
  {
   "cell_type": "code",
   "execution_count": null,
   "metadata": {},
   "outputs": [],
   "source": [
    "index = similarities.SparseMatrixSimilarity(tfidf[corpus], num_features=nf)"
   ]
  },
  {
   "cell_type": "markdown",
   "metadata": {},
   "source": [
    "## Resultado"
   ]
  },
  {
   "cell_type": "code",
   "execution_count": null,
   "metadata": {},
   "outputs": [],
   "source": [
    "dataplot = []\n",
    "for item in corpus:\n",
    "    dataplot.append(index[tfidf[item]])"
   ]
  },
  {
   "cell_type": "code",
   "execution_count": null,
   "metadata": {},
   "outputs": [],
   "source": [
    "\n",
    "sns.heatmap(pd.DataFrame(dataplot))"
   ]
  },
  {
   "cell_type": "code",
   "execution_count": null,
   "metadata": {},
   "outputs": [],
   "source": [
    "df = pd.DataFrame(dataplot)"
   ]
  },
  {
   "cell_type": "code",
   "execution_count": null,
   "metadata": {},
   "outputs": [],
   "source": [
    "tmp = df.applymap(lambda x: 'nan' if x < 0.9 else x)\n",
    "arr = tmp.values.tolist()\n",
    "matches = []\n",
    "for idx, item in enumerate(arr):\n",
    "    for idx2, item2 in enumerate(item):\n",
    "        if idx != idx2 and arr[idx][idx2] != 'nan':\n",
    "            matches.append([idx, idx2])"
   ]
  },
  {
   "cell_type": "code",
   "execution_count": null,
   "metadata": {},
   "outputs": [],
   "source": [
    "pairs = [ [ ids[x][0] for x in y ] for y in matches ]\n",
    "pairs[0:10]"
   ]
  },
  {
   "cell_type": "code",
   "execution_count": null,
   "metadata": {},
   "outputs": [],
   "source": [
    "dict_pairs = dict(Counter([ tuple(x) for x in pairs ])).items()\n",
    "\n",
    "dict_pairs"
   ]
  },
  {
   "cell_type": "code",
   "execution_count": null,
   "metadata": {},
   "outputs": [],
   "source": [
    "sns.heatmap(dataplot)"
   ]
  },
  {
   "cell_type": "code",
   "execution_count": null,
   "metadata": {},
   "outputs": [],
   "source": []
  }
 ],
 "metadata": {
  "kernelspec": {
   "display_name": "Python 3",
   "language": "python",
   "name": "python3"
  },
  "language_info": {
   "codemirror_mode": {
    "name": "ipython",
    "version": 3
   },
   "file_extension": ".py",
   "mimetype": "text/x-python",
   "name": "python",
   "nbconvert_exporter": "python",
   "pygments_lexer": "ipython3",
   "version": "3.7.3"
  }
 },
 "nbformat": 4,
 "nbformat_minor": 2
}

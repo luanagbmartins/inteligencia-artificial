{
 "cells": [
  {
   "cell_type": "markdown",
   "metadata": {},
   "source": [
    "# **Instituto de Informática - UFG**\n",
    "\n",
    "Disciplina: Inteligência Artificial\n",
    "\n",
    "Prof. Cedric Luiz de Carvalho\n",
    "\n",
    "Grupo ( A )\n",
    "\n",
    "---\n",
    "\n",
    "\n",
    "Aluna(o): Luana Guedes Barros Martins\n",
    "\n",
    "---\n",
    "\n",
    "Aluna(o): Ruan Chaves Rodrigues\n",
    "\n",
    "---\n",
    "\n",
    "Aluna(o): Thiago Monteles de Souza\n",
    "\n",
    "---"
   ]
  },
  {
   "cell_type": "markdown",
   "metadata": {},
   "source": [
    "# Atividade Prática 06 - Processamento de Linguagem Natural\n",
    "\n",
    "Particionamento das atividades:\n",
    "- Luana Guedes Barros Martins: Desenvolvedor\n",
    "- Ruan Chaves Rodrigues: Analista de dados\n",
    "- Thiago Monteles de Souza: Gerente do Projeto"
   ]
  },
  {
   "cell_type": "code",
   "execution_count": 1,
   "metadata": {},
   "outputs": [
    {
     "name": "stdout",
     "output_type": "stream",
     "text": [
      "Requirement already satisfied: gensim in /run/media/user/DADOS/anaconda3/lib/python3.7/site-packages (3.8.0)\n",
      "Requirement already satisfied: scipy>=0.18.1 in /run/media/user/DADOS/anaconda3/lib/python3.7/site-packages (from gensim) (1.3.0)\n",
      "Requirement already satisfied: six>=1.5.0 in /run/media/user/DADOS/anaconda3/lib/python3.7/site-packages (from gensim) (1.12.0)\n",
      "Requirement already satisfied: numpy>=1.11.3 in /run/media/user/DADOS/anaconda3/lib/python3.7/site-packages (from gensim) (1.16.4)\n",
      "Requirement already satisfied: smart-open>=1.7.0 in /run/media/user/DADOS/anaconda3/lib/python3.7/site-packages (from gensim) (1.8.4)\n",
      "Requirement already satisfied: boto>=2.32 in /run/media/user/DADOS/anaconda3/lib/python3.7/site-packages (from smart-open>=1.7.0->gensim) (2.49.0)\n",
      "Requirement already satisfied: boto3 in /run/media/user/DADOS/anaconda3/lib/python3.7/site-packages (from smart-open>=1.7.0->gensim) (1.9.207)\n",
      "Requirement already satisfied: requests in /run/media/user/DADOS/anaconda3/lib/python3.7/site-packages (from smart-open>=1.7.0->gensim) (2.22.0)\n",
      "Requirement already satisfied: jmespath<1.0.0,>=0.7.1 in /run/media/user/DADOS/anaconda3/lib/python3.7/site-packages (from boto3->smart-open>=1.7.0->gensim) (0.9.4)\n",
      "Requirement already satisfied: botocore<1.13.0,>=1.12.207 in /run/media/user/DADOS/anaconda3/lib/python3.7/site-packages (from boto3->smart-open>=1.7.0->gensim) (1.12.207)\n",
      "Requirement already satisfied: s3transfer<0.3.0,>=0.2.0 in /run/media/user/DADOS/anaconda3/lib/python3.7/site-packages (from boto3->smart-open>=1.7.0->gensim) (0.2.1)\n",
      "Requirement already satisfied: idna<2.9,>=2.5 in /run/media/user/DADOS/anaconda3/lib/python3.7/site-packages (from requests->smart-open>=1.7.0->gensim) (2.8)\n",
      "Requirement already satisfied: urllib3!=1.25.0,!=1.25.1,<1.26,>=1.21.1 in /run/media/user/DADOS/anaconda3/lib/python3.7/site-packages (from requests->smart-open>=1.7.0->gensim) (1.24.2)\n",
      "Requirement already satisfied: chardet<3.1.0,>=3.0.2 in /run/media/user/DADOS/anaconda3/lib/python3.7/site-packages (from requests->smart-open>=1.7.0->gensim) (3.0.4)\n",
      "Requirement already satisfied: certifi>=2017.4.17 in /run/media/user/DADOS/anaconda3/lib/python3.7/site-packages (from requests->smart-open>=1.7.0->gensim) (2019.6.16)\n",
      "Requirement already satisfied: python-dateutil<3.0.0,>=2.1; python_version >= \"2.7\" in /run/media/user/DADOS/anaconda3/lib/python3.7/site-packages (from botocore<1.13.0,>=1.12.207->boto3->smart-open>=1.7.0->gensim) (2.8.0)\n",
      "Requirement already satisfied: docutils<0.15,>=0.10 in /run/media/user/DADOS/anaconda3/lib/python3.7/site-packages (from botocore<1.13.0,>=1.12.207->boto3->smart-open>=1.7.0->gensim) (0.14)\n"
     ]
    }
   ],
   "source": [
    "!pip install gensim"
   ]
  },
  {
   "cell_type": "code",
   "execution_count": 2,
   "metadata": {},
   "outputs": [
    {
     "name": "stdout",
     "output_type": "stream",
     "text": [
      "Requirement already satisfied: spacy in /run/media/user/DADOS/anaconda3/lib/python3.7/site-packages (2.1.8)\n",
      "Requirement already satisfied: blis<0.3.0,>=0.2.2 in /run/media/user/DADOS/anaconda3/lib/python3.7/site-packages (from spacy) (0.2.4)\n",
      "Requirement already satisfied: wasabi<1.1.0,>=0.2.0 in /run/media/user/DADOS/anaconda3/lib/python3.7/site-packages (from spacy) (0.2.2)\n",
      "Requirement already satisfied: murmurhash<1.1.0,>=0.28.0 in /run/media/user/DADOS/anaconda3/lib/python3.7/site-packages (from spacy) (1.0.2)\n",
      "Requirement already satisfied: cymem<2.1.0,>=2.0.2 in /run/media/user/DADOS/anaconda3/lib/python3.7/site-packages (from spacy) (2.0.2)\n",
      "Requirement already satisfied: plac<1.0.0,>=0.9.6 in /run/media/user/DADOS/anaconda3/lib/python3.7/site-packages (from spacy) (0.9.6)\n",
      "Requirement already satisfied: thinc<7.1.0,>=7.0.8 in /run/media/user/DADOS/anaconda3/lib/python3.7/site-packages (from spacy) (7.0.8)\n",
      "Requirement already satisfied: requests<3.0.0,>=2.13.0 in /run/media/user/DADOS/anaconda3/lib/python3.7/site-packages (from spacy) (2.22.0)\n",
      "Requirement already satisfied: srsly<1.1.0,>=0.0.6 in /run/media/user/DADOS/anaconda3/lib/python3.7/site-packages (from spacy) (0.0.7)\n",
      "Requirement already satisfied: preshed<2.1.0,>=2.0.1 in /run/media/user/DADOS/anaconda3/lib/python3.7/site-packages (from spacy) (2.0.1)\n",
      "Requirement already satisfied: numpy>=1.15.0 in /run/media/user/DADOS/anaconda3/lib/python3.7/site-packages (from spacy) (1.16.4)\n",
      "Requirement already satisfied: tqdm<5.0.0,>=4.10.0 in /run/media/user/DADOS/anaconda3/lib/python3.7/site-packages (from thinc<7.1.0,>=7.0.8->spacy) (4.32.1)\n",
      "Requirement already satisfied: chardet<3.1.0,>=3.0.2 in /run/media/user/DADOS/anaconda3/lib/python3.7/site-packages (from requests<3.0.0,>=2.13.0->spacy) (3.0.4)\n",
      "Requirement already satisfied: certifi>=2017.4.17 in /run/media/user/DADOS/anaconda3/lib/python3.7/site-packages (from requests<3.0.0,>=2.13.0->spacy) (2019.6.16)\n",
      "Requirement already satisfied: idna<2.9,>=2.5 in /run/media/user/DADOS/anaconda3/lib/python3.7/site-packages (from requests<3.0.0,>=2.13.0->spacy) (2.8)\n",
      "Requirement already satisfied: urllib3!=1.25.0,!=1.25.1,<1.26,>=1.21.1 in /run/media/user/DADOS/anaconda3/lib/python3.7/site-packages (from requests<3.0.0,>=2.13.0->spacy) (1.24.2)\n"
     ]
    }
   ],
   "source": [
    "!pip install spacy"
   ]
  },
  {
   "cell_type": "code",
   "execution_count": 3,
   "metadata": {},
   "outputs": [
    {
     "name": "stdout",
     "output_type": "stream",
     "text": [
      "Requirement already satisfied: pt_core_news_sm==2.1.0 from https://github.com/explosion/spacy-models/releases/download/pt_core_news_sm-2.1.0/pt_core_news_sm-2.1.0.tar.gz#egg=pt_core_news_sm==2.1.0 in /run/media/user/DADOS/anaconda3/lib/python3.7/site-packages (2.1.0)\n",
      "\u001b[38;5;2m✔ Download and installation successful\u001b[0m\n",
      "You can now load the model via spacy.load('pt_core_news_sm')\n"
     ]
    }
   ],
   "source": [
    "!python -m spacy download pt_core_news_sm"
   ]
  },
  {
   "cell_type": "code",
   "execution_count": 4,
   "metadata": {},
   "outputs": [
    {
     "name": "stdout",
     "output_type": "stream",
     "text": [
      "Requirement already satisfied: nltk in /run/media/user/DADOS/anaconda3/lib/python3.7/site-packages (3.4.4)\n",
      "Requirement already satisfied: six in /run/media/user/DADOS/anaconda3/lib/python3.7/site-packages (from nltk) (1.12.0)\n"
     ]
    },
    {
     "name": "stderr",
     "output_type": "stream",
     "text": [
      "[nltk_data] Downloading package stopwords to /home/user/nltk_data...\n",
      "[nltk_data]   Package stopwords is already up-to-date!\n"
     ]
    },
    {
     "data": {
      "text/plain": [
       "True"
      ]
     },
     "execution_count": 4,
     "metadata": {},
     "output_type": "execute_result"
    }
   ],
   "source": [
    "!pip install nltk\n",
    "import nltk\n",
    "nltk.download('stopwords')"
   ]
  },
  {
   "cell_type": "code",
   "execution_count": 5,
   "metadata": {},
   "outputs": [],
   "source": [
    "# Imports\n",
    "\n",
    "from collections import defaultdict\n",
    "from gensim import corpora, models, similarities\n",
    "from gensim.utils import simple_preprocess\n",
    "import numpy as np\n",
    "\n",
    "import pandas as pd\n",
    "import spacy \n",
    "from collections import Counter\n",
    "import seaborn as sns\n",
    "\n",
    "%matplotlib inline\n",
    "import matplotlib.pyplot as plt\n",
    "import networkx as nx"
   ]
  },
  {
   "cell_type": "markdown",
   "metadata": {},
   "source": [
    "## Descrição do Problema\n",
    "\n",
    "Utilizando as técnicas estudadas, será desenvolvido uma ferramenta que permita a comparação de pequenos textos. Devem ser definidas métricas de comparação que classifique os textos segundo critérios de similaridade.\n",
    "\n",
    "A ferramenta deverá ser aplicada aos Estudos Dirigidos desenvolvidos ao longo do curso de Inteligência Artificial 2019-3. Para cada estudo, deve-se construir uma matriz que mostre a similaridade entre os documentos. Depois, definir um documento de referência e traçar um gráfico de similaridade dos demais em relação a ele."
   ]
  },
  {
   "cell_type": "markdown",
   "metadata": {},
   "source": [
    "## Tratamento dos Dados"
   ]
  },
  {
   "cell_type": "code",
   "execution_count": 6,
   "metadata": {},
   "outputs": [],
   "source": [
    "\n",
    "\n",
    "def preprocess(source):\n",
    "    stopwords = nltk.corpus.stopwords.words('portuguese')\n",
    "    nlp = spacy.load(\"pt_core_news_sm\")\n",
    "    docs = pd.read_csv(source, sep=\";\").fillna('o').astype(str).values.flatten().tolist()\n",
    "    ids = pd.read_csv(source, sep=\";\").fillna('o').values\n",
    "    ids = [ [(idx2, idx) for idx,v in enumerate(v2) ] for idx2,v2 in enumerate(ids) ]\n",
    "    ids = [x for y in ids for x in y ]\n",
    "    docs = [nlp(x) for x in docs]\n",
    "    docs = [ [ y for y in x if y.is_punct == False and y.text.lower() not in stopwords] for x in docs ]\n",
    "    tokens = [ [ y.lemma_.lower() for y in x ] for x in docs ]\n",
    "    \n",
    "    counter = dict(Counter([ x for y in tokens for x in y ]))\n",
    "    low_freq = [x for x in counter.keys() if counter[x] == 1]\n",
    "    tokens = [ [ x for x in y if x not in low_freq ] for y in tokens ]\n",
    "    \n",
    "    token_docs = [ ' '.join(x) for x in tokens ]\n",
    "    mydict = corpora.Dictionary([simple_preprocess(line) for line in token_docs])\n",
    "    \n",
    "    corpus = [mydict.doc2bow(simple_preprocess(line)) for line in token_docs]\n",
    "    \n",
    "    return {\n",
    "        \"nlp\": docs,\n",
    "        \"corpus\" : corpus,\n",
    "        \"dict\": mydict,\n",
    "        \"tokens\": tokens,\n",
    "        \"ids\" : ids\n",
    "    }"
   ]
  },
  {
   "cell_type": "markdown",
   "metadata": {},
   "source": [
    "## Definição do Modelo"
   ]
  },
  {
   "cell_type": "code",
   "execution_count": 7,
   "metadata": {},
   "outputs": [],
   "source": [
    "def tfidf(preprocess_dict):\n",
    "    corpus = preprocess_dict['corpus']\n",
    "    mydict = preprocess_dict['dict']\n",
    "    nf = len(mydict.dfs)\n",
    "    tfidf = models.TfidfModel(corpus)\n",
    "    index = similarities.SparseMatrixSimilarity(tfidf[corpus], num_features=nf)\n",
    "    return {\n",
    "        \"model\" : tfidf,\n",
    "        \"index\" : index\n",
    "    }\n",
    "\n",
    "def get_dataplot(preprocess_dict, model_dict):\n",
    "    corpus = preprocess_dict['corpus']\n",
    "    tfidf = model_dict['model']\n",
    "    index = model_dict['index']\n",
    "    dataplot = []\n",
    "    for item in corpus:\n",
    "        dataplot.append(index[tfidf[item]])\n",
    "    return pd.DataFrame(dataplot)\n",
    "\n",
    "def get_dict(preprocess_dict=None, dataplot=None, threshold=None):\n",
    "    ids = preprocess_dict['ids']\n",
    "    df = dataplot\n",
    "    tmp = df.applymap(lambda x: 'nan' if x < threshold else x)\n",
    "    arr = tmp.values.tolist()\n",
    "    matches = []\n",
    "    \n",
    "    for idx, item in enumerate(arr):\n",
    "        for idx2, item2 in enumerate(item):\n",
    "            if idx != idx2 and arr[idx][idx2] != 'nan':\n",
    "                matches.append([idx, idx2])\n",
    "    pairs = [ [ ids[x][0] for x in y ] for y in matches ]\n",
    "    \n",
    "    dict_pairs = dict(Counter([ tuple(x) for x in pairs ])).items()\n",
    "    \n",
    "    max_val = max([ x[0][0] for x in dict_pairs ])\n",
    "    dataplot = []\n",
    "    for i in range(max_val):\n",
    "        row = []\n",
    "        for j in range(max_val):\n",
    "            if i != j:\n",
    "                for item in dict_pairs:\n",
    "                    if i == item[0][0] and j == item[0][1]:\n",
    "                        row.append(item[1])\n",
    "                        break\n",
    "                else:\n",
    "                    row.append(0)\n",
    "        dataplot.append(row)\n",
    "    return dataplot"
   ]
  },
  {
   "cell_type": "code",
   "execution_count": 8,
   "metadata": {},
   "outputs": [],
   "source": [
    "source = \"Dados - ED05.csv\""
   ]
  },
  {
   "cell_type": "code",
   "execution_count": 9,
   "metadata": {},
   "outputs": [],
   "source": [
    "data_dict = preprocess(source)"
   ]
  },
  {
   "cell_type": "code",
   "execution_count": 10,
   "metadata": {},
   "outputs": [],
   "source": [
    "model_dict = tfidf(data_dict)"
   ]
  },
  {
   "cell_type": "code",
   "execution_count": 11,
   "metadata": {},
   "outputs": [],
   "source": [
    "plt.rcParams[\"figure.figsize\"] = (20,10)"
   ]
  },
  {
   "cell_type": "code",
   "execution_count": 12,
   "metadata": {},
   "outputs": [
    {
     "data": {
      "text/plain": [
       "<matplotlib.axes._subplots.AxesSubplot at 0x7fe69e7e6828>"
      ]
     },
     "execution_count": 12,
     "metadata": {},
     "output_type": "execute_result"
    },
    {
     "data": {
      "image/png": "[encoded data removed]",
      "text/plain": [
       "<Figure size 1440x720 with 2 Axes>"
      ]
     },
     "metadata": {
      "needs_background": "light"
     },
     "output_type": "display_data"
    }
   ],
   "source": [
    "dataplot = get_dict(preprocess_dict=data_dict, \n",
    "                    dataplot=get_dataplot(data_dict, model_dict), \n",
    "                    threshold=0.9)\n",
    "\n",
    "mask = np.zeros_like(dataplot, dtype=np.bool)\n",
    "mask[np.triu_indices_from(mask)] = True\n",
    "\n",
    "sns.heatmap(data=pd.DataFrame(dataplot), mask=mask, cmap='Blues', annot=True)"
   ]
  },
  {
   "cell_type": "code",
   "execution_count": 13,
   "metadata": {},
   "outputs": [
    {
     "data": {
      "text/html": [
       "<div>\n",
       "<style scoped>\n",
       "    .dataframe tbody tr th:only-of-type {\n",
       "        vertical-align: middle;\n",
       "    }\n",
       "\n",
       "    .dataframe tbody tr th {\n",
       "        vertical-align: top;\n",
       "    }\n",
       "\n",
       "    .dataframe thead th {\n",
       "        text-align: right;\n",
       "    }\n",
       "</style>\n",
       "<table border=\"1\" class=\"dataframe\">\n",
       "  <thead>\n",
       "    <tr style=\"text-align: right;\">\n",
       "      <th></th>\n",
       "      <th>9</th>\n",
       "      <th>4</th>\n",
       "    </tr>\n",
       "  </thead>\n",
       "  <tbody>\n",
       "    <tr>\n",
       "      <th>Resposta 22</th>\n",
       "      <td>A principal limitação das redes de uma camada, como as redes perceptron e adaline, é que elas conseguem classificar apenas objetos que são linearmente separáveis.</td>\n",
       "      <td>A principal limitação das redes de uma camada, como as redes perceptron e adaline, é que elas conseguem classificar apenas objetos que são linearmente separáveis.</td>\n",
       "    </tr>\n",
       "    <tr>\n",
       "      <th>Resposta 39</th>\n",
       "      <td>O número de neurônios em uma camada intermediária de uma RNA depende de vários fatores, como: número de exemplos de treinamento; quantidade de ruído presente nos exemplos; complexidade da função a ser aprendida; distribuição estatística dos dados de treinamento.</td>\n",
       "      <td>O número de neurônios em uma camada intermediária de uma RNA depende de vários fatores, como: número de exemplos de treinamento; quantidade de ruído presente nos exemplos; complexidade da função a ser aprendida; distribuição estatística dos dados de treinamento.</td>\n",
       "    </tr>\n",
       "    <tr>\n",
       "      <th>Resposta 5</th>\n",
       "      <td>Apesar de os neurônios biológicos possuírem um tempo de execução normalmente da ordem de 10^(-3) segundos, o cérebro é capaz de realizar diversas tarefas (como reconhecimento de padrões, percepção e controle motor) várias vezes mais rapidamente que o mais rápido computador digital existente na atualidade.</td>\n",
       "      <td>Apesar de os neurônios biológicos possuírem um tempo de execução normalmente da ordem de 10^(-3) segundos, o cérebro é capaz de realizar diversas tarefas (como reconhecimento de padrões, percepção e controle motor) várias vezes mais rapidamente que o mais rápido computador digital existente na atualidade.</td>\n",
       "    </tr>\n",
       "    <tr>\n",
       "      <th>Resposta 19</th>\n",
       "      <td>O teorema de convergência de uma rede perceptron diz que se é possível classificar um conjunto de entradas linearmente, uma rede perceptron fará a classificação.</td>\n",
       "      <td>O teorema de convergência de uma rede perceptron diz que se é possível classificar um conjunto de entradas linearmente, uma rede perceptron fará a classificação.</td>\n",
       "    </tr>\n",
       "    <tr>\n",
       "      <th>Resposta 20</th>\n",
       "      <td>As principais diferenças entre as duas redes é que a rede adaline utiliza uma função de ativação linear e, assim, leva a magnitude do erro em consideração na hora de ajustar os pesos na rede.</td>\n",
       "      <td>As principais diferenças entre as duas redes é que a rede adaline utiliza uma função de ativação linear e, assim, leva a magnitude do erro em consideração na hora de ajustar os pesos na rede.</td>\n",
       "    </tr>\n",
       "  </tbody>\n",
       "</table>\n",
       "</div>"
      ],
      "text/plain": [
       "                                                                                                                                                                                                                                                                                                                              9  \\\n",
       "Resposta 22  A principal limitação das redes de uma camada, como as redes perceptron e adaline, é que elas conseguem classificar apenas objetos que são linearmente separáveis.                                                                                                                                                   \n",
       "Resposta 39  O número de neurônios em uma camada intermediária de uma RNA depende de vários fatores, como: número de exemplos de treinamento; quantidade de ruído presente nos exemplos; complexidade da função a ser aprendida; distribuição estatística dos dados de treinamento.                                               \n",
       "Resposta 5   Apesar de os neurônios biológicos possuírem um tempo de execução normalmente da ordem de 10^(-3) segundos, o cérebro é capaz de realizar diversas tarefas (como reconhecimento de padrões, percepção e controle motor) várias vezes mais rapidamente que o mais rápido computador digital existente na atualidade.   \n",
       "Resposta 19  O teorema de convergência de uma rede perceptron diz que se é possível classificar um conjunto de entradas linearmente, uma rede perceptron fará a classificação.                                                                                                                                                    \n",
       "Resposta 20  As principais diferenças entre as duas redes é que a rede adaline utiliza uma função de ativação linear e, assim, leva a magnitude do erro em consideração na hora de ajustar os pesos na rede.                                                                                                                      \n",
       "\n",
       "                                                                                                                                                                                                                                                                                                                              4  \n",
       "Resposta 22  A principal limitação das redes de uma camada, como as redes perceptron e adaline, é que elas conseguem classificar apenas objetos que são linearmente separáveis.                                                                                                                                                  \n",
       "Resposta 39  O número de neurônios em uma camada intermediária de uma RNA depende de vários fatores, como: número de exemplos de treinamento; quantidade de ruído presente nos exemplos; complexidade da função a ser aprendida; distribuição estatística dos dados de treinamento.                                              \n",
       "Resposta 5   Apesar de os neurônios biológicos possuírem um tempo de execução normalmente da ordem de 10^(-3) segundos, o cérebro é capaz de realizar diversas tarefas (como reconhecimento de padrões, percepção e controle motor) várias vezes mais rapidamente que o mais rápido computador digital existente na atualidade.  \n",
       "Resposta 19  O teorema de convergência de uma rede perceptron diz que se é possível classificar um conjunto de entradas linearmente, uma rede perceptron fará a classificação.                                                                                                                                                   \n",
       "Resposta 20  As principais diferenças entre as duas redes é que a rede adaline utiliza uma função de ativação linear e, assim, leva a magnitude do erro em consideração na hora de ajustar os pesos na rede.                                                                                                                     "
      ]
     },
     "execution_count": 13,
     "metadata": {},
     "output_type": "execute_result"
    }
   ],
   "source": [
    "pd.set_option('display.max_colwidth', -1)\n",
    "pd.read_csv(source, sep=\";\").iloc[[9,4]].transpose().sample(5)"
   ]
  },
  {
   "cell_type": "code",
   "execution_count": 14,
   "metadata": {},
   "outputs": [
    {
     "data": {
      "text/html": [
       "<div>\n",
       "<style scoped>\n",
       "    .dataframe tbody tr th:only-of-type {\n",
       "        vertical-align: middle;\n",
       "    }\n",
       "\n",
       "    .dataframe tbody tr th {\n",
       "        vertical-align: top;\n",
       "    }\n",
       "\n",
       "    .dataframe thead th {\n",
       "        text-align: right;\n",
       "    }\n",
       "</style>\n",
       "<table border=\"1\" class=\"dataframe\">\n",
       "  <thead>\n",
       "    <tr style=\"text-align: right;\">\n",
       "      <th></th>\n",
       "      <th>5</th>\n",
       "      <th>1</th>\n",
       "    </tr>\n",
       "  </thead>\n",
       "  <tbody>\n",
       "    <tr>\n",
       "      <th>Resposta 37</th>\n",
       "      <td>Plotando um gráfico com as taxas de erros dos dados de treinamento e validação e examinando. Quando a taxa de erro de validação começar a subir, significa que a rede parou de aprender.</td>\n",
       "      <td>Plotando um grafico com as taxas de erros dos dados de treinamento e validação e examinando. Quando a taxa de erro de validação começar a subir, significa que a rede parou de aprender.</td>\n",
       "    </tr>\n",
       "    <tr>\n",
       "      <th>Resposta 17</th>\n",
       "      <td>O valor da taxa de aprendizado define a magnitude do ajuste feito no valor de cada peso. Valores altos fazem com que as variações sejam grandes,enquanto taxas pequenas implicam poucas variações nos pesos.</td>\n",
       "      <td>O valor da taxa de aprendizado define a magnitude do ajuste feito no valor de cada peso. Valores altos fazem com que as variações sejam grandes,enquanto taxas pequenas implicam poucas variações nos pesos.</td>\n",
       "    </tr>\n",
       "    <tr>\n",
       "      <th>Resposta 7</th>\n",
       "      <td>A arquitetura de uma RNA está relacionada ao tipo e número de unidades de processamento e à forma como os neurônios estão conectados.</td>\n",
       "      <td>A arquitetura de uma RNA está relacionada ao tipo e numero de unidades de processamento e a forma como os neurônios estão conectados.</td>\n",
       "    </tr>\n",
       "    <tr>\n",
       "      <th>Resposta 1</th>\n",
       "      <td>O fundamento natural das redes neurais artificiais é baseado na complexa estrutura biológica dos seres humanos. Especialmente, a redes neurais artificiais foram inspiradas no funcionamento do sistema nervoso, com o objetivo de simular a capacidade de aprendizado do cérebro humano na aquisição de conhecimento.</td>\n",
       "      <td>O fundamento natural das redes neurais artificiais é baseado na complexa estrutura biológica dos seres humanos. Especialmente, a redes neurais artificiais foram inspiradas no funcionamento do sistema nervoso, com o objetivo de simular a capacidade de aprendizado do cérebro humano na aquisição de conhecimento.</td>\n",
       "    </tr>\n",
       "    <tr>\n",
       "      <th>Resposta 32</th>\n",
       "      <td>Como os valores dos erros são conhecidos apenas para os neurônios da camada de saída, o erro para os neurônios das camadas intermediárias precisa estimado. O algoritmo back-propagation propõe uma maneira de estimar o erro dos neurônios das camadas intermediárias utilizando os erros observados nos neurônios da camada anterior. O erro de um neurônio de uma dada camada intermediária é estimado como a soma dos erros dos neurônios da camada seguinte, cujos terminais de entrada estão conectados a ele, ponderados pelo valor do peso associado a essas conexões.</td>\n",
       "      <td>Como os valores dos erros são conhecidos apenas para os neurônios da camada de saída, o erro para os neurônios das camadas intermediárias precisa estimado. O algoritmo back-propagation propõe uma maneira de estimar o erro dos neurônios das camadas intermediárias utilizando os erros observados nos neurônios da camada anterior. O erro de um neurônio de uma dada camada intermediária é estimado como a soma dos erros dos neurônios da camada seguinte, cujos terminais de entrada estão conectados a ele, ponderados pelo valor do peso associado a essas conexões.</td>\n",
       "    </tr>\n",
       "  </tbody>\n",
       "</table>\n",
       "</div>"
      ],
      "text/plain": [
       "                                                                                                                                                                                                                                                                                                                                                                                                                                                                                                                                                                                          5  \\\n",
       "Resposta 37  Plotando um gráfico com as taxas de erros dos dados de treinamento e validação e examinando. Quando a taxa de erro de validação começar a subir, significa que a rede parou de aprender.                                                                                                                                                                                                                                                                                                                                                                                         \n",
       "Resposta 17  O valor da taxa de aprendizado define a magnitude do ajuste feito no valor de cada peso. Valores altos fazem com que as variações sejam grandes,enquanto taxas pequenas implicam poucas variações nos pesos.                                                                                                                                                                                                                                                                                                                                                                     \n",
       "Resposta 7   A arquitetura de uma RNA está relacionada ao tipo e número de unidades de processamento e à forma como os neurônios estão conectados.                                                                                                                                                                                                                                                                                                                                                                                                                                            \n",
       "Resposta 1   O fundamento natural das redes neurais artificiais é baseado na complexa estrutura biológica dos seres humanos. Especialmente, a redes neurais artificiais foram inspiradas no funcionamento do sistema nervoso, com o objetivo de simular a capacidade de aprendizado do cérebro humano na aquisição de conhecimento.                                                                                                                                                                                                                                                           \n",
       "Resposta 32  Como os valores dos erros são conhecidos apenas para os neurônios da camada de saída, o erro para os neurônios das camadas intermediárias precisa estimado. O algoritmo back-propagation propõe uma maneira de estimar o erro dos neurônios das camadas intermediárias utilizando os erros observados nos neurônios da camada anterior. O erro de um neurônio de uma dada camada intermediária é estimado como a soma dos erros dos neurônios da camada seguinte, cujos terminais de entrada estão conectados a ele, ponderados pelo valor do peso associado a essas conexões.   \n",
       "\n",
       "                                                                                                                                                                                                                                                                                                                                                                                                                                                                                                                                                                                          1  \n",
       "Resposta 37  Plotando um grafico com as taxas de erros dos dados de treinamento e validação e examinando. Quando a taxa de erro de validação começar a subir, significa que a rede parou de aprender.                                                                                                                                                                                                                                                                                                                                                                                        \n",
       "Resposta 17  O valor da taxa de aprendizado define a magnitude do ajuste feito no valor de cada peso. Valores altos fazem com que as variações sejam grandes,enquanto taxas pequenas implicam poucas variações nos pesos.                                                                                                                                                                                                                                                                                                                                                                    \n",
       "Resposta 7   A arquitetura de uma RNA está relacionada ao tipo e numero de unidades de processamento e a forma como os neurônios estão conectados.                                                                                                                                                                                                                                                                                                                                                                                                                                           \n",
       "Resposta 1   O fundamento natural das redes neurais artificiais é baseado na complexa estrutura biológica dos seres humanos. Especialmente, a redes neurais artificiais foram inspiradas no funcionamento do sistema nervoso, com o objetivo de simular a capacidade de aprendizado do cérebro humano na aquisição de conhecimento.                                                                                                                                                                                                                                                          \n",
       "Resposta 32  Como os valores dos erros são conhecidos apenas para os neurônios da camada de saída, o erro para os neurônios das camadas intermediárias precisa estimado. O algoritmo back-propagation propõe uma maneira de estimar o erro dos neurônios das camadas intermediárias utilizando os erros observados nos neurônios da camada anterior. O erro de um neurônio de uma dada camada intermediária é estimado como a soma dos erros dos neurônios da camada seguinte, cujos terminais de entrada estão conectados a ele, ponderados pelo valor do peso associado a essas conexões.  "
      ]
     },
     "execution_count": 14,
     "metadata": {},
     "output_type": "execute_result"
    }
   ],
   "source": [
    "pd.set_option('display.max_colwidth', -1)\n",
    "pd.read_csv(source, sep=\";\").iloc[[5,1]].transpose().sample(5)"
   ]
  },
  {
   "cell_type": "code",
   "execution_count": 15,
   "metadata": {},
   "outputs": [],
   "source": [
    "source = \"Dados - ED08.csv\""
   ]
  },
  {
   "cell_type": "code",
   "execution_count": 16,
   "metadata": {},
   "outputs": [],
   "source": [
    "data_dict = preprocess(source)\n",
    "model_dict = tfidf(data_dict)"
   ]
  },
  {
   "cell_type": "code",
   "execution_count": 17,
   "metadata": {},
   "outputs": [
    {
     "data": {
      "text/plain": [
       "<matplotlib.axes._subplots.AxesSubplot at 0x7fe69e74e5f8>"
      ]
     },
     "execution_count": 17,
     "metadata": {},
     "output_type": "execute_result"
    },
    {
     "data": {
      "image/png": "[encoded data removed]",
      "text/plain": [
       "<Figure size 1440x720 with 2 Axes>"
      ]
     },
     "metadata": {
      "needs_background": "light"
     },
     "output_type": "display_data"
    }
   ],
   "source": [
    "dataplot = get_dict(preprocess_dict=data_dict, \n",
    "                    dataplot=get_dataplot(data_dict, model_dict), \n",
    "                    threshold=0.9)\n",
    "\n",
    "mask = np.zeros_like(dataplot, dtype=np.bool)\n",
    "mask[np.triu_indices_from(mask)] = True\n",
    "\n",
    "sns.heatmap(data=pd.DataFrame(dataplot), mask=mask, cmap='Blues', annot=True)"
   ]
  },
  {
   "cell_type": "code",
   "execution_count": 18,
   "metadata": {},
   "outputs": [],
   "source": [
    "source = \"Dados- ED09.csv\""
   ]
  },
  {
   "cell_type": "code",
   "execution_count": 19,
   "metadata": {},
   "outputs": [],
   "source": [
    "data_dict = preprocess(source)\n",
    "model_dict = tfidf(data_dict)"
   ]
  },
  {
   "cell_type": "code",
   "execution_count": 20,
   "metadata": {},
   "outputs": [
    {
     "data": {
      "text/plain": [
       "<matplotlib.axes._subplots.AxesSubplot at 0x7fe69b818a58>"
      ]
     },
     "execution_count": 20,
     "metadata": {},
     "output_type": "execute_result"
    },
    {
     "data": {
      "image/png": "[encoded data removed]",
      "text/plain": [
       "<Figure size 1440x720 with 2 Axes>"
      ]
     },
     "metadata": {
      "needs_background": "light"
     },
     "output_type": "display_data"
    }
   ],
   "source": [
    "dataplot = get_dict(preprocess_dict=data_dict, \n",
    "                    dataplot=get_dataplot(data_dict, model_dict), \n",
    "                    threshold=0.9)\n",
    "\n",
    "mask = np.zeros_like(dataplot, dtype=np.bool)\n",
    "mask[np.triu_indices_from(mask)] = True\n",
    "\n",
    "sns.heatmap(data=pd.DataFrame(dataplot), mask=mask, cmap='Blues', annot=True)"
   ]
  },
  {
   "cell_type": "code",
   "execution_count": 21,
   "metadata": {},
   "outputs": [
    {
     "data": {
      "text/html": [
       "<div>\n",
       "<style scoped>\n",
       "    .dataframe tbody tr th:only-of-type {\n",
       "        vertical-align: middle;\n",
       "    }\n",
       "\n",
       "    .dataframe tbody tr th {\n",
       "        vertical-align: top;\n",
       "    }\n",
       "\n",
       "    .dataframe thead th {\n",
       "        text-align: right;\n",
       "    }\n",
       "</style>\n",
       "<table border=\"1\" class=\"dataframe\">\n",
       "  <thead>\n",
       "    <tr style=\"text-align: right;\">\n",
       "      <th></th>\n",
       "      <th>9</th>\n",
       "      <th>5</th>\n",
       "    </tr>\n",
       "  </thead>\n",
       "  <tbody>\n",
       "    <tr>\n",
       "      <th>Resposta 7</th>\n",
       "      <td>Isso envolve o exame do significado das palavras e frases. Como veremos, é possível que uma sentença esteja sintaticamente correta, mas sem significado semanticamente. Por outro lado, é desejável que um sistema de computador seja capaz de compreender sentenças com sintaxe incorreta, mas que ainda transmitam informações úteis semanticamente.</td>\n",
       "      <td>Isso envolve o exame do significado das palavras e frases. Como veremos, é possível que uma sentença esteja sintaticamente correta, mas sem significado semanticamente. Por outro lado, é desejável que um sistema de computador seja capaz de compreender sentenças com sintaxe incorreta, mas que ainda transmitam informações úteis semanticamente.</td>\n",
       "    </tr>\n",
       "    <tr>\n",
       "      <th>Resposta 37</th>\n",
       "      <td>O corpus de documentos é claramente muito importante. Como já foi discutido, ambiguidades no texto da consulta podem ser evitadas se o corpus for muito específico. Os sistemas de recuperação de informação tendem a não lidar bem com a ambigüidade porque geralmente não recebem nenhum conhecimento do mundo, mas são simplesmente projetados para executar análises estatísticas de palavras, a fim de identificar respostas adequadas a uma consulta.</td>\n",
       "      <td>O corpus de documentos é claramente muito importante. Como já foi discutido, ambiguidades no texto da consulta podem ser evitadas se o corpus for muito específico. Os sistemas de recuperação de informação tendem a não lidar bem com a ambigüidade porque geralmente não recebem nenhum conhecimento do mundo, mas são simplesmente projetados para executar análises estatísticas de palavras, a fim de identificar respostas adequadas a uma consulta.</td>\n",
       "    </tr>\n",
       "    <tr>\n",
       "      <th>Resposta 39</th>\n",
       "      <td>Stemming é frequentemente aplicado em sistemas de recuperação de informação para evitar este problema. O stemming envolve simplesmente remover hastes comuns como -ing, -s e -ed das palavras. Desta forma, a palavra natação será determinada para nadar e corresponderá a nadadores, nadadores e assim por diante. Normalmente não será capaz de combinar swam ou swum, porque estas são formas irregulares.</td>\n",
       "      <td>Stemming é frequentemente aplicado em sistemas de recuperação de informação para evitar este problema. O stemming envolve simplesmente remover hastes comuns como -ing, -s e -ed das palavras. Desta forma, a palavra natação será determinada para nadar e corresponderá a nadadores, nadadores e assim por diante. Normalmente não será capaz de combinar swam ou swum, porque estas são formas irregulares.</td>\n",
       "    </tr>\n",
       "    <tr>\n",
       "      <th>Resposta 9</th>\n",
       "      <td>Os sistemas de processamento de linguagem natural devem aplicar algum tipo de conhecimento do mundo. Na maioria dos sistemas do mundo real, esse conhecimento mundial é limitado a um domínio específico (por exemplo, um sistema pode ter conhecimento detalhado sobre o Blocks World e ser capaz de responder a perguntas sobre esse mundo). O objetivo final do processamento da linguagem natural seria ter um sistema com conhecimento mundial suficiente para envolver um humano na discussão sobre qualquer assunto. Este objetivo ainda está muito longe.</td>\n",
       "      <td>Os sistemas de processamento de linguagem natural devem aplicar algum tipo de conhecimento do mundo. Na maioria dos sistemas do mundo real, esse conhecimento mundial é limitado a um domínio específico (por exemplo, um sistema pode ter conhecimento detalhado sobre o Blocks World e ser capaz de responder a perguntas sobre esse mundo). O objetivo final do processamento da linguagem natural seria ter um sistema com conhecimento mundial suficiente para envolver um humano na discussão sobre qualquer assunto. Este objetivo ainda está muito longe.</td>\n",
       "    </tr>\n",
       "    <tr>\n",
       "      <th>Resposta 40</th>\n",
       "      <td>O sucesso de um sistema de recuperação de informação pode ser medido usando duas métricas: precisão e recuperação. Se um sistema tem 100% de precisão, isso significa que quando ele diz que um documento específico é relevante, então é garantido que ele está correto. Precisão menor significa que classificará erroneamente alguns documentos como sendo relevantes (falsos positivos).</td>\n",
       "      <td>O sucesso de um sistema de recuperação de informação pode ser medido usando duas métricas: precisão e recuperação. Se um sistema tem 100% de precisão, isso significa que quando ele diz que um documento específico é relevante, então é garantido que ele está correto. Precisão menor significa que classificará erroneamente alguns documentos como sendo relevantes (falsos positivos).</td>\n",
       "    </tr>\n",
       "  </tbody>\n",
       "</table>\n",
       "</div>"
      ],
      "text/plain": [
       "                                                                                                                                                                                                                                                                                                                                                                                                                                                                                                                                                                             9  \\\n",
       "Resposta 7   Isso envolve o exame do significado das palavras e frases. Como veremos, é possível que uma sentença esteja sintaticamente correta, mas sem significado semanticamente. Por outro lado, é desejável que um sistema de computador seja capaz de compreender sentenças com sintaxe incorreta, mas que ainda transmitam informações úteis semanticamente.                                                                                                                                                                                                              \n",
       "Resposta 37  O corpus de documentos é claramente muito importante. Como já foi discutido, ambiguidades no texto da consulta podem ser evitadas se o corpus for muito específico. Os sistemas de recuperação de informação tendem a não lidar bem com a ambigüidade porque geralmente não recebem nenhum conhecimento do mundo, mas são simplesmente projetados para executar análises estatísticas de palavras, a fim de identificar respostas adequadas a uma consulta.                                                                                                         \n",
       "Resposta 39  Stemming é frequentemente aplicado em sistemas de recuperação de informação para evitar este problema. O stemming envolve simplesmente remover hastes comuns como -ing, -s e -ed das palavras. Desta forma, a palavra natação será determinada para nadar e corresponderá a nadadores, nadadores e assim por diante. Normalmente não será capaz de combinar swam ou swum, porque estas são formas irregulares.                                                                                                                                                      \n",
       "Resposta 9   Os sistemas de processamento de linguagem natural devem aplicar algum tipo de conhecimento do mundo. Na maioria dos sistemas do mundo real, esse conhecimento mundial é limitado a um domínio específico (por exemplo, um sistema pode ter conhecimento detalhado sobre o Blocks World e ser capaz de responder a perguntas sobre esse mundo). O objetivo final do processamento da linguagem natural seria ter um sistema com conhecimento mundial suficiente para envolver um humano na discussão sobre qualquer assunto. Este objetivo ainda está muito longe.   \n",
       "Resposta 40  O sucesso de um sistema de recuperação de informação pode ser medido usando duas métricas: precisão e recuperação. Se um sistema tem 100% de precisão, isso significa que quando ele diz que um documento específico é relevante, então é garantido que ele está correto. Precisão menor significa que classificará erroneamente alguns documentos como sendo relevantes (falsos positivos).                                                                                                                                                                        \n",
       "\n",
       "                                                                                                                                                                                                                                                                                                                                                                                                                                                                                                                                                                             5  \n",
       "Resposta 7   Isso envolve o exame do significado das palavras e frases. Como veremos, é possível que uma sentença esteja sintaticamente correta, mas sem significado semanticamente. Por outro lado, é desejável que um sistema de computador seja capaz de compreender sentenças com sintaxe incorreta, mas que ainda transmitam informações úteis semanticamente.                                                                                                                                                                                                             \n",
       "Resposta 37  O corpus de documentos é claramente muito importante. Como já foi discutido, ambiguidades no texto da consulta podem ser evitadas se o corpus for muito específico. Os sistemas de recuperação de informação tendem a não lidar bem com a ambigüidade porque geralmente não recebem nenhum conhecimento do mundo, mas são simplesmente projetados para executar análises estatísticas de palavras, a fim de identificar respostas adequadas a uma consulta.                                                                                                        \n",
       "Resposta 39  Stemming é frequentemente aplicado em sistemas de recuperação de informação para evitar este problema. O stemming envolve simplesmente remover hastes comuns como -ing, -s e -ed das palavras. Desta forma, a palavra natação será determinada para nadar e corresponderá a nadadores, nadadores e assim por diante. Normalmente não será capaz de combinar swam ou swum, porque estas são formas irregulares.                                                                                                                                                     \n",
       "Resposta 9   Os sistemas de processamento de linguagem natural devem aplicar algum tipo de conhecimento do mundo. Na maioria dos sistemas do mundo real, esse conhecimento mundial é limitado a um domínio específico (por exemplo, um sistema pode ter conhecimento detalhado sobre o Blocks World e ser capaz de responder a perguntas sobre esse mundo). O objetivo final do processamento da linguagem natural seria ter um sistema com conhecimento mundial suficiente para envolver um humano na discussão sobre qualquer assunto. Este objetivo ainda está muito longe.  \n",
       "Resposta 40  O sucesso de um sistema de recuperação de informação pode ser medido usando duas métricas: precisão e recuperação. Se um sistema tem 100% de precisão, isso significa que quando ele diz que um documento específico é relevante, então é garantido que ele está correto. Precisão menor significa que classificará erroneamente alguns documentos como sendo relevantes (falsos positivos).                                                                                                                                                                       "
      ]
     },
     "execution_count": 21,
     "metadata": {},
     "output_type": "execute_result"
    }
   ],
   "source": [
    "pd.set_option('display.max_colwidth', -1)\n",
    "pd.read_csv(source, sep=\";\").iloc[[9,5]].transpose().sample(5)"
   ]
  },
  {
   "cell_type": "code",
   "execution_count": 25,
   "metadata": {},
   "outputs": [
    {
     "data": {
      "text/html": [
       "<div>\n",
       "<style scoped>\n",
       "    .dataframe tbody tr th:only-of-type {\n",
       "        vertical-align: middle;\n",
       "    }\n",
       "\n",
       "    .dataframe tbody tr th {\n",
       "        vertical-align: top;\n",
       "    }\n",
       "\n",
       "    .dataframe thead th {\n",
       "        text-align: right;\n",
       "    }\n",
       "</style>\n",
       "<table border=\"1\" class=\"dataframe\">\n",
       "  <thead>\n",
       "    <tr style=\"text-align: right;\">\n",
       "      <th></th>\n",
       "      <th>7</th>\n",
       "      <th>5</th>\n",
       "    </tr>\n",
       "  </thead>\n",
       "  <tbody>\n",
       "    <tr>\n",
       "      <th>Resposta 37</th>\n",
       "      <td>O corpus de documentos é claramente muito importante. Como já foi discutido, ambiguidades no texto da consulta podem ser evitadas se o corpus for muito específico. Os sistemas de recuperação de informação tendem a não lidar bem com a ambigüidade porque geralmente não recebem nenhum conhecimento do mundo, mas são simplesmente projetados para executar análises estatísticas de palavras, a fim de identificar respostas adequadas a uma consulta.</td>\n",
       "      <td>O corpus de documentos é claramente muito importante. Como já foi discutido, ambiguidades no texto da consulta podem ser evitadas se o corpus for muito específico. Os sistemas de recuperação de informação tendem a não lidar bem com a ambigüidade porque geralmente não recebem nenhum conhecimento do mundo, mas são simplesmente projetados para executar análises estatísticas de palavras, a fim de identificar respostas adequadas a uma consulta.</td>\n",
       "    </tr>\n",
       "    <tr>\n",
       "      <th>Resposta 20</th>\n",
       "      <td>Quando uma árvore de análise é construída de cima para baixo, ela é conhecida como uma árvore de derivação. Para construir uma árvore de análise de baixo para cima, os símbolos de terminal da sentença são primeiro substituídos por seus não-terminais correspondentes (por exemplo, cat é substituído por substantivo) e esses não-terminais são combinados para corresponder aos lados direitos das regras de reescrita.</td>\n",
       "      <td>Quando uma árvore de análise é construída de cima para baixo, ela é conhecida como uma árvore de derivação. Para construir uma árvore de análise de baixo para cima, os símbolos de terminal da sentença são primeiro substituídos por seus não-terminais correspondentes (por exemplo, cat é substituído por substantivo) e esses não-terminais são combinados para corresponder aos lados direitos das regras de reescrita.</td>\n",
       "    </tr>\n",
       "    <tr>\n",
       "      <th>Resposta 8</th>\n",
       "      <td>Esta é a aplicação da compreensão humana às frases e ao discurso para determinar significados que não são imediatamente claros a partir da semântica. Por exemplo, se alguém disser: &amp;quot;Você pode me dizer a hora?&amp;quot;, A maioria das pessoas sabe que \"sim\" não é uma resposta adequada.</td>\n",
       "      <td>Esta é a aplicação da compreensão humana às frases e ao discurso para determinar significados que não são imediatamente claros a partir da semântica. Por exemplo, se alguém disser: \"Você pode me dizer a hora?\", A maioria das pessoas sabe que \"sim\" não é uma resposta adequada. Pragmática permite que um sistema de computador dê uma resposta sensata a questões como esta.</td>\n",
       "    </tr>\n",
       "    <tr>\n",
       "      <th>Resposta 13</th>\n",
       "      <td>Cada símbolo de terminal é um símbolo ou palavra que aparece no próprio idioma. Em inglês, por exemplo, os símbolos do terminal são as palavras do dicionário, como gato, cachorro e assim por diante. Em linguagens formais, os símbolos de terminal incluem nomes de variáveis como x, y e assim por diante, mas, para nossos propósitos, consideramos os símbolos de terminal como sendo as palavras na linguagem. \\n\\nSímbolos não-terminais. Estes são os símbolos como substantivo, frase verbal e conjunção que são usados para definir palavras e frases da linguagem. Um símbolo não terminal é assim chamado porque é usado para representar um ou mais símbolos de terminal.\\n\\nO símbolo inicial. O símbolo inicial é usado para representar uma frase completa no idioma. No nosso caso, o símbolo de início é simplesmente sentença, mas na lógica de predicados de primeira ordem, por exemplo, o símbolo de início seria expressão.\\n\\nReescreva regras. As regras de reescrita definem a estrutura da gramática. Cada regra de reescrita detalha quais símbolos (terminais ou não-terminais) podem ser usados para compor cada símbolo não terminal.</td>\n",
       "      <td>SÍMBOLOS DE TERMINAL. Cada símbolo de terminal é um símbolo ou palavra que aparece no próprio idioma. Em inglês, por exemplo, os símbolos do terminal são as palavras do dicionário, como gato, cachorro e assim por diante. Em linguagens formais, os símbolos de terminal incluem nomes de variáveis como x, y e assim por diante, mas, para nossos propósitos, consideraremos os símbolos de terminal como sendo as palavras na linguagem.\\n\\nSÍMBOLOS NÃO-TERMINAIS. Estes são os símbolos como substantivo, frase verbal e conjunção que são usados para definir palavras e frases da linguagem. Um símbolo não terminal é assim chamado porque é usado para representar um ou mais símbolos de terminal.\\n\\nO SÍMBOLO INICIAL. O símbolo inicial é usado para representar uma frase completa no idioma. No nosso caso, o símbolo de início é simplesmente sentença, mas na lógica de predicados de primeira ordem, por exemplo, o símbolo de início seria expressão.\\n\\nREESCREVA REGRAS. As regras de reescrita definem a estrutura da gramática. Cada regra de reescrita detalha quais símbolos (terminais ou não-terminais) podem ser usados para compor cada símbolo não terminal.</td>\n",
       "    </tr>\n",
       "    <tr>\n",
       "      <th>Resposta 27</th>\n",
       "      <td>A ambiguidade lexical ocorre quando uma palavra tem mais de um significado possível. Por exemplo, um morcego pode ser um mamífero voador ou um equipamento esportivo. O conjunto de palavras é um exemplo interessante disso porque pode ser usado como um verbo, um substantivo, um adjetivo ou um advérbio. A determinação de qual parte da fala é pretendida pode muitas vezes ser obtida por um analisador em casos em que apenas uma análise é possível, mas em outros casos a desambiguação  semântica é necessária para determinar qual significado é intencional.</td>\n",
       "      <td>A ambiguidade lexical ocorre quando uma palavra tem mais de um significado possível. Por exemplo, um morcego pode ser um mamífero voador ou um equipamento esportivo. O conjunto de palavras é um exemplo interessante disso porque pode ser usado como um verbo, um substantivo, um adjetivo ou um advérbio. A determinação de qual parte da fala é pretendida pode muitas vezes ser obtida por um analisador em casos em que apenas uma análise é possível, mas em outros casos a desambiguação semântica é necessária para determinar qual significado é intencional.</td>\n",
       "    </tr>\n",
       "  </tbody>\n",
       "</table>\n",
       "</div>"
      ],
      "text/plain": [
       "                                                                                                                                                                                                                                                                                                                                                                                                                                                                                                                                                                                                                                                                                                                                                                                                                                                                                                                                                                                                                                                                                                                                                                                 7  \\\n",
       "Resposta 37  O corpus de documentos é claramente muito importante. Como já foi discutido, ambiguidades no texto da consulta podem ser evitadas se o corpus for muito específico. Os sistemas de recuperação de informação tendem a não lidar bem com a ambigüidade porque geralmente não recebem nenhum conhecimento do mundo, mas são simplesmente projetados para executar análises estatísticas de palavras, a fim de identificar respostas adequadas a uma consulta.                                                                                                                                                                                                                                                                                                                                                                                                                                                                                                                                                                                                                                                                                                             \n",
       "Resposta 20  Quando uma árvore de análise é construída de cima para baixo, ela é conhecida como uma árvore de derivação. Para construir uma árvore de análise de baixo para cima, os símbolos de terminal da sentença são primeiro substituídos por seus não-terminais correspondentes (por exemplo, cat é substituído por substantivo) e esses não-terminais são combinados para corresponder aos lados direitos das regras de reescrita.                                                                                                                                                                                                                                                                                                                                                                                                                                                                                                                                                                                                                                                                                                                                           \n",
       "Resposta 8   Esta é a aplicação da compreensão humana às frases e ao discurso para determinar significados que não são imediatamente claros a partir da semântica. Por exemplo, se alguém disser: &quot;Você pode me dizer a hora?&quot;, A maioria das pessoas sabe que \"sim\" não é uma resposta adequada.                                                                                                                                                                                                                                                                                                                                                                                                                                                                                                                                                                                                                                                                                                                                                                                                                                                                          \n",
       "Resposta 13  Cada símbolo de terminal é um símbolo ou palavra que aparece no próprio idioma. Em inglês, por exemplo, os símbolos do terminal são as palavras do dicionário, como gato, cachorro e assim por diante. Em linguagens formais, os símbolos de terminal incluem nomes de variáveis como x, y e assim por diante, mas, para nossos propósitos, consideramos os símbolos de terminal como sendo as palavras na linguagem. \\n\\nSímbolos não-terminais. Estes são os símbolos como substantivo, frase verbal e conjunção que são usados para definir palavras e frases da linguagem. Um símbolo não terminal é assim chamado porque é usado para representar um ou mais símbolos de terminal.\\n\\nO símbolo inicial. O símbolo inicial é usado para representar uma frase completa no idioma. No nosso caso, o símbolo de início é simplesmente sentença, mas na lógica de predicados de primeira ordem, por exemplo, o símbolo de início seria expressão.\\n\\nReescreva regras. As regras de reescrita definem a estrutura da gramática. Cada regra de reescrita detalha quais símbolos (terminais ou não-terminais) podem ser usados para compor cada símbolo não terminal.   \n",
       "Resposta 27  A ambiguidade lexical ocorre quando uma palavra tem mais de um significado possível. Por exemplo, um morcego pode ser um mamífero voador ou um equipamento esportivo. O conjunto de palavras é um exemplo interessante disso porque pode ser usado como um verbo, um substantivo, um adjetivo ou um advérbio. A determinação de qual parte da fala é pretendida pode muitas vezes ser obtida por um analisador em casos em que apenas uma análise é possível, mas em outros casos a desambiguação  semântica é necessária para determinar qual significado é intencional.                                                                                                                                                                                                                                                                                                                                                                                                                                                                                                                                                                                               \n",
       "\n",
       "                                                                                                                                                                                                                                                                                                                                                                                                                                                                                                                                                                                                                                                                                                                                                                                                                                                                                                                                                                                                                                                                                                                                                                                                        5  \n",
       "Resposta 37  O corpus de documentos é claramente muito importante. Como já foi discutido, ambiguidades no texto da consulta podem ser evitadas se o corpus for muito específico. Os sistemas de recuperação de informação tendem a não lidar bem com a ambigüidade porque geralmente não recebem nenhum conhecimento do mundo, mas são simplesmente projetados para executar análises estatísticas de palavras, a fim de identificar respostas adequadas a uma consulta.                                                                                                                                                                                                                                                                                                                                                                                                                                                                                                                                                                                                                                                                                                                                   \n",
       "Resposta 20  Quando uma árvore de análise é construída de cima para baixo, ela é conhecida como uma árvore de derivação. Para construir uma árvore de análise de baixo para cima, os símbolos de terminal da sentença são primeiro substituídos por seus não-terminais correspondentes (por exemplo, cat é substituído por substantivo) e esses não-terminais são combinados para corresponder aos lados direitos das regras de reescrita.                                                                                                                                                                                                                                                                                                                                                                                                                                                                                                                                                                                                                                                                                                                                                                 \n",
       "Resposta 8   Esta é a aplicação da compreensão humana às frases e ao discurso para determinar significados que não são imediatamente claros a partir da semântica. Por exemplo, se alguém disser: \"Você pode me dizer a hora?\", A maioria das pessoas sabe que \"sim\" não é uma resposta adequada. Pragmática permite que um sistema de computador dê uma resposta sensata a questões como esta.                                                                                                                                                                                                                                                                                                                                                                                                                                                                                                                                                                                                                                                                                                                                                                                                            \n",
       "Resposta 13  SÍMBOLOS DE TERMINAL. Cada símbolo de terminal é um símbolo ou palavra que aparece no próprio idioma. Em inglês, por exemplo, os símbolos do terminal são as palavras do dicionário, como gato, cachorro e assim por diante. Em linguagens formais, os símbolos de terminal incluem nomes de variáveis como x, y e assim por diante, mas, para nossos propósitos, consideraremos os símbolos de terminal como sendo as palavras na linguagem.\\n\\nSÍMBOLOS NÃO-TERMINAIS. Estes são os símbolos como substantivo, frase verbal e conjunção que são usados para definir palavras e frases da linguagem. Um símbolo não terminal é assim chamado porque é usado para representar um ou mais símbolos de terminal.\\n\\nO SÍMBOLO INICIAL. O símbolo inicial é usado para representar uma frase completa no idioma. No nosso caso, o símbolo de início é simplesmente sentença, mas na lógica de predicados de primeira ordem, por exemplo, o símbolo de início seria expressão.\\n\\nREESCREVA REGRAS. As regras de reescrita definem a estrutura da gramática. Cada regra de reescrita detalha quais símbolos (terminais ou não-terminais) podem ser usados para compor cada símbolo não terminal.  \n",
       "Resposta 27  A ambiguidade lexical ocorre quando uma palavra tem mais de um significado possível. Por exemplo, um morcego pode ser um mamífero voador ou um equipamento esportivo. O conjunto de palavras é um exemplo interessante disso porque pode ser usado como um verbo, um substantivo, um adjetivo ou um advérbio. A determinação de qual parte da fala é pretendida pode muitas vezes ser obtida por um analisador em casos em que apenas uma análise é possível, mas em outros casos a desambiguação semântica é necessária para determinar qual significado é intencional.                                                                                                                                                                                                                                                                                                                                                                                                                                                                                                                                                                                                                      "
      ]
     },
     "execution_count": 25,
     "metadata": {},
     "output_type": "execute_result"
    }
   ],
   "source": [
    "pd.set_option('display.max_colwidth', -1)\n",
    "pd.read_csv(source, sep=\";\").iloc[[7,5]].transpose().sample(5)"
   ]
  },
  {
   "cell_type": "code",
   "execution_count": 26,
   "metadata": {},
   "outputs": [
    {
     "data": {
      "text/html": [
       "<div>\n",
       "<style scoped>\n",
       "    .dataframe tbody tr th:only-of-type {\n",
       "        vertical-align: middle;\n",
       "    }\n",
       "\n",
       "    .dataframe tbody tr th {\n",
       "        vertical-align: top;\n",
       "    }\n",
       "\n",
       "    .dataframe thead th {\n",
       "        text-align: right;\n",
       "    }\n",
       "</style>\n",
       "<table border=\"1\" class=\"dataframe\">\n",
       "  <thead>\n",
       "    <tr style=\"text-align: right;\">\n",
       "      <th></th>\n",
       "      <th>6</th>\n",
       "      <th>5</th>\n",
       "    </tr>\n",
       "  </thead>\n",
       "  <tbody>\n",
       "    <tr>\n",
       "      <th>Resposta 1</th>\n",
       "      <td>Linguagens Naturais são as linguagens utilizada por nós humanos para nos comunicarmos. Sua principal diferença com as Linguagens Formais é que a linguagem natural é ambígua, o que significa que uma dada sentença pode ter mais de um significado possível, e em alguns casos o significado correto pode ser muito difícil de determinar. As linguagens formais são quase sempre projetadas para garantir que essa ambiguidade não ocorra, assim o computador não precisa tomar uma decisão arbitrária sobre qual interpretação trabalhar.</td>\n",
       "      <td>As línguas naturais são as línguas usadas pelos humanos para comunicação (entre outras funções). Eles são distintamente diferentes das linguagens formais, como C ++, Java e PROLOG. Uma das principais diferenças, é que as línguas naturais são ambíguas, o que significa que uma determinada sentença pode ter mais de um significado possível e, em alguns casos, o significado correto pode ser muito difícil de determinar. As linguagens formais são quase sempre projetadas para garantir que a ambigüidade não possa ocorrer. Portanto, um determinado programa escrito em C ++ pode ter apenas uma interpretação. Isto é claramente desejável porque, caso contrário, o computador teria que tomar uma decisão arbitrária sobre qual interpretação trabalhar.</td>\n",
       "    </tr>\n",
       "    <tr>\n",
       "      <th>Resposta 12</th>\n",
       "      <td>BNF é utilizado como uma notação para as gramáticas de linguagens de programação, e também como notação para representar partes de gramáticas de linguagens naturais. Um BNF é um conjunto de regras de derivação, escritas como:\\n\\n&lt;símbolo&gt; ::= &lt;expressão com símbolos&gt;\\n\\nOnde &lt;símbolo&gt; é um não terminal, e a expressão consiste em sequências de símbolos e/ou sequências separadas pela barra vertical, '|', indicando uma escolha. Esta notação indica as possibilidades de substituição para símbolo da esquerda. Símbolos que nunca aparecem no lado esquerdo são ditos terminais.</td>\n",
       "      <td>São regras gramaticais, frequentemente escritas no que é conhecido como forma Backus – Naur (também conhecida como forma normal de Backus - ambos os nomes são abreviados como BNF). O BNF é amplamente utilizado por cientistas da computação para definir linguagens formais, como C ++ e Java. Também podemos usá-lo para definir a gramática de uma linguagem natural.</td>\n",
       "    </tr>\n",
       "    <tr>\n",
       "      <th>Resposta 6</th>\n",
       "      <td>Esta etapa envolve a aplicação das regras da gramática da linguagem que está sendo usada. A sintaxe determina o papel de cada palavra em uma sentença e, assim, permite que um sistema de computador converta sentenças em uma estrutura que  possa ser mais facilmente manipulada.</td>\n",
       "      <td>Esta etapa envolve a aplicação das regras da gramática da linguagem que está sendo usada. A sintaxe determina o papel de cada palavra em uma sentença e, assim, permite que um sistema de computador converta sentenças em uma estrutura que possa ser mais facilmente manipulada.</td>\n",
       "    </tr>\n",
       "    <tr>\n",
       "      <th>Resposta 16</th>\n",
       "      <td>Gramáticas livres de contexto têm sido utilizadas para realizar a análise sintática de linguagens de programação. Uma gramática livre de contexto é uma gramática composta por regras recursivas denominadas produções. Cada produção é identificada por um símbolo/nome chamado de não-terminal. Um dos símbolos não-terminais é denominado de símbolo inicial, que é o ponto de partida no caso de geração e o objetivo final no caso de aceitação (mais abaixo explico melhor isso). Além dos símbolos não-terminais, temos os símbolos terminais que correspondem a símbolos (caracteres) que estão representados diretamente na cadeia de entrada.</td>\n",
       "      <td>É livre de contexto porque define a gramática simplesmente em termos de quais tipos de palavras podem se unir - ela não especifica o modo como as palavras devem concordar com cada uma delas.</td>\n",
       "    </tr>\n",
       "    <tr>\n",
       "      <th>Resposta 34</th>\n",
       "      <td>Uma maneira de determinar a linguagem de um texto seria ter um léxico completo de todas as palavras em todas as línguas. O léxico seria enorme, claro, e seria muito difícil garantir que todas as palavras fossem realmente incluídas. Outro método é o algoritmo de conhecimento que é um método comumente usado para identificação de linguagem que usa n-gramas. Um n-grama é simplesmente uma coleção de n letras, onde existem estatísticas detalhadas que indicam a probabilidade de uma determinada conjunto de letras que ocorrem em qualquer idioma.</td>\n",
       "      <td>O algoritmo de conhecimento é um método comumente usado para identificação de linguagem que usa n-gramas. Um n-grama é simplesmente uma coleção de n letras, mas existem estatísticas detalhadas que indicam a probabilidade de um determinado conjunto de letras ocorrer em qualquer idioma. Assim, por exemplo, o trigrama, e, o, ent e form provavelmente indicam que um documento está em inglês. Quando o algoritmo de conhecimento é apresentado com texto suficiente (geralmente algumas centenas a mil palavras é suficiente), ele é capaz de identificar a linguagem com um grau surpreendentemente alto de precisão.</td>\n",
       "    </tr>\n",
       "  </tbody>\n",
       "</table>\n",
       "</div>"
      ],
      "text/plain": [
       "                                                                                                                                                                                                                                                                                                                                                                                                                                                                                                                                                                                                                                                                   6  \\\n",
       "Resposta 1   Linguagens Naturais são as linguagens utilizada por nós humanos para nos comunicarmos. Sua principal diferença com as Linguagens Formais é que a linguagem natural é ambígua, o que significa que uma dada sentença pode ter mais de um significado possível, e em alguns casos o significado correto pode ser muito difícil de determinar. As linguagens formais são quase sempre projetadas para garantir que essa ambiguidade não ocorra, assim o computador não precisa tomar uma decisão arbitrária sobre qual interpretação trabalhar.                                                                                                              \n",
       "Resposta 12   BNF é utilizado como uma notação para as gramáticas de linguagens de programação, e também como notação para representar partes de gramáticas de linguagens naturais. Um BNF é um conjunto de regras de derivação, escritas como:\\n\\n<símbolo> ::= <expressão com símbolos>\\n\\nOnde <símbolo> é um não terminal, e a expressão consiste em sequências de símbolos e/ou sequências separadas pela barra vertical, '|', indicando uma escolha. Esta notação indica as possibilidades de substituição para símbolo da esquerda. Símbolos que nunca aparecem no lado esquerdo são ditos terminais.                                                           \n",
       "Resposta 6   Esta etapa envolve a aplicação das regras da gramática da linguagem que está sendo usada. A sintaxe determina o papel de cada palavra em uma sentença e, assim, permite que um sistema de computador converta sentenças em uma estrutura que  possa ser mais facilmente manipulada.                                                                                                                                                                                                                                                                                                                                                                       \n",
       "Resposta 16  Gramáticas livres de contexto têm sido utilizadas para realizar a análise sintática de linguagens de programação. Uma gramática livre de contexto é uma gramática composta por regras recursivas denominadas produções. Cada produção é identificada por um símbolo/nome chamado de não-terminal. Um dos símbolos não-terminais é denominado de símbolo inicial, que é o ponto de partida no caso de geração e o objetivo final no caso de aceitação (mais abaixo explico melhor isso). Além dos símbolos não-terminais, temos os símbolos terminais que correspondem a símbolos (caracteres) que estão representados diretamente na cadeia de entrada.   \n",
       "Resposta 34  Uma maneira de determinar a linguagem de um texto seria ter um léxico completo de todas as palavras em todas as línguas. O léxico seria enorme, claro, e seria muito difícil garantir que todas as palavras fossem realmente incluídas. Outro método é o algoritmo de conhecimento que é um método comumente usado para identificação de linguagem que usa n-gramas. Um n-grama é simplesmente uma coleção de n letras, onde existem estatísticas detalhadas que indicam a probabilidade de uma determinada conjunto de letras que ocorrem em qualquer idioma.                                                                                            \n",
       "\n",
       "                                                                                                                                                                                                                                                                                                                                                                                                                                                                                                                                                                                                                                                                                                                                                                                   5  \n",
       "Resposta 1   As línguas naturais são as línguas usadas pelos humanos para comunicação (entre outras funções). Eles são distintamente diferentes das linguagens formais, como C ++, Java e PROLOG. Uma das principais diferenças, é que as línguas naturais são ambíguas, o que significa que uma determinada sentença pode ter mais de um significado possível e, em alguns casos, o significado correto pode ser muito difícil de determinar. As linguagens formais são quase sempre projetadas para garantir que a ambigüidade não possa ocorrer. Portanto, um determinado programa escrito em C ++ pode ter apenas uma interpretação. Isto é claramente desejável porque, caso contrário, o computador teria que tomar uma decisão arbitrária sobre qual interpretação trabalhar.  \n",
       "Resposta 12  São regras gramaticais, frequentemente escritas no que é conhecido como forma Backus – Naur (também conhecida como forma normal de Backus - ambos os nomes são abreviados como BNF). O BNF é amplamente utilizado por cientistas da computação para definir linguagens formais, como C ++ e Java. Também podemos usá-lo para definir a gramática de uma linguagem natural.                                                                                                                                                                                                                                                                                                                                                                                               \n",
       "Resposta 6   Esta etapa envolve a aplicação das regras da gramática da linguagem que está sendo usada. A sintaxe determina o papel de cada palavra em uma sentença e, assim, permite que um sistema de computador converta sentenças em uma estrutura que possa ser mais facilmente manipulada.                                                                                                                                                                                                                                                                                                                                                                                                                                                                                       \n",
       "Resposta 16  É livre de contexto porque define a gramática simplesmente em termos de quais tipos de palavras podem se unir - ela não especifica o modo como as palavras devem concordar com cada uma delas.                                                                                                                                                                                                                                                                                                                                                                                                                                                                                                                                                                           \n",
       "Resposta 34  O algoritmo de conhecimento é um método comumente usado para identificação de linguagem que usa n-gramas. Um n-grama é simplesmente uma coleção de n letras, mas existem estatísticas detalhadas que indicam a probabilidade de um determinado conjunto de letras ocorrer em qualquer idioma. Assim, por exemplo, o trigrama, e, o, ent e form provavelmente indicam que um documento está em inglês. Quando o algoritmo de conhecimento é apresentado com texto suficiente (geralmente algumas centenas a mil palavras é suficiente), ele é capaz de identificar a linguagem com um grau surpreendentemente alto de precisão.                                                                                                                                           "
      ]
     },
     "execution_count": 26,
     "metadata": {},
     "output_type": "execute_result"
    }
   ],
   "source": [
    "pd.set_option('display.max_colwidth', -1)\n",
    "pd.read_csv(source, sep=\";\").iloc[[6,5]].transpose().sample(5)"
   ]
  },
  {
   "cell_type": "code",
   "execution_count": 24,
   "metadata": {},
   "outputs": [
    {
     "data": {
      "text/html": [
       "<div>\n",
       "<style scoped>\n",
       "    .dataframe tbody tr th:only-of-type {\n",
       "        vertical-align: middle;\n",
       "    }\n",
       "\n",
       "    .dataframe tbody tr th {\n",
       "        vertical-align: top;\n",
       "    }\n",
       "\n",
       "    .dataframe thead th {\n",
       "        text-align: right;\n",
       "    }\n",
       "</style>\n",
       "<table border=\"1\" class=\"dataframe\">\n",
       "  <thead>\n",
       "    <tr style=\"text-align: right;\">\n",
       "      <th></th>\n",
       "      <th>2</th>\n",
       "      <th>1</th>\n",
       "    </tr>\n",
       "  </thead>\n",
       "  <tbody>\n",
       "    <tr>\n",
       "      <th>Resposta 26</th>\n",
       "      <td>Uma das principais diferenças entre linguagens naturais e linguagens formais como C++ é que uma sentença em uma linguagem natural pode ter mais de um significado. Isso é ambigüidade - o fato de que uma sentença pode ser interpretada de maneiras diferentes, dependendo de quem está falando, do contexto em que ela é falada e de vários outros fatores.</td>\n",
       "      <td>UMA DAS PRINCIPAIS DIFERENÇAS ENTRE LINGUAGENS NATURAIS E LINGUAGENS FORMAIS COMO C++ É QUE UMA SENTENÇA EM UMA LINGUAGEM NATURAL PODE TER MAIS DE UM SIGNIFICADO. ISSO É AMBIGÜIDADE - O FATO DE QUE UMA SENTENÇA PODE SER INTERPRETADA DE MANEIRAS DIFERENTES, DEPENDENDO DE QUEM ESTÁ FALANDO, DO CONTEXTO EM QUE ELA É FALADA E DE VÁRIOS OUTROS FATORES.</td>\n",
       "    </tr>\n",
       "    <tr>\n",
       "      <th>Resposta 28</th>\n",
       "      <td>A ambiguidade semântica ocorre quando uma sentença tem mais de um significado possível - geralmente como resultado de uma ambigüidade sintática.</td>\n",
       "      <td>A AMBIGUIDADE SEMÂNTICA OCORRE QUANDO UMA SENTENÇA TEM MAIS DE UM SIGNIFICADO POSSÍVEL - GERALMENTE COMO RESULTADO DE UMA AMBIGÜIDADE SINTÁTICA.</td>\n",
       "    </tr>\n",
       "    <tr>\n",
       "      <th>Resposta 38</th>\n",
       "      <td>O conceito principal usado na recuperação de informação é conhecido como TF-IDF, (Frequência de Termo - Frequência de Documento Inversa). Geralmente, um valor TF-IDF é calculado para cada conjunto de palavras e os valores resultantes são colocados em um vetor, que representa um documento ou uma parte do texto (como uma consulta).\\n\\nA freqüência inversa do documento (IDF) de uma palavra W é calculada da seguinte forma:\\n\\nIDF(W ) = log |D| / DF( W )</td>\n",
       "      <td>O CONCEITO PRINCIPAL USADO NA RECUPERAÇÃO DE INFORMAÇÃO É CONHECIDO COMO TF-IDF, (FREQUÊNCIA DE TERMO - FREQUÊNCIA DE DOCUMENTO INVERSA). GERALMENTE, UM VALOR TF-IDF É CALCULADO PARA CADA CONJUNTO DE PALAVRAS E OS VALORES RESULTANTES SÃO COLOCADOS EM UM VETOR, QUE REPRESENTA UM DOCUMENTO OU UMA PARTE DO TEXTO (COMO UMA CONSULTA).\\n\\nA FREQÜÊNCIA INVERSA DO DOCUMENTO (IDF) DE UMA PALAVRA W É CALCULADA DA SEGUINTE FORMA:\\n\\nIDF(W ) = LOG |D| / DF( W )</td>\n",
       "    </tr>\n",
       "    <tr>\n",
       "      <th>Resposta 41</th>\n",
       "      <td>Em geral, para a maioria das técnicas de recuperação de informação, a precisão e a rechamada estão em oposição umas às outras, o que significa que quando a precisão do sistema aumenta, isso acontece às custas do recall e vice-versa. Isso é intuitivo: a única maneira de obter 100% de recordação na maioria das situações do mundo real é ficar muito relaxado sobre quais documentos são classificados. Em outras palavras, uma grande quantidade de documentos deve ser classificada como relevante para garantir que todos os documentos relevantes sejam encontrados. Inevitavelmente, isso significará que alguns documentos irrelevantes serão encontrados também.</td>\n",
       "      <td>EM GERAL, PARA A MAIORIA DAS TÉCNICAS DE RECUPERAÇÃO DE INFORMAÇÃO, A PRECISÃO E A RECHAMADA ESTÃO EM OPOSIÇÃO UMAS ÀS OUTRAS, O QUE SIGNIFICA QUE QUANDO A PRECISÃO DO SISTEMA AUMENTA, ISSO ACONTECE ÀS CUSTAS DO RECALL E VICE-VERSA. ISSO É INTUITIVO: A ÚNICA MANEIRA DE OBTER 100% DE RECORDAÇÃO NA MAIORIA DAS SITUAÇÕES DO MUNDO REAL É FICAR MUITO RELAXADO SOBRE QUAIS DOCUMENTOS SÃO CLASSIFICADOS. EM OUTRAS PALAVRAS, UMA GRANDE QUANTIDADE DE DOCUMENTOS DEVE SER CLASSIFICADA COMO RELEVANTE PARA GARANTIR QUE TODOS OS DOCUMENTOS RELEVANTES SEJAM ENCONTRADOS. INEVITAVELMENTE, ISSO SIGNIFICARÁ QUE ALGUNS DOCUMENTOS IRRELEVANTES SERÃO ENCONTRADOS TAMBÉM.</td>\n",
       "    </tr>\n",
       "    <tr>\n",
       "      <th>Resposta 12</th>\n",
       "      <td>O BNF É UMA METASSINTAXE USADA PARA EXPRESSAR GRAMÁTICAS LIVRES DE CONTEXTO, ISTO É, UM MODO FORMAL DE DESCREVER LINGUAGENS FORMAIS. USAMOS O BNF PARA CONSTRUIR REGRAS QUE DESCREVEM COMO UMA SENTENÇA VÁLIDA PODE SER CONSTRUÍDA PERMITINDO ASSIM QUE UM SISTEMA DE PNL ANÁLISE SENTENÇAS.</td>\n",
       "      <td>SÃO REGRAS GRAMATICAIS, FREQUENTEMENTE ESCRITAS NO QUE É CONHECIDO COMO FORMA BACKUS – NAUR (TAMBÉM CONHECIDA COMO FORMA NORMAL DE BACKUS - AMBOS OS NOMES SÃO ABREVIADOS COMO BNF). O BNF É AMPLAMENTE UTILIZADO POR CIENTISTAS DA COMPUTAÇÃO PARA DEFINIR LINGUAGENS FORMAIS, COMO C ++ E JAVA. TAMBÉM PODEMOS USÁ-LO PARA DEFINIR A GRAMÁTICA DE UMA LINGUAGEM NATURAL.</td>\n",
       "    </tr>\n",
       "  </tbody>\n",
       "</table>\n",
       "</div>"
      ],
      "text/plain": [
       "                                                                                                                                                                                                                                                                                                                                                                                                                                                                                                                                                                                                                                                                                          2  \\\n",
       "Resposta 26  Uma das principais diferenças entre linguagens naturais e linguagens formais como C++ é que uma sentença em uma linguagem natural pode ter mais de um significado. Isso é ambigüidade - o fato de que uma sentença pode ser interpretada de maneiras diferentes, dependendo de quem está falando, do contexto em que ela é falada e de vários outros fatores.                                                                                                                                                                                                                                                                                                                    \n",
       "Resposta 28  A ambiguidade semântica ocorre quando uma sentença tem mais de um significado possível - geralmente como resultado de uma ambigüidade sintática.                                                                                                                                                                                                                                                                                                                                                                                                                                                                                                                                 \n",
       "Resposta 38  O conceito principal usado na recuperação de informação é conhecido como TF-IDF, (Frequência de Termo - Frequência de Documento Inversa). Geralmente, um valor TF-IDF é calculado para cada conjunto de palavras e os valores resultantes são colocados em um vetor, que representa um documento ou uma parte do texto (como uma consulta).\\n\\nA freqüência inversa do documento (IDF) de uma palavra W é calculada da seguinte forma:\\n\\nIDF(W ) = log |D| / DF( W )                                                                                                                                                                                                            \n",
       "Resposta 41  Em geral, para a maioria das técnicas de recuperação de informação, a precisão e a rechamada estão em oposição umas às outras, o que significa que quando a precisão do sistema aumenta, isso acontece às custas do recall e vice-versa. Isso é intuitivo: a única maneira de obter 100% de recordação na maioria das situações do mundo real é ficar muito relaxado sobre quais documentos são classificados. Em outras palavras, uma grande quantidade de documentos deve ser classificada como relevante para garantir que todos os documentos relevantes sejam encontrados. Inevitavelmente, isso significará que alguns documentos irrelevantes serão encontrados também.   \n",
       "Resposta 12  O BNF É UMA METASSINTAXE USADA PARA EXPRESSAR GRAMÁTICAS LIVRES DE CONTEXTO, ISTO É, UM MODO FORMAL DE DESCREVER LINGUAGENS FORMAIS. USAMOS O BNF PARA CONSTRUIR REGRAS QUE DESCREVEM COMO UMA SENTENÇA VÁLIDA PODE SER CONSTRUÍDA PERMITINDO ASSIM QUE UM SISTEMA DE PNL ANÁLISE SENTENÇAS.                                                                                                                                                                                                                                                                                                                                                                                     \n",
       "\n",
       "                                                                                                                                                                                                                                                                                                                                                                                                                                                                                                                                                                                                                                                                                          1  \n",
       "Resposta 26  UMA DAS PRINCIPAIS DIFERENÇAS ENTRE LINGUAGENS NATURAIS E LINGUAGENS FORMAIS COMO C++ É QUE UMA SENTENÇA EM UMA LINGUAGEM NATURAL PODE TER MAIS DE UM SIGNIFICADO. ISSO É AMBIGÜIDADE - O FATO DE QUE UMA SENTENÇA PODE SER INTERPRETADA DE MANEIRAS DIFERENTES, DEPENDENDO DE QUEM ESTÁ FALANDO, DO CONTEXTO EM QUE ELA É FALADA E DE VÁRIOS OUTROS FATORES.                                                                                                                                                                                                                                                                                                                   \n",
       "Resposta 28  A AMBIGUIDADE SEMÂNTICA OCORRE QUANDO UMA SENTENÇA TEM MAIS DE UM SIGNIFICADO POSSÍVEL - GERALMENTE COMO RESULTADO DE UMA AMBIGÜIDADE SINTÁTICA.                                                                                                                                                                                                                                                                                                                                                                                                                                                                                                                                \n",
       "Resposta 38  O CONCEITO PRINCIPAL USADO NA RECUPERAÇÃO DE INFORMAÇÃO É CONHECIDO COMO TF-IDF, (FREQUÊNCIA DE TERMO - FREQUÊNCIA DE DOCUMENTO INVERSA). GERALMENTE, UM VALOR TF-IDF É CALCULADO PARA CADA CONJUNTO DE PALAVRAS E OS VALORES RESULTANTES SÃO COLOCADOS EM UM VETOR, QUE REPRESENTA UM DOCUMENTO OU UMA PARTE DO TEXTO (COMO UMA CONSULTA).\\n\\nA FREQÜÊNCIA INVERSA DO DOCUMENTO (IDF) DE UMA PALAVRA W É CALCULADA DA SEGUINTE FORMA:\\n\\nIDF(W ) = LOG |D| / DF( W )                                                                                                                                                                                                           \n",
       "Resposta 41  EM GERAL, PARA A MAIORIA DAS TÉCNICAS DE RECUPERAÇÃO DE INFORMAÇÃO, A PRECISÃO E A RECHAMADA ESTÃO EM OPOSIÇÃO UMAS ÀS OUTRAS, O QUE SIGNIFICA QUE QUANDO A PRECISÃO DO SISTEMA AUMENTA, ISSO ACONTECE ÀS CUSTAS DO RECALL E VICE-VERSA. ISSO É INTUITIVO: A ÚNICA MANEIRA DE OBTER 100% DE RECORDAÇÃO NA MAIORIA DAS SITUAÇÕES DO MUNDO REAL É FICAR MUITO RELAXADO SOBRE QUAIS DOCUMENTOS SÃO CLASSIFICADOS. EM OUTRAS PALAVRAS, UMA GRANDE QUANTIDADE DE DOCUMENTOS DEVE SER CLASSIFICADA COMO RELEVANTE PARA GARANTIR QUE TODOS OS DOCUMENTOS RELEVANTES SEJAM ENCONTRADOS. INEVITAVELMENTE, ISSO SIGNIFICARÁ QUE ALGUNS DOCUMENTOS IRRELEVANTES SERÃO ENCONTRADOS TAMBÉM.  \n",
       "Resposta 12  SÃO REGRAS GRAMATICAIS, FREQUENTEMENTE ESCRITAS NO QUE É CONHECIDO COMO FORMA BACKUS – NAUR (TAMBÉM CONHECIDA COMO FORMA NORMAL DE BACKUS - AMBOS OS NOMES SÃO ABREVIADOS COMO BNF). O BNF É AMPLAMENTE UTILIZADO POR CIENTISTAS DA COMPUTAÇÃO PARA DEFINIR LINGUAGENS FORMAIS, COMO C ++ E JAVA. TAMBÉM PODEMOS USÁ-LO PARA DEFINIR A GRAMÁTICA DE UMA LINGUAGEM NATURAL.                                                                                                                                                                                                                                                                                                      "
      ]
     },
     "execution_count": 24,
     "metadata": {},
     "output_type": "execute_result"
    }
   ],
   "source": [
    "pd.set_option('display.max_colwidth', -1)\n",
    "pd.read_csv(source, sep=\";\").iloc[[2,1]].transpose().sample(5)"
   ]
  },
  {
   "cell_type": "code",
   "execution_count": 39,
   "metadata": {},
   "outputs": [],
   "source": [
    "source = 'sample.csv'\n",
    "pd.DataFrame(pd.read_csv(source, sep=\";\").iloc[:, 0]).to_csv(source, sep=';')"
   ]
  },
  {
   "cell_type": "code",
   "execution_count": 40,
   "metadata": {},
   "outputs": [],
   "source": [
    "data_dict = preprocess(source)"
   ]
  },
  {
   "cell_type": "code",
   "execution_count": 41,
   "metadata": {},
   "outputs": [],
   "source": [
    "model_dict = tfidf(data_dict)"
   ]
  },
  {
   "cell_type": "code",
   "execution_count": 42,
   "metadata": {},
   "outputs": [
    {
     "data": {
      "text/plain": [
       "<matplotlib.axes._subplots.AxesSubplot at 0x7fe69b8a76a0>"
      ]
     },
     "execution_count": 42,
     "metadata": {},
     "output_type": "execute_result"
    },
    {
     "data": {
      "image/png": "[encoded data removed]",
      "text/plain": [
       "<Figure size 1440x720 with 2 Axes>"
      ]
     },
     "metadata": {
      "needs_background": "light"
     },
     "output_type": "display_data"
    }
   ],
   "source": [
    "dataplot = get_dict(preprocess_dict=data_dict, \n",
    "                    dataplot=get_dataplot(data_dict, model_dict), \n",
    "                    threshold=0.5)\n",
    "\n",
    "mask = np.zeros_like(dataplot, dtype=np.bool)\n",
    "mask[np.triu_indices_from(mask)] = True\n",
    "\n",
    "sns.heatmap(data=pd.DataFrame(dataplot), mask=mask, cmap='Blues', annot=True)"
   ]
  },
  {
   "cell_type": "code",
   "execution_count": 44,
   "metadata": {},
   "outputs": [
    {
     "data": {
      "text/html": [
       "<div>\n",
       "<style scoped>\n",
       "    .dataframe tbody tr th:only-of-type {\n",
       "        vertical-align: middle;\n",
       "    }\n",
       "\n",
       "    .dataframe tbody tr th {\n",
       "        vertical-align: top;\n",
       "    }\n",
       "\n",
       "    .dataframe thead th {\n",
       "        text-align: right;\n",
       "    }\n",
       "</style>\n",
       "<table border=\"1\" class=\"dataframe\">\n",
       "  <thead>\n",
       "    <tr style=\"text-align: right;\">\n",
       "      <th></th>\n",
       "      <th>Unnamed: 0</th>\n",
       "      <th>,\",Resposta 1\"</th>\n",
       "    </tr>\n",
       "  </thead>\n",
       "  <tbody>\n",
       "    <tr>\n",
       "      <th>0</th>\n",
       "      <td>0</td>\n",
       "      <td>0,\"0,\"</td>\n",
       "    </tr>\n",
       "    <tr>\n",
       "      <th>1</th>\n",
       "      <td>1</td>\n",
       "      <td>1,\"1,\"\"AS LÍNGUAS NATURAIS SÃO AS LÍNGUAS USADAS PELOS HUMANOS PARA COMUNICAÇÃO (ENTRE OUTRAS FUNÇÕES). ELES SÃO DISTINTAMENTE DIFERENTES DAS LINGUAGENS FORMAIS, COMO C ++, JAVA E PROLOG. UMA DAS PRINCIPAIS DIFERENÇAS, É QUE AS LÍNGUAS NATURAIS SÃO AMBÍGUAS, O QUE SIGNIFICA QUE UMA DETERMINADA SENTENÇA PODE TER MAIS DE UM SIGNIFICADO POSSÍVEL E, EM ALGUNS CASOS, O SIGNIFICADO CORRETO PODE SER MUITO DIFÍCIL DE DETERMINAR. AS LINGUAGENS FORMAIS SÃO QUASE SEMPRE PROJETADAS PARA GARANTIR QUE A AMBIGÜIDADE NÃO POSSA OCORRER. PORTANTO, UM DETERMINADO PROGRAMA ESCRITO EM C ++ PODE TER APENAS UMA INTERPRETAÇÃO. ISTO É CLARAMENTE DESEJÁVEL PORQUE, CASO CONTRÁRIO, O COMPUTADOR TERIA QUE TOMAR UMA DECISÃO ARBITRÁRIA SOBRE QUAL INTERPRETAÇÃO TRABALHAR.\"\"\"</td>\n",
       "    </tr>\n",
       "    <tr>\n",
       "      <th>2</th>\n",
       "      <td>2</td>\n",
       "      <td>2,\"2,\"\"As linguagens naturais são as linguagens utilizadas pelos seres humanos para comunicação, a principal diferença das linguagens naturais e linguagens formais é a ambiguidade. As linguagens naturais são ambíguas de forma que uma sentença pode ter mais de um significado possível e nas linguagens formais temos que as mesmas são projetadas para evitar ao máximo a ambiguidade.\"\"\"</td>\n",
       "    </tr>\n",
       "    <tr>\n",
       "      <th>3</th>\n",
       "      <td>3</td>\n",
       "      <td>3,\"3,\"\"AS LÍNGUAS NATURAIS SÃO AS LÍNGUAS USADAS PELOS HUMANOS PARA COMUNICAÇÃO (ENTRE OUTRAS FUNÇÕES). ELES SÃO DISTINTAMENTE DIFERENTES DAS LINGUAGENS FORMAIS, COMO C ++, JAVA E PROLOG. UMA DAS PRINCIPAIS DIFERENÇAS, É QUE AS LÍNGUAS NATURAIS SÃO AMBÍGUAS, O QUE SIGNIFICA QUE UMA DETERMINADA SENTENÇA PODE TER MAIS DE UM SIGNIFICADO POSSÍVEL E, EM ALGUNS CASOS, O SIGNIFICADO CORRETO PODE SER MUITO DIFÍCIL DE DETERMINAR. AS LINGUAGENS FORMAIS SÃO QUASE SEMPRE PROJETADAS PARA GARANTIR QUE A AMBIGUIDADE NÃO POSSA OCORRER. PORTANTO, UM DETERMINADO PROGRAMA ESCRITO EM C ++ PODE TER APENAS UMA INTERPRETAÇÃO. ISTO É CLARAMENTE DESEJÁVEL PORQUE, CASO CONTRÁRIO, O COMPUTADOR TERIA QUE TOMAR UMA DECISÃO ARBITRÁRIA SOBRE QUAL INTERPRETAÇÃO TRABALHAR.\"\"\"</td>\n",
       "    </tr>\n",
       "    <tr>\n",
       "      <th>4</th>\n",
       "      <td>4</td>\n",
       "      <td>4,\"4,\"\"Linguagens naturais são os idiomas padrões utilizados pelos seres humanos para\"</td>\n",
       "    </tr>\n",
       "    <tr>\n",
       "      <th>5</th>\n",
       "      <td>5</td>\n",
       "      <td>5,comunicação. Elas se diferenciam das linguagens formais (linguagens de programação)</td>\n",
       "    </tr>\n",
       "    <tr>\n",
       "      <th>6</th>\n",
       "      <td>6</td>\n",
       "      <td>6,\"primeiramente pois são ambíguas, i.e., uma frase pode ter diversos significados\"</td>\n",
       "    </tr>\n",
       "    <tr>\n",
       "      <th>7</th>\n",
       "      <td>7</td>\n",
       "      <td>7,\"possíveis, enquanto as linguagens formais não podem conter ambiguidade.\"\"\"</td>\n",
       "    </tr>\n",
       "    <tr>\n",
       "      <th>8</th>\n",
       "      <td>8</td>\n",
       "      <td>8,\"5,\"\"As línguas naturais são as línguas usadas pelos humanos para comunicação (entre outras funções). Eles são distintamente diferentes das linguagens formais, como C ++, Java e PROLOG. Uma das principais diferenças, é que as línguas naturais são ambíguas, o que significa que uma determinada sentença pode ter mais de um significado possível e, em alguns casos, o significado correto pode ser muito difícil de determinar. As linguagens formais são quase sempre projetadas para garantir que a ambigüidade não possa ocorrer. Portanto, um determinado programa escrito em C ++ pode ter apenas uma interpretação. Isto é claramente desejável porque, caso contrário, o computador teria que tomar uma decisão arbitrária sobre qual interpretação trabalhar.\"\"\"</td>\n",
       "    </tr>\n",
       "    <tr>\n",
       "      <th>9</th>\n",
       "      <td>9</td>\n",
       "      <td>9,\"6,\"\"Linguagens Naturais são as linguagens utilizada por nós humanos para nos comunicarmos. Sua principal diferença com as Linguagens Formais é que a linguagem natural é ambígua, o que significa que uma dada sentença pode ter mais de um significado possível, e em alguns casos o significado correto pode ser muito difícil de determinar. As linguagens formais são quase sempre projetadas para garantir que essa ambiguidade não ocorra, assim o computador não precisa tomar uma decisão arbitrária sobre qual interpretação trabalhar.\"\"\"</td>\n",
       "    </tr>\n",
       "    <tr>\n",
       "      <th>10</th>\n",
       "      <td>10</td>\n",
       "      <td>10,\"7,\"\"As línguas naturais são as línguas usadas pelos humanos para comunicação. Uma das principais diferenças, é que as línguas naturais são ambíguas, o que significa que uma determinada sentença pode ter mais de um significado possível e, em alguns casos, o significado correto pode ser muito difícil de determinar. As linguagens formais são quase sempre projetadas para garantir que a ambiguidade não possa ocorrer.\"\"\"</td>\n",
       "    </tr>\n",
       "    <tr>\n",
       "      <th>11</th>\n",
       "      <td>11</td>\n",
       "      <td>11,\"8,\"</td>\n",
       "    </tr>\n",
       "    <tr>\n",
       "      <th>12</th>\n",
       "      <td>12</td>\n",
       "      <td>12,\"9,\"\"As línguas naturais são as línguas usadas pelos humanos para comunicação (entre outras funções). Eles são distintamente diferentes das linguagens formais, como C ++, Java e PROLOG. Uma das principais diferenças, é que as línguas naturais são ambíguas, o que significa que uma determinada sentença pode ter mais de um significado possível e, em alguns casos, o significado correto pode ser muito difícil de determinar. As linguagens formais são quase sempre projetadas para garantir que a ambigüidade não possa ocorrer. Portanto, um determinado programa escrito em C ++ pode ter apenas uma interpretação. Isto é claramente desejável porque, caso contrário, o computador teria que tomar uma decisão arbitrária sobre qual interpretação trabalhar.\"\"\"</td>\n",
       "    </tr>\n",
       "    <tr>\n",
       "      <th>13</th>\n",
       "      <td>13</td>\n",
       "      <td>13,\"10,\"\"São as linguagens usadas para comunicação entre seres humanos. A diferença é que suas regras mudam naturalmente com o tempo, e suas sentenças possuem ambiguidade.\"\"\"</td>\n",
       "    </tr>\n",
       "    <tr>\n",
       "      <th>14</th>\n",
       "      <td>14</td>\n",
       "      <td>14,\"11,\"\"São linguagens usadas por humanos para comunicação, elas se diferenciam das formais como c, java etc.\"\"\"</td>\n",
       "    </tr>\n",
       "  </tbody>\n",
       "</table>\n",
       "</div>"
      ],
      "text/plain": [
       "    Unnamed: 0  \\\n",
       "0   0            \n",
       "1   1            \n",
       "2   2            \n",
       "3   3            \n",
       "4   4            \n",
       "5   5            \n",
       "6   6            \n",
       "7   7            \n",
       "8   8            \n",
       "9   9            \n",
       "10  10           \n",
       "11  11           \n",
       "12  12           \n",
       "13  13           \n",
       "14  14           \n",
       "\n",
       "                                                                                                                                                                                                                                                                                                                                                                                                                                                                                                                                                                                                                                                                                                                                                                        ,\",Resposta 1\"  \n",
       "0   0,\"0,\"                                                                                                                                                                                                                                                                                                                                                                                                                                                                                                                                                                                                                                                                                                                                                                              \n",
       "1   1,\"1,\"\"AS LÍNGUAS NATURAIS SÃO AS LÍNGUAS USADAS PELOS HUMANOS PARA COMUNICAÇÃO (ENTRE OUTRAS FUNÇÕES). ELES SÃO DISTINTAMENTE DIFERENTES DAS LINGUAGENS FORMAIS, COMO C ++, JAVA E PROLOG. UMA DAS PRINCIPAIS DIFERENÇAS, É QUE AS LÍNGUAS NATURAIS SÃO AMBÍGUAS, O QUE SIGNIFICA QUE UMA DETERMINADA SENTENÇA PODE TER MAIS DE UM SIGNIFICADO POSSÍVEL E, EM ALGUNS CASOS, O SIGNIFICADO CORRETO PODE SER MUITO DIFÍCIL DE DETERMINAR. AS LINGUAGENS FORMAIS SÃO QUASE SEMPRE PROJETADAS PARA GARANTIR QUE A AMBIGÜIDADE NÃO POSSA OCORRER. PORTANTO, UM DETERMINADO PROGRAMA ESCRITO EM C ++ PODE TER APENAS UMA INTERPRETAÇÃO. ISTO É CLARAMENTE DESEJÁVEL PORQUE, CASO CONTRÁRIO, O COMPUTADOR TERIA QUE TOMAR UMA DECISÃO ARBITRÁRIA SOBRE QUAL INTERPRETAÇÃO TRABALHAR.\"\"\"   \n",
       "2   2,\"2,\"\"As linguagens naturais são as linguagens utilizadas pelos seres humanos para comunicação, a principal diferença das linguagens naturais e linguagens formais é a ambiguidade. As linguagens naturais são ambíguas de forma que uma sentença pode ter mais de um significado possível e nas linguagens formais temos que as mesmas são projetadas para evitar ao máximo a ambiguidade.\"\"\"                                                                                                                                                                                                                                                                                                                                                                                     \n",
       "3   3,\"3,\"\"AS LÍNGUAS NATURAIS SÃO AS LÍNGUAS USADAS PELOS HUMANOS PARA COMUNICAÇÃO (ENTRE OUTRAS FUNÇÕES). ELES SÃO DISTINTAMENTE DIFERENTES DAS LINGUAGENS FORMAIS, COMO C ++, JAVA E PROLOG. UMA DAS PRINCIPAIS DIFERENÇAS, É QUE AS LÍNGUAS NATURAIS SÃO AMBÍGUAS, O QUE SIGNIFICA QUE UMA DETERMINADA SENTENÇA PODE TER MAIS DE UM SIGNIFICADO POSSÍVEL E, EM ALGUNS CASOS, O SIGNIFICADO CORRETO PODE SER MUITO DIFÍCIL DE DETERMINAR. AS LINGUAGENS FORMAIS SÃO QUASE SEMPRE PROJETADAS PARA GARANTIR QUE A AMBIGUIDADE NÃO POSSA OCORRER. PORTANTO, UM DETERMINADO PROGRAMA ESCRITO EM C ++ PODE TER APENAS UMA INTERPRETAÇÃO. ISTO É CLARAMENTE DESEJÁVEL PORQUE, CASO CONTRÁRIO, O COMPUTADOR TERIA QUE TOMAR UMA DECISÃO ARBITRÁRIA SOBRE QUAL INTERPRETAÇÃO TRABALHAR.\"\"\"   \n",
       "4   4,\"4,\"\"Linguagens naturais são os idiomas padrões utilizados pelos seres humanos para\"                                                                                                                                                                                                                                                                                                                                                                                                                                                                                                                                                                                                                                                                                              \n",
       "5   5,comunicação. Elas se diferenciam das linguagens formais (linguagens de programação)                                                                                                                                                                                                                                                                                                                                                                                                                                                                                                                                                                                                                                                                                               \n",
       "6   6,\"primeiramente pois são ambíguas, i.e., uma frase pode ter diversos significados\"                                                                                                                                                                                                                                                                                                                                                                                                                                                                                                                                                                                                                                                                                                 \n",
       "7   7,\"possíveis, enquanto as linguagens formais não podem conter ambiguidade.\"\"\"                                                                                                                                                                                                                                                                                                                                                                                                                                                                                                                                                                                                                                                                                                       \n",
       "8   8,\"5,\"\"As línguas naturais são as línguas usadas pelos humanos para comunicação (entre outras funções). Eles são distintamente diferentes das linguagens formais, como C ++, Java e PROLOG. Uma das principais diferenças, é que as línguas naturais são ambíguas, o que significa que uma determinada sentença pode ter mais de um significado possível e, em alguns casos, o significado correto pode ser muito difícil de determinar. As linguagens formais são quase sempre projetadas para garantir que a ambigüidade não possa ocorrer. Portanto, um determinado programa escrito em C ++ pode ter apenas uma interpretação. Isto é claramente desejável porque, caso contrário, o computador teria que tomar uma decisão arbitrária sobre qual interpretação trabalhar.\"\"\"   \n",
       "9   9,\"6,\"\"Linguagens Naturais são as linguagens utilizada por nós humanos para nos comunicarmos. Sua principal diferença com as Linguagens Formais é que a linguagem natural é ambígua, o que significa que uma dada sentença pode ter mais de um significado possível, e em alguns casos o significado correto pode ser muito difícil de determinar. As linguagens formais são quase sempre projetadas para garantir que essa ambiguidade não ocorra, assim o computador não precisa tomar uma decisão arbitrária sobre qual interpretação trabalhar.\"\"\"                                                                                                                                                                                                                              \n",
       "10  10,\"7,\"\"As línguas naturais são as línguas usadas pelos humanos para comunicação. Uma das principais diferenças, é que as línguas naturais são ambíguas, o que significa que uma determinada sentença pode ter mais de um significado possível e, em alguns casos, o significado correto pode ser muito difícil de determinar. As linguagens formais são quase sempre projetadas para garantir que a ambiguidade não possa ocorrer.\"\"\"                                                                                                                                                                                                                                                                                                                                              \n",
       "11  11,\"8,\"                                                                                                                                                                                                                                                                                                                                                                                                                                                                                                                                                                                                                                                                                                                                                                             \n",
       "12  12,\"9,\"\"As línguas naturais são as línguas usadas pelos humanos para comunicação (entre outras funções). Eles são distintamente diferentes das linguagens formais, como C ++, Java e PROLOG. Uma das principais diferenças, é que as línguas naturais são ambíguas, o que significa que uma determinada sentença pode ter mais de um significado possível e, em alguns casos, o significado correto pode ser muito difícil de determinar. As linguagens formais são quase sempre projetadas para garantir que a ambigüidade não possa ocorrer. Portanto, um determinado programa escrito em C ++ pode ter apenas uma interpretação. Isto é claramente desejável porque, caso contrário, o computador teria que tomar uma decisão arbitrária sobre qual interpretação trabalhar.\"\"\"  \n",
       "13  13,\"10,\"\"São as linguagens usadas para comunicação entre seres humanos. A diferença é que suas regras mudam naturalmente com o tempo, e suas sentenças possuem ambiguidade.\"\"\"                                                                                                                                                                                                                                                                                                                                                                                                                                                                                                                                                                                                      \n",
       "14  14,\"11,\"\"São linguagens usadas por humanos para comunicação, elas se diferenciam das formais como c, java etc.\"\"\"                                                                                                                                                                                                                                                                                                                                                                                                                                                                                                                                                                                                                                                                   "
      ]
     },
     "execution_count": 44,
     "metadata": {},
     "output_type": "execute_result"
    }
   ],
   "source": [
    "pd.read_csv(source, sep=';')"
   ]
  },
  {
   "cell_type": "code",
   "execution_count": null,
   "metadata": {},
   "outputs": [],
   "source": []
  }
 ],
 "metadata": {
  "kernelspec": {
   "display_name": "Python 3",
   "language": "python",
   "name": "python3"
  },
  "language_info": {
   "codemirror_mode": {
    "name": "ipython",
    "version": 3
   },
   "file_extension": ".py",
   "mimetype": "text/x-python",
   "name": "python",
   "nbconvert_exporter": "python",
   "pygments_lexer": "ipython3",
   "version": "3.7.3"
  }
 },
 "nbformat": 4,
 "nbformat_minor": 2
}

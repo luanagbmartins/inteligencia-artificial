{
 "cells": [
  {
   "cell_type": "markdown",
   "metadata": {},
   "source": [
    "# **Instituto de Informática - UFG**\n",
    "\n",
    "Disciplina: Inteligência Artificial\n",
    "\n",
    "Prof. Cedric Luiz de Carvalho\n",
    "\n",
    "Grupo ( A )\n",
    "\n",
    "---\n",
    "\n",
    "\n",
    "Aluna(o): Luana Guedes Barros Martins\n",
    "\n",
    "---\n",
    "\n",
    "Aluna(o): Ruan Chaves Rodrigues\n",
    "\n",
    "---\n",
    "\n",
    "Aluna(o): Thiago Monteles de Souza\n",
    "\n",
    "---"
   ]
  },
  {
   "cell_type": "markdown",
   "metadata": {},
   "source": [
    "# Atividade Prática 06 - Processamento de Linguagem Natural\n",
    "\n",
    "Particionamento das atividades:\n",
    "- Luana Guedes Barros Martins: Desenvolvedor\n",
    "- Ruan Chaves Rodrigues: Analista de dados\n",
    "- Thiago Monteles de Souza: Gerente do Projeto"
   ]
  },
  {
   "cell_type": "code",
   "execution_count": 1,
   "metadata": {},
   "outputs": [
    {
     "name": "stdout",
     "output_type": "stream",
     "text": [
      "Requirement already satisfied: gensim in /home/luana/miniconda3/envs/IA/lib/python3.7/site-packages (3.8.0)\n",
      "Requirement already satisfied: scipy>=0.18.1 in /home/luana/miniconda3/envs/IA/lib/python3.7/site-packages (from gensim) (1.3.0)\n",
      "Requirement already satisfied: numpy>=1.11.3 in /home/luana/miniconda3/envs/IA/lib/python3.7/site-packages (from gensim) (1.16.4)\n",
      "Requirement already satisfied: six>=1.5.0 in /home/luana/miniconda3/envs/IA/lib/python3.7/site-packages (from gensim) (1.12.0)\n",
      "Requirement already satisfied: smart-open>=1.7.0 in /home/luana/miniconda3/envs/IA/lib/python3.7/site-packages (from gensim) (1.8.4)\n",
      "Requirement already satisfied: boto>=2.32 in /home/luana/miniconda3/envs/IA/lib/python3.7/site-packages (from smart-open>=1.7.0->gensim) (2.49.0)\n",
      "Requirement already satisfied: requests in /home/luana/miniconda3/envs/IA/lib/python3.7/site-packages (from smart-open>=1.7.0->gensim) (2.22.0)\n",
      "Requirement already satisfied: boto3 in /home/luana/miniconda3/envs/IA/lib/python3.7/site-packages (from smart-open>=1.7.0->gensim) (1.9.207)\n",
      "Requirement already satisfied: urllib3!=1.25.0,!=1.25.1,<1.26,>=1.21.1 in /home/luana/miniconda3/envs/IA/lib/python3.7/site-packages (from requests->smart-open>=1.7.0->gensim) (1.25.3)\n",
      "Requirement already satisfied: idna<2.9,>=2.5 in /home/luana/miniconda3/envs/IA/lib/python3.7/site-packages (from requests->smart-open>=1.7.0->gensim) (2.8)\n",
      "Requirement already satisfied: certifi>=2017.4.17 in /home/luana/miniconda3/envs/IA/lib/python3.7/site-packages (from requests->smart-open>=1.7.0->gensim) (2019.6.16)\n",
      "Requirement already satisfied: chardet<3.1.0,>=3.0.2 in /home/luana/miniconda3/envs/IA/lib/python3.7/site-packages (from requests->smart-open>=1.7.0->gensim) (3.0.4)\n",
      "Requirement already satisfied: s3transfer<0.3.0,>=0.2.0 in /home/luana/miniconda3/envs/IA/lib/python3.7/site-packages (from boto3->smart-open>=1.7.0->gensim) (0.2.1)\n",
      "Requirement already satisfied: jmespath<1.0.0,>=0.7.1 in /home/luana/miniconda3/envs/IA/lib/python3.7/site-packages (from boto3->smart-open>=1.7.0->gensim) (0.9.4)\n",
      "Requirement already satisfied: botocore<1.13.0,>=1.12.207 in /home/luana/miniconda3/envs/IA/lib/python3.7/site-packages (from boto3->smart-open>=1.7.0->gensim) (1.12.207)\n",
      "Requirement already satisfied: docutils<0.15,>=0.10 in /home/luana/miniconda3/envs/IA/lib/python3.7/site-packages (from botocore<1.13.0,>=1.12.207->boto3->smart-open>=1.7.0->gensim) (0.14)\n",
      "Requirement already satisfied: python-dateutil<3.0.0,>=2.1; python_version >= \"2.7\" in /home/luana/miniconda3/envs/IA/lib/python3.7/site-packages (from botocore<1.13.0,>=1.12.207->boto3->smart-open>=1.7.0->gensim) (2.8.0)\n"
     ]
    }
   ],
   "source": [
    "!pip install gensim"
   ]
  },
  {
   "cell_type": "code",
   "execution_count": 2,
   "metadata": {},
   "outputs": [],
   "source": [
    "# Imports\n",
    "\n",
    "import gensim"
   ]
  },
  {
   "cell_type": "markdown",
   "metadata": {},
   "source": [
    "## Descrição do Problema\n",
    "\n",
    "Utilizando as técnicas estudadas, desenvolver uma ferramenta que permita a comparação de pequenos textos. Devem ser definidas métricas de comparação que classifique os textos segundo critérios de similaridade.\n",
    "\n",
    "A ferramenta deverá ser aplicada aos Estudos Dirigidos desenvolvidos ao longo do curso. Para cada estudo, construir uma matriz que mostre a similaridade entre os documentos. Depois, definir um documento de referência e traçar um gráfico de similaridade dos demais em relação a ele."
   ]
  },
  {
   "cell_type": "markdown",
   "metadata": {},
   "source": [
    "## Tratamento dos Dados"
   ]
  },
  {
   "cell_type": "markdown",
   "metadata": {},
   "source": [
    "##"
   ]
  },
  {
   "cell_type": "code",
   "execution_count": null,
   "metadata": {},
   "outputs": [],
   "source": []
  }
 ],
 "metadata": {
  "kernelspec": {
   "display_name": "Python 3",
   "language": "python",
   "name": "python3"
  },
  "language_info": {
   "codemirror_mode": {
    "name": "ipython",
    "version": 3
   },
   "file_extension": ".py",
   "mimetype": "text/x-python",
   "name": "python",
   "nbconvert_exporter": "python",
   "pygments_lexer": "ipython3",
   "version": "3.7.3"
  }
 },
 "nbformat": 4,
 "nbformat_minor": 2
}

{
 "cells": [
  {
   "cell_type": "markdown",
   "metadata": {},
   "source": [
    "# **Instituto de Informática - UFG**\n",
    "\n",
    "Disciplina: Inteligência Artificial\n",
    "\n",
    "Prof. Cedric Luiz de Carvalho\n",
    "\n",
    "Grupo ( A )\n",
    "\n",
    "---\n",
    "\n",
    "\n",
    "Aluna(o): Luana Guedes Barros Martins\n",
    "\n",
    "---\n",
    "\n",
    "Aluna(o): Ruan Chaves Rodrigues\n",
    "\n",
    "---\n",
    "\n",
    "Aluna(o): Thiago Monteles de Souza\n",
    "\n",
    "---"
   ]
  },
  {
   "cell_type": "markdown",
   "metadata": {},
   "source": [
    "# Atividade Prática 06 - Processamento de Linguagem Natural\n",
    "\n",
    "Particionamento das atividades:\n",
    "- Luana Guedes Barros Martins: Desenvolvedor\n",
    "- Ruan Chaves Rodrigues: Analista de dados\n",
    "- Thiago Monteles de Souza: Gerente do Projeto"
   ]
  },
  {
   "cell_type": "code",
   "execution_count": 1,
   "metadata": {},
   "outputs": [
    {
     "name": "stdout",
     "output_type": "stream",
     "text": [
      "Requirement already satisfied: gensim in /home/luana/miniconda3/envs/IA/lib/python3.7/site-packages (3.8.0)\n",
      "Requirement already satisfied: scipy>=0.18.1 in /home/luana/miniconda3/envs/IA/lib/python3.7/site-packages (from gensim) (1.3.0)\n",
      "Requirement already satisfied: numpy>=1.11.3 in /home/luana/miniconda3/envs/IA/lib/python3.7/site-packages (from gensim) (1.16.4)\n",
      "Requirement already satisfied: six>=1.5.0 in /home/luana/miniconda3/envs/IA/lib/python3.7/site-packages (from gensim) (1.12.0)\n",
      "Requirement already satisfied: smart-open>=1.7.0 in /home/luana/miniconda3/envs/IA/lib/python3.7/site-packages (from gensim) (1.8.4)\n",
      "Requirement already satisfied: boto>=2.32 in /home/luana/miniconda3/envs/IA/lib/python3.7/site-packages (from smart-open>=1.7.0->gensim) (2.49.0)\n",
      "Requirement already satisfied: requests in /home/luana/miniconda3/envs/IA/lib/python3.7/site-packages (from smart-open>=1.7.0->gensim) (2.22.0)\n",
      "Requirement already satisfied: boto3 in /home/luana/miniconda3/envs/IA/lib/python3.7/site-packages (from smart-open>=1.7.0->gensim) (1.9.207)\n",
      "Requirement already satisfied: urllib3!=1.25.0,!=1.25.1,<1.26,>=1.21.1 in /home/luana/miniconda3/envs/IA/lib/python3.7/site-packages (from requests->smart-open>=1.7.0->gensim) (1.25.3)\n",
      "Requirement already satisfied: idna<2.9,>=2.5 in /home/luana/miniconda3/envs/IA/lib/python3.7/site-packages (from requests->smart-open>=1.7.0->gensim) (2.8)\n",
      "Requirement already satisfied: certifi>=2017.4.17 in /home/luana/miniconda3/envs/IA/lib/python3.7/site-packages (from requests->smart-open>=1.7.0->gensim) (2019.6.16)\n",
      "Requirement already satisfied: chardet<3.1.0,>=3.0.2 in /home/luana/miniconda3/envs/IA/lib/python3.7/site-packages (from requests->smart-open>=1.7.0->gensim) (3.0.4)\n",
      "Requirement already satisfied: s3transfer<0.3.0,>=0.2.0 in /home/luana/miniconda3/envs/IA/lib/python3.7/site-packages (from boto3->smart-open>=1.7.0->gensim) (0.2.1)\n",
      "Requirement already satisfied: jmespath<1.0.0,>=0.7.1 in /home/luana/miniconda3/envs/IA/lib/python3.7/site-packages (from boto3->smart-open>=1.7.0->gensim) (0.9.4)\n",
      "Requirement already satisfied: botocore<1.13.0,>=1.12.207 in /home/luana/miniconda3/envs/IA/lib/python3.7/site-packages (from boto3->smart-open>=1.7.0->gensim) (1.12.207)\n",
      "Requirement already satisfied: docutils<0.15,>=0.10 in /home/luana/miniconda3/envs/IA/lib/python3.7/site-packages (from botocore<1.13.0,>=1.12.207->boto3->smart-open>=1.7.0->gensim) (0.14)\n",
      "Requirement already satisfied: python-dateutil<3.0.0,>=2.1; python_version >= \"2.7\" in /home/luana/miniconda3/envs/IA/lib/python3.7/site-packages (from botocore<1.13.0,>=1.12.207->boto3->smart-open>=1.7.0->gensim) (2.8.0)\n"
     ]
    }
   ],
   "source": [
    "!pip install gensim"
   ]
  },
  {
   "cell_type": "code",
   "execution_count": 14,
   "metadata": {},
   "outputs": [],
   "source": [
    "# Imports\n",
    "\n",
    "from collections import defaultdict\n",
    "from gensim import corpora, models, similarities\n",
    "from gensim.utils import simple_preprocess\n",
    "import numpy as np"
   ]
  },
  {
   "cell_type": "markdown",
   "metadata": {},
   "source": [
    "## Descrição do Problema\n",
    "\n",
    "Utilizando as técnicas estudadas, será desenvolvido uma ferramenta que permita a comparação de pequenos textos. Devem ser definidas métricas de comparação que classifique os textos segundo critérios de similaridade.\n",
    "\n",
    "A ferramenta deverá ser aplicada aos Estudos Dirigidos desenvolvidos ao longo do curso de Inteligência Artificial 2019-3. Para cada estudo, deve-se construir uma matriz que mostre a similaridade entre os documentos. Depois, definir um documento de referência e traçar um gráfico de similaridade dos demais em relação a ele."
   ]
  },
  {
   "cell_type": "markdown",
   "metadata": {},
   "source": [
    "## Tratamento dos Dados"
   ]
  },
  {
   "cell_type": "code",
   "execution_count": 15,
   "metadata": {},
   "outputs": [],
   "source": [
    "docs = [ \"Feita a comparação com igual período do ano passado, registaram-se menos 29 acidentes e menos dois mortos.\",\n",
    "       \"Em comparação com o ano anterior, registaram-se menos 29 acidentes e menos duas vítimas mortais.\",\n",
    "       \"Presidente da República fez uma série de avisos ao novo primeiro-ministro na tomada de posse do XXI Governo Constitucional.\",\n",
    "       \"Foi naquele local que António Costa tomou posse do XXI Governo Constitucional.\"\n",
    "       ]\n"
   ]
  },
  {
   "cell_type": "code",
   "execution_count": 16,
   "metadata": {},
   "outputs": [],
   "source": [
    "mydict = corpora.Dictionary([simple_preprocess(line) for line in docs])"
   ]
  },
  {
   "cell_type": "code",
   "execution_count": 18,
   "metadata": {},
   "outputs": [],
   "source": [
    "corpus = [mydict.doc2bow(simple_preprocess(line)) for line in docs]"
   ]
  },
  {
   "cell_type": "code",
   "execution_count": 19,
   "metadata": {},
   "outputs": [
    {
     "name": "stdout",
     "output_type": "stream",
     "text": [
      "[['acidentes', 1], ['ano', 1], ['com', 1], ['comparação', 1], ['do', 1], ['dois', 1], ['feita', 1], ['igual', 1], ['menos', 2], ['mortos', 1], ['passado', 1], ['período', 1], ['registaram', 1], ['se', 1]]\n",
      "[['acidentes', 1], ['ano', 1], ['com', 1], ['comparação', 1], ['menos', 2], ['registaram', 1], ['se', 1], ['anterior', 1], ['duas', 1], ['em', 1], ['mortais', 1], ['vítimas', 1]]\n",
      "[['do', 1], ['ao', 1], ['avisos', 1], ['constitucional', 1], ['da', 1], ['de', 2], ['fez', 1], ['governo', 1], ['ministro', 1], ['na', 1], ['novo', 1], ['posse', 1], ['presidente', 1], ['primeiro', 1], ['república', 1], ['série', 1], ['tomada', 1], ['uma', 1], ['xxi', 1]]\n",
      "[['do', 1], ['constitucional', 1], ['governo', 1], ['posse', 1], ['xxi', 1], ['antónio', 1], ['costa', 1], ['foi', 1], ['local', 1], ['naquele', 1], ['que', 1], ['tomou', 1]]\n"
     ]
    }
   ],
   "source": [
    "for doc in corpus:\n",
    "    print([[mydict[id], freq] for id, freq in doc])"
   ]
  },
  {
   "cell_type": "markdown",
   "metadata": {},
   "source": [
    "## Definição do Modelo"
   ]
  },
  {
   "cell_type": "code",
   "execution_count": 20,
   "metadata": {},
   "outputs": [],
   "source": [
    "tfidf = models.TfidfModel(corpus, smartirs='ntc')"
   ]
  },
  {
   "cell_type": "code",
   "execution_count": 21,
   "metadata": {},
   "outputs": [
    {
     "name": "stdout",
     "output_type": "stream",
     "text": [
      "[['acidentes', 0.19], ['ano', 0.19], ['com', 0.19], ['comparação', 0.19], ['do', 0.1], ['dois', 0.33], ['feita', 0.33], ['igual', 0.33], ['menos', 0.37], ['mortos', 0.33], ['passado', 0.33], ['período', 0.33], ['registaram', 0.19], ['se', 0.19]]\n",
      "[['acidentes', 0.2], ['ano', 0.2], ['com', 0.2], ['comparação', 0.2], ['menos', 0.4], ['registaram', 0.2], ['se', 0.2], ['anterior', 0.35], ['duas', 0.35], ['em', 0.35], ['mortais', 0.35], ['vítimas', 0.35]]\n",
      "[['do', 0.07], ['ao', 0.23], ['avisos', 0.23], ['constitucional', 0.13], ['da', 0.23], ['de', 0.47], ['fez', 0.23], ['governo', 0.13], ['ministro', 0.23], ['na', 0.23], ['novo', 0.23], ['posse', 0.13], ['presidente', 0.23], ['primeiro', 0.23], ['república', 0.23], ['série', 0.23], ['tomada', 0.23], ['uma', 0.23], ['xxi', 0.13]]\n",
      "[['do', 0.11], ['constitucional', 0.2], ['governo', 0.2], ['posse', 0.2], ['xxi', 0.2], ['antónio', 0.35], ['costa', 0.35], ['foi', 0.35], ['local', 0.35], ['naquele', 0.35], ['que', 0.35], ['tomou', 0.35]]\n"
     ]
    }
   ],
   "source": [
    "for doc in tfidf[corpus]:\n",
    "    print([[mydict[id], np.around(freq, decimals=2)] for id, freq in doc])"
   ]
  },
  {
   "cell_type": "code",
   "execution_count": 22,
   "metadata": {},
   "outputs": [],
   "source": [
    "index = similarities.SparseMatrixSimilarity(tfidf[corpus], num_features=12)"
   ]
  },
  {
   "cell_type": "code",
   "execution_count": null,
   "metadata": {},
   "outputs": [],
   "source": []
  },
  {
   "cell_type": "code",
   "execution_count": null,
   "metadata": {},
   "outputs": [],
   "source": []
  }
 ],
 "metadata": {
  "kernelspec": {
   "display_name": "Python 3",
   "language": "python",
   "name": "python3"
  },
  "language_info": {
   "codemirror_mode": {
    "name": "ipython",
    "version": 3
   },
   "file_extension": ".py",
   "mimetype": "text/x-python",
   "name": "python",
   "nbconvert_exporter": "python",
   "pygments_lexer": "ipython3",
   "version": "3.7.3"
  }
 },
 "nbformat": 4,
 "nbformat_minor": 2
}

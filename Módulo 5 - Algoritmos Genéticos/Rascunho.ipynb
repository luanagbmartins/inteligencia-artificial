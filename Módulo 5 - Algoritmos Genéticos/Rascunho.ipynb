{
 "cells": [
  {
   "cell_type": "code",
   "execution_count": 1,
   "metadata": {},
   "outputs": [],
   "source": [
    "import pandas as pd\n",
    "import numpy as np\n",
    "import seaborn as sns\n",
    "import re"
   ]
  },
  {
   "cell_type": "code",
   "execution_count": 2,
   "metadata": {},
   "outputs": [
    {
     "name": "stderr",
     "output_type": "stream",
     "text": [
      "/media/user/DADOS1/anaconda/envs/iainverno/lib/python3.7/site-packages/IPython/core/interactiveshell.py:3058: DtypeWarning: Columns (15) have mixed types. Specify dtype option on import or set low_memory=False.\n",
      "  interactivity=interactivity, compiler=compiler, result=result)\n"
     ]
    }
   ],
   "source": [
    "df = pd.read_csv('baseDeDados.csv', sep=';')"
   ]
  },
  {
   "cell_type": "code",
   "execution_count": 3,
   "metadata": {},
   "outputs": [],
   "source": [
    "def extend_list(lst):\n",
    "    \"\"\"\n",
    "    Função utilitária para o pré-processamento da tabela de dependências.\n",
    "    Uniformiza o tamanho de sublistas.\n",
    "    \"\"\"\n",
    "    try:\n",
    "        lst[2]\n",
    "    except:\n",
    "        lst.append('')\n",
    "    return lst\n",
    "\n",
    "def list_to_int(lst):\n",
    "    \"\"\"\n",
    "    Função utilitária para o pré-processamento da tabela de dependências.\n",
    "    Gera uma lista de dependências.\n",
    "    \"\"\"\n",
    "    new_lst = []\n",
    "    for item in lst:\n",
    "        try:\n",
    "            new_lst.append(int(item))\n",
    "        except:\n",
    "            continue\n",
    "    return new_lst\n",
    "\n",
    "def levenshtein(s1, s2):\n",
    "    \"\"\"\n",
    "    Função utilitária para o pré-processamento de tabelas.\n",
    "    Mede a distância Levenshtein ( distância de edição ) entre duas strings.\n",
    "    \"\"\"\n",
    "    if len(s1) < len(s2):\n",
    "        return levenshtein(s2, s1)\n",
    "\n",
    "    # len(s1) >= len(s2)\n",
    "    if len(s2) == 0:\n",
    "        return len(s1)\n",
    "\n",
    "    previous_row = range(len(s2) + 1)\n",
    "    for i, c1 in enumerate(s1):\n",
    "        current_row = [i + 1]\n",
    "        for j, c2 in enumerate(s2):\n",
    "            insertions = previous_row[j + 1] + 1\n",
    "            deletions = current_row[j] + 1       \n",
    "            substitutions = previous_row[j] + (c1 != c2)\n",
    "            current_row.append(min(insertions, deletions, substitutions))\n",
    "        previous_row = current_row\n",
    "    \n",
    "    return previous_row[-1]\n",
    "\n",
    "def tabela_notas(df):\n",
    "    \"\"\"\n",
    "    Retorna a média geral dos alunos em cada matéria.\n",
    "    \"\"\"\n",
    "    return df[['nome_componente', 'nota_discente_componente']]\\\n",
    "    .groupby('nome_componente')\\\n",
    "    .mean()\\\n",
    "    .to_dict()\\\n",
    "    ['nota_discente_componente']\n",
    "\n",
    "def tabela_dependencias_grade_nova(df):\n",
    "    \"\"\"\n",
    "    Esta função transforma o texto abaixo, copiado de \n",
    "    http://inf.ufg.br/sites/default/files/uploads/Resolucao_CEPEC_2017_1561.pdf ,\n",
    "    em uma tabela de dependências para a grade nova.\n",
    "    \"\"\"\n",
    "    novos_requisitos = \"\"\"\n",
    "    01 Álgebra Linear IME 64 0 64 NC OBR\n",
    "    02 Algoritmos e Estruturas de Dados 1 INF 26 32 32 64 NC OBR\n",
    "    03 Algoritmos e Estruturas de Dados 2 INF 2 64 0 64 NC OBR\n",
    "    04 Análise e Projeto de Algoritmos INF 21, 03 64 0 64 NC OBR\n",
    "    05 Arquitetura de Computadores INF 21 48 16 64 NC OBR\n",
    "    06 Banco de Dados INF 29 48 16 64 NC OBR\n",
    "    07 Cálculo 1A IME 96 0 96 NC OBR\n",
    "    08 Cálculo 2A IME 7 96 0 96 NE OBR\n",
    "    09 Cálculo Numérico IME 18 64 0 64 NE OBR\n",
    "    10 Circuitos Digitais EMC 21 64 0 64 NE OBR\n",
    "    11 Compiladores INF 03, 28 48 16 64 NE OBR\n",
    "    12 Computação e Sociedade INF 32 0 32 NC OBR\n",
    "    13 Computação Gráfica INF 22 32 32 64 NE OBR\n",
    "    14 Computação Paralela INF 39 48 16 64 NE OBR\n",
    "    15 Eletrônica para Computação EMC 20 96 0 96 NE OBR\n",
    "    16 Engenharia de Requisitos INF 16 48 64 NE OBR\n",
    "    17 Engenharia de Software INF 64 0 64 NC OBR\n",
    "    18 Equações Diferenciais Ordinárias IME 01, 08 64 0 64 NE OBR\n",
    "    19 Física I IF 7 64 0 64 NE OBR\n",
    "    20 Física III IF 19 64 0 64 NE OBR\n",
    "    21 Fundamentos de Matemática para Computação INF 64 0 64 NC OBR\n",
    "    22 Geometria Analítica IME 64 0 64 NE OBR\n",
    "    23 Inteligência Artificial INF 02, 29, 33 64 0 64 NE OBR\n",
    "    24 Interação Humano-Computador INF 02, 33 32 32 64 NC OBR\n",
    "    25 Introdução à Computabilidade e à Complexidade Computacional INF 04, 28 64 0 64 NE OBR\n",
    "    26 Introdução à Programação INF 48 80 128 NC OBR\n",
    "    27 Linguagens e Paradigmas de Programação INF 26 32 32 64 NC OBR\n",
    "    28 Linguagens Formais e Autômatos INF 21 64 0 64 NE OBR\n",
    "    29 Lógica Matemática INF 21 64 0 64 NC OBR\n",
    "    30 Matemática Discreta INF 21 64 0 64 NE OBR\n",
    "    31 Metodologia de Pesquisa em Computação INF 32 0 32 NE OBR\n",
    "    32 Pesquisa Operacional INF 1 64 0 64 NE OBR\n",
    "    33 Probabilidade e Estatística A IME 7 64 0 64 NC OBR\n",
    "    34 Programação Orientada a Objetos INF 26 32 32 64 NC OBR\n",
    "    35 Projeto de Software INF 17, 34 64 0 64 NC OBR\n",
    "    36 Projeto Final de Curso 1 INF 0 64 64 NE OBR\n",
    "    37 Projeto Final de Curso 2 INF 36 0 64 64 NE OBR\n",
    "    38 Redes de Computadores 1 INF 48 16 64 NE OBR\n",
    "    39 Sistemas Distribuídos INF 38 48 16 64 NE OBR\n",
    "    40 Sistemas Gerenciadores de Banco de Dados INF 6 64 0 64 NE OBR\n",
    "    41 Sistemas Operacionais INF 02, 05 64 0 64 NE OBR\n",
    "    42 Software Básico INF 2 0 64 64 NE OBR\n",
    "    43 Teoria dos Grafos INF 30 64 0 64 NE OBR\n",
    "    44 Aprendizagem de Máquina e Mineração de Dados INF 23 32 32 64 NE OPT\n",
    "    45 Armazém de Dados INF 40 48 16 64 NE OPT\n",
    "    46 Avaliação de Desempenho de Sistemas Computacionais INF 33 64 0 64 NE OPT\n",
    "    47 Banco de Dados Distribuídos INF 40 64 0 64 NE OPT\n",
    "    48 Computação Evolucionária INF 32 32 64 NE OPT\n",
    "    49 Computação Móvel e Ubíqua INF 34, 35 16 48 64 NE OPT\n",
    "    50 Computação Verde INF 38 32 32 64 NE OPT\n",
    "    51 Desenvolvimento de Sistemas para Web INF 34 32 32 64 NE OPT\n",
    "    52 Desenvolvimento de Software Dirigido por Modelos INF 02, 34 32 32 64 NE OPT\n",
    "    53 Empreendedorismo Digital INF 32 32 64 NE OPT\n",
    "    54 Engenharia de Sistemas INF 64 0 64 NE OPT\n",
    "    55 Engenharia de Software Baseada em Busca INF 17 32 32 64 NE OPT\n",
    "    56 Fundamentos da Programação Lógica e Funcional INF 27, 29 64 0 64 NE OPT\n",
    "    57 Integração de Dados INF 40 64 0 64 NE OPT\n",
    "    58 Introdução à Língua Brasileira de Sinais FL 64 0 64 NE OPT\n",
    "    59 Introdução à Teoria das Provas INF 29 64 0 64 NE OPT\n",
    "    60 Introdução à Teoria dos Tipos INF 29 64 0 64 NE OPT\n",
    "    61 Jogos Digitais INF 34 16 48 64 NE OPT\n",
    "    62 Meta-heurísticas INF 2 64 0 64 NE OPT\n",
    "    63 Metodologia e Experimentação em Engenharia de Software INF 64 0 64 NE OPT\n",
    "    64 Microcontroladores INF 10, 26 32 32 64 NE OPT\n",
    "    65 Processamento Digital de Imagens INF 01, 26 64 0 64 NE OPT\n",
    "    66 Recuperação de Informação INF 02, 33 64 0 64 NE OPT\n",
    "    67 Redes de Computadores 2 INF 38 32 32 64 NE OPT\n",
    "    68 Redes Neuronais Artificiais INF 23 32 32 64 NE OPT\n",
    "    69 Segurança e Auditoria de Sistemas INF 38 32 32 64 NE OPT\n",
    "    70 Sistemas Multiagentes INF 34 32 32 64 NE OPT\n",
    "    71 Tópicos Avançados em Redes Sem Fio INF 16 48 64 NE OPT\n",
    "    72 Tópicos em Computação INF 64 0 64 NE OPT\n",
    "    73 Tópicos em Teste de Software INF 48 16 64 NE OPT\n",
    "    74 Verificação Formal de Programas INF 29 32 32 64 NE OPT\n",
    "    75 Visão Robótica INF 01, 65 64 0 64 NE OPT\n",
    "    76 Visualização de Informações INF 3 32 32 64 NE OPT\n",
    "    77 Web Semântica INF 34 32 32 64 NE OPT\n",
    "    \"\"\".split('\\n')[1:-1]\n",
    "\n",
    "    novos_requisitos = [ re.sub('[0-9]* [0-9]* [0-9]* [A-Z]* [A-Z]*$', '', line) for line in novos_requisitos ]\n",
    "\n",
    "    novos_requisitos = [ re.split('(^[0-9]* )', line)[1:] for line in novos_requisitos ]\n",
    "\n",
    "    novos_requisitos = [ [x[0]] + re.split(' [A-Z][A-Z][A-Z]? ', x[1]) for x in novos_requisitos ]\n",
    "\n",
    "    novos_requisitos = [ extend_list(x) for x in novos_requisitos ]\n",
    "\n",
    "    novos_requisitos = [ x[1:] for x in novos_requisitos ]\n",
    "    \n",
    "    for idx, item in enumerate(novos_requisitos):\n",
    "        tmp = []\n",
    "        p1 = item[0]\n",
    "        p2 = item[1]\n",
    "        p1 = p1.lstrip()\n",
    "        p1 = p1.split(' ', 1)\n",
    "        tmp.extend(p1)\n",
    "        tmp.append(p2)\n",
    "        if len(tmp) == 2:\n",
    "            tmp.append([])\n",
    "        novos_requisitos[idx] = tmp\n",
    "              \n",
    "    novos_requisitos = [\n",
    "        {\n",
    "            \"key\": int(x[0]),\n",
    "            \"name\": x[1],\n",
    "            \"deps\": list_to_int(x[2].split(','))\n",
    "        } for x in novos_requisitos\n",
    "    ]\n",
    "    \n",
    "    materias_tabela = df[df['codigo_matriz_curricular']=='CICOMP-BI-3']['nome_componente'].drop_duplicates().values\n",
    "\n",
    "    grafo_requisitos = []\n",
    "    for x in materias_tabela:\n",
    "        distances = []\n",
    "        names = []\n",
    "        for y in novos_requisitos:\n",
    "            distances.append( levenshtein(x.lower(),y['name'].lower()) )\n",
    "            names.append(y['name'])\n",
    "        match = names[distances.index(min(distances))]\n",
    "        for y in novos_requisitos:\n",
    "            if y['name'] == match:\n",
    "                y['name'] = x\n",
    "                grafo_requisitos.append(y)\n",
    "\n",
    "    for item in grafo_requisitos:\n",
    "        deps = item['deps']\n",
    "        for idx,dep in enumerate(deps):\n",
    "            for item2 in grafo_requisitos:\n",
    "                if item2['key'] == dep:\n",
    "                    item['deps'][idx] = item2['name']\n",
    "\n",
    "    dependencias_grade_nova = []\n",
    "    for item in grafo_requisitos:\n",
    "        for dep in item['deps']:\n",
    "            row = {\n",
    "                \"materia\": item['name'],\n",
    "                \"dependencia\": dep\n",
    "            }\n",
    "            dependencias_grade_nova.append(row)\n",
    "    dependencias_grade_nova = pd.DataFrame(dependencias_grade_nova)\n",
    "    return dependencias_grade_nova\n",
    "\n",
    "def tabela_dependencias_grade_antiga(df):\n",
    "    \"\"\"\n",
    "    Esta função transforma o dicionário abaixo, elaborado a partir de \n",
    "    http://www.inf.ufg.br/sites/default/files/ProjetoPedagogico2008.pdf ,\n",
    "    em uma tabela de dependências para a grade nova.\n",
    "    \"\"\"\n",
    "    requisitos = [\n",
    "        {\n",
    "        \"materia\": \"Programação de Computadores 2\",\n",
    "        \"dependencia\": \"Programação de Computadores 1\"\n",
    "    },\n",
    "        {\n",
    "        \"materia\": \"Estrutura de Dados I\",\n",
    "        \"dependencia\": \"Programação de Computadores 1\"\n",
    "    },\n",
    "        {\n",
    "        \"materia\": \"Programação Orientada a Objetos\",\n",
    "        \"dependencia\": \"Programação de Computadores 1\"\n",
    "    },\n",
    "        {\n",
    "        \"materia\": \"Linguagens de Programação\",\n",
    "        \"dependencia\": \"Programação de Computadores 1\"\n",
    "    },\n",
    "        {\n",
    "        \"materia\": \"Estruturas de Dados II\",\n",
    "        \"dependencia\": \"Estruturas de Dados I\"\n",
    "    },\n",
    "        {\n",
    "        \"materia\": \"Análise e Projeto de Algoritmos\",\n",
    "        \"dependencia\": \"Estruturas de Dados I\"\n",
    "    },\n",
    "        {\n",
    "        \"materia\": \"Teoria da Computação\",\n",
    "        \"dependencia\": \"Linguagens Formais e Autômatos\"\n",
    "    },\n",
    "        {\n",
    "        \"materia\": \"Compiladores\",\n",
    "        \"dependencia\": \"Linguagens Formais e Autômatos\"\n",
    "    },    \n",
    "        {\n",
    "        \"materia\": \"Compiladores\",\n",
    "        \"dependencia\": \"Estruturas de Dados II\"\n",
    "    },\n",
    "        {\n",
    "        \"materia\": \"Redes de Computadores 2\",\n",
    "        \"dependencia\": \"Redes de Computadores 1\"\n",
    "    },\n",
    "        {\n",
    "        \"materia\": \"Sistemas Distribuídos\",\n",
    "        \"dependencia\": \"Redes de Computadores 1\"\n",
    "    },\n",
    "        {\n",
    "        \"materia\": \"Inteligência Artificial\",\n",
    "        \"dependencia\": \"Lógica Matemática\"\n",
    "    },\n",
    "        {\n",
    "        \"materia\": \"Banco de Dados\",\n",
    "        \"dependencia\": \"Lógica Matemática\"\n",
    "    },\n",
    "        {\n",
    "        \"materia\": \"Sistemas Gerenciadores de BD\",\n",
    "        \"dependencia\": \"Banco de Dados\"\n",
    "    },\n",
    "        {\n",
    "        \"materia\": \"Sistemas Operacionais 2\",\n",
    "        \"dependencia\": \"Sistemas Operacionais 1\"\n",
    "    },\n",
    "        {\n",
    "        \"materia\": \"Cálculo 2\",\n",
    "        \"dependencia\": \"Cálculo 1\"\n",
    "    },\n",
    "        {\n",
    "        \"materia\": \"Projeto Final de Curso 2\",\n",
    "        \"dependencia\": \"Projeto Final de Curso 1\"\n",
    "    }\n",
    "    ]\n",
    "\n",
    "\n",
    "    materias_tabela = df[df['codigo_matriz_curricular']=='CICOMP-BI-2']['nome_componente'].drop_duplicates().values\n",
    "\n",
    "    for idx, req in enumerate(requisitos):\n",
    "        for key, value in req.items():\n",
    "            tmp = []\n",
    "            for materia in materias_tabela:\n",
    "                lev = levenshtein(value.lower(), materia.lower())\n",
    "                if lev < 10:\n",
    "                    tmp.append( [ lev, materia ] )\n",
    "            tmp = sorted(tmp, key=lambda x: x[0])\n",
    "            try:\n",
    "                new_value = tmp[0][1]\n",
    "                requisitos[idx][key] = new_value\n",
    "            except:\n",
    "                pass\n",
    "\n",
    "    dependencias_grade_antiga = pd.DataFrame(requisitos)\n",
    "    return dependencias_grade_antiga\n",
    "\n",
    "def tabela_equivalencias(df):\n",
    "    \"\"\"\n",
    "    Sugere uma tabela de equivalências entre matérias.\n",
    "    \"\"\"\n",
    "    materias_novas = df[df['codigo_matriz_curricular']=='CICOMP-BI-3']['nome_componente'].drop_duplicates().values\n",
    "    materias_antigas = df[df['codigo_matriz_curricular']=='CICOMP-BI-2']['nome_componente'].drop_duplicates().values\n",
    "\n",
    "    equivalencias = []\n",
    "    for mn in materias_novas:\n",
    "        tmp = []\n",
    "        for ma in materias_antigas:\n",
    "            lev = levenshtein(mn, ma)\n",
    "            if lev < 10:\n",
    "                tmp.append( [levenshtein(mn, ma), ma] )\n",
    "                tmp = sorted(tmp, key=lambda x: x[0])\n",
    "        if not tmp:\n",
    "            continue\n",
    "        match = tmp[0][1]\n",
    "        row = {\n",
    "                \"nova\": mn,\n",
    "                \"antiga\": match\n",
    "            }\n",
    "        equivalencias.append(row)\n",
    "    equivalencias = \\\n",
    "    [{'nova': 'CÁLCULO 1A', 'antiga': 'CÁLCULO 1'},\n",
    "     {'nova': 'CÁLCULO 2A', 'antiga': 'CÁLCULO 2'},\n",
    "    #  {'nova': 'FÍSICA III', 'antiga': 'TÓPICOS 1'},\n",
    "     {'nova': 'ÁLGEBRA LINEAR', 'antiga': 'ÁLGEBRA LINEAR'},\n",
    "     {'nova': 'PROBABILIDADE E ESTATÍSTICA A',\n",
    "      'antiga': 'PROBABILIDADE E ESTATÍSTICA'},\n",
    "    #  {'nova': 'MATEMÁTICA DISCRETA', 'antiga': 'MATEMÁTICA DISCRETA'},\n",
    "     {'nova': 'PROGRAMAÇÃO ORIENTADA A OBJETOS',\n",
    "      'antiga': 'PROGRAMAÇÃO ORIENTADA A OBJETOS'},\n",
    "     {'nova': 'ARQUITETURA DE COMPUTADORES',\n",
    "      'antiga': 'ARQUITETURA DE COMPUTADORES'},\n",
    "     {'nova': 'ANÁLISE E PROJETO DE ALGORITMOS',\n",
    "      'antiga': 'ANÁLISE E PROJETO DE ALGORITMOS'},\n",
    "     {'nova': 'BANCO DE DADOS', 'antiga': 'BANCO DE DADOS'},\n",
    "     {'nova': 'COMPUTAÇÃO E SOCIEDADE', 'antiga': 'COMPUTADOR E SOCIEDADE'},\n",
    "    #  {'nova': 'FÍSICA I', 'antiga': 'TÓPICOS 1'},\n",
    "     {'nova': 'LÓGICA MATEMÁTICA', 'antiga': 'LÓGICA MATEMÁTICA'},\n",
    "     {'nova': 'ENGENHARIA DE SOFTWARE', 'antiga': 'ENGENHARIA DE SOFTWARE'},\n",
    "     {'nova': 'INTRODUÇÃO À PROGRAMAÇÃO', 'antiga': 'INTRODUÇÃO À COMPUTAÇÃO'}]\n",
    "\n",
    "    manual = [\n",
    "        {'nova': 'ALGORITMOS E ESTRUTURAS DE DADOS 1', 'antiga': 'ESTRUTURAS DE DADOS I'},\n",
    "        {'nova': 'ALGORITMOS E ESTRUTURAS DE DADOS 2', 'antiga': 'ESTRUTURAS DE DADOS II'}]\n",
    "    equivalencias += manual\n",
    "    equivalencias = pd.DataFrame(equivalencias)\n",
    "    return equivalencias"
   ]
  },
  {
   "cell_type": "code",
   "execution_count": 4,
   "metadata": {},
   "outputs": [],
   "source": [
    "class Aluno(object):\n",
    "    \"\"\"\n",
    "    Objeto que representa um aluno hipotético, gerado automaticamente.\n",
    "    \"\"\"\n",
    "    def __init__(self, df, grade_nova=False):\n",
    "        self.df = df\n",
    "        self.grade_nova = grade_nova\n",
    "        self.equivalencias = tabela_equivalencias(df)\n",
    "        self.deps_antiga = tabela_dependencias_grade_antiga(df)\n",
    "        self.deps_nova = tabela_dependencias_grade_nova(df)\n",
    "        self.notas = tabela_notas(df)\n",
    "        \n",
    "    def fluxo(self, periodo):\n",
    "        \"\"\"\n",
    "        Retorna as matérias previstas para um período pelo fluxo.\n",
    "        \"\"\"\n",
    "        if self.grade_nova:\n",
    "            idx = '3'\n",
    "        else:\n",
    "            idx = '2'\n",
    "        tmp = self.df[self.df['codigo_matriz_curricular']== 'CICOMP-BI-' + idx]\\\n",
    "        [['nome_componente', 'semestre_previsto_componente']]\n",
    "        tmp = tmp[tmp['semestre_previsto_componente'] == periodo]\\\n",
    "        [['nome_componente']]\\\n",
    "        .drop_duplicates().values.flatten().tolist()\n",
    "        return tmp\n",
    "    \n",
    "    def expandir_materias(self, materias):\n",
    "        \"\"\"\n",
    "        Dado uma lista de matérias da grade nova, expandir para as equivalentes na grade antiga,\n",
    "        e vice-versa.\n",
    "        \"\"\"\n",
    "        tmp = materias[::]\n",
    "        dct = self.equivalencias.to_dict()\n",
    "        for key in dct.keys():\n",
    "            dct[key] = { v:k for k,v in dct[key].items() }\n",
    "        for materia in materias:\n",
    "            try:\n",
    "                key = 'nova'\n",
    "                other = 'antiga'\n",
    "                dct[key] = { v:k for k,v in dct[key].items() }\n",
    "                tmp.append(dct[other][dct[key][materia]])\n",
    "            except:\n",
    "                pass\n",
    "            try:\n",
    "                key = 'antiga'\n",
    "                other = 'nova'\n",
    "                dct[key] = { v:k for k,v in dct[key].items() }\n",
    "                tmp.append(dct[other][dct[key][materia]])            \n",
    "            except:\n",
    "                pass            \n",
    "        return sorted(list(set(tmp)))\n",
    "    \n",
    "    def checar_dependencias(self, materia, cursadas):\n",
    "        \"\"\"\n",
    "        Retorna um par de valores booleanos. \n",
    "        \n",
    "        O primeiro diz se as matérias no parâmetro \"cursadas\"\n",
    "        satisfazem aos pré-requisitos da matéria no parâmetro \"materia\"\n",
    "        na grade antiga.\n",
    "        \n",
    "        O segundo diz se as matérias no parâmetro \"cursadas\"\n",
    "        satisfazem aos pré-requisitos da matéria no parâmetro \"materia\"\n",
    "        na grade nova.        \n",
    "        \"\"\"\n",
    "        try:\n",
    "            req_antiga = self.deps_antiga[self.deps_antiga['materia']==materia]\\\n",
    "            .to_dict()['dependencia']\\\n",
    "            .values()\n",
    "        except:\n",
    "            req_antiga = []\n",
    "        try:\n",
    "            req_nova = self.deps_nova[self.deps_nova['materia']==materia]\\\n",
    "            .to_dict()['dependencia']\\\n",
    "            .values()\n",
    "        except:\n",
    "            req_nova = []\n",
    "        check_antiga = len(set(req_antiga).intersection(set(cursadas))) == len(set(req_antiga))\n",
    "        check_nova = len(set(req_nova).intersection(set(cursadas))) == len(set(req_nova))\n",
    "        return check_antiga, check_nova\n",
    "    \n",
    "    def criar_fluxo(self, periodos=8, lim=6):\n",
    "        \"\"\"\n",
    "        Gera um aluno hipotético que sempre segue o fluxo.\n",
    "        Retorna as matérias cursadas pelo aluno até o n-ésimo período,\n",
    "        obedecendo um limite de matérias por período.\n",
    "        \"\"\"\n",
    "        materias = []\n",
    "        pendente = []\n",
    "        materias.extend([ (m,1) for m in self.fluxo(1) ])\n",
    "        for p in range(2,periodos+1):\n",
    "            f = self.fluxo(p)\n",
    "            tmp = pendente[::]\n",
    "            for item in f:\n",
    "                tmp.append( [item, self.notas[item], 'not_pending'] )\n",
    "            tmp = sorted(tmp, key=lambda x: x[1], reverse=True)\n",
    "            \n",
    "            for idx,item in enumerate(tmp):\n",
    "                m = [x[0] for x in materias]\n",
    "                status_1, status_2 = self.checar_dependencias(item, m)\n",
    "                if self.grade_nova == False and status_1 == False:\n",
    "                    tmp[idx][2] = 'blocked'\n",
    "                if self.grade_nova == True and status_2 == False:\n",
    "                    tmp[idx][2] = 'blocked'\n",
    "                if self.grade_nova == False and status_1 == True:\n",
    "                    tmp[idx][2] = 'not_pending'\n",
    "                if self.grade_nova == True and status_2 == True:\n",
    "                    tmp[idx][2] = 'not_pending'    \n",
    "                    \n",
    "            blocked = [x for x in tmp if x[2] == 'blocked' ]\n",
    "            unblocked = [x for x in tmp if x[2] != 'blocked']\n",
    "            not_pending = unblocked[0:lim]\n",
    "            pending = unblocked[lim:len(unblocked)]\n",
    "            for idx,item in enumerate(pending):\n",
    "                pending[idx][2] = 'pending'\n",
    "            \n",
    "            pendente = blocked + pending\n",
    "            materias.extend([ (m[0],p) for m in not_pending ])\n",
    "        return materias\n",
    "    \n",
    "    def gerar_notas(self, m):\n",
    "        \"\"\"\n",
    "        Retorna a média geral associada à matéria m.\n",
    "        \"\"\"\n",
    "        return self.notas[m]\n",
    "    \n",
    "    def gerar_entrada(self, materias, grade_nova=False):\n",
    "        \"\"\"\n",
    "        A partir de uma lista de matérias cursadas,\n",
    "        gera uma lista de matérias possíveis, \n",
    "        que servirão como entrada para o algoritmo genético.\n",
    "        \"\"\"\n",
    "        entrada = []\n",
    "        atuais = self.expandir_materias(materias)\n",
    "        materias = []\n",
    "        materias_novas = []\n",
    "        materias_antigas = []\n",
    "        if grade_nova:\n",
    "            materias_novas = self.df[self.df['codigo_matriz_curricular']== 'CICOMP-BI-3']\\\n",
    "            [['nome_componente']].drop_duplicates().values.flatten().tolist()\n",
    "        materias_antigas = self.df[self.df['codigo_matriz_curricular']== 'CICOMP-BI-2']\\\n",
    "        [['nome_componente']].drop_duplicates().values.flatten().tolist()\n",
    "        materias = materias_novas + materias_antigas\n",
    "        for m in materias:\n",
    "            status_1, status_2 = self.checar_dependencias(m, atuais)\n",
    "            if grade_nova == True and status_2 == True and m not in atuais:\n",
    "                entrada.append(m)\n",
    "            if grade_nova == False and status_1 == True and m not in atuais:\n",
    "                entrada.append(m)\n",
    "            \n",
    "        notas = [ self.gerar_notas(x) for x in entrada ]\n",
    "        return pd.DataFrame(list(zip(entrada, notas))).rename(columns={\n",
    "            0: 'materia',\n",
    "            1: 'media_geral'\n",
    "        })\n",
    "                \n"
   ]
  },
  {
   "cell_type": "markdown",
   "metadata": {},
   "source": [
    "# Problema\n",
    "\n",
    "Selecionar, a cada semestre, um conjunto de $k$ matérias a serem cursadas que maximize as chances do aluno obter a maior média global possível e o mínimo de reprovações.\n",
    "\n",
    "# Entrada do Algoritmo\n",
    "\n",
    "Partindo de uma lista inicial de matérias já cursadas, consultando as tabelas de dependências e equivalências, produzimos uma lista com as matérias possíveis de serem cursadas pelo aluno no próximo semestre.\n",
    "\n",
    "Nesta lista de matérias possíveis, cada matéria está acompanhada pela média geral de todos os alunos nesta matéria. \n",
    "\n",
    "# Solução\n",
    "\n",
    "Seja $M$ a média das médias gerais de todas as matérias possíveis.\n",
    "\n",
    "Para solucionarmos o problema, basta que, para cada semestre, selecionemos $k$ matérias a serem cursadas pelo aluno, de tal modo que a média das médias gerais das matérias selecionadas seja o mais próximo possível de $M$, a média das médias gerais de todas as matérias possíveis.\n",
    "\n",
    "# Justificativa\n",
    "\n",
    "Sabemos que as médias gerais de todas as disciplinas, consideradas em conjunto, seguem uma distribuição normal. Portanto, caso a média de nossa seleção esteja próxima de $M$, sabemos que temos em nossa seleção quantidades equilibradas de matérias fáceis e difíceis.\n",
    "\n",
    "Uma seleção de matérias muito difíceis aumenta as chances de reprovação, e uma seleção de matérias muito fáceis irá nos obrigar a fazer uma seleção de matérias muito difíceis em um momento posterior do curso.  \n",
    "\n",
    "Para solucionar o problema, portanto, devemos fazer uma seleção equilibrada. Devido à distribuição normal das médias, se a cada semestre realizamos uma seleção equilibrada, este equilíbrio será mantido no decorrer dos semestres e não iremos cair em situações de desequilíbrio.\n",
    "\n",
    "# Formalização do Algoritmo Genético\n",
    "\n",
    "Seja $E$ a entrada do algoritmo, com $E = \\{ (i_{1}, m_{1}), ... , (i_{k}, m_{k})\\} $, sendo $i_{n}$ o índice associado à n-ésima matéria possível de ser cursada no próximo semestre, e $m_{n}$ a média geral dos alunos na n-ésima matéria.\n",
    "\n",
    "Então, dado que a entrada tem tamanho $k$, iremos partir de uma população de cromossomos aleatórios.\n",
    "\n",
    "Cada cromossomo é representado como uma lista de genes da forma $C = [ b_{1}, ... , b_{k} ]$. Cada cromossomo contém $k$ genes, o mesmo tamanho da entrada, e cada gene pode assumir valores booleanos: $b_{n} \\in \\{ 0, 1 \\}$.\n",
    "\n",
    "Caso um gene assuma valor verdadeiro, isso significa que a matéria cujo índice corresponde à posição ocupada pelo gene no cromossomo deve ser incluída na solução proposta pelo cromossomo. Caso assuma valor falso, ela não deve ser incluída.\n",
    "\n",
    "Seja $z$ a quantidade de matérias que o aluno deseja cursar no próximo semestre.\n",
    "\n",
    "Definidas as variáveis:  \n",
    "\n",
    "$$ A = \\left| \\frac{ \\sum_{i=1}^{k} m_{i} - \\sum_{i=1}^{k} (m_{i} * b_{i}) }{k} \\right|$$\n",
    "\n",
    "$$ B = \\left| 2^{z} - \\prod_{i=1}^{k} 2^{b_{i}} \\right|$$\n",
    "\n",
    "Então queremos selecionar, a cada geração do algoritmo, os cromossomos que maximizam a seguinte função de *fitness*:  \n",
    "\n",
    "\n",
    "$$ f(b_{1}, ... , b_{k}) = \\frac{1}{A + 1} * \\frac{1}{B + 1}$$\n",
    "\n",
    "O melhor cromossomo possível é aquele que obtém $A = 0$ e $B = 0$, alcançando assim $f(b_{1}, ... , b_{k}) = 1$.\n",
    "\n",
    "$A = 0$ significa que a média das médias na seleção do cromossomo é exatamente igual à média das médias de todas as matérias possíveis. A função de $A$ é penalizar cromossomos que sugerem seleções desequilibradas de matérias, onde a média das médias da seleção se distancia da média das médias de todas as matérias possíveis.\n",
    "\n",
    "$B = 0$ significa que o cromossomo sugeriu exatamente $z$ matérias. A função de $B$ é penalizar cromossomos que sugerem uma quantidade de matérias a serem cursadas distinta da quantidade de matérias $z$ que o aluno deseja cursar. \n",
    "\n",
    "Na variável $B$, o número 2 foi escolhido como base das potenciações, o qual comprovamos empiricamente ser eficiente para a distinção entre cromossomos com "
   ]
  },
  {
   "cell_type": "code",
   "execution_count": 5,
   "metadata": {},
   "outputs": [
    {
     "name": "stderr",
     "output_type": "stream",
     "text": [
      "/media/user/DADOS1/anaconda/envs/iainverno/lib/python3.7/site-packages/numpy/core/fromnumeric.py:3257: RuntimeWarning: Mean of empty slice.\n",
      "  out=out, **kwargs)\n",
      "/media/user/DADOS1/anaconda/envs/iainverno/lib/python3.7/site-packages/numpy/core/_methods.py:161: RuntimeWarning: invalid value encountered in double_scalars\n",
      "  ret = ret.dtype.type(ret / rcount)\n"
     ]
    }
   ],
   "source": [
    "from operator import mul\n",
    "from functools import reduce\n",
    "from pyeasyga import pyeasyga\n",
    "import random\n",
    "\n",
    "\n",
    "def create_individual(data):\n",
    "    return [ random.randint(0,1) for x in range(len(data)) ]\n",
    "\n",
    "def fitness (individual, data):\n",
    "    N = [ x[1] for x in data ]\n",
    "    selected = [ N[i] for i,v in enumerate(individual) if v == 1 ]\n",
    "    first_term = 1 / ( np.absolute( np.mean(N) - np.mean(selected)) + 1 )\n",
    "    \n",
    "    selected = [ 2**(v) for i,v in enumerate(individual) if v == 1 ]\n",
    "    second_term = 1 / ( np.absolute(2**(NUMERO_DE_MATERIAS) - reduce(mul,selected,1)) + 1 )\n",
    "    fitness = first_term * second_term\n",
    "    return fitness\n",
    "\n",
    "def leitura(individual, data):\n",
    "    return [ data[i][0] for i,v in enumerate(individual[1]) if v == 1 ]\n",
    "\n",
    "def algoritmo_genetico(data):\n",
    "    ga = pyeasyga.GeneticAlgorithm(data,\n",
    "                               population_size=50,\n",
    "                               generations=20,\n",
    "                               crossover_probability=0.8,\n",
    "                               mutation_probability=0.05,\n",
    "                               elitism=True,\n",
    "                               maximise_fitness=True)\n",
    "\n",
    "    ga.create_individual = create_individual\n",
    "    ga.fitness_function = fitness\n",
    "    ga.run()\n",
    "    return leitura(ga.best_individual(), data)\n",
    "\n",
    "def gerar_plano(aluno, materias):\n",
    "    while True:\n",
    "        try:\n",
    "            entrada = a.gerar_entrada(materias)\n",
    "            data = [tuple(x) for x in entrada.values.tolist()]\n",
    "            ag = algoritmo_genetico(data)\n",
    "            if ag:\n",
    "                yield ag\n",
    "            materias = materias + ag\n",
    "        except:\n",
    "            break"
   ]
  },
  {
   "cell_type": "code",
   "execution_count": 6,
   "metadata": {
    "scrolled": true
   },
   "outputs": [],
   "source": [
    "# Função utilitária de normalização\n",
    "def norm(x, min_val, max_val):\n",
    "    return ( x - min_val ) / ( max_val - min_val ) \n",
    "\n",
    "# Função utilitária de uniformização de tamanho de arrays\n",
    "def uniform_length(labels):\n",
    "    max_len = max([ len(x) for x in labels ])\n",
    "    for idx,item in enumerate(labels):\n",
    "        while len(item) != max_len:\n",
    "            labels[idx].append(0.0)\n",
    "    return labels\n",
    "\n",
    "# Aqui definimos um aluno hipotético que cursa 5 matérias por semestre.\n",
    "a = Aluno(df)\n",
    "NUMERO_DE_MATERIAS = 5\n",
    "PERIODO = 2\n",
    "\n",
    "# Supomos que este aluno cursou os 2 primeiros períodos no fluxo, 5 matérias por semestre.\n",
    "materias = [ x[0] for x in a.criar_fluxo(periodos=PERIODO, lim=5) ]\n",
    "\n",
    "# Geramos um projeto de curso para o aluno usando o algoritmo genético.\n",
    "curso = []\n",
    "for item in gerar_plano(a, materias):\n",
    "    curso.append(item)\n",
    "\n",
    "labels = curso\n",
    "scores = np.array( [ sorted([ (a.gerar_notas(y), y) for y in x ], key=lambda x: x[0]) for x in curso ])\n",
    "labels = [ [ x[1] for x in y ] for y in scores ]\n",
    "labels = uniform_length(labels)\n",
    "scores = np.array([ np.array([ x[0] for x in y ]) for y in scores ])\n",
    "flat = np.concatenate(scores).ravel()\n",
    "min_val = np.min(flat)\n",
    "max_val = np.max(flat)\n",
    "scores = [ [ 1 - norm(x,min_val,max_val) for x in y ] for y in scores ]\n",
    "scores = [ [ round(x,2) for x in y ] for y in scores ]\n",
    "scores = uniform_length(scores)\n",
    "scores = scores[::-1]\n"
   ]
  },
  {
   "cell_type": "markdown",
   "metadata": {},
   "source": [
    "# Projeto de Curso\n",
    "\n",
    "Definido um aluno hipotético que cursou as disciplinas do fluxo sugerido até o 2º período, na grade antiga e com 5 matérias por semestre, usamos o algoritmo genético para gerar um projeto de curso: as matérias que o aluno deve cursar em cada período até o término do curso, de tal modo que as suas chances de tirar notas altas em cada semestre sejam maximizadas."
   ]
  },
  {
   "cell_type": "code",
   "execution_count": 7,
   "metadata": {},
   "outputs": [
    {
     "data": {
      "text/html": [
       "<div>\n",
       "<style scoped>\n",
       "    .dataframe tbody tr th:only-of-type {\n",
       "        vertical-align: middle;\n",
       "    }\n",
       "\n",
       "    .dataframe tbody tr th {\n",
       "        vertical-align: top;\n",
       "    }\n",
       "\n",
       "    .dataframe thead th {\n",
       "        text-align: right;\n",
       "    }\n",
       "</style>\n",
       "<table border=\"1\" class=\"dataframe\">\n",
       "  <thead>\n",
       "    <tr style=\"text-align: right;\">\n",
       "      <th></th>\n",
       "      <th>0</th>\n",
       "      <th>1</th>\n",
       "      <th>2</th>\n",
       "      <th>3</th>\n",
       "      <th>4</th>\n",
       "    </tr>\n",
       "  </thead>\n",
       "  <tbody>\n",
       "    <tr>\n",
       "      <th>3º período</th>\n",
       "      <td>PROBABILIDADE E ESTATÍSTICA</td>\n",
       "      <td>LINGUAGENS DE PROGRAMAÇÃO</td>\n",
       "      <td>COMPUTAÇÃO GRÁFICA</td>\n",
       "      <td>ENGENHARIA DE SOFTWARE</td>\n",
       "      <td>PROJETO FINAL DE CURSO 1</td>\n",
       "    </tr>\n",
       "    <tr>\n",
       "      <th>4º período</th>\n",
       "      <td>LINGUAGENS FORMAIS E AUTÔMATOS</td>\n",
       "      <td>PESQUISA OPERACIONAL</td>\n",
       "      <td>BANCO DE DADOS</td>\n",
       "      <td>TÓPICOS 1</td>\n",
       "      <td>EMPREENDEDORISMO</td>\n",
       "    </tr>\n",
       "    <tr>\n",
       "      <th>5º período</th>\n",
       "      <td>TEORIA DOS GRAFOS</td>\n",
       "      <td>TEORIA DA COMPUTAÇÃO</td>\n",
       "      <td>MULTIMÍDIA</td>\n",
       "      <td>PROJETO DE SOFTWARE</td>\n",
       "      <td>COMPUTADOR E SOCIEDADE</td>\n",
       "    </tr>\n",
       "    <tr>\n",
       "      <th>6º período</th>\n",
       "      <td>SISTEMAS GERENCIADORES DE BD</td>\n",
       "      <td>PROGRAMAÇÃO ORIENTADA A OBJETOS</td>\n",
       "      <td>TÓPICOS 2</td>\n",
       "      <td>ARQUITETURA DE COMPUTADORES</td>\n",
       "      <td>ENGENHARIA DE REQUISITOS</td>\n",
       "    </tr>\n",
       "    <tr>\n",
       "      <th>7º período</th>\n",
       "      <td>SISTEMAS OPERACIONAIS 1</td>\n",
       "      <td>REDES DE COMPUTADORES 1</td>\n",
       "      <td>SEGURANÇA E AUDITORIA DE SISTEMAS</td>\n",
       "      <td>INTELIGÊNCIA ARTIFICIAL</td>\n",
       "      <td>DIREITO</td>\n",
       "    </tr>\n",
       "    <tr>\n",
       "      <th>8º período</th>\n",
       "      <td>ESTRUTURAS DE DADOS I</td>\n",
       "      <td>REDES DE COMPUTADORES 2</td>\n",
       "      <td>SISTEMAS OPERACIONAIS 2</td>\n",
       "      <td>SISTEMAS DISTRIBUÍDOS</td>\n",
       "      <td>PROJETO FINAL DE CURSO 2</td>\n",
       "    </tr>\n",
       "    <tr>\n",
       "      <th>9º período</th>\n",
       "      <td>ANÁLISE E PROJETO DE ALGORITMOS</td>\n",
       "      <td>ESTRUTURAS DE DADOS II</td>\n",
       "      <td>0</td>\n",
       "      <td>0</td>\n",
       "      <td>0</td>\n",
       "    </tr>\n",
       "  </tbody>\n",
       "</table>\n",
       "</div>"
      ],
      "text/plain": [
       "                                          0                                1  \\\n",
       "3º período      PROBABILIDADE E ESTATÍSTICA        LINGUAGENS DE PROGRAMAÇÃO   \n",
       "4º período   LINGUAGENS FORMAIS E AUTÔMATOS             PESQUISA OPERACIONAL   \n",
       "5º período                TEORIA DOS GRAFOS             TEORIA DA COMPUTAÇÃO   \n",
       "6º período     SISTEMAS GERENCIADORES DE BD  PROGRAMAÇÃO ORIENTADA A OBJETOS   \n",
       "7º período          SISTEMAS OPERACIONAIS 1          REDES DE COMPUTADORES 1   \n",
       "8º período            ESTRUTURAS DE DADOS I          REDES DE COMPUTADORES 2   \n",
       "9º período  ANÁLISE E PROJETO DE ALGORITMOS           ESTRUTURAS DE DADOS II   \n",
       "\n",
       "                                            2                            3  \\\n",
       "3º período                 COMPUTAÇÃO GRÁFICA       ENGENHARIA DE SOFTWARE   \n",
       "4º período                     BANCO DE DADOS                    TÓPICOS 1   \n",
       "5º período                         MULTIMÍDIA          PROJETO DE SOFTWARE   \n",
       "6º período                          TÓPICOS 2  ARQUITETURA DE COMPUTADORES   \n",
       "7º período  SEGURANÇA E AUDITORIA DE SISTEMAS      INTELIGÊNCIA ARTIFICIAL   \n",
       "8º período            SISTEMAS OPERACIONAIS 2        SISTEMAS DISTRIBUÍDOS   \n",
       "9º período                                  0                            0   \n",
       "\n",
       "                                   4  \n",
       "3º período  PROJETO FINAL DE CURSO 1  \n",
       "4º período          EMPREENDEDORISMO  \n",
       "5º período    COMPUTADOR E SOCIEDADE  \n",
       "6º período  ENGENHARIA DE REQUISITOS  \n",
       "7º período                   DIREITO  \n",
       "8º período  PROJETO FINAL DE CURSO 2  \n",
       "9º período                         0  "
      ]
     },
     "execution_count": 7,
     "metadata": {},
     "output_type": "execute_result"
    }
   ],
   "source": [
    "dataplot = pd.DataFrame(labels)\n",
    "dataplot.index = dataplot.index.map(lambda x: str(x + 1 + PERIODO) + \"º período\")\n",
    "dataplot"
   ]
  },
  {
   "cell_type": "markdown",
   "metadata": {},
   "source": [
    "# Heatmap \n",
    "\n",
    "Plotamos um *heatmap* com as médias gerais de cada disciplina representada na tabela acima.  \n",
    "Os valores estão normalizados: 1.0 é a disciplina mais difícil ( com menor média geral ), e 0.0 é a disciplina mais fácil ( com maior média geral ).\n",
    "\n",
    "Observamos que, em cada período, temos um equilíbrio de tonalidades. Sendo assim, conseguimos constatar visualmente que o algoritmo apresentou uma distribuição equilibrada em cada período."
   ]
  },
  {
   "cell_type": "code",
   "execution_count": 15,
   "metadata": {},
   "outputs": [
    {
     "data": {
      "application/vnd.plotly.v1+json": {
       "config": {
        "plotlyServerURL": "https://plot.ly"
       },
       "data": [
        {
         "colorscale": [
          [
           0,
           "rgb(247,251,255)"
          ],
          [
           0.125,
           "rgb(222,235,247)"
          ],
          [
           0.25,
           "rgb(198,219,239)"
          ],
          [
           0.375,
           "rgb(158,202,225)"
          ],
          [
           0.5,
           "rgb(107,174,214)"
          ],
          [
           0.625,
           "rgb(66,146,198)"
          ],
          [
           0.75,
           "rgb(33,113,181)"
          ],
          [
           0.875,
           "rgb(8,81,156)"
          ],
          [
           1,
           "rgb(8,48,107)"
          ]
         ],
         "reversescale": false,
         "showscale": false,
         "type": "heatmap",
         "y": [
          "9º período",
          "8º período",
          "7º período",
          "6º período",
          "5º período",
          "4º período",
          "3º período"
         ],
         "z": [
          [
           0.96,
           0.66,
           0,
           0,
           0
          ],
          [
           0.89,
           0.79,
           0.7,
           0.58,
           0.47
          ],
          [
           0.92,
           0.9,
           0.69,
           0.48,
           0.11
          ],
          [
           0.75,
           0.7,
           0.69,
           0.69,
           0.36
          ],
          [
           0.91,
           0.84,
           0.67,
           0.54,
           0.28
          ],
          [
           0.98,
           0.96,
           0.75,
           0.41,
           0
          ],
          [
           1,
           0.77,
           0.65,
           0.55,
           0.18
          ]
         ]
        }
       ],
       "layout": {
        "annotations": [
         {
          "font": {
           "color": "#FFFFFF"
          },
          "showarrow": false,
          "text": "0.96",
          "x": 0,
          "xref": "x",
          "y": "9º período",
          "yref": "y"
         },
         {
          "font": {
           "color": "#FFFFFF"
          },
          "showarrow": false,
          "text": "0.66",
          "x": 1,
          "xref": "x",
          "y": "9º período",
          "yref": "y"
         },
         {
          "font": {
           "color": "#000000"
          },
          "showarrow": false,
          "text": "0.0",
          "x": 2,
          "xref": "x",
          "y": "9º período",
          "yref": "y"
         },
         {
          "font": {
           "color": "#000000"
          },
          "showarrow": false,
          "text": "0.0",
          "x": 3,
          "xref": "x",
          "y": "9º período",
          "yref": "y"
         },
         {
          "font": {
           "color": "#000000"
          },
          "showarrow": false,
          "text": "0.0",
          "x": 4,
          "xref": "x",
          "y": "9º período",
          "yref": "y"
         },
         {
          "font": {
           "color": "#FFFFFF"
          },
          "showarrow": false,
          "text": "0.89",
          "x": 0,
          "xref": "x",
          "y": "8º período",
          "yref": "y"
         },
         {
          "font": {
           "color": "#FFFFFF"
          },
          "showarrow": false,
          "text": "0.79",
          "x": 1,
          "xref": "x",
          "y": "8º período",
          "yref": "y"
         },
         {
          "font": {
           "color": "#FFFFFF"
          },
          "showarrow": false,
          "text": "0.7",
          "x": 2,
          "xref": "x",
          "y": "8º período",
          "yref": "y"
         },
         {
          "font": {
           "color": "#FFFFFF"
          },
          "showarrow": false,
          "text": "0.58",
          "x": 3,
          "xref": "x",
          "y": "8º período",
          "yref": "y"
         },
         {
          "font": {
           "color": "#000000"
          },
          "showarrow": false,
          "text": "0.47",
          "x": 4,
          "xref": "x",
          "y": "8º período",
          "yref": "y"
         },
         {
          "font": {
           "color": "#FFFFFF"
          },
          "showarrow": false,
          "text": "0.92",
          "x": 0,
          "xref": "x",
          "y": "7º período",
          "yref": "y"
         },
         {
          "font": {
           "color": "#FFFFFF"
          },
          "showarrow": false,
          "text": "0.9",
          "x": 1,
          "xref": "x",
          "y": "7º período",
          "yref": "y"
         },
         {
          "font": {
           "color": "#FFFFFF"
          },
          "showarrow": false,
          "text": "0.69",
          "x": 2,
          "xref": "x",
          "y": "7º período",
          "yref": "y"
         },
         {
          "font": {
           "color": "#000000"
          },
          "showarrow": false,
          "text": "0.48",
          "x": 3,
          "xref": "x",
          "y": "7º período",
          "yref": "y"
         },
         {
          "font": {
           "color": "#000000"
          },
          "showarrow": false,
          "text": "0.11",
          "x": 4,
          "xref": "x",
          "y": "7º período",
          "yref": "y"
         },
         {
          "font": {
           "color": "#FFFFFF"
          },
          "showarrow": false,
          "text": "0.75",
          "x": 0,
          "xref": "x",
          "y": "6º período",
          "yref": "y"
         },
         {
          "font": {
           "color": "#FFFFFF"
          },
          "showarrow": false,
          "text": "0.7",
          "x": 1,
          "xref": "x",
          "y": "6º período",
          "yref": "y"
         },
         {
          "font": {
           "color": "#FFFFFF"
          },
          "showarrow": false,
          "text": "0.69",
          "x": 2,
          "xref": "x",
          "y": "6º período",
          "yref": "y"
         },
         {
          "font": {
           "color": "#FFFFFF"
          },
          "showarrow": false,
          "text": "0.69",
          "x": 3,
          "xref": "x",
          "y": "6º período",
          "yref": "y"
         },
         {
          "font": {
           "color": "#000000"
          },
          "showarrow": false,
          "text": "0.36",
          "x": 4,
          "xref": "x",
          "y": "6º período",
          "yref": "y"
         },
         {
          "font": {
           "color": "#FFFFFF"
          },
          "showarrow": false,
          "text": "0.91",
          "x": 0,
          "xref": "x",
          "y": "5º período",
          "yref": "y"
         },
         {
          "font": {
           "color": "#FFFFFF"
          },
          "showarrow": false,
          "text": "0.84",
          "x": 1,
          "xref": "x",
          "y": "5º período",
          "yref": "y"
         },
         {
          "font": {
           "color": "#FFFFFF"
          },
          "showarrow": false,
          "text": "0.67",
          "x": 2,
          "xref": "x",
          "y": "5º período",
          "yref": "y"
         },
         {
          "font": {
           "color": "#FFFFFF"
          },
          "showarrow": false,
          "text": "0.54",
          "x": 3,
          "xref": "x",
          "y": "5º período",
          "yref": "y"
         },
         {
          "font": {
           "color": "#000000"
          },
          "showarrow": false,
          "text": "0.28",
          "x": 4,
          "xref": "x",
          "y": "5º período",
          "yref": "y"
         },
         {
          "font": {
           "color": "#FFFFFF"
          },
          "showarrow": false,
          "text": "0.98",
          "x": 0,
          "xref": "x",
          "y": "4º período",
          "yref": "y"
         },
         {
          "font": {
           "color": "#FFFFFF"
          },
          "showarrow": false,
          "text": "0.96",
          "x": 1,
          "xref": "x",
          "y": "4º período",
          "yref": "y"
         },
         {
          "font": {
           "color": "#FFFFFF"
          },
          "showarrow": false,
          "text": "0.75",
          "x": 2,
          "xref": "x",
          "y": "4º período",
          "yref": "y"
         },
         {
          "font": {
           "color": "#000000"
          },
          "showarrow": false,
          "text": "0.41",
          "x": 3,
          "xref": "x",
          "y": "4º período",
          "yref": "y"
         },
         {
          "font": {
           "color": "#000000"
          },
          "showarrow": false,
          "text": "0.0",
          "x": 4,
          "xref": "x",
          "y": "4º período",
          "yref": "y"
         },
         {
          "font": {
           "color": "#FFFFFF"
          },
          "showarrow": false,
          "text": "1.0",
          "x": 0,
          "xref": "x",
          "y": "3º período",
          "yref": "y"
         },
         {
          "font": {
           "color": "#FFFFFF"
          },
          "showarrow": false,
          "text": "0.77",
          "x": 1,
          "xref": "x",
          "y": "3º período",
          "yref": "y"
         },
         {
          "font": {
           "color": "#FFFFFF"
          },
          "showarrow": false,
          "text": "0.65",
          "x": 2,
          "xref": "x",
          "y": "3º período",
          "yref": "y"
         },
         {
          "font": {
           "color": "#FFFFFF"
          },
          "showarrow": false,
          "text": "0.55",
          "x": 3,
          "xref": "x",
          "y": "3º período",
          "yref": "y"
         },
         {
          "font": {
           "color": "#000000"
          },
          "showarrow": false,
          "text": "0.18",
          "x": 4,
          "xref": "x",
          "y": "3º período",
          "yref": "y"
         }
        ],
        "template": {
         "data": {
          "bar": [
           {
            "error_x": {
             "color": "#2a3f5f"
            },
            "error_y": {
             "color": "#2a3f5f"
            },
            "marker": {
             "line": {
              "color": "#E5ECF6",
              "width": 0.5
             }
            },
            "type": "bar"
           }
          ],
          "barpolar": [
           {
            "marker": {
             "line": {
              "color": "#E5ECF6",
              "width": 0.5
             }
            },
            "type": "barpolar"
           }
          ],
          "carpet": [
           {
            "aaxis": {
             "endlinecolor": "#2a3f5f",
             "gridcolor": "white",
             "linecolor": "white",
             "minorgridcolor": "white",
             "startlinecolor": "#2a3f5f"
            },
            "baxis": {
             "endlinecolor": "#2a3f5f",
             "gridcolor": "white",
             "linecolor": "white",
             "minorgridcolor": "white",
             "startlinecolor": "#2a3f5f"
            },
            "type": "carpet"
           }
          ],
          "choropleth": [
           {
            "colorbar": {
             "outlinewidth": 0,
             "ticks": ""
            },
            "type": "choropleth"
           }
          ],
          "contour": [
           {
            "colorbar": {
             "outlinewidth": 0,
             "ticks": ""
            },
            "colorscale": [
             [
              0,
              "#0d0887"
             ],
             [
              0.1111111111111111,
              "#46039f"
             ],
             [
              0.2222222222222222,
              "#7201a8"
             ],
             [
              0.3333333333333333,
              "#9c179e"
             ],
             [
              0.4444444444444444,
              "#bd3786"
             ],
             [
              0.5555555555555556,
              "#d8576b"
             ],
             [
              0.6666666666666666,
              "#ed7953"
             ],
             [
              0.7777777777777778,
              "#fb9f3a"
             ],
             [
              0.8888888888888888,
              "#fdca26"
             ],
             [
              1,
              "#f0f921"
             ]
            ],
            "type": "contour"
           }
          ],
          "contourcarpet": [
           {
            "colorbar": {
             "outlinewidth": 0,
             "ticks": ""
            },
            "type": "contourcarpet"
           }
          ],
          "heatmap": [
           {
            "colorbar": {
             "outlinewidth": 0,
             "ticks": ""
            },
            "colorscale": [
             [
              0,
              "#0d0887"
             ],
             [
              0.1111111111111111,
              "#46039f"
             ],
             [
              0.2222222222222222,
              "#7201a8"
             ],
             [
              0.3333333333333333,
              "#9c179e"
             ],
             [
              0.4444444444444444,
              "#bd3786"
             ],
             [
              0.5555555555555556,
              "#d8576b"
             ],
             [
              0.6666666666666666,
              "#ed7953"
             ],
             [
              0.7777777777777778,
              "#fb9f3a"
             ],
             [
              0.8888888888888888,
              "#fdca26"
             ],
             [
              1,
              "#f0f921"
             ]
            ],
            "type": "heatmap"
           }
          ],
          "heatmapgl": [
           {
            "colorbar": {
             "outlinewidth": 0,
             "ticks": ""
            },
            "colorscale": [
             [
              0,
              "#0d0887"
             ],
             [
              0.1111111111111111,
              "#46039f"
             ],
             [
              0.2222222222222222,
              "#7201a8"
             ],
             [
              0.3333333333333333,
              "#9c179e"
             ],
             [
              0.4444444444444444,
              "#bd3786"
             ],
             [
              0.5555555555555556,
              "#d8576b"
             ],
             [
              0.6666666666666666,
              "#ed7953"
             ],
             [
              0.7777777777777778,
              "#fb9f3a"
             ],
             [
              0.8888888888888888,
              "#fdca26"
             ],
             [
              1,
              "#f0f921"
             ]
            ],
            "type": "heatmapgl"
           }
          ],
          "histogram": [
           {
            "marker": {
             "colorbar": {
              "outlinewidth": 0,
              "ticks": ""
             }
            },
            "type": "histogram"
           }
          ],
          "histogram2d": [
           {
            "colorbar": {
             "outlinewidth": 0,
             "ticks": ""
            },
            "colorscale": [
             [
              0,
              "#0d0887"
             ],
             [
              0.1111111111111111,
              "#46039f"
             ],
             [
              0.2222222222222222,
              "#7201a8"
             ],
             [
              0.3333333333333333,
              "#9c179e"
             ],
             [
              0.4444444444444444,
              "#bd3786"
             ],
             [
              0.5555555555555556,
              "#d8576b"
             ],
             [
              0.6666666666666666,
              "#ed7953"
             ],
             [
              0.7777777777777778,
              "#fb9f3a"
             ],
             [
              0.8888888888888888,
              "#fdca26"
             ],
             [
              1,
              "#f0f921"
             ]
            ],
            "type": "histogram2d"
           }
          ],
          "histogram2dcontour": [
           {
            "colorbar": {
             "outlinewidth": 0,
             "ticks": ""
            },
            "colorscale": [
             [
              0,
              "#0d0887"
             ],
             [
              0.1111111111111111,
              "#46039f"
             ],
             [
              0.2222222222222222,
              "#7201a8"
             ],
             [
              0.3333333333333333,
              "#9c179e"
             ],
             [
              0.4444444444444444,
              "#bd3786"
             ],
             [
              0.5555555555555556,
              "#d8576b"
             ],
             [
              0.6666666666666666,
              "#ed7953"
             ],
             [
              0.7777777777777778,
              "#fb9f3a"
             ],
             [
              0.8888888888888888,
              "#fdca26"
             ],
             [
              1,
              "#f0f921"
             ]
            ],
            "type": "histogram2dcontour"
           }
          ],
          "mesh3d": [
           {
            "colorbar": {
             "outlinewidth": 0,
             "ticks": ""
            },
            "type": "mesh3d"
           }
          ],
          "parcoords": [
           {
            "line": {
             "colorbar": {
              "outlinewidth": 0,
              "ticks": ""
             }
            },
            "type": "parcoords"
           }
          ],
          "scatter": [
           {
            "marker": {
             "colorbar": {
              "outlinewidth": 0,
              "ticks": ""
             }
            },
            "type": "scatter"
           }
          ],
          "scatter3d": [
           {
            "line": {
             "colorbar": {
              "outlinewidth": 0,
              "ticks": ""
             }
            },
            "marker": {
             "colorbar": {
              "outlinewidth": 0,
              "ticks": ""
             }
            },
            "type": "scatter3d"
           }
          ],
          "scattercarpet": [
           {
            "marker": {
             "colorbar": {
              "outlinewidth": 0,
              "ticks": ""
             }
            },
            "type": "scattercarpet"
           }
          ],
          "scattergeo": [
           {
            "marker": {
             "colorbar": {
              "outlinewidth": 0,
              "ticks": ""
             }
            },
            "type": "scattergeo"
           }
          ],
          "scattergl": [
           {
            "marker": {
             "colorbar": {
              "outlinewidth": 0,
              "ticks": ""
             }
            },
            "type": "scattergl"
           }
          ],
          "scattermapbox": [
           {
            "marker": {
             "colorbar": {
              "outlinewidth": 0,
              "ticks": ""
             }
            },
            "type": "scattermapbox"
           }
          ],
          "scatterpolar": [
           {
            "marker": {
             "colorbar": {
              "outlinewidth": 0,
              "ticks": ""
             }
            },
            "type": "scatterpolar"
           }
          ],
          "scatterpolargl": [
           {
            "marker": {
             "colorbar": {
              "outlinewidth": 0,
              "ticks": ""
             }
            },
            "type": "scatterpolargl"
           }
          ],
          "scatterternary": [
           {
            "marker": {
             "colorbar": {
              "outlinewidth": 0,
              "ticks": ""
             }
            },
            "type": "scatterternary"
           }
          ],
          "surface": [
           {
            "colorbar": {
             "outlinewidth": 0,
             "ticks": ""
            },
            "colorscale": [
             [
              0,
              "#0d0887"
             ],
             [
              0.1111111111111111,
              "#46039f"
             ],
             [
              0.2222222222222222,
              "#7201a8"
             ],
             [
              0.3333333333333333,
              "#9c179e"
             ],
             [
              0.4444444444444444,
              "#bd3786"
             ],
             [
              0.5555555555555556,
              "#d8576b"
             ],
             [
              0.6666666666666666,
              "#ed7953"
             ],
             [
              0.7777777777777778,
              "#fb9f3a"
             ],
             [
              0.8888888888888888,
              "#fdca26"
             ],
             [
              1,
              "#f0f921"
             ]
            ],
            "type": "surface"
           }
          ],
          "table": [
           {
            "cells": {
             "fill": {
              "color": "#EBF0F8"
             },
             "line": {
              "color": "white"
             }
            },
            "header": {
             "fill": {
              "color": "#C8D4E3"
             },
             "line": {
              "color": "white"
             }
            },
            "type": "table"
           }
          ]
         },
         "layout": {
          "annotationdefaults": {
           "arrowcolor": "#2a3f5f",
           "arrowhead": 0,
           "arrowwidth": 1
          },
          "colorscale": {
           "diverging": [
            [
             0,
             "#8e0152"
            ],
            [
             0.1,
             "#c51b7d"
            ],
            [
             0.2,
             "#de77ae"
            ],
            [
             0.3,
             "#f1b6da"
            ],
            [
             0.4,
             "#fde0ef"
            ],
            [
             0.5,
             "#f7f7f7"
            ],
            [
             0.6,
             "#e6f5d0"
            ],
            [
             0.7,
             "#b8e186"
            ],
            [
             0.8,
             "#7fbc41"
            ],
            [
             0.9,
             "#4d9221"
            ],
            [
             1,
             "#276419"
            ]
           ],
           "sequential": [
            [
             0,
             "#0d0887"
            ],
            [
             0.1111111111111111,
             "#46039f"
            ],
            [
             0.2222222222222222,
             "#7201a8"
            ],
            [
             0.3333333333333333,
             "#9c179e"
            ],
            [
             0.4444444444444444,
             "#bd3786"
            ],
            [
             0.5555555555555556,
             "#d8576b"
            ],
            [
             0.6666666666666666,
             "#ed7953"
            ],
            [
             0.7777777777777778,
             "#fb9f3a"
            ],
            [
             0.8888888888888888,
             "#fdca26"
            ],
            [
             1,
             "#f0f921"
            ]
           ],
           "sequentialminus": [
            [
             0,
             "#0d0887"
            ],
            [
             0.1111111111111111,
             "#46039f"
            ],
            [
             0.2222222222222222,
             "#7201a8"
            ],
            [
             0.3333333333333333,
             "#9c179e"
            ],
            [
             0.4444444444444444,
             "#bd3786"
            ],
            [
             0.5555555555555556,
             "#d8576b"
            ],
            [
             0.6666666666666666,
             "#ed7953"
            ],
            [
             0.7777777777777778,
             "#fb9f3a"
            ],
            [
             0.8888888888888888,
             "#fdca26"
            ],
            [
             1,
             "#f0f921"
            ]
           ]
          },
          "colorway": [
           "#636efa",
           "#EF553B",
           "#00cc96",
           "#ab63fa",
           "#FFA15A",
           "#19d3f3",
           "#FF6692",
           "#B6E880",
           "#FF97FF",
           "#FECB52"
          ],
          "font": {
           "color": "#2a3f5f"
          },
          "geo": {
           "bgcolor": "white",
           "lakecolor": "white",
           "landcolor": "#E5ECF6",
           "showlakes": true,
           "showland": true,
           "subunitcolor": "white"
          },
          "hoverlabel": {
           "align": "left"
          },
          "hovermode": "closest",
          "mapbox": {
           "style": "light"
          },
          "paper_bgcolor": "white",
          "plot_bgcolor": "#E5ECF6",
          "polar": {
           "angularaxis": {
            "gridcolor": "white",
            "linecolor": "white",
            "ticks": ""
           },
           "bgcolor": "#E5ECF6",
           "radialaxis": {
            "gridcolor": "white",
            "linecolor": "white",
            "ticks": ""
           }
          },
          "scene": {
           "xaxis": {
            "backgroundcolor": "#E5ECF6",
            "gridcolor": "white",
            "gridwidth": 2,
            "linecolor": "white",
            "showbackground": true,
            "ticks": "",
            "zerolinecolor": "white"
           },
           "yaxis": {
            "backgroundcolor": "#E5ECF6",
            "gridcolor": "white",
            "gridwidth": 2,
            "linecolor": "white",
            "showbackground": true,
            "ticks": "",
            "zerolinecolor": "white"
           },
           "zaxis": {
            "backgroundcolor": "#E5ECF6",
            "gridcolor": "white",
            "gridwidth": 2,
            "linecolor": "white",
            "showbackground": true,
            "ticks": "",
            "zerolinecolor": "white"
           }
          },
          "shapedefaults": {
           "line": {
            "color": "#2a3f5f"
           }
          },
          "ternary": {
           "aaxis": {
            "gridcolor": "white",
            "linecolor": "white",
            "ticks": ""
           },
           "baxis": {
            "gridcolor": "white",
            "linecolor": "white",
            "ticks": ""
           },
           "bgcolor": "#E5ECF6",
           "caxis": {
            "gridcolor": "white",
            "linecolor": "white",
            "ticks": ""
           }
          },
          "title": {
           "x": 0.05
          },
          "xaxis": {
           "automargin": true,
           "gridcolor": "white",
           "linecolor": "white",
           "ticks": "",
           "zerolinecolor": "white",
           "zerolinewidth": 2
          },
          "yaxis": {
           "automargin": true,
           "gridcolor": "white",
           "linecolor": "white",
           "ticks": "",
           "zerolinecolor": "white",
           "zerolinewidth": 2
          }
         }
        },
        "xaxis": {
         "dtick": 1,
         "gridcolor": "rgb(0, 0, 0)",
         "side": "top",
         "ticks": ""
        },
        "yaxis": {
         "dtick": 1,
         "ticks": "",
         "ticksuffix": "  "
        }
       }
      },
      "text/html": [
       "<div>\n",
       "        \n",
       "        \n",
       "            <div id=\"b970689e-04be-4243-995b-a24500b47592\" class=\"plotly-graph-div\" style=\"height:525px; width:100%;\"></div>\n",
       "            <script type=\"text/javascript\">\n",
       "                require([\"plotly\"], function(Plotly) {\n",
       "                    window.PLOTLYENV=window.PLOTLYENV || {};\n",
       "                    \n",
       "                if (document.getElementById(\"b970689e-04be-4243-995b-a24500b47592\")) {\n",
       "                    Plotly.newPlot(\n",
       "                        'b970689e-04be-4243-995b-a24500b47592',\n",
       "                        [{\"colorscale\": [[0.0, \"rgb(247,251,255)\"], [0.125, \"rgb(222,235,247)\"], [0.25, \"rgb(198,219,239)\"], [0.375, \"rgb(158,202,225)\"], [0.5, \"rgb(107,174,214)\"], [0.625, \"rgb(66,146,198)\"], [0.75, \"rgb(33,113,181)\"], [0.875, \"rgb(8,81,156)\"], [1.0, \"rgb(8,48,107)\"]], \"reversescale\": false, \"showscale\": false, \"type\": \"heatmap\", \"y\": [\"9\\u00ba per\\u00edodo\", \"8\\u00ba per\\u00edodo\", \"7\\u00ba per\\u00edodo\", \"6\\u00ba per\\u00edodo\", \"5\\u00ba per\\u00edodo\", \"4\\u00ba per\\u00edodo\", \"3\\u00ba per\\u00edodo\"], \"z\": [[0.96, 0.66, 0.0, 0.0, 0.0], [0.89, 0.79, 0.7, 0.58, 0.47], [0.92, 0.9, 0.69, 0.48, 0.11], [0.75, 0.7, 0.69, 0.69, 0.36], [0.91, 0.84, 0.67, 0.54, 0.28], [0.98, 0.96, 0.75, 0.41, 0.0], [1.0, 0.77, 0.65, 0.55, 0.18]]}],\n",
       "                        {\"annotations\": [{\"font\": {\"color\": \"#FFFFFF\"}, \"showarrow\": false, \"text\": \"0.96\", \"x\": 0, \"xref\": \"x\", \"y\": \"9\\u00ba per\\u00edodo\", \"yref\": \"y\"}, {\"font\": {\"color\": \"#FFFFFF\"}, \"showarrow\": false, \"text\": \"0.66\", \"x\": 1, \"xref\": \"x\", \"y\": \"9\\u00ba per\\u00edodo\", \"yref\": \"y\"}, {\"font\": {\"color\": \"#000000\"}, \"showarrow\": false, \"text\": \"0.0\", \"x\": 2, \"xref\": \"x\", \"y\": \"9\\u00ba per\\u00edodo\", \"yref\": \"y\"}, {\"font\": {\"color\": \"#000000\"}, \"showarrow\": false, \"text\": \"0.0\", \"x\": 3, \"xref\": \"x\", \"y\": \"9\\u00ba per\\u00edodo\", \"yref\": \"y\"}, {\"font\": {\"color\": \"#000000\"}, \"showarrow\": false, \"text\": \"0.0\", \"x\": 4, \"xref\": \"x\", \"y\": \"9\\u00ba per\\u00edodo\", \"yref\": \"y\"}, {\"font\": {\"color\": \"#FFFFFF\"}, \"showarrow\": false, \"text\": \"0.89\", \"x\": 0, \"xref\": \"x\", \"y\": \"8\\u00ba per\\u00edodo\", \"yref\": \"y\"}, {\"font\": {\"color\": \"#FFFFFF\"}, \"showarrow\": false, \"text\": \"0.79\", \"x\": 1, \"xref\": \"x\", \"y\": \"8\\u00ba per\\u00edodo\", \"yref\": \"y\"}, {\"font\": {\"color\": \"#FFFFFF\"}, \"showarrow\": false, \"text\": \"0.7\", \"x\": 2, \"xref\": \"x\", \"y\": \"8\\u00ba per\\u00edodo\", \"yref\": \"y\"}, {\"font\": {\"color\": \"#FFFFFF\"}, \"showarrow\": false, \"text\": \"0.58\", \"x\": 3, \"xref\": \"x\", \"y\": \"8\\u00ba per\\u00edodo\", \"yref\": \"y\"}, {\"font\": {\"color\": \"#000000\"}, \"showarrow\": false, \"text\": \"0.47\", \"x\": 4, \"xref\": \"x\", \"y\": \"8\\u00ba per\\u00edodo\", \"yref\": \"y\"}, {\"font\": {\"color\": \"#FFFFFF\"}, \"showarrow\": false, \"text\": \"0.92\", \"x\": 0, \"xref\": \"x\", \"y\": \"7\\u00ba per\\u00edodo\", \"yref\": \"y\"}, {\"font\": {\"color\": \"#FFFFFF\"}, \"showarrow\": false, \"text\": \"0.9\", \"x\": 1, \"xref\": \"x\", \"y\": \"7\\u00ba per\\u00edodo\", \"yref\": \"y\"}, {\"font\": {\"color\": \"#FFFFFF\"}, \"showarrow\": false, \"text\": \"0.69\", \"x\": 2, \"xref\": \"x\", \"y\": \"7\\u00ba per\\u00edodo\", \"yref\": \"y\"}, {\"font\": {\"color\": \"#000000\"}, \"showarrow\": false, \"text\": \"0.48\", \"x\": 3, \"xref\": \"x\", \"y\": \"7\\u00ba per\\u00edodo\", \"yref\": \"y\"}, {\"font\": {\"color\": \"#000000\"}, \"showarrow\": false, \"text\": \"0.11\", \"x\": 4, \"xref\": \"x\", \"y\": \"7\\u00ba per\\u00edodo\", \"yref\": \"y\"}, {\"font\": {\"color\": \"#FFFFFF\"}, \"showarrow\": false, \"text\": \"0.75\", \"x\": 0, \"xref\": \"x\", \"y\": \"6\\u00ba per\\u00edodo\", \"yref\": \"y\"}, {\"font\": {\"color\": \"#FFFFFF\"}, \"showarrow\": false, \"text\": \"0.7\", \"x\": 1, \"xref\": \"x\", \"y\": \"6\\u00ba per\\u00edodo\", \"yref\": \"y\"}, {\"font\": {\"color\": \"#FFFFFF\"}, \"showarrow\": false, \"text\": \"0.69\", \"x\": 2, \"xref\": \"x\", \"y\": \"6\\u00ba per\\u00edodo\", \"yref\": \"y\"}, {\"font\": {\"color\": \"#FFFFFF\"}, \"showarrow\": false, \"text\": \"0.69\", \"x\": 3, \"xref\": \"x\", \"y\": \"6\\u00ba per\\u00edodo\", \"yref\": \"y\"}, {\"font\": {\"color\": \"#000000\"}, \"showarrow\": false, \"text\": \"0.36\", \"x\": 4, \"xref\": \"x\", \"y\": \"6\\u00ba per\\u00edodo\", \"yref\": \"y\"}, {\"font\": {\"color\": \"#FFFFFF\"}, \"showarrow\": false, \"text\": \"0.91\", \"x\": 0, \"xref\": \"x\", \"y\": \"5\\u00ba per\\u00edodo\", \"yref\": \"y\"}, {\"font\": {\"color\": \"#FFFFFF\"}, \"showarrow\": false, \"text\": \"0.84\", \"x\": 1, \"xref\": \"x\", \"y\": \"5\\u00ba per\\u00edodo\", \"yref\": \"y\"}, {\"font\": {\"color\": \"#FFFFFF\"}, \"showarrow\": false, \"text\": \"0.67\", \"x\": 2, \"xref\": \"x\", \"y\": \"5\\u00ba per\\u00edodo\", \"yref\": \"y\"}, {\"font\": {\"color\": \"#FFFFFF\"}, \"showarrow\": false, \"text\": \"0.54\", \"x\": 3, \"xref\": \"x\", \"y\": \"5\\u00ba per\\u00edodo\", \"yref\": \"y\"}, {\"font\": {\"color\": \"#000000\"}, \"showarrow\": false, \"text\": \"0.28\", \"x\": 4, \"xref\": \"x\", \"y\": \"5\\u00ba per\\u00edodo\", \"yref\": \"y\"}, {\"font\": {\"color\": \"#FFFFFF\"}, \"showarrow\": false, \"text\": \"0.98\", \"x\": 0, \"xref\": \"x\", \"y\": \"4\\u00ba per\\u00edodo\", \"yref\": \"y\"}, {\"font\": {\"color\": \"#FFFFFF\"}, \"showarrow\": false, \"text\": \"0.96\", \"x\": 1, \"xref\": \"x\", \"y\": \"4\\u00ba per\\u00edodo\", \"yref\": \"y\"}, {\"font\": {\"color\": \"#FFFFFF\"}, \"showarrow\": false, \"text\": \"0.75\", \"x\": 2, \"xref\": \"x\", \"y\": \"4\\u00ba per\\u00edodo\", \"yref\": \"y\"}, {\"font\": {\"color\": \"#000000\"}, \"showarrow\": false, \"text\": \"0.41\", \"x\": 3, \"xref\": \"x\", \"y\": \"4\\u00ba per\\u00edodo\", \"yref\": \"y\"}, {\"font\": {\"color\": \"#000000\"}, \"showarrow\": false, \"text\": \"0.0\", \"x\": 4, \"xref\": \"x\", \"y\": \"4\\u00ba per\\u00edodo\", \"yref\": \"y\"}, {\"font\": {\"color\": \"#FFFFFF\"}, \"showarrow\": false, \"text\": \"1.0\", \"x\": 0, \"xref\": \"x\", \"y\": \"3\\u00ba per\\u00edodo\", \"yref\": \"y\"}, {\"font\": {\"color\": \"#FFFFFF\"}, \"showarrow\": false, \"text\": \"0.77\", \"x\": 1, \"xref\": \"x\", \"y\": \"3\\u00ba per\\u00edodo\", \"yref\": \"y\"}, {\"font\": {\"color\": \"#FFFFFF\"}, \"showarrow\": false, \"text\": \"0.65\", \"x\": 2, \"xref\": \"x\", \"y\": \"3\\u00ba per\\u00edodo\", \"yref\": \"y\"}, {\"font\": {\"color\": \"#FFFFFF\"}, \"showarrow\": false, \"text\": \"0.55\", \"x\": 3, \"xref\": \"x\", \"y\": \"3\\u00ba per\\u00edodo\", \"yref\": \"y\"}, {\"font\": {\"color\": \"#000000\"}, \"showarrow\": false, \"text\": \"0.18\", \"x\": 4, \"xref\": \"x\", \"y\": \"3\\u00ba per\\u00edodo\", \"yref\": \"y\"}], \"template\": {\"data\": {\"bar\": [{\"error_x\": {\"color\": \"#2a3f5f\"}, \"error_y\": {\"color\": \"#2a3f5f\"}, \"marker\": {\"line\": {\"color\": \"#E5ECF6\", \"width\": 0.5}}, \"type\": \"bar\"}], \"barpolar\": [{\"marker\": {\"line\": {\"color\": \"#E5ECF6\", \"width\": 0.5}}, \"type\": \"barpolar\"}], \"carpet\": [{\"aaxis\": {\"endlinecolor\": \"#2a3f5f\", \"gridcolor\": \"white\", \"linecolor\": \"white\", \"minorgridcolor\": \"white\", \"startlinecolor\": \"#2a3f5f\"}, \"baxis\": {\"endlinecolor\": \"#2a3f5f\", \"gridcolor\": \"white\", \"linecolor\": \"white\", \"minorgridcolor\": \"white\", \"startlinecolor\": \"#2a3f5f\"}, \"type\": \"carpet\"}], \"choropleth\": [{\"colorbar\": {\"outlinewidth\": 0, \"ticks\": \"\"}, \"type\": \"choropleth\"}], \"contour\": [{\"colorbar\": {\"outlinewidth\": 0, \"ticks\": \"\"}, \"colorscale\": [[0.0, \"#0d0887\"], [0.1111111111111111, \"#46039f\"], [0.2222222222222222, \"#7201a8\"], [0.3333333333333333, \"#9c179e\"], [0.4444444444444444, \"#bd3786\"], [0.5555555555555556, \"#d8576b\"], [0.6666666666666666, \"#ed7953\"], [0.7777777777777778, \"#fb9f3a\"], [0.8888888888888888, \"#fdca26\"], [1.0, \"#f0f921\"]], \"type\": \"contour\"}], \"contourcarpet\": [{\"colorbar\": {\"outlinewidth\": 0, \"ticks\": \"\"}, \"type\": \"contourcarpet\"}], \"heatmap\": [{\"colorbar\": {\"outlinewidth\": 0, \"ticks\": \"\"}, \"colorscale\": [[0.0, \"#0d0887\"], [0.1111111111111111, \"#46039f\"], [0.2222222222222222, \"#7201a8\"], [0.3333333333333333, \"#9c179e\"], [0.4444444444444444, \"#bd3786\"], [0.5555555555555556, \"#d8576b\"], [0.6666666666666666, \"#ed7953\"], [0.7777777777777778, \"#fb9f3a\"], [0.8888888888888888, \"#fdca26\"], [1.0, \"#f0f921\"]], \"type\": \"heatmap\"}], \"heatmapgl\": [{\"colorbar\": {\"outlinewidth\": 0, \"ticks\": \"\"}, \"colorscale\": [[0.0, \"#0d0887\"], [0.1111111111111111, \"#46039f\"], [0.2222222222222222, \"#7201a8\"], [0.3333333333333333, \"#9c179e\"], [0.4444444444444444, \"#bd3786\"], [0.5555555555555556, \"#d8576b\"], [0.6666666666666666, \"#ed7953\"], [0.7777777777777778, \"#fb9f3a\"], [0.8888888888888888, \"#fdca26\"], [1.0, \"#f0f921\"]], \"type\": \"heatmapgl\"}], \"histogram\": [{\"marker\": {\"colorbar\": {\"outlinewidth\": 0, \"ticks\": \"\"}}, \"type\": \"histogram\"}], \"histogram2d\": [{\"colorbar\": {\"outlinewidth\": 0, \"ticks\": \"\"}, \"colorscale\": [[0.0, \"#0d0887\"], [0.1111111111111111, \"#46039f\"], [0.2222222222222222, \"#7201a8\"], [0.3333333333333333, \"#9c179e\"], [0.4444444444444444, \"#bd3786\"], [0.5555555555555556, \"#d8576b\"], [0.6666666666666666, \"#ed7953\"], [0.7777777777777778, \"#fb9f3a\"], [0.8888888888888888, \"#fdca26\"], [1.0, \"#f0f921\"]], \"type\": \"histogram2d\"}], \"histogram2dcontour\": [{\"colorbar\": {\"outlinewidth\": 0, \"ticks\": \"\"}, \"colorscale\": [[0.0, \"#0d0887\"], [0.1111111111111111, \"#46039f\"], [0.2222222222222222, \"#7201a8\"], [0.3333333333333333, \"#9c179e\"], [0.4444444444444444, \"#bd3786\"], [0.5555555555555556, \"#d8576b\"], [0.6666666666666666, \"#ed7953\"], [0.7777777777777778, \"#fb9f3a\"], [0.8888888888888888, \"#fdca26\"], [1.0, \"#f0f921\"]], \"type\": \"histogram2dcontour\"}], \"mesh3d\": [{\"colorbar\": {\"outlinewidth\": 0, \"ticks\": \"\"}, \"type\": \"mesh3d\"}], \"parcoords\": [{\"line\": {\"colorbar\": {\"outlinewidth\": 0, \"ticks\": \"\"}}, \"type\": \"parcoords\"}], \"scatter\": [{\"marker\": {\"colorbar\": {\"outlinewidth\": 0, \"ticks\": \"\"}}, \"type\": \"scatter\"}], \"scatter3d\": [{\"line\": {\"colorbar\": {\"outlinewidth\": 0, \"ticks\": \"\"}}, \"marker\": {\"colorbar\": {\"outlinewidth\": 0, \"ticks\": \"\"}}, \"type\": \"scatter3d\"}], \"scattercarpet\": [{\"marker\": {\"colorbar\": {\"outlinewidth\": 0, \"ticks\": \"\"}}, \"type\": \"scattercarpet\"}], \"scattergeo\": [{\"marker\": {\"colorbar\": {\"outlinewidth\": 0, \"ticks\": \"\"}}, \"type\": \"scattergeo\"}], \"scattergl\": [{\"marker\": {\"colorbar\": {\"outlinewidth\": 0, \"ticks\": \"\"}}, \"type\": \"scattergl\"}], \"scattermapbox\": [{\"marker\": {\"colorbar\": {\"outlinewidth\": 0, \"ticks\": \"\"}}, \"type\": \"scattermapbox\"}], \"scatterpolar\": [{\"marker\": {\"colorbar\": {\"outlinewidth\": 0, \"ticks\": \"\"}}, \"type\": \"scatterpolar\"}], \"scatterpolargl\": [{\"marker\": {\"colorbar\": {\"outlinewidth\": 0, \"ticks\": \"\"}}, \"type\": \"scatterpolargl\"}], \"scatterternary\": [{\"marker\": {\"colorbar\": {\"outlinewidth\": 0, \"ticks\": \"\"}}, \"type\": \"scatterternary\"}], \"surface\": [{\"colorbar\": {\"outlinewidth\": 0, \"ticks\": \"\"}, \"colorscale\": [[0.0, \"#0d0887\"], [0.1111111111111111, \"#46039f\"], [0.2222222222222222, \"#7201a8\"], [0.3333333333333333, \"#9c179e\"], [0.4444444444444444, \"#bd3786\"], [0.5555555555555556, \"#d8576b\"], [0.6666666666666666, \"#ed7953\"], [0.7777777777777778, \"#fb9f3a\"], [0.8888888888888888, \"#fdca26\"], [1.0, \"#f0f921\"]], \"type\": \"surface\"}], \"table\": [{\"cells\": {\"fill\": {\"color\": \"#EBF0F8\"}, \"line\": {\"color\": \"white\"}}, \"header\": {\"fill\": {\"color\": \"#C8D4E3\"}, \"line\": {\"color\": \"white\"}}, \"type\": \"table\"}]}, \"layout\": {\"annotationdefaults\": {\"arrowcolor\": \"#2a3f5f\", \"arrowhead\": 0, \"arrowwidth\": 1}, \"colorscale\": {\"diverging\": [[0, \"#8e0152\"], [0.1, \"#c51b7d\"], [0.2, \"#de77ae\"], [0.3, \"#f1b6da\"], [0.4, \"#fde0ef\"], [0.5, \"#f7f7f7\"], [0.6, \"#e6f5d0\"], [0.7, \"#b8e186\"], [0.8, \"#7fbc41\"], [0.9, \"#4d9221\"], [1, \"#276419\"]], \"sequential\": [[0.0, \"#0d0887\"], [0.1111111111111111, \"#46039f\"], [0.2222222222222222, \"#7201a8\"], [0.3333333333333333, \"#9c179e\"], [0.4444444444444444, \"#bd3786\"], [0.5555555555555556, \"#d8576b\"], [0.6666666666666666, \"#ed7953\"], [0.7777777777777778, \"#fb9f3a\"], [0.8888888888888888, \"#fdca26\"], [1.0, \"#f0f921\"]], \"sequentialminus\": [[0.0, \"#0d0887\"], [0.1111111111111111, \"#46039f\"], [0.2222222222222222, \"#7201a8\"], [0.3333333333333333, \"#9c179e\"], [0.4444444444444444, \"#bd3786\"], [0.5555555555555556, \"#d8576b\"], [0.6666666666666666, \"#ed7953\"], [0.7777777777777778, \"#fb9f3a\"], [0.8888888888888888, \"#fdca26\"], [1.0, \"#f0f921\"]]}, \"colorway\": [\"#636efa\", \"#EF553B\", \"#00cc96\", \"#ab63fa\", \"#FFA15A\", \"#19d3f3\", \"#FF6692\", \"#B6E880\", \"#FF97FF\", \"#FECB52\"], \"font\": {\"color\": \"#2a3f5f\"}, \"geo\": {\"bgcolor\": \"white\", \"lakecolor\": \"white\", \"landcolor\": \"#E5ECF6\", \"showlakes\": true, \"showland\": true, \"subunitcolor\": \"white\"}, \"hoverlabel\": {\"align\": \"left\"}, \"hovermode\": \"closest\", \"mapbox\": {\"style\": \"light\"}, \"paper_bgcolor\": \"white\", \"plot_bgcolor\": \"#E5ECF6\", \"polar\": {\"angularaxis\": {\"gridcolor\": \"white\", \"linecolor\": \"white\", \"ticks\": \"\"}, \"bgcolor\": \"#E5ECF6\", \"radialaxis\": {\"gridcolor\": \"white\", \"linecolor\": \"white\", \"ticks\": \"\"}}, \"scene\": {\"xaxis\": {\"backgroundcolor\": \"#E5ECF6\", \"gridcolor\": \"white\", \"gridwidth\": 2, \"linecolor\": \"white\", \"showbackground\": true, \"ticks\": \"\", \"zerolinecolor\": \"white\"}, \"yaxis\": {\"backgroundcolor\": \"#E5ECF6\", \"gridcolor\": \"white\", \"gridwidth\": 2, \"linecolor\": \"white\", \"showbackground\": true, \"ticks\": \"\", \"zerolinecolor\": \"white\"}, \"zaxis\": {\"backgroundcolor\": \"#E5ECF6\", \"gridcolor\": \"white\", \"gridwidth\": 2, \"linecolor\": \"white\", \"showbackground\": true, \"ticks\": \"\", \"zerolinecolor\": \"white\"}}, \"shapedefaults\": {\"line\": {\"color\": \"#2a3f5f\"}}, \"ternary\": {\"aaxis\": {\"gridcolor\": \"white\", \"linecolor\": \"white\", \"ticks\": \"\"}, \"baxis\": {\"gridcolor\": \"white\", \"linecolor\": \"white\", \"ticks\": \"\"}, \"bgcolor\": \"#E5ECF6\", \"caxis\": {\"gridcolor\": \"white\", \"linecolor\": \"white\", \"ticks\": \"\"}}, \"title\": {\"x\": 0.05}, \"xaxis\": {\"automargin\": true, \"gridcolor\": \"white\", \"linecolor\": \"white\", \"ticks\": \"\", \"zerolinecolor\": \"white\", \"zerolinewidth\": 2}, \"yaxis\": {\"automargin\": true, \"gridcolor\": \"white\", \"linecolor\": \"white\", \"ticks\": \"\", \"zerolinecolor\": \"white\", \"zerolinewidth\": 2}}}, \"xaxis\": {\"dtick\": 1, \"gridcolor\": \"rgb(0, 0, 0)\", \"side\": \"top\", \"ticks\": \"\"}, \"yaxis\": {\"dtick\": 1, \"ticks\": \"\", \"ticksuffix\": \"  \"}},\n",
       "                        {\"responsive\": true}\n",
       "                    ).then(function(){\n",
       "                            \n",
       "var gd = document.getElementById('b970689e-04be-4243-995b-a24500b47592');\n",
       "var x = new MutationObserver(function (mutations, observer) {{\n",
       "        var display = window.getComputedStyle(gd).display;\n",
       "        if (!display || display === 'none') {{\n",
       "            console.log([gd, 'removed!']);\n",
       "            Plotly.purge(gd);\n",
       "            observer.disconnect();\n",
       "        }}\n",
       "}});\n",
       "\n",
       "// Listen for the removal of the full notebook cells\n",
       "var notebookContainer = gd.closest('#notebook-container');\n",
       "if (notebookContainer) {{\n",
       "    x.observe(notebookContainer, {childList: true});\n",
       "}}\n",
       "\n",
       "// Listen for the clearing of the current output cell\n",
       "var outputEl = gd.closest('.output');\n",
       "if (outputEl) {{\n",
       "    x.observe(outputEl, {childList: true});\n",
       "}}\n",
       "\n",
       "                        })\n",
       "                };\n",
       "                });\n",
       "            </script>\n",
       "        </div>"
      ]
     },
     "metadata": {},
     "output_type": "display_data"
    }
   ],
   "source": [
    "import plotly.figure_factory as FF\n",
    "from plotly.tools import FigureFactory as FF2\n",
    "\n",
    "try:\n",
    "    fig = FF.create_annotated_heatmap(scores, colorscale='Blues', y=dataplot.index.values.tolist()[::-1])\n",
    "    fig.show()\n",
    "except:\n",
    "    fig = FF2.create_annotated_heatmap(scores, colorscale='Blues', y=dataplot.index.values.tolist()[::-1])\n",
    "    fig.show()   "
   ]
  },
  {
   "cell_type": "markdown",
   "metadata": {},
   "source": [
    "# Validação dos resultados\n",
    "\n",
    "Vamos comparar o aluno que segue o nosso algoritmo genético com um adversário: o aluno que segue o fluxo sugerido no projeto pedagógico do curso.\n",
    "\n",
    "Visivelmente se percebe que o algoritmo genético consegue uma variação na dificuldade entre os semestres muito menor do que o fluxo. Sendo assim, as chances de reprovação ou de notas baixas seguindo o algoritmo genético são muito menores do que seguindo o fluxo sugerido."
   ]
  },
  {
   "cell_type": "code",
   "execution_count": 99,
   "metadata": {},
   "outputs": [
    {
     "data": {
      "image/png": "[encoded data removed]",
      "text/plain": [
       "<Figure size 720x360 with 1 Axes>"
      ]
     },
     "metadata": {
      "needs_background": "light"
     },
     "output_type": "display_data"
    }
   ],
   "source": [
    "%matplotlib inline\n",
    "import matplotlib.pyplot as plt\n",
    "plt.rcParams[\"figure.figsize\"] = (10,5)\n",
    "\n",
    "scores = np.array( [ sorted([ (a.gerar_notas(y), y) for y in x ], key=lambda x: x[0]) for x in curso ])\n",
    "scores = np.array([ np.array([ x[0] for x in y ]) for y in scores ])\n",
    "scores = [ np.mean(x) for x in scores]\n",
    "\n",
    "from collections import defaultdict\n",
    "tmp = defaultdict(list)\n",
    "for item in a.criar_fluxo(periodos=10, lim=5):\n",
    "    tmp[item[1]].append(item[0])\n",
    "    \n",
    "tmp = [x[1] for x in sorted(tmp.items(), key=lambda x: x[0])]\n",
    "\n",
    "fluxo_scores = np.array( [ sorted([ (a.gerar_notas(y), y) for y in x ], key=lambda x: x[0]) for x in tmp ])\n",
    "fluxo_scores = np.array([ np.array([ x[0] for x in y ]) for y in fluxo_scores ])\n",
    "fluxo_scores = [ np.mean(x) for x in fluxo_scores]\n",
    "valores_fluxo = fluxo_scores[(len(fluxo_scores) - len(scores)):len(fluxo_scores)]\n",
    "valores_algo = scores\n",
    "media_global = np.mean(fluxo_scores)\n",
    "\n",
    "valores_fluxo = [ [i, 10 - v, 'fluxo sugerido'] for i,v in enumerate(valores_fluxo) ]\n",
    "valores_algo = [ [i, 10 - v, 'algoritmo genético'] for i,v in enumerate(valores_algo) ]\n",
    "dataplot = valores_fluxo + valores_algo\n",
    "dataplot = pd.DataFrame(dataplot)\\\n",
    ".rename(columns={\n",
    "    2: 'Estratégia:'\n",
    "})\n",
    "g = sns.lineplot(x=0, y=1, hue='Estratégia:', style='Estratégia:', markers=True, dashes=False, data=dataplot)\n",
    "g.axes.set(xlabel='Período')\n",
    "g.axes.set(xticklabels=[3,3,4,5,6,7,8,9])\n",
    "g.axes.set(ylabel='Dificuldade do período')\n",
    "pass"
   ]
  },
  {
   "cell_type": "code",
   "execution_count": null,
   "metadata": {},
   "outputs": [],
   "source": []
  }
 ],
 "metadata": {
  "kernelspec": {
   "display_name": "Python 3",
   "language": "python",
   "name": "python3"
  },
  "language_info": {
   "codemirror_mode": {
    "name": "ipython",
    "version": 3
   },
   "file_extension": ".py",
   "mimetype": "text/x-python",
   "name": "python",
   "nbconvert_exporter": "python",
   "pygments_lexer": "ipython3",
   "version": "3.7.1"
  }
 },
 "nbformat": 4,
 "nbformat_minor": 2
}

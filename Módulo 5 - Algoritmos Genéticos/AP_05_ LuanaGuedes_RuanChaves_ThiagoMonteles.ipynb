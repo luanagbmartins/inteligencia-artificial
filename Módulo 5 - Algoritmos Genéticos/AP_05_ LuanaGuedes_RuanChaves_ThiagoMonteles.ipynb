{
 "cells": [
  {
   "cell_type": "markdown",
   "metadata": {},
   "source": [
    "**Instituto de Informática - UFG**\n",
    "\n",
    "Disciplina: Inteligência Artificial\n",
    "\n",
    "Prof. Cedric Luiz de Carvalho\n",
    "\n",
    "Grupo ( A )\n",
    "\n",
    "---\n",
    "\n",
    "\n",
    "Aluna(o): Luana Guedes Barros Martins\n",
    "\n",
    "---\n",
    "\n",
    "Aluna(o): Ruan Chaves Rodrigues\n",
    "\n",
    "---\n",
    "\n",
    "Aluna(o): Thiago Monteles de Souza\n",
    "\n",
    "---"
   ]
  },
  {
   "cell_type": "markdown",
   "metadata": {},
   "source": [
    "# Atividade Prática 05 - Algoritmos Genéticos\n",
    "\n",
    "Particionamento das atividades:\n",
    "- Luana Guedes Barros Martins: \n",
    "- Ruan Chaves Rodrigues: \n",
    "- Thiago Monteles de Souza: Gerente do Projeto"
   ]
  },
  {
   "cell_type": "code",
   "execution_count": 1,
   "metadata": {},
   "outputs": [
    {
     "name": "stdout",
     "output_type": "stream",
     "text": [
      "Requirement already satisfied: pyeasyga in /home/luana/miniconda3/envs/IA/lib/python3.7/site-packages (0.3.1)\r\n",
      "Requirement already satisfied: six in /home/luana/miniconda3/envs/IA/lib/python3.7/site-packages (from pyeasyga) (1.12.0)\r\n"
     ]
    }
   ],
   "source": [
    "!pip install pyeasyga"
   ]
  },
  {
   "cell_type": "code",
   "execution_count": 2,
   "metadata": {},
   "outputs": [],
   "source": [
    "# Imports\n",
    "\n",
    "import pandas as pd\n",
    "import numpy as np\n",
    "import seaborn as sns\n",
    "import re\n",
    "import random\n",
    "from pyeasyga import pyeasyga"
   ]
  },
  {
   "cell_type": "markdown",
   "metadata": {},
   "source": [
    "## Descrição do Problema\n",
    "\n",
    "Utilizando a base de dados fornecida de alunos do curso de Ciência da Computação da Universidade Federal de Goiás (UFG), devemos determinar qual é o melhor grupo de disciplinas a serem cursadas pelos alunos, a cada semestre, de forma a terem maior sucesso, isto é, terem a maior média geral de notas e o menor número de reprovações."
   ]
  },
  {
   "cell_type": "markdown",
   "metadata": {},
   "source": [
    "## Tratamento dos Dados\n",
    "*Descrição do que foi feito*"
   ]
  },
  {
   "cell_type": "code",
   "execution_count": null,
   "metadata": {},
   "outputs": [],
   "source": [
    "\"\"\"\n",
    "# Carregar o dataset \"baseDeDados.csv\" para o ambiente virtual\n",
    "\n",
    "from google.colab import files\n",
    "uploaded = files.upload()\n",
    "\"\"\""
   ]
  },
  {
   "cell_type": "code",
   "execution_count": 3,
   "metadata": {},
   "outputs": [
    {
     "name": "stderr",
     "output_type": "stream",
     "text": [
      "/home/luana/miniconda3/envs/IA/lib/python3.7/site-packages/IPython/core/interactiveshell.py:3057: DtypeWarning: Columns (15) have mixed types. Specify dtype option on import or set low_memory=False.\n",
      "  interactivity=interactivity, compiler=compiler, result=result)\n"
     ]
    }
   ],
   "source": [
    "# Carregando a base de dados\n",
    "dataset = pd.read_csv('baseDeDados.csv', sep=';')"
   ]
  },
  {
   "cell_type": "code",
   "execution_count": 4,
   "metadata": {},
   "outputs": [],
   "source": [
    "# Código do tratamento dos dados bem comentado"
   ]
  },
  {
   "cell_type": "markdown",
   "metadata": {},
   "source": [
    "## Definição do Modelo\n",
    "\n",
    "Para buscar resolver o problema proposto iremos utilizar Algoritmos Genéticos. Essa técnica é inspirada em modelos biológicos e consiste em uma busca para achar soluções aproximadas em problemas de otimização e busca. \n",
    "\n",
    "A entrada do algoritmo consistirá em um conjunto de matérias permitidas, e associado a cada uma terá uma média geral de todos os alunos nessa matéria. Esse valor consistirá na definição de \"nível de dificuldade de uma dada matéria. \n",
    "\n",
    "A ideia é sugerir um semestre para o aluno que seja o mais balanceado o possível em relação ao seu nível de dificuldade afim de que o aluno possa maximizar seu desempenho naquele semestre. Assim, o aluno não terá problemas de pegar variás matérias difíceis ao mesmo tempo em algum ponto do curso."
   ]
  },
  {
   "cell_type": "markdown",
   "metadata": {},
   "source": [
    "### Representação do Cromossomo\n",
    "\n",
    "Cada cromossomo terá k genes, onde cada gene irá corresponder a uma matéria do curso de Ciência da Computação. Cada gene possuirá um valor binário que irá indicar se a matéria vai ser incluída na indicação ou não."
   ]
  },
  {
   "cell_type": "markdown",
   "metadata": {},
   "source": [
    "### Método de seleção\n",
    "\n",
    "O método de seleção consiste em como será definido a escolha dos indivíduos para reprodução."
   ]
  },
  {
   "cell_type": "markdown",
   "metadata": {},
   "source": [
    "### Número cromossomos por população"
   ]
  },
  {
   "cell_type": "markdown",
   "metadata": {},
   "source": [
    "### Probabilidade de cruzamento e estratégia de corte"
   ]
  },
  {
   "cell_type": "markdown",
   "metadata": {},
   "source": [
    "### Probabilidade de mutação"
   ]
  },
  {
   "cell_type": "markdown",
   "metadata": {},
   "source": [
    "### População inicial"
   ]
  },
  {
   "cell_type": "markdown",
   "metadata": {},
   "source": [
    "### Critério de parada"
   ]
  },
  {
   "cell_type": "markdown",
   "metadata": {},
   "source": [
    "### Função de aptidão (fitness)\n",
    "\n",
    "A função de aptidão ficou definida como:\n",
    "\n",
    "\n",
    "$$f(b_1, ..., b_k) = \\frac{1}{\\left|M - \\frac{\\sum_{i=1}^{k}N(i)}{k}\\right| + 1} + \\frac{1}{\\left|X^z - \\prod_{i=1}^{k}X^{b_i}\\right| + 1}$$\n",
    "\n",
    "Onde:\n",
    "- $z$ é a quantidade de matérias que o aluno quer cursar no semestre\n",
    "- $k$ é o tamanho do cromossomo\n",
    "- $N(i)$ retorna a média geral da disciplina na posição i\n",
    "- $M$ representa uma média das médias gerais de todas as matérias que o aluno pode pegar\n",
    "- $X$ é uma constante arbitrária\n",
    "\n",
    "O primeiro termo da função de aptidão é responsável por penalizar cromossomos cuja média global se desvia da média global M. Enquanto que o segundo termo é responsável  por penalizar cromossomos que escolhem um número de máterias diferente do ideal"
   ]
  },
  {
   "cell_type": "code",
   "execution_count": null,
   "metadata": {},
   "outputs": [],
   "source": []
  },
  {
   "cell_type": "markdown",
   "metadata": {},
   "source": [
    "## Execução e Resultados"
   ]
  },
  {
   "cell_type": "code",
   "execution_count": null,
   "metadata": {},
   "outputs": [],
   "source": []
  }
 ],
 "metadata": {
  "kernelspec": {
   "display_name": "Python 3",
   "language": "python",
   "name": "python3"
  },
  "language_info": {
   "codemirror_mode": {
    "name": "ipython",
    "version": 3
   },
   "file_extension": ".py",
   "mimetype": "text/x-python",
   "name": "python",
   "nbconvert_exporter": "python",
   "pygments_lexer": "ipython3",
   "version": "3.7.1"
  }
 },
 "nbformat": 4,
 "nbformat_minor": 2
}

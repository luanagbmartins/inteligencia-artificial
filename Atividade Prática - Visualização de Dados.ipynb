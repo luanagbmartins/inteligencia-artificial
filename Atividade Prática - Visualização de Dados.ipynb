{
 "cells": [
  {
   "cell_type": "code",
   "execution_count": 1,
   "metadata": {},
   "outputs": [],
   "source": [
    "import warnings\n",
    "warnings.filterwarnings('ignore')"
   ]
  },
  {
   "cell_type": "code",
   "execution_count": 2,
   "metadata": {},
   "outputs": [
    {
     "data": {
      "text/html": [
       "<div>\n",
       "<style scoped>\n",
       "    .dataframe tbody tr th:only-of-type {\n",
       "        vertical-align: middle;\n",
       "    }\n",
       "\n",
       "    .dataframe tbody tr th {\n",
       "        vertical-align: top;\n",
       "    }\n",
       "\n",
       "    .dataframe thead th {\n",
       "        text-align: right;\n",
       "    }\n",
       "</style>\n",
       "<table border=\"1\" class=\"dataframe\">\n",
       "  <thead>\n",
       "    <tr style=\"text-align: right;\">\n",
       "      <th></th>\n",
       "      <th>id</th>\n",
       "      <th>ano_nascimento_discente</th>\n",
       "      <th>idade_conclusao_ensino_medio</th>\n",
       "      <th>idade_ingresso_universidade</th>\n",
       "      <th>idade_colacao_grau</th>\n",
       "      <th>uf_naturalidade_discente</th>\n",
       "      <th>discente_estudou_escola_publica?</th>\n",
       "      <th>ano_conclusao_ensino_medio</th>\n",
       "      <th>nome_municipio_curso</th>\n",
       "      <th>nome_campus_curso</th>\n",
       "      <th>...</th>\n",
       "      <th>semestre_previsto_componente</th>\n",
       "      <th>ch_total_componente</th>\n",
       "      <th>frequencia_discente_componente</th>\n",
       "      <th>nota_discente_componente</th>\n",
       "      <th>situacao_discente_componente</th>\n",
       "      <th>quantidade_trancamentos</th>\n",
       "      <th>quantidade_reprovacoes_nc</th>\n",
       "      <th>quantidade_reprovacoes_nl</th>\n",
       "      <th>quantidade_reprovacoes_neobr</th>\n",
       "      <th>quantidade_reprovacoes_neopt</th>\n",
       "    </tr>\n",
       "  </thead>\n",
       "  <tbody>\n",
       "    <tr>\n",
       "      <th>0</th>\n",
       "      <td>1</td>\n",
       "      <td>1989</td>\n",
       "      <td>17.0</td>\n",
       "      <td>19</td>\n",
       "      <td>26.0</td>\n",
       "      <td>GO</td>\n",
       "      <td>NÃO</td>\n",
       "      <td>2006.0</td>\n",
       "      <td>GOIÂNIA</td>\n",
       "      <td>SAMAMBAIA</td>\n",
       "      <td>...</td>\n",
       "      <td>1</td>\n",
       "      <td>64</td>\n",
       "      <td>0.91</td>\n",
       "      <td>7.3</td>\n",
       "      <td>AP</td>\n",
       "      <td>1.0</td>\n",
       "      <td>6.0</td>\n",
       "      <td>9.0</td>\n",
       "      <td>10.0</td>\n",
       "      <td>NaN</td>\n",
       "    </tr>\n",
       "    <tr>\n",
       "      <th>1</th>\n",
       "      <td>1</td>\n",
       "      <td>1989</td>\n",
       "      <td>17.0</td>\n",
       "      <td>19</td>\n",
       "      <td>26.0</td>\n",
       "      <td>GO</td>\n",
       "      <td>NÃO</td>\n",
       "      <td>2006.0</td>\n",
       "      <td>GOIÂNIA</td>\n",
       "      <td>SAMAMBAIA</td>\n",
       "      <td>...</td>\n",
       "      <td>1</td>\n",
       "      <td>64</td>\n",
       "      <td>0.91</td>\n",
       "      <td>6.8</td>\n",
       "      <td>AP</td>\n",
       "      <td>1.0</td>\n",
       "      <td>6.0</td>\n",
       "      <td>9.0</td>\n",
       "      <td>10.0</td>\n",
       "      <td>NaN</td>\n",
       "    </tr>\n",
       "    <tr>\n",
       "      <th>2</th>\n",
       "      <td>1</td>\n",
       "      <td>1989</td>\n",
       "      <td>17.0</td>\n",
       "      <td>19</td>\n",
       "      <td>26.0</td>\n",
       "      <td>GO</td>\n",
       "      <td>NÃO</td>\n",
       "      <td>2006.0</td>\n",
       "      <td>GOIÂNIA</td>\n",
       "      <td>SAMAMBAIA</td>\n",
       "      <td>...</td>\n",
       "      <td>1</td>\n",
       "      <td>64</td>\n",
       "      <td>1.00</td>\n",
       "      <td>5.0</td>\n",
       "      <td>AP</td>\n",
       "      <td>1.0</td>\n",
       "      <td>6.0</td>\n",
       "      <td>9.0</td>\n",
       "      <td>10.0</td>\n",
       "      <td>NaN</td>\n",
       "    </tr>\n",
       "    <tr>\n",
       "      <th>3</th>\n",
       "      <td>1</td>\n",
       "      <td>1989</td>\n",
       "      <td>17.0</td>\n",
       "      <td>19</td>\n",
       "      <td>26.0</td>\n",
       "      <td>GO</td>\n",
       "      <td>NÃO</td>\n",
       "      <td>2006.0</td>\n",
       "      <td>GOIÂNIA</td>\n",
       "      <td>SAMAMBAIA</td>\n",
       "      <td>...</td>\n",
       "      <td>2</td>\n",
       "      <td>64</td>\n",
       "      <td>0.94</td>\n",
       "      <td>5.0</td>\n",
       "      <td>AP</td>\n",
       "      <td>1.0</td>\n",
       "      <td>6.0</td>\n",
       "      <td>9.0</td>\n",
       "      <td>10.0</td>\n",
       "      <td>NaN</td>\n",
       "    </tr>\n",
       "    <tr>\n",
       "      <th>4</th>\n",
       "      <td>1</td>\n",
       "      <td>1989</td>\n",
       "      <td>17.0</td>\n",
       "      <td>19</td>\n",
       "      <td>26.0</td>\n",
       "      <td>GO</td>\n",
       "      <td>NÃO</td>\n",
       "      <td>2006.0</td>\n",
       "      <td>GOIÂNIA</td>\n",
       "      <td>SAMAMBAIA</td>\n",
       "      <td>...</td>\n",
       "      <td>2</td>\n",
       "      <td>64</td>\n",
       "      <td>0.91</td>\n",
       "      <td>4.2</td>\n",
       "      <td>RM</td>\n",
       "      <td>1.0</td>\n",
       "      <td>6.0</td>\n",
       "      <td>9.0</td>\n",
       "      <td>10.0</td>\n",
       "      <td>NaN</td>\n",
       "    </tr>\n",
       "  </tbody>\n",
       "</table>\n",
       "<p>5 rows × 66 columns</p>\n",
       "</div>"
      ],
      "text/plain": [
       "   id  ano_nascimento_discente  idade_conclusao_ensino_medio  \\\n",
       "0   1                     1989                          17.0   \n",
       "1   1                     1989                          17.0   \n",
       "2   1                     1989                          17.0   \n",
       "3   1                     1989                          17.0   \n",
       "4   1                     1989                          17.0   \n",
       "\n",
       "   idade_ingresso_universidade  idade_colacao_grau uf_naturalidade_discente  \\\n",
       "0                           19                26.0                       GO   \n",
       "1                           19                26.0                       GO   \n",
       "2                           19                26.0                       GO   \n",
       "3                           19                26.0                       GO   \n",
       "4                           19                26.0                       GO   \n",
       "\n",
       "  discente_estudou_escola_publica?  ano_conclusao_ensino_medio  \\\n",
       "0                              NÃO                      2006.0   \n",
       "1                              NÃO                      2006.0   \n",
       "2                              NÃO                      2006.0   \n",
       "3                              NÃO                      2006.0   \n",
       "4                              NÃO                      2006.0   \n",
       "\n",
       "  nome_municipio_curso nome_campus_curso  ... semestre_previsto_componente  \\\n",
       "0              GOIÂNIA         SAMAMBAIA  ...                            1   \n",
       "1              GOIÂNIA         SAMAMBAIA  ...                            1   \n",
       "2              GOIÂNIA         SAMAMBAIA  ...                            1   \n",
       "3              GOIÂNIA         SAMAMBAIA  ...                            2   \n",
       "4              GOIÂNIA         SAMAMBAIA  ...                            2   \n",
       "\n",
       "  ch_total_componente frequencia_discente_componente nota_discente_componente  \\\n",
       "0                  64                           0.91                      7.3   \n",
       "1                  64                           0.91                      6.8   \n",
       "2                  64                           1.00                      5.0   \n",
       "3                  64                           0.94                      5.0   \n",
       "4                  64                           0.91                      4.2   \n",
       "\n",
       "   situacao_discente_componente quantidade_trancamentos  \\\n",
       "0                            AP                     1.0   \n",
       "1                            AP                     1.0   \n",
       "2                            AP                     1.0   \n",
       "3                            AP                     1.0   \n",
       "4                            RM                     1.0   \n",
       "\n",
       "   quantidade_reprovacoes_nc  quantidade_reprovacoes_nl  \\\n",
       "0                        6.0                        9.0   \n",
       "1                        6.0                        9.0   \n",
       "2                        6.0                        9.0   \n",
       "3                        6.0                        9.0   \n",
       "4                        6.0                        9.0   \n",
       "\n",
       "   quantidade_reprovacoes_neobr  quantidade_reprovacoes_neopt  \n",
       "0                          10.0                           NaN  \n",
       "1                          10.0                           NaN  \n",
       "2                          10.0                           NaN  \n",
       "3                          10.0                           NaN  \n",
       "4                          10.0                           NaN  \n",
       "\n",
       "[5 rows x 66 columns]"
      ]
     },
     "execution_count": 2,
     "metadata": {},
     "output_type": "execute_result"
    }
   ],
   "source": [
    "import pandas as pd\n",
    "import numpy as np \n",
    "import seaborn as sns\n",
    "import math\n",
    "df = pd.read_csv('baseDeDados.csv', sep=';')\n",
    "df.head()"
   ]
  },
  {
   "cell_type": "code",
   "execution_count": 3,
   "metadata": {},
   "outputs": [
    {
     "name": "stdout",
     "output_type": "stream",
     "text": [
      "<class 'pandas.core.frame.DataFrame'>\n",
      "RangeIndex: 22362 entries, 0 to 22361\n",
      "Data columns (total 66 columns):\n",
      "id                                            22362 non-null int64\n",
      "ano_nascimento_discente                       22362 non-null int64\n",
      "idade_conclusao_ensino_medio                  18632 non-null float64\n",
      "idade_ingresso_universidade                   22362 non-null int64\n",
      "idade_colacao_grau                            8223 non-null float64\n",
      "uf_naturalidade_discente                      22204 non-null object\n",
      "discente_estudou_escola_publica?              21326 non-null object\n",
      "ano_conclusao_ensino_medio                    18632 non-null float64\n",
      "nome_municipio_curso                          22362 non-null object\n",
      "nome_campus_curso                             22362 non-null object\n",
      "nome_curso                                    22362 non-null object\n",
      "grau_academico                                22362 non-null object\n",
      "modalidade                                    22362 non-null object\n",
      "turno                                         22362 non-null object\n",
      "ano_periodo_ingresso                          22362 non-null float64\n",
      "ingresso_judicial?                            1165 non-null object\n",
      "forma_ingresso                                22362 non-null int64\n",
      "especificidade_ingresso_ps                    314 non-null float64\n",
      "categoria_ingresso_ps                         317 non-null float64\n",
      "opcao_participacao_ps                         3606 non-null float64\n",
      "opcao_aprovacao_ps                            2064 non-null float64\n",
      "nota_liguagem_enem                            3026 non-null float64\n",
      "nota_ciencias_humanas_enem                    3026 non-null float64\n",
      "nota_ciencias_natureza_enem                   3026 non-null float64\n",
      "nota_matematica_enem                          3026 non-null float64\n",
      "nota_redacao_enem                             3026 non-null float64\n",
      "nota_linguagem_sisu                           2433 non-null float64\n",
      "nota_ciencias_humanas_sisu                    2433 non-null float64\n",
      "nota_ciencias_natureza_sisu                   2433 non-null float64\n",
      "nota_matematica_sisu                          2433 non-null float64\n",
      "nota_redacao_sisu                             2433 non-null float64\n",
      "nota_no_curso_sisu                            3026 non-null float64\n",
      "nota_corte_curso_sisu                         2942 non-null float64\n",
      "situacao_discente                             22362 non-null object\n",
      "ano_periodo_inativacao                        12973 non-null float64\n",
      "motivo_inativacao                             12973 non-null object\n",
      "data_inativacao                               12973 non-null object\n",
      "data_colacao_grau                             8223 non-null object\n",
      "ch_total_integralizada_discente               20604 non-null float64\n",
      "discente_percentual_integralizacao            20604 non-null float64\n",
      "media_global_atual_discente                   18994 non-null float64\n",
      "codigo_matriz_curricular                      22362 non-null object\n",
      "media_global_atual_matriz_curricular          22362 non-null float64\n",
      "ch_total_minima_matriz_curricular             22362 non-null int64\n",
      "ch_maxima_semestre_matriz_curricular          0 non-null float64\n",
      "prazo_conclusao_minino_matriz_curricular      22362 non-null int64\n",
      "prazo_conclusao_medio_matriz_curricular       22362 non-null int64\n",
      "prazo_conclusao_maximo_matriz_curricular      22362 non-null int64\n",
      "matriz_semestre_previsto_cursar_compomente    22362 non-null object\n",
      "codigo_turma_componente                       22149 non-null object\n",
      "ano_periodo_oferta_turma                      22149 non-null float64\n",
      "turma_ead?                                    22149 non-null object\n",
      "ano_periodo_cursado_componente                22362 non-null float64\n",
      "semestre_cursado                              22362 non-null int64\n",
      "codigo_componente                             22362 non-null object\n",
      "nome_componente                               22362 non-null object\n",
      "semestre_previsto_componente                  22362 non-null int64\n",
      "ch_total_componente                           22362 non-null int64\n",
      "frequencia_discente_componente                22362 non-null float64\n",
      "nota_discente_componente                      22361 non-null float64\n",
      "situacao_discente_componente                  22362 non-null object\n",
      "quantidade_trancamentos                       5627 non-null float64\n",
      "quantidade_reprovacoes_nc                     20546 non-null float64\n",
      "quantidade_reprovacoes_nl                     11715 non-null float64\n",
      "quantidade_reprovacoes_neobr                  18250 non-null float64\n",
      "quantidade_reprovacoes_neopt                  0 non-null float64\n",
      "dtypes: float64(35), int64(11), object(20)\n",
      "memory usage: 11.3+ MB\n"
     ]
    }
   ],
   "source": [
    "df.info()"
   ]
  },
  {
   "cell_type": "code",
   "execution_count": 4,
   "metadata": {},
   "outputs": [
    {
     "data": {
      "text/html": [
       "<div>\n",
       "<style scoped>\n",
       "    .dataframe tbody tr th:only-of-type {\n",
       "        vertical-align: middle;\n",
       "    }\n",
       "\n",
       "    .dataframe tbody tr th {\n",
       "        vertical-align: top;\n",
       "    }\n",
       "\n",
       "    .dataframe thead th {\n",
       "        text-align: right;\n",
       "    }\n",
       "</style>\n",
       "<table border=\"1\" class=\"dataframe\">\n",
       "  <thead>\n",
       "    <tr style=\"text-align: right;\">\n",
       "      <th></th>\n",
       "      <th>id</th>\n",
       "      <th>reprovacoes</th>\n",
       "    </tr>\n",
       "  </thead>\n",
       "  <tbody>\n",
       "    <tr>\n",
       "      <th>22103</th>\n",
       "      <td>796</td>\n",
       "      <td>5.0</td>\n",
       "    </tr>\n",
       "    <tr>\n",
       "      <th>21037</th>\n",
       "      <td>680</td>\n",
       "      <td>0.0</td>\n",
       "    </tr>\n",
       "    <tr>\n",
       "      <th>16091</th>\n",
       "      <td>468</td>\n",
       "      <td>17.0</td>\n",
       "    </tr>\n",
       "    <tr>\n",
       "      <th>6661</th>\n",
       "      <td>186</td>\n",
       "      <td>14.0</td>\n",
       "    </tr>\n",
       "    <tr>\n",
       "      <th>22023</th>\n",
       "      <td>785</td>\n",
       "      <td>3.0</td>\n",
       "    </tr>\n",
       "    <tr>\n",
       "      <th>17540</th>\n",
       "      <td>518</td>\n",
       "      <td>8.0</td>\n",
       "    </tr>\n",
       "    <tr>\n",
       "      <th>21392</th>\n",
       "      <td>711</td>\n",
       "      <td>12.0</td>\n",
       "    </tr>\n",
       "    <tr>\n",
       "      <th>21905</th>\n",
       "      <td>770</td>\n",
       "      <td>2.0</td>\n",
       "    </tr>\n",
       "    <tr>\n",
       "      <th>7060</th>\n",
       "      <td>198</td>\n",
       "      <td>7.0</td>\n",
       "    </tr>\n",
       "    <tr>\n",
       "      <th>3209</th>\n",
       "      <td>80</td>\n",
       "      <td>16.0</td>\n",
       "    </tr>\n",
       "  </tbody>\n",
       "</table>\n",
       "</div>"
      ],
      "text/plain": [
       "        id  reprovacoes\n",
       "22103  796          5.0\n",
       "21037  680          0.0\n",
       "16091  468         17.0\n",
       "6661   186         14.0\n",
       "22023  785          3.0\n",
       "17540  518          8.0\n",
       "21392  711         12.0\n",
       "21905  770          2.0\n",
       "7060   198          7.0\n",
       "3209    80         16.0"
      ]
     },
     "execution_count": 4,
     "metadata": {},
     "output_type": "execute_result"
    }
   ],
   "source": [
    "# 1.Número de reprovações por disciplinas.\n",
    "\n",
    "import numpy as np\n",
    "cols = ['id', 'quantidade_reprovacoes_nc', 'quantidade_reprovacoes_nl', 'quantidade_reprovacoes_neobr', 'quantidade_reprovacoes_neopt']\n",
    "nr = df[cols].drop_duplicates()\n",
    "\n",
    "reprovacoes = [ [ x[1] for x in list(row.items())[1:] ] for index,row in nr.iterrows() ]\n",
    "reprovacoes = [ np.sum(np.nan_to_num(x)) for x in reprovacoes ]\n",
    "nr['reprovacoes'] = reprovacoes\n",
    "nr = nr[['id', 'reprovacoes']]\n",
    "nr.sample(10)"
   ]
  },
  {
   "cell_type": "code",
   "execution_count": 5,
   "metadata": {},
   "outputs": [
    {
     "data": {
      "text/plain": [
       "Text(0.5, 1.0, 'Distribuição do número de reprovações por disciplina')"
      ]
     },
     "execution_count": 5,
     "metadata": {},
     "output_type": "execute_result"
    },
    {
     "data": {
      "image/png": "[encoded data removed]",
      "text/plain": [
       "<Figure size 432x288 with 1 Axes>"
      ]
     },
     "metadata": {
      "needs_background": "light"
     },
     "output_type": "display_data"
    }
   ],
   "source": [
    "resultado_plot = nr.sort_values(by='reprovacoes')[['reprovacoes']]\n",
    "resultado_plot = resultado_plot.reset_index()\n",
    "resultado_plot['enum'] = resultado_plot.index\n",
    "\n",
    "sns.lineplot(x='enum', y='reprovacoes',data=resultado_plot).set_title('Distribuição do número de reprovações por disciplina')"
   ]
  },
  {
   "cell_type": "code",
   "execution_count": 6,
   "metadata": {},
   "outputs": [
    {
     "data": {
      "text/html": [
       "<div>\n",
       "<style scoped>\n",
       "    .dataframe tbody tr th:only-of-type {\n",
       "        vertical-align: middle;\n",
       "    }\n",
       "\n",
       "    .dataframe tbody tr th {\n",
       "        vertical-align: top;\n",
       "    }\n",
       "\n",
       "    .dataframe thead th {\n",
       "        text-align: right;\n",
       "    }\n",
       "</style>\n",
       "<table border=\"1\" class=\"dataframe\">\n",
       "  <thead>\n",
       "    <tr style=\"text-align: right;\">\n",
       "      <th></th>\n",
       "      <th>nota_discente_componente</th>\n",
       "    </tr>\n",
       "    <tr>\n",
       "      <th>nome_componente</th>\n",
       "      <th></th>\n",
       "    </tr>\n",
       "  </thead>\n",
       "  <tbody>\n",
       "    <tr>\n",
       "      <th>ALGORITMOS E ESTRUTURAS DE DADOS 1</th>\n",
       "      <td>6.560784</td>\n",
       "    </tr>\n",
       "    <tr>\n",
       "      <th>ALGORITMOS E ESTRUTURAS DE DADOS 2</th>\n",
       "      <td>5.973333</td>\n",
       "    </tr>\n",
       "    <tr>\n",
       "      <th>ANÁLISE E PROJETO DE ALGORITMOS</th>\n",
       "      <td>4.335073</td>\n",
       "    </tr>\n",
       "    <tr>\n",
       "      <th>ARQUITETURA DE COMPUTADORES</th>\n",
       "      <td>5.525963</td>\n",
       "    </tr>\n",
       "    <tr>\n",
       "      <th>BANCO DE DADOS</th>\n",
       "      <td>5.265583</td>\n",
       "    </tr>\n",
       "  </tbody>\n",
       "</table>\n",
       "</div>"
      ],
      "text/plain": [
       "                                    nota_discente_componente\n",
       "nome_componente                                             \n",
       "ALGORITMOS E ESTRUTURAS DE DADOS 1                  6.560784\n",
       "ALGORITMOS E ESTRUTURAS DE DADOS 2                  5.973333\n",
       "ANÁLISE E PROJETO DE ALGORITMOS                     4.335073\n",
       "ARQUITETURA DE COMPUTADORES                         5.525963\n",
       "BANCO DE DADOS                                      5.265583"
      ]
     },
     "execution_count": 6,
     "metadata": {},
     "output_type": "execute_result"
    }
   ],
   "source": [
    "# 2.Média dos alunos por disciplina.\n",
    "\n",
    "aluno_avg = df[['id', 'nome_componente', 'nota_discente_componente']]\n",
    "aluno_sum = aluno_avg.groupby('nome_componente').sum()\n",
    "aluno_count = aluno_avg.groupby('nome_componente').count()\n",
    "\n",
    "media_disc = aluno_sum['nota_discente_componente'] / aluno_count['nota_discente_componente']\n",
    "resultado = pd.DataFrame(media_disc)\n",
    "resultado.head()"
   ]
  },
  {
   "cell_type": "code",
   "execution_count": 7,
   "metadata": {},
   "outputs": [
    {
     "data": {
      "text/plain": [
       "Text(0.5, 1.0, 'Distribuição da média da turma em cada disciplina')"
      ]
     },
     "execution_count": 7,
     "metadata": {},
     "output_type": "execute_result"
    },
    {
     "data": {
      "image/png": "[encoded data removed]",
      "text/plain": [
       "<Figure size 432x288 with 1 Axes>"
      ]
     },
     "metadata": {
      "needs_background": "light"
     },
     "output_type": "display_data"
    }
   ],
   "source": [
    "resultado_plot = resultado.sort_values(by='nota_discente_componente')[['nota_discente_componente']]\n",
    "resultado_plot = resultado_plot.reset_index()\n",
    "resultado_plot['enum'] = resultado_plot.index\n",
    "\n",
    "sns.lineplot(x='enum', y='nota_discente_componente',data=resultado_plot).set_title('Distribuição da média da turma em cada disciplina')"
   ]
  },
  {
   "cell_type": "code",
   "execution_count": 8,
   "metadata": {},
   "outputs": [
    {
     "data": {
      "text/html": [
       "<div>\n",
       "<style scoped>\n",
       "    .dataframe tbody tr th:only-of-type {\n",
       "        vertical-align: middle;\n",
       "    }\n",
       "\n",
       "    .dataframe tbody tr th {\n",
       "        vertical-align: top;\n",
       "    }\n",
       "\n",
       "    .dataframe thead th {\n",
       "        text-align: right;\n",
       "    }\n",
       "</style>\n",
       "<table border=\"1\" class=\"dataframe\">\n",
       "  <thead>\n",
       "    <tr style=\"text-align: right;\">\n",
       "      <th></th>\n",
       "      <th>nota_discente_componente</th>\n",
       "    </tr>\n",
       "    <tr>\n",
       "      <th>nome_componente</th>\n",
       "      <th></th>\n",
       "    </tr>\n",
       "  </thead>\n",
       "  <tbody>\n",
       "    <tr>\n",
       "      <th>ALGORITMOS E ESTRUTURAS DE DADOS 1</th>\n",
       "      <td>3.000000</td>\n",
       "    </tr>\n",
       "    <tr>\n",
       "      <th>ALGORITMOS E ESTRUTURAS DE DADOS 2</th>\n",
       "      <td>1.250000</td>\n",
       "    </tr>\n",
       "    <tr>\n",
       "      <th>ANÁLISE E PROJETO DE ALGORITMOS</th>\n",
       "      <td>16.411765</td>\n",
       "    </tr>\n",
       "    <tr>\n",
       "      <th>ARQUITETURA DE COMPUTADORES</th>\n",
       "      <td>22.416667</td>\n",
       "    </tr>\n",
       "    <tr>\n",
       "      <th>BANCO DE DADOS</th>\n",
       "      <td>17.625000</td>\n",
       "    </tr>\n",
       "  </tbody>\n",
       "</table>\n",
       "</div>"
      ],
      "text/plain": [
       "                                    nota_discente_componente\n",
       "nome_componente                                             \n",
       "ALGORITMOS E ESTRUTURAS DE DADOS 1                  3.000000\n",
       "ALGORITMOS E ESTRUTURAS DE DADOS 2                  1.250000\n",
       "ANÁLISE E PROJETO DE ALGORITMOS                    16.411765\n",
       "ARQUITETURA DE COMPUTADORES                        22.416667\n",
       "BANCO DE DADOS                                     17.625000"
      ]
     },
     "execution_count": 8,
     "metadata": {},
     "output_type": "execute_result"
    }
   ],
   "source": [
    "# 3.Número médio de reprovações/semestre por disciplina.\n",
    "\n",
    "alunos_tabela = df[['id', 'nome_componente', 'nota_discente_componente', 'semestre_cursado']]\n",
    "\n",
    "ndc = alunos_tabela['nota_discente_componente']\n",
    "alunos_tabela['nota_discente_componente'] = ndc.apply(lambda x: 1 if x < 6.0 else 0)\n",
    "\n",
    "notas = alunos_tabela.groupby(by=['nome_componente', 'semestre_cursado']).sum().groupby('nome_componente').mean()\n",
    "media_de_reprovacoes = notas[['nota_discente_componente']]\n",
    "resultado = media_de_reprovacoes\n",
    "resultado.head()"
   ]
  },
  {
   "cell_type": "code",
   "execution_count": 9,
   "metadata": {},
   "outputs": [
    {
     "data": {
      "text/plain": [
       "Text(0.5, 1.0, 'Distribuição da média de reprovações em cada disciplina')"
      ]
     },
     "execution_count": 9,
     "metadata": {},
     "output_type": "execute_result"
    },
    {
     "data": {
      "image/png": "[encoded data removed]",
      "text/plain": [
       "<Figure size 432x288 with 1 Axes>"
      ]
     },
     "metadata": {
      "needs_background": "light"
     },
     "output_type": "display_data"
    }
   ],
   "source": [
    "\n",
    "resultado_plot = resultado.sort_values(by='nota_discente_componente')[['nota_discente_componente']]\n",
    "resultado_plot = resultado_plot.reset_index()\n",
    "resultado_plot['enum'] = resultado_plot.index\n",
    "resultado_plot['nota_discente_componente'] = resultado_plot['nota_discente_componente']\n",
    "\n",
    "sns.lineplot(x='enum', y='nota_discente_componente',data=resultado_plot).set_title('Distribuição da média de reprovações em cada disciplina')"
   ]
  },
  {
   "cell_type": "code",
   "execution_count": 16,
   "metadata": {},
   "outputs": [
    {
     "data": {
      "text/html": [
       "<div>\n",
       "<style scoped>\n",
       "    .dataframe tbody tr th:only-of-type {\n",
       "        vertical-align: middle;\n",
       "    }\n",
       "\n",
       "    .dataframe tbody tr th {\n",
       "        vertical-align: top;\n",
       "    }\n",
       "\n",
       "    .dataframe thead th {\n",
       "        text-align: right;\n",
       "    }\n",
       "</style>\n",
       "<table border=\"1\" class=\"dataframe\">\n",
       "  <thead>\n",
       "    <tr style=\"text-align: right;\">\n",
       "      <th></th>\n",
       "      <th>media_aluno</th>\n",
       "    </tr>\n",
       "    <tr>\n",
       "      <th>nome_componente</th>\n",
       "      <th></th>\n",
       "    </tr>\n",
       "  </thead>\n",
       "  <tbody>\n",
       "    <tr>\n",
       "      <th>ALGORITMOS E ESTRUTURAS DE DADOS 1</th>\n",
       "      <td>17.000000</td>\n",
       "    </tr>\n",
       "    <tr>\n",
       "      <th>ALGORITMOS E ESTRUTURAS DE DADOS 2</th>\n",
       "      <td>15.000000</td>\n",
       "    </tr>\n",
       "    <tr>\n",
       "      <th>ANÁLISE E PROJETO DE ALGORITMOS</th>\n",
       "      <td>26.611111</td>\n",
       "    </tr>\n",
       "    <tr>\n",
       "      <th>ARQUITETURA DE COMPUTADORES</th>\n",
       "      <td>29.850000</td>\n",
       "    </tr>\n",
       "    <tr>\n",
       "      <th>BANCO DE DADOS</th>\n",
       "      <td>29.055556</td>\n",
       "    </tr>\n",
       "  </tbody>\n",
       "</table>\n",
       "</div>"
      ],
      "text/plain": [
       "                                    media_aluno\n",
       "nome_componente                                \n",
       "ALGORITMOS E ESTRUTURAS DE DADOS 1    17.000000\n",
       "ALGORITMOS E ESTRUTURAS DE DADOS 2    15.000000\n",
       "ANÁLISE E PROJETO DE ALGORITMOS       26.611111\n",
       "ARQUITETURA DE COMPUTADORES           29.850000\n",
       "BANCO DE DADOS                        29.055556"
      ]
     },
     "execution_count": 16,
     "metadata": {},
     "output_type": "execute_result"
    }
   ],
   "source": [
    "# 4. Média dos alunos por semestre por disciplina\n",
    "disciplinas = df[['id', 'nome_componente', 'ano_periodo_cursado_componente']]\n",
    "\n",
    "disciplinas = disciplinas.groupby(by=['nome_componente', 'ano_periodo_cursado_componente']).count().groupby('nome_componente').mean()\n",
    "disciplinas = disciplinas.rename(columns={'id': 'media_aluno'})\n",
    "resultado = disciplinas\n",
    "resultado.head()"
   ]
  },
  {
   "cell_type": "code",
   "execution_count": 18,
   "metadata": {},
   "outputs": [
    {
     "data": {
      "text/plain": [
       "Text(0.5, 1.0, 'Distribuição da média dos alunos por semestre em uma disciplina')"
      ]
     },
     "execution_count": 18,
     "metadata": {},
     "output_type": "execute_result"
    },
    {
     "data": {
      "image/png": "[encoded data removed]",
      "text/plain": [
       "<Figure size 432x288 with 1 Axes>"
      ]
     },
     "metadata": {
      "needs_background": "light"
     },
     "output_type": "display_data"
    }
   ],
   "source": [
    "resultado_plot = resultado.sort_values(by='media_aluno')[['media_aluno']]\n",
    "resultado_plot = resultado_plot.reset_index()\n",
    "resultado_plot['enum'] = resultado_plot.index\n",
    "resultado_plot['media_aluno'] = resultado_plot['media_aluno']\n",
    "\n",
    "sns.lineplot(x='enum', y='media_aluno',data=resultado_plot).set_title('Distribuição da média dos alunos por semestre em uma disciplina')"
   ]
  },
  {
   "cell_type": "code",
   "execution_count": 20,
   "metadata": {},
   "outputs": [
    {
     "data": {
      "text/html": [
       "<div>\n",
       "<style scoped>\n",
       "    .dataframe tbody tr th:only-of-type {\n",
       "        vertical-align: middle;\n",
       "    }\n",
       "\n",
       "    .dataframe tbody tr th {\n",
       "        vertical-align: top;\n",
       "    }\n",
       "\n",
       "    .dataframe thead th {\n",
       "        text-align: right;\n",
       "    }\n",
       "</style>\n",
       "<table border=\"1\" class=\"dataframe\">\n",
       "  <thead>\n",
       "    <tr style=\"text-align: right;\">\n",
       "      <th></th>\n",
       "      <th>tempo_conclusao</th>\n",
       "    </tr>\n",
       "    <tr>\n",
       "      <th>semestre_concluinte</th>\n",
       "      <th></th>\n",
       "    </tr>\n",
       "  </thead>\n",
       "  <tbody>\n",
       "    <tr>\n",
       "      <th>2009.1</th>\n",
       "      <td>1.000000</td>\n",
       "    </tr>\n",
       "    <tr>\n",
       "      <th>2010.2</th>\n",
       "      <td>3.000000</td>\n",
       "    </tr>\n",
       "    <tr>\n",
       "      <th>2011.1</th>\n",
       "      <td>3.000000</td>\n",
       "    </tr>\n",
       "    <tr>\n",
       "      <th>2011.2</th>\n",
       "      <td>3.888889</td>\n",
       "    </tr>\n",
       "    <tr>\n",
       "      <th>2012.1</th>\n",
       "      <td>3.000000</td>\n",
       "    </tr>\n",
       "  </tbody>\n",
       "</table>\n",
       "</div>"
      ],
      "text/plain": [
       "                     tempo_conclusao\n",
       "semestre_concluinte                 \n",
       "2009.1                      1.000000\n",
       "2010.2                      3.000000\n",
       "2011.1                      3.000000\n",
       "2011.2                      3.888889\n",
       "2012.1                      3.000000"
      ]
     },
     "execution_count": 20,
     "metadata": {},
     "output_type": "execute_result"
    }
   ],
   "source": [
    "# 5. Tempo médio de conclusão de curso por semestre\n",
    "concluintes = df[['id', 'data_colacao_grau', 'idade_ingresso_universidade', 'idade_colacao_grau' ]]\n",
    "concluintes = concluintes.drop_duplicates(subset='id')\n",
    "concluintes = concluintes.dropna()\n",
    "concluintes['tempo_conclusao'] = concluintes['idade_colacao_grau'] - concluintes['idade_ingresso_universidade']\n",
    "\n",
    "semestre = [list(map(int, i.split('-'))) for i in concluintes['data_colacao_grau'].tolist()]\n",
    "concluintes['semestre_concluinte'] = [(str(i[0]) + '.1' if i[1] >= 6 else str(i[0]-1) + '.2') for i in semestre]\n",
    "concluintes['semestre_concluinte'] = [(str(i[0]) + '.1' if i[1] >= 6 else str(i[0]-1) + '.2') for i in semestre]\n",
    "\n",
    "media_conclusao = concluintes.groupby(by=['semestre_concluinte'])['tempo_conclusao'].mean()\n",
    "media_conclusao = pd.DataFrame(media_conclusao, columns = ['tempo_conclusao']) \n",
    "resultado = media_conclusao\n",
    "resultado.head()"
   ]
  },
  {
   "cell_type": "code",
   "execution_count": 21,
   "metadata": {},
   "outputs": [
    {
     "data": {
      "text/plain": [
       "Text(0.5, 1.0, 'Distribuição da média do tempo de conclusão de curso por semestre')"
      ]
     },
     "execution_count": 21,
     "metadata": {},
     "output_type": "execute_result"
    },
    {
     "data": {
      "image/png": "[encoded data removed]",
      "text/plain": [
       "<Figure size 432x288 with 1 Axes>"
      ]
     },
     "metadata": {
      "needs_background": "light"
     },
     "output_type": "display_data"
    }
   ],
   "source": [
    "resultado_plot = resultado.sort_values(by='tempo_conclusao')[['tempo_conclusao']]\n",
    "resultado_plot = resultado_plot.reset_index()\n",
    "resultado_plot['enum'] = resultado_plot.index\n",
    "resultado_plot['tempo_conclusao'] = resultado_plot['tempo_conclusao']\n",
    "\n",
    "sns.lineplot(x='enum', y='tempo_conclusao',data=resultado_plot).set_title('Distribuição da média do tempo de conclusão de curso por semestre')"
   ]
  },
  {
   "cell_type": "code",
   "execution_count": 12,
   "metadata": {},
   "outputs": [
    {
     "data": {
      "text/html": [
       "<div>\n",
       "<style scoped>\n",
       "    .dataframe tbody tr th:only-of-type {\n",
       "        vertical-align: middle;\n",
       "    }\n",
       "\n",
       "    .dataframe tbody tr th {\n",
       "        vertical-align: top;\n",
       "    }\n",
       "\n",
       "    .dataframe thead th {\n",
       "        text-align: right;\n",
       "    }\n",
       "</style>\n",
       "<table border=\"1\" class=\"dataframe\">\n",
       "  <thead>\n",
       "    <tr style=\"text-align: right;\">\n",
       "      <th></th>\n",
       "      <th>idade_ingresso_universidade</th>\n",
       "      <th>idade_colacao_grau</th>\n",
       "      <th>id</th>\n",
       "    </tr>\n",
       "  </thead>\n",
       "  <tbody>\n",
       "    <tr>\n",
       "      <th>0</th>\n",
       "      <td>16</td>\n",
       "      <td>21.0</td>\n",
       "      <td>48</td>\n",
       "    </tr>\n",
       "    <tr>\n",
       "      <th>1</th>\n",
       "      <td>17</td>\n",
       "      <td>21.0</td>\n",
       "      <td>236</td>\n",
       "    </tr>\n",
       "    <tr>\n",
       "      <th>2</th>\n",
       "      <td>17</td>\n",
       "      <td>22.0</td>\n",
       "      <td>243</td>\n",
       "    </tr>\n",
       "    <tr>\n",
       "      <th>3</th>\n",
       "      <td>17</td>\n",
       "      <td>23.0</td>\n",
       "      <td>200</td>\n",
       "    </tr>\n",
       "    <tr>\n",
       "      <th>4</th>\n",
       "      <td>17</td>\n",
       "      <td>24.0</td>\n",
       "      <td>285</td>\n",
       "    </tr>\n",
       "  </tbody>\n",
       "</table>\n",
       "</div>"
      ],
      "text/plain": [
       "   idade_ingresso_universidade  idade_colacao_grau   id\n",
       "0                           16                21.0   48\n",
       "1                           17                21.0  236\n",
       "2                           17                22.0  243\n",
       "3                           17                23.0  200\n",
       "4                           17                24.0  285"
      ]
     },
     "execution_count": 12,
     "metadata": {},
     "output_type": "execute_result"
    }
   ],
   "source": [
    "# 6.Idade de ingresso por tempo de conclusão.\n",
    "\n",
    "idade = df[['id', 'idade_ingresso_universidade', 'idade_colacao_grau']]\n",
    "idade.drop_duplicates().dropna(how='any').head()\n",
    "count_idade = idade.groupby(by=['idade_ingresso_universidade','idade_colacao_grau']).count()\n",
    "count_idade = count_idade.reset_index(level=[0,1])\n",
    "count_idade.head()"
   ]
  },
  {
   "cell_type": "code",
   "execution_count": 13,
   "metadata": {},
   "outputs": [
    {
     "data": {
      "text/plain": [
       "Text(0.5, 1, 'Idade de ingresso por tempo de conclusão')"
      ]
     },
     "execution_count": 13,
     "metadata": {},
     "output_type": "execute_result"
    },
    {
     "data": {
      "image/png": "[encoded data removed]",
      "text/plain": [
       "<Figure size 432x288 with 2 Axes>"
      ]
     },
     "metadata": {
      "needs_background": "light"
     },
     "output_type": "display_data"
    }
   ],
   "source": [
    "piv = pd.pivot_table(count_idade,values='id', index=['idade_ingresso_universidade'], columns='idade_colacao_grau')\n",
    "sns.heatmap(piv, cmap=\"YlGnBu\").set_title('Idade de ingresso por tempo de conclusão')"
   ]
  },
  {
   "cell_type": "code",
   "execution_count": 14,
   "metadata": {},
   "outputs": [
    {
     "data": {
      "text/html": [
       "<div>\n",
       "<style scoped>\n",
       "    .dataframe tbody tr th:only-of-type {\n",
       "        vertical-align: middle;\n",
       "    }\n",
       "\n",
       "    .dataframe tbody tr th {\n",
       "        vertical-align: top;\n",
       "    }\n",
       "\n",
       "    .dataframe thead th {\n",
       "        text-align: right;\n",
       "    }\n",
       "</style>\n",
       "<table border=\"1\" class=\"dataframe\">\n",
       "  <thead>\n",
       "    <tr style=\"text-align: right;\">\n",
       "      <th></th>\n",
       "      <th>id</th>\n",
       "      <th>porcentagem</th>\n",
       "    </tr>\n",
       "    <tr>\n",
       "      <th>id</th>\n",
       "      <th></th>\n",
       "      <th></th>\n",
       "    </tr>\n",
       "  </thead>\n",
       "  <tbody>\n",
       "    <tr>\n",
       "      <th>1</th>\n",
       "      <td>1</td>\n",
       "      <td>0.035714</td>\n",
       "    </tr>\n",
       "    <tr>\n",
       "      <th>2</th>\n",
       "      <td>2</td>\n",
       "      <td>0.575000</td>\n",
       "    </tr>\n",
       "    <tr>\n",
       "      <th>3</th>\n",
       "      <td>3</td>\n",
       "      <td>0.782609</td>\n",
       "    </tr>\n",
       "    <tr>\n",
       "      <th>4</th>\n",
       "      <td>4</td>\n",
       "      <td>0.312500</td>\n",
       "    </tr>\n",
       "    <tr>\n",
       "      <th>5</th>\n",
       "      <td>5</td>\n",
       "      <td>0.468085</td>\n",
       "    </tr>\n",
       "  </tbody>\n",
       "</table>\n",
       "</div>"
      ],
      "text/plain": [
       "    id  porcentagem\n",
       "id                 \n",
       "1    1     0.035714\n",
       "2    2     0.575000\n",
       "3    3     0.782609\n",
       "4    4     0.312500\n",
       "5    5     0.468085"
      ]
     },
     "execution_count": 14,
     "metadata": {},
     "output_type": "execute_result"
    }
   ],
   "source": [
    "# 7.Porcentagem de aderência ao fluxo (porcentagem de matérias cursada conforme sugerido no fluxo) por aluno.\n",
    "\n",
    "por = df[['id', 'semestre_previsto_componente', 'semestre_cursado']]\n",
    "por['diff'] = por['semestre_previsto_componente'] - por['semestre_cursado']\n",
    "\n",
    "\n",
    "por['diff'] = por['diff'].apply(lambda x: 1 if x == 0 else 0)\n",
    "total = por.groupby('id').count()\n",
    "#no_fluxo\n",
    "no_fluxo = por.groupby('id').sum()\n",
    "\n",
    "\n",
    "no_fluxo['diff'] = no_fluxo['diff'].divide(total['diff'], fill_value=0.0)\n",
    "no_fluxo['id'] = no_fluxo.index\n",
    "resultado = no_fluxo[['id', 'diff']]\n",
    "resultado = resultado.rename(columns={'diff': 'porcentagem'})\n",
    "resultado.head()"
   ]
  },
  {
   "cell_type": "code",
   "execution_count": 15,
   "metadata": {},
   "outputs": [
    {
     "data": {
      "text/plain": [
       "Text(0.5, 1.0, 'Distribuição da porcentagem de aderência ao fluxo')"
      ]
     },
     "execution_count": 15,
     "metadata": {},
     "output_type": "execute_result"
    },
    {
     "data": {
      "image/png": "[encoded data removed]",
      "text/plain": [
       "<Figure size 432x288 with 1 Axes>"
      ]
     },
     "metadata": {
      "needs_background": "light"
     },
     "output_type": "display_data"
    }
   ],
   "source": [
    "resultado_plot = resultado.sort_values(by='porcentagem')[['porcentagem']]\n",
    "resultado_plot = resultado_plot.reset_index()\n",
    "resultado_plot['enum'] = resultado_plot.index\n",
    "\n",
    "sns.lineplot(x='enum', y='porcentagem',data=resultado_plot).set_title('Distribuição da porcentagem de aderência ao fluxo')"
   ]
  },
  {
   "cell_type": "code",
   "execution_count": null,
   "metadata": {},
   "outputs": [],
   "source": []
  }
 ],
 "metadata": {
  "kernelspec": {
   "display_name": "Python 3",
   "language": "python",
   "name": "python3"
  },
  "language_info": {
   "codemirror_mode": {
    "name": "ipython",
    "version": 3
   },
   "file_extension": ".py",
   "mimetype": "text/x-python",
   "name": "python",
   "nbconvert_exporter": "python",
   "pygments_lexer": "ipython3",
   "version": "3.7.3"
  }
 },
 "nbformat": 4,
 "nbformat_minor": 2
}

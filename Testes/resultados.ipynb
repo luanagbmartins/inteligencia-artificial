{
 "cells": [
  {
   "cell_type": "code",
   "execution_count": 1,
   "metadata": {},
   "outputs": [
    {
     "name": "stdout",
     "output_type": "stream",
     "text": [
      "ann-31-07-2018.csv  dataset_bernoulli.csv  dump.py    Untitled.ipynb\r\n",
      "bayes.py\t    dataset_gaussian.csv   runner.py\r\n",
      "benchmarks.csv\t    dataset_reduzido.csv   test.py\r\n"
     ]
    }
   ],
   "source": [
    "!ls"
   ]
  },
  {
   "cell_type": "code",
   "execution_count": 49,
   "metadata": {},
   "outputs": [
    {
     "data": {
      "text/plain": [
       "Text(0.5, 1.0, 'Custo Computacional, em CPU ( Ryzen 7 )')"
      ]
     },
     "execution_count": 49,
     "metadata": {},
     "output_type": "execute_result"
    },
    {
     "data": {
      "image/png": "[encoded data removed]",
      "text/plain": [
       "<Figure size 432x288 with 1 Axes>"
      ]
     },
     "metadata": {
      "needs_background": "light"
     },
     "output_type": "display_data"
    }
   ],
   "source": [
    "import pandas as pd\n",
    "import numpy as np\n",
    "df = pd.read_csv('benchmarks.csv').groupby('1').count()\n",
    "selected = ['corrected_combined_ann_trees-02-07-2019',\n",
    "           'new_ann-02-07-2019',\n",
    "           'new_naive-bayes-02-07-2019',\n",
    "           'new_trees-02-07-2019']\n",
    "df = df[df.index.isin(selected)]\n",
    "df = df\\\n",
    ".apply(lambda x: (1/x) * 1000 )\\\n",
    ".reset_index()\\\n",
    "[['1','0']]\n",
    "df = df.iloc[2:4].reset_index()\n",
    "df['1'] = pd.Series(['Naive Bayes (sklearn)','Árvore (implementação própria)'])\n",
    "g = sns.barplot(x='1', y='0', data=df)\n",
    "g.set(xlabel='modelo')\n",
    "g.set(ylabel='custo')\n",
    "g.set_title('Custo Computacional, em CPU ( Ryzen 7 )')"
   ]
  },
  {
   "cell_type": "code",
   "execution_count": 53,
   "metadata": {},
   "outputs": [
    {
     "data": {
      "text/plain": [
       "Text(0.5, 1.0, 'Custo Computacional, em CPU ( Ryzen 7 )')"
      ]
     },
     "execution_count": 53,
     "metadata": {},
     "output_type": "execute_result"
    },
    {
     "data": {
      "image/png": "[encoded data removed]",
      "text/plain": [
       "<Figure size 432x288 with 1 Axes>"
      ]
     },
     "metadata": {
      "needs_background": "light"
     },
     "output_type": "display_data"
    }
   ],
   "source": [
    "import pandas as pd\n",
    "import numpy as np\n",
    "df = pd.read_csv('benchmarks.csv').groupby('1').count()\n",
    "selected = ['corrected_combined_ann_trees-02-07-2019',\n",
    "           'new_ann-02-07-2019',\n",
    "           'new_naive-bayes-02-07-2019',\n",
    "           'new_trees-02-07-2019']\n",
    "df = df[df.index.isin(selected)]\n",
    "df = df\\\n",
    ".apply(lambda x: (1/x) * 1000 )\\\n",
    ".reset_index()\\\n",
    "[['1','0']]\n",
    "df['1'] = pd.Series(['Misto', 'MLP (keras)', 'Naive Bayes','Árvore'])\n",
    "g = sns.barplot(x='1', y='0', data=df)\n",
    "g.set(xlabel='modelo')\n",
    "g.set(ylabel='custo')\n",
    "g.set_title('Custo Computacional, em CPU ( Ryzen 7 )')"
   ]
  },
  {
   "cell_type": "code",
   "execution_count": 13,
   "metadata": {},
   "outputs": [],
   "source": [
    "def get_results(key):\n",
    "    results = pd.read_csv('benchmarks.csv')\n",
    "    results = results[results['1'].str.contains(key)]\n",
    "    results = results.iloc[:, 2:]\n",
    "    results = results.rename(columns={\n",
    "        '2': '0',\n",
    "        '3': '1',\n",
    "        '4': '2',\n",
    "        '5': '3'\n",
    "    })\n",
    "    results['acc'] = ( results['0'] + results['3'] ) / \\\n",
    "    ( results['0'] + results['1'] + results['2'] + results['3'])\n",
    "    results['pos'] = results['3'] / ( results['3'] + results['1'] )\n",
    "    results['neg'] = results['0'] / ( results['0'] + results['2'] )\n",
    "    return results[['acc', 'pos', 'neg']]"
   ]
  },
  {
   "cell_type": "code",
   "execution_count": 14,
   "metadata": {},
   "outputs": [
    {
     "data": {
      "text/html": [
       "<div>\n",
       "<style scoped>\n",
       "    .dataframe tbody tr th:only-of-type {\n",
       "        vertical-align: middle;\n",
       "    }\n",
       "\n",
       "    .dataframe tbody tr th {\n",
       "        vertical-align: top;\n",
       "    }\n",
       "\n",
       "    .dataframe thead th {\n",
       "        text-align: right;\n",
       "    }\n",
       "</style>\n",
       "<table border=\"1\" class=\"dataframe\">\n",
       "  <thead>\n",
       "    <tr style=\"text-align: right;\">\n",
       "      <th></th>\n",
       "      <th>acc</th>\n",
       "      <th>pos</th>\n",
       "      <th>neg</th>\n",
       "    </tr>\n",
       "  </thead>\n",
       "  <tbody>\n",
       "    <tr>\n",
       "      <th>mean</th>\n",
       "      <td>0.92</td>\n",
       "      <td>0.69</td>\n",
       "      <td>0.96</td>\n",
       "    </tr>\n",
       "    <tr>\n",
       "      <th>std</th>\n",
       "      <td>0.02</td>\n",
       "      <td>0.09</td>\n",
       "      <td>0.02</td>\n",
       "    </tr>\n",
       "  </tbody>\n",
       "</table>\n",
       "</div>"
      ],
      "text/plain": [
       "       acc   pos   neg\n",
       "mean  0.92  0.69  0.96\n",
       "std   0.02  0.09  0.02"
      ]
     },
     "execution_count": 14,
     "metadata": {},
     "output_type": "execute_result"
    }
   ],
   "source": [
    "get_results('new_ann').agg([np.mean, np.std]).round(2)"
   ]
  },
  {
   "cell_type": "code",
   "execution_count": 15,
   "metadata": {},
   "outputs": [
    {
     "data": {
      "text/html": [
       "<div>\n",
       "<style scoped>\n",
       "    .dataframe tbody tr th:only-of-type {\n",
       "        vertical-align: middle;\n",
       "    }\n",
       "\n",
       "    .dataframe tbody tr th {\n",
       "        vertical-align: top;\n",
       "    }\n",
       "\n",
       "    .dataframe thead th {\n",
       "        text-align: right;\n",
       "    }\n",
       "</style>\n",
       "<table border=\"1\" class=\"dataframe\">\n",
       "  <thead>\n",
       "    <tr style=\"text-align: right;\">\n",
       "      <th></th>\n",
       "      <th>acc</th>\n",
       "      <th>pos</th>\n",
       "      <th>neg</th>\n",
       "    </tr>\n",
       "  </thead>\n",
       "  <tbody>\n",
       "    <tr>\n",
       "      <th>mean</th>\n",
       "      <td>0.89</td>\n",
       "      <td>0.60</td>\n",
       "      <td>0.93</td>\n",
       "    </tr>\n",
       "    <tr>\n",
       "      <th>std</th>\n",
       "      <td>0.05</td>\n",
       "      <td>0.22</td>\n",
       "      <td>0.06</td>\n",
       "    </tr>\n",
       "  </tbody>\n",
       "</table>\n",
       "</div>"
      ],
      "text/plain": [
       "       acc   pos   neg\n",
       "mean  0.89  0.60  0.93\n",
       "std   0.05  0.22  0.06"
      ]
     },
     "execution_count": 15,
     "metadata": {},
     "output_type": "execute_result"
    }
   ],
   "source": [
    "get_results('new_naive').agg([np.mean, np.std]).round(2)"
   ]
  },
  {
   "cell_type": "code",
   "execution_count": 16,
   "metadata": {},
   "outputs": [
    {
     "data": {
      "text/html": [
       "<div>\n",
       "<style scoped>\n",
       "    .dataframe tbody tr th:only-of-type {\n",
       "        vertical-align: middle;\n",
       "    }\n",
       "\n",
       "    .dataframe tbody tr th {\n",
       "        vertical-align: top;\n",
       "    }\n",
       "\n",
       "    .dataframe thead th {\n",
       "        text-align: right;\n",
       "    }\n",
       "</style>\n",
       "<table border=\"1\" class=\"dataframe\">\n",
       "  <thead>\n",
       "    <tr style=\"text-align: right;\">\n",
       "      <th></th>\n",
       "      <th>acc</th>\n",
       "      <th>pos</th>\n",
       "      <th>neg</th>\n",
       "    </tr>\n",
       "  </thead>\n",
       "  <tbody>\n",
       "    <tr>\n",
       "      <th>mean</th>\n",
       "      <td>0.93</td>\n",
       "      <td>0.74</td>\n",
       "      <td>0.96</td>\n",
       "    </tr>\n",
       "    <tr>\n",
       "      <th>std</th>\n",
       "      <td>0.02</td>\n",
       "      <td>0.10</td>\n",
       "      <td>0.02</td>\n",
       "    </tr>\n",
       "  </tbody>\n",
       "</table>\n",
       "</div>"
      ],
      "text/plain": [
       "       acc   pos   neg\n",
       "mean  0.93  0.74  0.96\n",
       "std   0.02  0.10  0.02"
      ]
     },
     "execution_count": 16,
     "metadata": {},
     "output_type": "execute_result"
    }
   ],
   "source": [
    "get_results('new_trees').agg([np.mean, np.std]).round(2)"
   ]
  },
  {
   "cell_type": "code",
   "execution_count": 17,
   "metadata": {},
   "outputs": [
    {
     "data": {
      "text/html": [
       "<div>\n",
       "<style scoped>\n",
       "    .dataframe tbody tr th:only-of-type {\n",
       "        vertical-align: middle;\n",
       "    }\n",
       "\n",
       "    .dataframe tbody tr th {\n",
       "        vertical-align: top;\n",
       "    }\n",
       "\n",
       "    .dataframe thead th {\n",
       "        text-align: right;\n",
       "    }\n",
       "</style>\n",
       "<table border=\"1\" class=\"dataframe\">\n",
       "  <thead>\n",
       "    <tr style=\"text-align: right;\">\n",
       "      <th></th>\n",
       "      <th>acc</th>\n",
       "      <th>pos</th>\n",
       "      <th>neg</th>\n",
       "    </tr>\n",
       "  </thead>\n",
       "  <tbody>\n",
       "    <tr>\n",
       "      <th>mean</th>\n",
       "      <td>0.93</td>\n",
       "      <td>0.79</td>\n",
       "      <td>0.95</td>\n",
       "    </tr>\n",
       "    <tr>\n",
       "      <th>std</th>\n",
       "      <td>0.04</td>\n",
       "      <td>0.19</td>\n",
       "      <td>0.04</td>\n",
       "    </tr>\n",
       "  </tbody>\n",
       "</table>\n",
       "</div>"
      ],
      "text/plain": [
       "       acc   pos   neg\n",
       "mean  0.93  0.79  0.95\n",
       "std   0.04  0.19  0.04"
      ]
     },
     "execution_count": 17,
     "metadata": {},
     "output_type": "execute_result"
    }
   ],
   "source": [
    "get_results('corrected_combined_ann').agg([np.mean, np.std]).round(2)"
   ]
  },
  {
   "cell_type": "code",
   "execution_count": 67,
   "metadata": {},
   "outputs": [
    {
     "data": {
      "image/png": "[encoded data removed]",
      "text/plain": [
       "<Figure size 432x432 with 4 Axes>"
      ]
     },
     "metadata": {
      "needs_background": "light"
     },
     "output_type": "display_data"
    }
   ],
   "source": [
    "import matplotlib.pyplot as plt\n",
    "%matplotlib inline\n",
    "df = pd.read_csv('benchmarks.csv')\n",
    "df['pos'] = ( df['5'] ) / ( df['3'] + df['5'] )\n",
    "df = df[['1','pos']]\n",
    "import seaborn as sns\n",
    "\n",
    "selected = ['corrected_combined_ann_trees-02-07-2019',\n",
    "           'new_ann-02-07-2019',\n",
    "           'new_naive-bayes-02-07-2019',\n",
    "           'new_trees-02-07-2019']\n",
    "df = df[df['1'].isin(selected)]\n",
    "\n",
    "df = df.groupby(['1']).head(1400)\n",
    "\n",
    "df['1'] = df['1'].apply(lambda x: x.split('_')[1].split('-')[0])\n",
    "\n",
    "df = df.rename(columns={'1': 'modelo'})\n",
    "df = df.replace({\"trees\": \"Árvore\", \"naive\": \"Naive Bayes\", \"ann\": \"MLP\", \"combined\": \"misto\"})\n",
    "g = sns.FacetGrid(df, col=\"modelo\", col_wrap=2)\n",
    "g.map(sns.distplot, \"pos\");"
   ]
  },
  {
   "cell_type": "code",
   "execution_count": 64,
   "metadata": {},
   "outputs": [
    {
     "data": {
      "text/plain": [
       "Text(0.5, 1.0, 'Acurácia de distinção entre falso e verdadeiro positivo')"
      ]
     },
     "execution_count": 64,
     "metadata": {},
     "output_type": "execute_result"
    },
    {
     "data": {
      "image/png": "[encoded data removed]",
      "text/plain": [
       "<Figure size 432x288 with 1 Axes>"
      ]
     },
     "metadata": {
      "needs_background": "light"
     },
     "output_type": "display_data"
    }
   ],
   "source": [
    "import matplotlib.pyplot as plt\n",
    "%matplotlib inline\n",
    "df = pd.read_csv('benchmarks.csv')\n",
    "df['pos'] = ( df['5'] ) / ( df['3'] + df['5'] )\n",
    "df = df[['1','pos']]\n",
    "import seaborn as sns\n",
    "\n",
    "selected = ['corrected_combined_ann_trees-02-07-2019',\n",
    "           'new_ann-02-07-2019',\n",
    "           'new_naive-bayes-02-07-2019',\n",
    "           'new_trees-02-07-2019']\n",
    "df = df[df['1'].isin(selected)]\n",
    "\n",
    "df = df.groupby(['1']).head(1400)\n",
    "\n",
    "df['1'] = df['1'].apply(lambda x: x.split('_')[1].split('-')[0])\n",
    "\n",
    "df = df.rename(columns={'1': 'modelo'})\n",
    "g = sns.boxplot(x='modelo', y='pos', data=df)\n",
    "g.set(xticklabels=['Árvore','Naive Bayes','MLP','Misto'])\n",
    "g.set_title('Acurácia de distinção entre falso e verdadeiro positivo')"
   ]
  },
  {
   "cell_type": "code",
   "execution_count": null,
   "metadata": {},
   "outputs": [],
   "source": []
  }
 ],
 "metadata": {
  "kernelspec": {
   "display_name": "Python 3",
   "language": "python",
   "name": "python3"
  },
  "language_info": {
   "codemirror_mode": {
    "name": "ipython",
    "version": 3
   },
   "file_extension": ".py",
   "mimetype": "text/x-python",
   "name": "python",
   "nbconvert_exporter": "python",
   "pygments_lexer": "ipython3",
   "version": "3.7.1"
  }
 },
 "nbformat": 4,
 "nbformat_minor": 2
}

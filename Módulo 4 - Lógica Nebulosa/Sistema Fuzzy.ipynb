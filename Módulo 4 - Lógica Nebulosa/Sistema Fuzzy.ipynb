{
 "cells": [
  {
   "cell_type": "markdown",
   "metadata": {},
   "source": [
    "## Sistema Fuzzy\n",
    "\n",
    "O termo Fuzzy significa coisas que não são muito claras ou vagas. Na vida real, podemos nos deparar com uma situação em que não podemos decidir se a afirmação é verdadeira ou falsa, como, no nosso caso, classificar se um aluno é um bom ou mal aluno. \n",
    "Para implementação do nosso modelo será utilizado a API [Scikit-Fuzzy](https://scikit-fuzzy.readthedocs.io/en/latest/overview.html)"
   ]
  },
  {
   "cell_type": "markdown",
   "metadata": {},
   "source": [
    "### Criação do conjunto nebuloso e Função de Pertinência\n",
    "\n",
    "A abordagem consiste em caracterizar subcontradomínios de uma variável contínua, que será chamado de variáveis do universo. \n",
    "O primeiro passo será definir cada variável do universo e seu respectivo universo do discurso, ou seja, um conjunto de valores nítidos que aquela variável poderá assumir.\n",
    "As variáveis podem ser:\n",
    "- Antecedentes: consistem nas variáveis de entrada, ou seja, o que será analisado. As variáveis de entrada serão aquelas definidas na especificação do problema.\n",
    "- Consequentes: consistem nas variáveis de saída, ou seja, o valor desejado após a analise da entrada. No caso será o desempenho de um dado aluno."
   ]
  },
  {
   "cell_type": "code",
   "execution_count": 1,
   "metadata": {},
   "outputs": [],
   "source": [
    "# Gera as variáveis do universo"
   ]
  },
  {
   "cell_type": "markdown",
   "metadata": {},
   "source": [
    "Uma vez definida as variáveis do universo, para cada uma será gerado sua função de pertinência (ou função de mapeamento) às faixas de valores (bom, médio e mal), onde cada faixa caracteriza o desempenho de um dado aluno naquela categoria/variável avaliada com base nos valores mínimo, máximo e médio das informações obtidas do dataset.\n",
    "\n",
    "Para realizar essa tarefa será utilizado a função fuzz.trimf() que define uma função de pertinência triangular, que é dada por:\n",
    "\n",
    "$$trimf(x; a,b,c) = max\\left(min\\left(\\frac{x-a}{b-a}, \\frac{c-x}{c-b}\\right), 0\\right)$$\n",
    "\n",
    "Onde $x$ é a variável do universo, e $(a,b,c)$ é um vetor de controle do formato do triângulo, onde $a \\leq b \\leq c$\n",
    "\n",
    "Para cada valor do universo do discurso de uma variável será calculado o seu grau de pertinência para cada uma das faixas de valores definidas, que será um valor real entre 0 e 1.\n",
    "\n",
    "No final teremos um conjunto fuzzy expresso como um conjunto de pares ordenados:\n",
    "\n",
    "$$A = \\{x, \\mu_A(x) | x \\in X \\}$$\n",
    "\n",
    "Onde:\n",
    "- A: um conjunto fuzzy\n",
    "- $\\mu_A(x)$: função de pertinência\n",
    "- X: universo ou universo de discurso"
   ]
  },
  {
   "cell_type": "code",
   "execution_count": 2,
   "metadata": {},
   "outputs": [
    {
     "data": {
      "text/plain": [
       "'\\nPara cada variável do universo deverá ser gerado três funções de \\npertinência: low, medium, high\\n'"
      ]
     },
     "execution_count": 2,
     "metadata": {},
     "output_type": "execute_result"
    }
   ],
   "source": [
    "# Gera as funções de pertinência nebulosas\n",
    "\n",
    "\"\"\"\n",
    "Para cada variável do universo deverá ser gerado três funções de \n",
    "pertinência: low, medium, high\n",
    "\"\"\""
   ]
  },
  {
   "cell_type": "code",
   "execution_count": 3,
   "metadata": {},
   "outputs": [],
   "source": [
    "# Visualiza os universos e as funções de pertinência"
   ]
  },
  {
   "cell_type": "markdown",
   "metadata": {},
   "source": [
    "### Regras nebulosas\n",
    "\n",
    "Uma regra nebulosa, ou um operador de implicação, são uma maneira de representar o conhecimento que expressam o que deve acontecer ou o que acontece quando certas condições são cumpridas, ou seja, é a criação de uma hipótese de implicação.\n",
    "As regras definidas para classificação de um aluno são:\n",
    "\n",
    "~ *descrever as regras escolhidas e separar por conjuntos de regras que classificam um bom, médio e mal aluno* ~\n",
    "\n",
    "Uma vez escolhido as regras, poderemos então realizar uma classificação de um dado aluno."
   ]
  },
  {
   "cell_type": "markdown",
   "metadata": {},
   "source": [
    "### Operadores e implicações\n",
    "\n",
    "Dado uma observação, ou seja, um conjunto de valores para as variáveis do universo, queremos como resultado um valor de saída (classificação do aluno).\n",
    "\n",
    "Para cada variável, será olhado o grau de pertencimento do dado valor para cada uma das possíveis faixas de valores da variável em questão. Isso será relizado utilizando a função fuzz.interp_membership()."
   ]
  },
  {
   "cell_type": "code",
   "execution_count": 4,
   "metadata": {},
   "outputs": [],
   "source": [
    "# Determina a ativação das funções de pertinência"
   ]
  },
  {
   "cell_type": "markdown",
   "metadata": {},
   "source": [
    "Dado o conjunto de regras nebulosas, iremos determinar a ativação das faixas de valores da variável de saída.\n",
    "\n",
    "O conjunto de regras será divido em 3 partes, onde cada uma irá representar, respectivamente, a classificação de um bom, médio e mal aluno. Para cada conjunto de regra será calculado o grau máximo e mínimo de pertinência do conjunto utilizando conectivos lógicos.\n",
    "\n",
    "Para os conectivos de conjunção, disjunção e negação das variáveis lógicas nebulosas, temos que:\n",
    "- Conjunção: $A \\vee B = Max(A, B)$\n",
    "- Disjunção: $A \\land B = Min(A, B)$\n",
    "- Negação: $\\neg A = 1 - A$\n",
    "\n",
    "Para regras de implicação, ou seja, $se A \\to B$, nos interessa obsersar se A e B são verdadeiros, ou seja, $A \\land B$."
   ]
  },
  {
   "cell_type": "code",
   "execution_count": 5,
   "metadata": {},
   "outputs": [],
   "source": [
    "# Aplicação das regras"
   ]
  },
  {
   "cell_type": "code",
   "execution_count": 6,
   "metadata": {},
   "outputs": [],
   "source": [
    "# Visualização"
   ]
  },
  {
   "cell_type": "markdown",
   "metadata": {},
   "source": [
    "### Combinação das saídas\n",
    "\n",
    "O próximo passo será a realização da combinação de todas as saídas em um único conjunto difuso, algo semelhante ao processo de união e intersecção."
   ]
  },
  {
   "cell_type": "code",
   "execution_count": 7,
   "metadata": {},
   "outputs": [],
   "source": [
    "# Agrega todas as três saídas da função de pertinência juntas"
   ]
  },
  {
   "cell_type": "markdown",
   "metadata": {},
   "source": [
    "### Defuzzificação\n",
    "\n",
    "Uma vez que já se sabe quais regras devem ser ativadas, será realizado a 'defuzzyficação', que consiste na obtenção de um valor numérico dentro da faixa estipulada pela lógica fuzzy, ou seja, iremos decifrar o significado de uma ação vaga. Para essa etapa será utilizada a função centróide, que calcula a média média aritmética pontderada pelas pertinências de cada elemento do cojunto difuso."
   ]
  },
  {
   "cell_type": "code",
   "execution_count": 8,
   "metadata": {},
   "outputs": [],
   "source": [
    "# Calcula o resultado desnebulizado"
   ]
  },
  {
   "cell_type": "code",
   "execution_count": 9,
   "metadata": {},
   "outputs": [],
   "source": [
    "# Visualização"
   ]
  }
 ],
 "metadata": {
  "kernelspec": {
   "display_name": "Python 3",
   "language": "python",
   "name": "python3"
  },
  "language_info": {
   "codemirror_mode": {
    "name": "ipython",
    "version": 3
   },
   "file_extension": ".py",
   "mimetype": "text/x-python",
   "name": "python",
   "nbconvert_exporter": "python",
   "pygments_lexer": "ipython3",
   "version": "3.7.3"
  }
 },
 "nbformat": 4,
 "nbformat_minor": 2
}
